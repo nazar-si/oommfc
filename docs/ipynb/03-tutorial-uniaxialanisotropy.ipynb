{
 "cells": [
  {
   "cell_type": "markdown",
   "metadata": {},
   "source": [
    "# Tutorial 03: Uniaxial anisotropy energy term\n",
    "\n",
    "Uniaxial anisotropy energy density is computed as\n",
    "\n",
    "$$w_\\text{ua} = -K (\\mathbf{m}\\cdot\\mathbf{u})^{2}$$\n",
    "\n",
    "where $\\mathbf{m}$ is the normalised ($|\\mathbf{m}|=1$) magnetisation, $K$ is the uniaxial anisotropy constant, and $\\mathbf{u}$ is the anisotropy axis. Uniaxial anisotropy energy term tends to align all magnetic moments parallel or antiparallel to the anisotropy axis.\n",
    "\n",
    "In `oommfc`, $\\mathbf{m}$ is a part of the magnetisation field `system.m`. Therefore, only uniaxial anisotropy constant $K$ and axis $\\mathbf{u}$ should be provided as input parameters to uniquely define the energy term. Both $K$ and $\\mathbf{u}$ can be constant in space or spatially varying.\n",
    "\n",
    "## Spatially constant $K$ and $\\mathbf{u}$\n",
    "\n",
    "Let us start by assembling a simple simple simulation where neither $K$ nor $\\mathbf{u}$ vary in space. The sample is a \"one-dimensional\" chain of magnetic moments."
   ]
  },
  {
   "cell_type": "code",
   "execution_count": 1,
   "metadata": {},
   "outputs": [],
   "source": [
    "import oommfc as oc\n",
    "import discretisedfield as df\n",
    "import micromagneticmodel as mm\n",
    "\n",
    "p1 = (-10e-9, 0, 0)\n",
    "p2 = (10e-9, 1e-9, 1e-9)\n",
    "cell = (1e-9, 1e-9, 1e-9)\n",
    "region = df.Region(p1=p1, p2=p2)\n",
    "mesh = df.Mesh(region=region, cell=cell)"
   ]
  },
  {
   "cell_type": "markdown",
   "metadata": {},
   "source": [
    "The mesh is"
   ]
  },
  {
   "cell_type": "code",
   "execution_count": 2,
   "metadata": {},
   "outputs": [
    {
     "data": {
      "application/vnd.jupyter.widget-view+json": {
       "model_id": "2b2a8cbc6567413c84f1d1a74038749d",
       "version_major": 2,
       "version_minor": 0
      },
      "text/plain": [
       "Output()"
      ]
     },
     "metadata": {},
     "output_type": "display_data"
    }
   ],
   "source": [
    "mesh.k3d()"
   ]
  },
  {
   "cell_type": "markdown",
   "metadata": {},
   "source": [
    "The system has a Hamiltonian, which consists of only uniaxial anisotropy energy term."
   ]
  },
  {
   "cell_type": "code",
   "execution_count": 3,
   "metadata": {},
   "outputs": [],
   "source": [
    "K = 1e5  # uniaxial anisotropy constant (J/m**3)\n",
    "u = (0, 0, 1)  # uniaxial anisotropy axis\n",
    "system = mm.System(name='uniaxialanisotropy_constant_K_u')\n",
    "system.energy = mm.UniaxialAnisotropy(K=K, u=u)"
   ]
  },
  {
   "cell_type": "markdown",
   "metadata": {},
   "source": [
    "We are going to minimise the system's energy using `oommfc.MinDriver` later. Therefore, we do not have to define the system's dynamics equation. Finally, we need to define the system's magnetisation (`system.m`). We are going to make it random with $M_\\text{s}=8\\times10^{5} \\,\\text{Am}^{-1}$"
   ]
  },
  {
   "cell_type": "code",
   "execution_count": 4,
   "metadata": {},
   "outputs": [],
   "source": [
    "import random\n",
    "import discretisedfield as df\n",
    "\n",
    "Ms = 8e5  # saturation magnetisation (A/m)\n",
    "\n",
    "def m_fun(pos):\n",
    "    return [2*random.random()-1 for i in range(3)]\n",
    "\n",
    "system.m = df.Field(mesh, dim=3, value=m_fun, norm=Ms)"
   ]
  },
  {
   "cell_type": "markdown",
   "metadata": {},
   "source": [
    "The magnetisation, we set is"
   ]
  },
  {
   "cell_type": "code",
   "execution_count": 5,
   "metadata": {},
   "outputs": [
    {
     "data": {
      "application/vnd.jupyter.widget-view+json": {
       "model_id": "e2bf6bf584704a0bb5781c3a4031ae83",
       "version_major": 2,
       "version_minor": 0
      },
      "text/plain": [
       "Output()"
      ]
     },
     "metadata": {},
     "output_type": "display_data"
    }
   ],
   "source": [
    "system.m.k3d.vector(color_field=system.m.z)"
   ]
  },
  {
   "cell_type": "markdown",
   "metadata": {},
   "source": [
    "Now, we can minimise the system's energy by using `oommfc.MinDriver`."
   ]
  },
  {
   "cell_type": "code",
   "execution_count": 6,
   "metadata": {},
   "outputs": [
    {
     "name": "stdout",
     "output_type": "stream",
     "text": [
      "Running OOMMF (ExeOOMMFRunner) [2020/07/10 10:17]... (2.4 s)\n"
     ]
    }
   ],
   "source": [
    "md = oc.MinDriver()\n",
    "md.drive(system)"
   ]
  },
  {
   "cell_type": "markdown",
   "metadata": {},
   "source": [
    "We expect that now all magnetic moments are aligned parallel or antiparallel to the anisotropy axis (in the $z$-direction)."
   ]
  },
  {
   "cell_type": "code",
   "execution_count": 7,
   "metadata": {},
   "outputs": [
    {
     "data": {
      "application/vnd.jupyter.widget-view+json": {
       "model_id": "39b53b8538c7442eb7168ea489473059",
       "version_major": 2,
       "version_minor": 0
      },
      "text/plain": [
       "Output()"
      ]
     },
     "metadata": {},
     "output_type": "display_data"
    }
   ],
   "source": [
    "system.m.k3d.vector(color_field=system.m.z)"
   ]
  },
  {
   "cell_type": "markdown",
   "metadata": {},
   "source": [
    "## Spatially varying $\\mathbf{K}$\n",
    "\n",
    "There are two different ways how a parameter can be made spatially varying, by using:\n",
    "1. Dictionary\n",
    "2. `discretisedfield.Field`\n",
    "\n",
    "### Dictionary\n",
    "\n",
    "In order to define a parameter using a dictionary, regions must be defined in the mesh. Regions are defined as a dictionary, whose keys are the strings and values are `discretisedfield.Region` objects, which take two corner points of the region as input parameters. "
   ]
  },
  {
   "cell_type": "code",
   "execution_count": 8,
   "metadata": {},
   "outputs": [],
   "source": [
    "p1 = (-10e-9, 0, 0)\n",
    "p2 = (10e-9, 1e-9, 1e-9)\n",
    "cell = (1e-9, 1e-9, 1e-9)\n",
    "subregions = {'region1': df.Region(p1=(-10e-9, 0, 0), p2=(0, 1e-9, 1e-9)),\n",
    "              'region2': df.Region(p1=(0, 0, 0), p2=(10e-9, 1e-9, 1e-9))}\n",
    "region = df.Region(p1=p1, p2=p2)\n",
    "mesh = df.Mesh(region=region, cell=cell, subregions=subregions)"
   ]
  },
  {
   "cell_type": "code",
   "execution_count": 9,
   "metadata": {},
   "outputs": [
    {
     "data": {
      "application/vnd.jupyter.widget-view+json": {
       "model_id": "2e8412e401214fc58802db6af354cf18",
       "version_major": 2,
       "version_minor": 0
      },
      "text/plain": [
       "Output()"
      ]
     },
     "metadata": {},
     "output_type": "display_data"
    }
   ],
   "source": [
    "mesh.k3d_subregions()"
   ]
  },
  {
   "cell_type": "markdown",
   "metadata": {},
   "source": [
    "Let us say that there is no uniaxial anisotropy ($K=0$) in region 1, whereas in region 2 it is $K=10^{5} \\,\\text{Jm}^{-3}$. $\\mathbf{u}$ is in the $z$-direction. `K` is now defined as a dictionary:"
   ]
  },
  {
   "cell_type": "code",
   "execution_count": 10,
   "metadata": {},
   "outputs": [],
   "source": [
    "K = {'region1': 0, 'region2': 1e5}"
   ]
  },
  {
   "cell_type": "markdown",
   "metadata": {},
   "source": [
    "The system object is"
   ]
  },
  {
   "cell_type": "code",
   "execution_count": 11,
   "metadata": {},
   "outputs": [],
   "source": [
    "system = mm.System(name='uniaxialanisotropy_dict_K')\n",
    "system.energy = mm.UniaxialAnisotropy(K=K, u=u)\n",
    "system.m = df.Field(mesh, dim=3, value=m_fun, norm=Ms)"
   ]
  },
  {
   "cell_type": "markdown",
   "metadata": {},
   "source": [
    "Its magnetisation is"
   ]
  },
  {
   "cell_type": "code",
   "execution_count": 12,
   "metadata": {},
   "outputs": [
    {
     "data": {
      "application/vnd.jupyter.widget-view+json": {
       "model_id": "d898a7db951d401a80f9abe49b8eaa1f",
       "version_major": 2,
       "version_minor": 0
      },
      "text/plain": [
       "Output()"
      ]
     },
     "metadata": {},
     "output_type": "display_data"
    }
   ],
   "source": [
    "system.m.k3d.vector(color_field=system.m.z)"
   ]
  },
  {
   "cell_type": "markdown",
   "metadata": {},
   "source": [
    "After we minimise the energy"
   ]
  },
  {
   "cell_type": "code",
   "execution_count": 13,
   "metadata": {},
   "outputs": [
    {
     "name": "stdout",
     "output_type": "stream",
     "text": [
      "Running OOMMF (ExeOOMMFRunner) [2020/07/10 10:17]... (2.8 s)\n"
     ]
    }
   ],
   "source": [
    "md.drive(system)"
   ]
  },
  {
   "cell_type": "markdown",
   "metadata": {},
   "source": [
    "The magnetisation is as we expected."
   ]
  },
  {
   "cell_type": "code",
   "execution_count": 14,
   "metadata": {},
   "outputs": [
    {
     "data": {
      "application/vnd.jupyter.widget-view+json": {
       "model_id": "53f05d18bb3d44a9b945888fc4ec8723",
       "version_major": 2,
       "version_minor": 0
      },
      "text/plain": [
       "Output()"
      ]
     },
     "metadata": {},
     "output_type": "display_data"
    }
   ],
   "source": [
    "system.m.k3d.vector(color_field=system.m.z)"
   ]
  },
  {
   "cell_type": "markdown",
   "metadata": {},
   "source": [
    "### `discretisedfield.Field`\n",
    "\n",
    "Let us define the spatailly varying uniaxial anisotropy, so that\n",
    "\n",
    "$\\mathbf{u}(x, y, z) = \\left\\{\n",
    "\\begin{array}{ll}\n",
    "(0, 0, 1) & x \\le 0 \\\\\n",
    "(1, 0, 0) & x > 0 \\\\\n",
    "\\end{array}\n",
    "\\right. $\n",
    "\n",
    "The value of `u` for the spatially varying anisotropy is set using a Python function."
   ]
  },
  {
   "cell_type": "code",
   "execution_count": 15,
   "metadata": {},
   "outputs": [],
   "source": [
    "def u_fun(pos):\n",
    "    x, y, z = pos\n",
    "    if x <= 0:\n",
    "        return (0, 0, 1)\n",
    "    else:\n",
    "        return (1, 0, 0)"
   ]
  },
  {
   "cell_type": "markdown",
   "metadata": {},
   "source": [
    "The uniaxial anisotropy parameters are"
   ]
  },
  {
   "cell_type": "code",
   "execution_count": 16,
   "metadata": {},
   "outputs": [],
   "source": [
    "K = 1e5\n",
    "u = df.Field(mesh, dim=3, value=u_fun)"
   ]
  },
  {
   "cell_type": "markdown",
   "metadata": {},
   "source": [
    "The system is"
   ]
  },
  {
   "cell_type": "code",
   "execution_count": 17,
   "metadata": {},
   "outputs": [],
   "source": [
    "system = mm.System(name='uniaxialanisotropy_field_u')\n",
    "system.energy = mm.UniaxialAnisotropy(K=K, u=u)\n",
    "system.m = df.Field(mesh, dim=3, value=m_fun, norm=Ms)"
   ]
  },
  {
   "cell_type": "markdown",
   "metadata": {},
   "source": [
    "and its magnetisation is"
   ]
  },
  {
   "cell_type": "code",
   "execution_count": 18,
   "metadata": {},
   "outputs": [
    {
     "data": {
      "application/vnd.jupyter.widget-view+json": {
       "model_id": "b3e0cfbdbfa74c3ca982348a41bfe207",
       "version_major": 2,
       "version_minor": 0
      },
      "text/plain": [
       "Output()"
      ]
     },
     "metadata": {},
     "output_type": "display_data"
    }
   ],
   "source": [
    "system.m.k3d.vector(color_field=system.m.z)"
   ]
  },
  {
   "cell_type": "markdown",
   "metadata": {},
   "source": [
    "After the energy minimisation, the magnetisation is:"
   ]
  },
  {
   "cell_type": "code",
   "execution_count": 19,
   "metadata": {},
   "outputs": [
    {
     "name": "stdout",
     "output_type": "stream",
     "text": [
      "Running OOMMF (ExeOOMMFRunner) [2020/07/10 10:17]... (2.7 s)\n"
     ]
    },
    {
     "data": {
      "application/vnd.jupyter.widget-view+json": {
       "model_id": "733dc96b7717412798a4794d4a2ad822",
       "version_major": 2,
       "version_minor": 0
      },
      "text/plain": [
       "Output()"
      ]
     },
     "metadata": {},
     "output_type": "display_data"
    }
   ],
   "source": [
    "md.drive(system)\n",
    "system.m.k3d.vector(color_field=system.m.z)"
   ]
  },
  {
   "cell_type": "markdown",
   "metadata": {},
   "source": [
    "## Higher-order uniaxial anisotropy\n",
    "\n",
    "In order to define higher-order anisotropy term:\n",
    "\n",
    "$$w_\\text{ua} = -K_{1} (\\mathbf{m}\\cdot\\mathbf{u})^{2} - K_{2} (\\mathbf{m}\\cdot\\mathbf{u})^{4}$$\n",
    "\n",
    "anisotropy constants `K1` and `K2` must be passed. Similar to previous example, all parameters (`K1`, `K2`, and `u`) can be spatially varying (dictionary or field)."
   ]
  },
  {
   "cell_type": "code",
   "execution_count": 20,
   "metadata": {},
   "outputs": [
    {
     "name": "stdout",
     "output_type": "stream",
     "text": [
      "Running OOMMF (ExeOOMMFRunner) [2020/07/10 10:17]... (2.4 s)\n"
     ]
    },
    {
     "data": {
      "application/vnd.jupyter.widget-view+json": {
       "model_id": "db96653d2037416490773a8c11548f50",
       "version_major": 2,
       "version_minor": 0
      },
      "text/plain": [
       "Output()"
      ]
     },
     "metadata": {},
     "output_type": "display_data"
    }
   ],
   "source": [
    "K1 = 1e5\n",
    "K2 = 1e3\n",
    "u = df.Field(mesh, dim=3, value=u_fun)\n",
    "\n",
    "system = mm.System(name='uniaxialanisotropy_higher_order')\n",
    "system.energy = mm.UniaxialAnisotropy(K1=K1, K2=K2, u=u)\n",
    "system.m = df.Field(mesh, dim=3, value=m_fun, norm=Ms)\n",
    "\n",
    "md.drive(system)\n",
    "system.m.k3d.vector(color_field=system.m.z)"
   ]
  }
 ],
 "metadata": {
  "kernelspec": {
   "display_name": "Python 3",
   "language": "python",
   "name": "python3"
  },
  "language_info": {
   "codemirror_mode": {
    "name": "ipython",
    "version": 3
   },
   "file_extension": ".py",
   "mimetype": "text/x-python",
   "name": "python",
   "nbconvert_exporter": "python",
   "pygments_lexer": "ipython3",
   "version": "3.8.3"
  },
  "widgets": {
   "application/vnd.jupyter.widget-state+json": {
    "state": {
     "019fcd6fb7784dc49546df797efc68e8": {
      "model_module": "@jupyter-widgets/base",
      "model_module_version": "1.2.0",
      "model_name": "LayoutModel",
      "state": {}
     },
     "02638df88da6463b96a7e820f3da41dc": {
      "model_module": "@jupyter-widgets/output",
      "model_module_version": "1.0.0",
      "model_name": "OutputModel",
      "state": {
       "layout": "IPY_MODEL_d532e77e28ce44d08ee8f7634611896c",
       "outputs": [
        {
         "data": {
          "application/vnd.jupyter.widget-view+json": {
           "model_id": "269ed847f2824b848bafef8bf07c7987",
           "version_major": 2,
           "version_minor": 0
          },
          "text/plain": "Plot(antialias=3, axes=['x', 'y', 'z'], axes_helper=1.0, background_color=16777215, camera=[2, -3, 0.2, 0.0, 0…"
         },
         "metadata": {},
         "output_type": "display_data"
        }
       ]
      }
     },
     "06e814e391d14453bace9b7206d07b0a": {
      "buffers": [
       {
        "data": "aC0AAGgtAABtXFUAbVxVAFrH2wBax9sAbFNJAGxTSQB4f4EAeH+BAHA1EgBwNRIAdHNyAHRzcgBsT0QAbE9EAE4iAABOIgAAbqm3AG6ptwBG2PAARtjwAETa8gBE2vIAbUEtAG1BLQBwNRIAcDUSAHeOlAB3jpQAOOj+ADjo/gB1l58AdZefAHBpZgBwaWYAXSkAAF0pAAB4iI0AeIiNAA==",
        "encoding": "base64",
        "path": [
         "colors",
         "data"
        ]
       },
       {
        "data": "AACAPwAAAAAAAAAAAAAAAAAAAAAAAIA/AAAAAAAAAAAAAAAAAAAAAAAAgD8AAAAAAAAAAAAAAAAAAAAAAACAPw==",
        "encoding": "base64",
        "path": [
         "model_matrix",
         "data"
        ]
       },
       {
        "data": "T+MTwaAq2z5K7G8/S7kAwdrhHD9X+zQ/UHH5wDDMND58wW8+emTHwOF2Wz937j8/YoSrwMBtDDwSBgk/oECOwMzONT7H62Q/V6p+wOqeJz8aEBg/g8gvwDb8Wz8x50Q/cUyzv91Txz4efH0/Wc5Nv3Ql7z0BIbI+htVgPqKraj6wyys+j5ruP74EHz/0jSQ+7q4IQK/Dwj6g8FY/IblSQJTXej5tjmQ/ZGuAQAzgJz8tcu8+xR+0QCh1UD8Q1O49AADAQHGQ1D7WLNs+o0X8QNr0Tj8KXCQ/EPQHQbrPjD4AzXU/hPwUQQBNwjyfYPw+",
        "encoding": "base64",
        "path": [
         "origins",
         "data"
        ]
       },
       {
        "data": "JJYDv4BVEz6T2F+/odZov84OZ75d7dO++xQXP+iZJT9CHwg/YrgJv8LtNr/buf++wHOPvpKcez8hYZC9L7DfvZoYJT+O10m/t1J1P6h7nr7QgEC+LYj8Pmv4N79izgm/8ThLvoywYj47+Hq/spwbP6M2RD/+vZs+PZUPPy+qCj8oGio/PWo6v/MleL4GuS0/j4g6P0TxdD5A4S2/6W3UPjaUAj/aHEm/xEl5PzGAn76YboQ9q/iDvk/qIL/8SkQ/AACAPz2+LT6pTBM+KVpEv7XpHb8qcJG+Zwe/O41g5j4Bmmu/4N7APjDbcz9U2Gc8",
        "encoding": "base64",
        "path": [
         "vectors",
         "data"
        ]
       }
      ],
      "model_module": "k3d",
      "model_module_version": "2.8.1",
      "model_name": "ObjectModel",
      "state": {
       "_view_count": null,
       "_view_module": null,
       "_view_module_version": "",
       "_view_name": null,
       "colorLegend": false,
       "colors": {
        "data": {},
        "dtype": "uint32",
        "shape": [
         20,
         2
        ]
       },
       "compression_level": 0,
       "head_color": 255,
       "head_size": 1,
       "id": 140327003735232,
       "label_size": 1,
       "labels": [],
       "line_width": 0.01,
       "model_matrix": {
        "data": {},
        "dtype": "float32",
        "shape": [
         4,
         4
        ]
       },
       "name": "Vectors #1",
       "origin_color": 255,
       "origins": {
        "data": {},
        "dtype": "float32",
        "shape": [
         20,
         3
        ]
       },
       "type": "Vectors",
       "use_head": true,
       "vectors": {
        "data": {},
        "dtype": "float32",
        "shape": [
         20,
         3
        ]
       },
       "visible": true
      }
     },
     "13d344e609694adebaecd88d24e05512": {
      "model_module": "@jupyter-widgets/base",
      "model_module_version": "1.2.0",
      "model_name": "LayoutModel",
      "state": {}
     },
     "150ff348453148b8992d0ddaccf221ec": {
      "model_module": "@jupyter-widgets/output",
      "model_module_version": "1.0.0",
      "model_name": "OutputModel",
      "state": {
       "layout": "IPY_MODEL_da243cb031724a8c83495aeae7c23548",
       "outputs": [
        {
         "data": {
          "application/vnd.jupyter.widget-view+json": {
           "model_id": "bbd24010062e47438f7e3889a0684c21",
           "version_major": 2,
           "version_minor": 0
          },
          "text/plain": "Plot(antialias=3, axes=['x', 'y', 'z'], axes_helper=1.0, background_color=16777215, camera=[2, -3, 0.2, 0.0, 0…"
         },
         "metadata": {},
         "output_type": "display_data"
        }
       ]
      }
     },
     "15ed7e6d44f940dbb8eb46c965097f0f": {
      "model_module": "@jupyter-widgets/base",
      "model_module_version": "1.2.0",
      "model_name": "LayoutModel",
      "state": {}
     },
     "1a8e7fab3f67404691b803f21ba37f16": {
      "model_module": "k3d",
      "model_module_version": "2.8.1",
      "model_name": "ObjectModel",
      "state": {
       "_view_count": null,
       "_view_module": null,
       "_view_module_version": "",
       "_view_name": null,
       "colorLegend": false,
       "colors": {
        "compressed_buffer": {},
        "dtype": "uint32",
        "shape": [
         20,
         2
        ]
       },
       "compression_level": 0,
       "head_color": 255,
       "head_size": 1,
       "id": 140167733782032,
       "label_size": 1,
       "labels": [],
       "line_width": 0.01,
       "model_matrix": {
        "compressed_buffer": {},
        "dtype": "float32",
        "shape": [
         4,
         4
        ]
       },
       "name": "Vectors #1",
       "origin_color": 255,
       "origins": {
        "compressed_buffer": {},
        "dtype": "float32",
        "shape": [
         20,
         3
        ]
       },
       "type": "Vectors",
       "use_head": true,
       "vectors": {
        "compressed_buffer": {},
        "dtype": "float32",
        "shape": [
         20,
         3
        ]
       },
       "visible": true
      }
     },
     "1afc7068aee54d81833d95bc2d7729bf": {
      "model_module": "k3d",
      "model_module_version": "2.8.1",
      "model_name": "ObjectModel",
      "state": {
       "_view_count": null,
       "_view_module": null,
       "_view_module_version": "",
       "_view_name": null,
       "colorLegend": false,
       "colors": {
        "compressed_buffer": {},
        "dtype": "uint32",
        "shape": [
         20,
         2
        ]
       },
       "compression_level": 0,
       "head_color": 255,
       "head_size": 1,
       "id": 140168895971536,
       "label_size": 1,
       "labels": [],
       "line_width": 0.01,
       "model_matrix": {
        "compressed_buffer": {},
        "dtype": "float32",
        "shape": [
         4,
         4
        ]
       },
       "name": "Vectors #1",
       "origin_color": 255,
       "origins": {
        "compressed_buffer": {},
        "dtype": "float32",
        "shape": [
         20,
         3
        ]
       },
       "type": "Vectors",
       "use_head": true,
       "vectors": {
        "compressed_buffer": {},
        "dtype": "float32",
        "shape": [
         20,
         3
        ]
       },
       "visible": true
      }
     },
     "1f3a513cc35d48cc932ccedc1cc47c77": {
      "model_module": "k3d",
      "model_module_version": "2.8.1",
      "model_name": "PlotModel",
      "state": {
       "_backend_version": "2.8.1",
       "_dom_classes": [],
       "_view_count": null,
       "antialias": 3,
       "auto_rendering": true,
       "axes": [
        "x\\,\\text{(nm)}",
        "y\\,\\text{(nm)}",
        "z\\,\\text{(nm)}"
       ],
       "axes_helper": 1,
       "background_color": 16777215,
       "camera": [
        16.513896925893096,
        -23.989595388839643,
        2.132639691844285,
        0.1875,
        0.5,
        0.49999999925494193,
        0,
        0,
        1
       ],
       "camera_animation": [],
       "camera_auto_fit": true,
       "camera_fov": 60,
       "camera_mode": "trackball",
       "camera_no_pan": false,
       "camera_no_rotate": false,
       "camera_no_zoom": false,
       "clipping_planes": [],
       "colorbar_object_id": -1,
       "colorbar_scientific": false,
       "fps": 25,
       "fps_meter": false,
       "grid": [
        -1,
        -1,
        -1,
        1,
        1,
        1
       ],
       "grid_auto_fit": true,
       "grid_visible": true,
       "height": 512,
       "layout": "IPY_MODEL_695efc8b563a4a32b76b443c81036a09",
       "lighting": 1.5,
       "manipulate_mode": "translate",
       "menu_visibility": true,
       "mode": "view",
       "name": null,
       "object_ids": [
        140327004257920,
        140327004255664
       ],
       "rendering_steps": 1,
       "screenshot": "",
       "screenshot_scale": 2,
       "snapshot": "",
       "snapshot_include_js": true,
       "time": 0,
       "voxel_paint_color": 0
      }
     },
     "200535726ed24ae0a812a1577618a48e": {
      "model_module": "@jupyter-widgets/output",
      "model_module_version": "1.0.0",
      "model_name": "OutputModel",
      "state": {
       "layout": "IPY_MODEL_e5232c41cb8f4022b5f8b960f1e1c234",
       "outputs": [
        {
         "data": {
          "application/vnd.jupyter.widget-view+json": {
           "model_id": "30e99ce0c7f4483f8dddd5c96eb72804",
           "version_major": 2,
           "version_minor": 0
          },
          "text/plain": "Plot(antialias=3, axes=['x', 'y', 'z'], axes_helper=1.0, background_color=16777215, camera=[2, -3, 0.2, 0.0, 0…"
         },
         "metadata": {},
         "output_type": "display_data"
        }
       ]
      }
     },
     "23645e271a834e16b70f760bef37304a": {
      "model_module": "@jupyter-widgets/output",
      "model_module_version": "1.0.0",
      "model_name": "OutputModel",
      "state": {
       "layout": "IPY_MODEL_b73662a0890047a4bd05fd5f2168e820",
       "outputs": [
        {
         "data": {
          "application/vnd.jupyter.widget-view+json": {
           "model_id": "dd20b1f9b02a4a6faa5615d159fb0928",
           "version_major": 2,
           "version_minor": 0
          },
          "text/plain": "Plot(antialias=3, axes=['x', 'y', 'z'], axes_helper=1.0, background_color=16777215, camera=[2, -3, 0.2, 0.0, 0…"
         },
         "metadata": {},
         "output_type": "display_data"
        }
       ]
      }
     },
     "2389feff2bd7491ab115ad5ff6e26d77": {
      "model_module": "@jupyter-widgets/output",
      "model_module_version": "1.0.0",
      "model_name": "OutputModel",
      "state": {
       "layout": "IPY_MODEL_9ed0980a6d324aa9a69d98c25afd3734",
       "outputs": [
        {
         "data": {
          "application/vnd.jupyter.widget-view+json": {
           "model_id": "f3404f98d0a44f7b9d6816ebe5a30885",
           "version_major": 2,
           "version_minor": 0
          },
          "text/plain": "Plot(antialias=3, axes=['x', 'y', 'z'], axes_helper=1.0, background_color=16777215, camera=[2, -3, 0.2, 0.0, 0…"
         },
         "metadata": {},
         "output_type": "display_data"
        }
       ]
      }
     },
     "246671875cdd4d7a9b44c45f78a7e3a7": {
      "buffers": [
       {
        "data": "sHJMAFKE3QBoqFUAUk7EALNygQBgeJMAw4vaAIyMjAB0ucwAzbVkAA==",
        "encoding": "base64",
        "path": [
         "color_map",
         "data"
        ]
       },
       {
        "data": "AACgQQAAAAAAAAAAAAAAAAAAAAAAAIA/AAAAAAAAAD8AAAAAAAAAAAAAgD8AAAA/AAAAAAAAAAAAAAAAAACAPw==",
        "encoding": "base64",
        "path": [
         "model_matrix",
         "data"
        ]
       },
       {
        "data": "AQEBAQEBAQEBAQICAgICAgICAgI=",
        "encoding": "base64",
        "path": [
         "voxels",
         "data"
        ]
       }
      ],
      "model_module": "k3d",
      "model_module_version": "2.8.1",
      "model_name": "ObjectModel",
      "state": {
       "_view_count": null,
       "_view_module": null,
       "_view_module_version": "",
       "_view_name": null,
       "colorLegend": false,
       "color_map": {
        "data": {},
        "dtype": "uint32",
        "shape": [
         10
        ]
       },
       "compression_level": 0,
       "id": 140326988812496,
       "model_matrix": {
        "data": {},
        "dtype": "float32",
        "shape": [
         4,
         4
        ]
       },
       "name": "Voxels #1",
       "opacity": 1,
       "outlines": false,
       "outlines_color": 0,
       "type": "Voxels",
       "visible": true,
       "voxels": {
        "data": {},
        "dtype": "uint8",
        "shape": [
         1,
         1,
         20
        ]
       },
       "wireframe": false
      }
     },
     "2525b145b63b4effbca3bad1c7b3a876": {
      "model_module": "k3d",
      "model_module_version": "2.8.1",
      "model_name": "PlotModel",
      "state": {
       "_backend_version": "2.8.1",
       "_dom_classes": [],
       "_view_count": null,
       "antialias": 3,
       "auto_rendering": true,
       "axes": [
        "x\\,\\text{(nm)}",
        "y\\,\\text{(nm)}",
        "z\\,\\text{(nm)}"
       ],
       "axes_helper": 1,
       "background_color": 16777215,
       "camera": [
        16.14473529379362,
        -23.96254509364507,
        2.1308363544154343,
        -0.16362810134887695,
        0.4999999990686774,
        0.5000000149011612,
        0,
        0,
        1
       ],
       "camera_animation": [],
       "camera_auto_fit": true,
       "camera_fov": 60,
       "camera_mode": "trackball",
       "camera_no_pan": false,
       "camera_no_rotate": false,
       "camera_no_zoom": false,
       "clipping_planes": [],
       "colorbar_object_id": -1,
       "colorbar_scientific": false,
       "fps": 25,
       "fps_meter": false,
       "grid": [
        -1,
        -1,
        -1,
        1,
        1,
        1
       ],
       "grid_auto_fit": true,
       "grid_visible": true,
       "height": 512,
       "layout": "IPY_MODEL_2c1f6c0124da428eb403312d55d850d1",
       "lighting": 1.5,
       "manipulate_mode": "translate",
       "menu_visibility": true,
       "mode": "view",
       "name": null,
       "object_ids": [
        140327003440512,
        140327004162368
       ],
       "rendering_steps": 1,
       "screenshot": "",
       "screenshot_scale": 2,
       "snapshot": "",
       "snapshot_include_js": true,
       "time": 0,
       "voxel_paint_color": 0
      }
     },
     "25d8813fba9d4f25a620aaf551c6abda": {
      "buffers": [
       {
        "data": "",
        "encoding": "base64",
        "path": [
         "colors",
         "data"
        ]
       },
       {
        "data": "AACAPwAAAAAAAAAAAAAAAAAAAAAAAIA/AAAAAAAAAAAAAAAAAAAAAAAAgD8AAAAAAAAAAAAAAAAAAAAAAACAPw==",
        "encoding": "base64",
        "path": [
         "model_matrix",
         "data"
        ]
       },
       {
        "data": "",
        "encoding": "base64",
        "path": [
         "opacities",
         "data"
        ]
       },
       {
        "data": "AAAYwQAAAD8AAAA/AAAIwQAAAD8AAAA/AADwwAAAAD8AAAA/AADQwAAAAD8AAAA/AACwwAAAAD8AAAA/AACQwAAAAD8AAAA/AABgwAAAAD8AAAA/AAAgwAAAAD8AAAA/AADAvwAAAD8AAAA/AAAAvwAAAD8AAAA/AAAAPwAAAD8AAAA/AADAPwAAAD8AAAA/AAAgQAAAAD8AAAA/AABgQAAAAD8AAAA/AACQQAAAAD8AAAA/AACwQAAAAD8AAAA/AADQQAAAAD8AAAA/AADwQAAAAD8AAAA/AAAIQQAAAD8AAAA/AAAYQQAAAD8AAAA/",
        "encoding": "base64",
        "path": [
         "positions",
         "data"
        ]
       }
      ],
      "model_module": "k3d",
      "model_module_version": "2.8.1",
      "model_name": "ObjectModel",
      "state": {
       "_view_count": null,
       "_view_module": null,
       "_view_module_version": "",
       "_view_name": null,
       "color": 5010096,
       "colorLegend": false,
       "colors": {
        "data": {},
        "dtype": "uint32",
        "shape": [
         0
        ]
       },
       "compression_level": 0,
       "id": 140326963666032,
       "mesh_detail": 2,
       "model_matrix": {
        "data": {},
        "dtype": "float32",
        "shape": [
         4,
         4
        ]
       },
       "name": "Points #1",
       "opacities": {
        "data": {},
        "dtype": "float32",
        "shape": [
         0
        ]
       },
       "opacity": 1,
       "point_size": 0.25,
       "positions": {
        "data": {},
        "dtype": "float32",
        "shape": [
         20,
         3
        ]
       },
       "shader": "3dSpecular",
       "type": "Points",
       "visible": true
      }
     },
     "269ed847f2824b848bafef8bf07c7987": {
      "model_module": "k3d",
      "model_module_version": "2.8.1",
      "model_name": "PlotModel",
      "state": {
       "_backend_version": "2.7.4",
       "_dom_classes": [],
       "_view_count": null,
       "antialias": 3,
       "auto_rendering": true,
       "axes": [
        "x (nm)",
        "y (nm)",
        "z (nm)"
       ],
       "axes_helper": 1,
       "background_color": 16777215,
       "camera": [
        16.707952969879074,
        -24.636929444760327,
        2.175795296317352,
        -0.04999999329447746,
        0.5,
        0.5,
        0,
        0,
        1
       ],
       "camera_animation": [],
       "camera_auto_fit": true,
       "camera_fov": 60,
       "camera_no_pan": false,
       "camera_no_rotate": false,
       "camera_no_zoom": false,
       "clipping_planes": [],
       "colorbar_object_id": -1,
       "fps": 25,
       "fps_meter": false,
       "grid": [
        -1,
        -1,
        -1,
        1,
        1,
        1
       ],
       "grid_auto_fit": true,
       "grid_visible": true,
       "height": 512,
       "layout": "IPY_MODEL_019fcd6fb7784dc49546df797efc68e8",
       "lighting": 1.5,
       "menu_visibility": true,
       "mode": "view",
       "name": null,
       "object_ids": [
        140167834326672
       ],
       "rendering_steps": 1,
       "screenshot": "",
       "screenshot_scale": 2,
       "snapshot": "",
       "time": 0,
       "voxel_paint_color": 0
      }
     },
     "295618cc596341e2950b268c414b9079": {
      "model_module": "@jupyter-widgets/base",
      "model_module_version": "1.2.0",
      "model_name": "LayoutModel",
      "state": {}
     },
     "2a7993b6478c4fa9a722c96604361ebb": {
      "model_module": "k3d",
      "model_module_version": "2.8.1",
      "model_name": "PlotModel",
      "state": {
       "_backend_version": "2.8.1",
       "_dom_classes": [],
       "_view_count": null,
       "antialias": 3,
       "auto_rendering": true,
       "axes": [
        "x\\,\\text{(nm)}",
        "y\\,\\text{(nm)}",
        "z\\,\\text{(nm)}"
       ],
       "axes_helper": 1,
       "background_color": 16777215,
       "camera": [
        16.161464937205277,
        -23.79368866633648,
        2.1195792732934455,
        -0.03432750701904297,
        0.5,
        0.5000000288709998,
        0,
        0,
        1
       ],
       "camera_animation": [],
       "camera_auto_fit": true,
       "camera_fov": 60,
       "camera_mode": "trackball",
       "camera_no_pan": false,
       "camera_no_rotate": false,
       "camera_no_zoom": false,
       "clipping_planes": [],
       "colorbar_object_id": -1,
       "colorbar_scientific": false,
       "fps": 25,
       "fps_meter": false,
       "grid": [
        -1,
        -1,
        -1,
        1,
        1,
        1
       ],
       "grid_auto_fit": true,
       "grid_visible": true,
       "height": 512,
       "layout": "IPY_MODEL_6387de02704343ebbf7daae123000ee2",
       "lighting": 1.5,
       "manipulate_mode": "translate",
       "menu_visibility": true,
       "mode": "view",
       "name": null,
       "object_ids": [
        140327003735232,
        140326963664208
       ],
       "rendering_steps": 1,
       "screenshot": "",
       "screenshot_scale": 2,
       "snapshot": "",
       "snapshot_include_js": true,
       "time": 0,
       "voxel_paint_color": 0
      }
     },
     "2b954f5a29e245e08213af080f633c19": {
      "model_module": "@jupyter-widgets/output",
      "model_module_version": "1.0.0",
      "model_name": "OutputModel",
      "state": {
       "layout": "IPY_MODEL_7219ef779f9146408b8e556864800831",
       "outputs": [
        {
         "data": {
          "application/vnd.jupyter.widget-view+json": {
           "model_id": "d9fa7be23c1a4f2db1ca34791067766d",
           "version_major": 2,
           "version_minor": 0
          },
          "text/plain": "Plot(antialias=3, axes=['x', 'y', 'z'], axes_helper=1.0, background_color=16777215, camera=[2, -3, 0.2, 0.0, 0…"
         },
         "metadata": {},
         "output_type": "display_data"
        }
       ]
      }
     },
     "2c1f6c0124da428eb403312d55d850d1": {
      "model_module": "@jupyter-widgets/base",
      "model_module_version": "1.2.0",
      "model_name": "LayoutModel",
      "state": {}
     },
     "2d68c9a11d43426da3f4f3d5d6a366b6": {
      "model_module": "k3d",
      "model_module_version": "2.8.1",
      "model_name": "ObjectModel",
      "state": {
       "_view_count": null,
       "_view_module": null,
       "_view_module_version": "",
       "_view_name": null,
       "color": 5010096,
       "colorLegend": false,
       "colors": {
        "compressed_buffer": {},
        "dtype": "uint32",
        "shape": [
         0
        ]
       },
       "compression_level": 0,
       "id": 140167700028432,
       "mesh_detail": 2,
       "model_matrix": {
        "compressed_buffer": {},
        "dtype": "float32",
        "shape": [
         4,
         4
        ]
       },
       "name": "Points #1",
       "opacities": {
        "compressed_buffer": {},
        "dtype": "float32",
        "shape": [
         0
        ]
       },
       "opacity": 1,
       "point_size": 0.25,
       "positions": {
        "compressed_buffer": {},
        "dtype": "float32",
        "shape": [
         20,
         3
        ]
       },
       "shader": "3dSpecular",
       "type": "Points",
       "visible": true
      }
     },
     "30e99ce0c7f4483f8dddd5c96eb72804": {
      "model_module": "k3d",
      "model_module_version": "2.8.1",
      "model_name": "PlotModel",
      "state": {
       "_backend_version": "2.8.1",
       "_dom_classes": [],
       "_view_count": null,
       "antialias": 3,
       "auto_rendering": true,
       "axes": [
        "x\\,\\text{(nm)}",
        "y\\,\\text{(nm)}",
        "z\\,\\text{(nm)}"
       ],
       "axes_helper": 1,
       "background_color": 16777215,
       "camera": [
        16.07513773875665,
        -23.707111067134615,
        2.113807403730599,
        -0.06293630599975586,
        0.5,
        0.49999999925494193,
        0,
        0,
        1
       ],
       "camera_animation": [],
       "camera_auto_fit": true,
       "camera_fov": 60,
       "camera_mode": "trackball",
       "camera_no_pan": false,
       "camera_no_rotate": false,
       "camera_no_zoom": false,
       "clipping_planes": [],
       "colorbar_object_id": -1,
       "colorbar_scientific": false,
       "fps": 25,
       "fps_meter": false,
       "grid": [
        -1,
        -1,
        -1,
        1,
        1,
        1
       ],
       "grid_auto_fit": true,
       "grid_visible": true,
       "height": 512,
       "layout": "IPY_MODEL_549c517a6e0449018bfd322bc8161413",
       "lighting": 1.5,
       "manipulate_mode": "translate",
       "menu_visibility": true,
       "mode": "view",
       "name": null,
       "object_ids": [
        140327003608304,
        140327003734560
       ],
       "rendering_steps": 1,
       "screenshot": "",
       "screenshot_scale": 2,
       "snapshot": "",
       "snapshot_include_js": true,
       "time": 0,
       "voxel_paint_color": 0
      }
     },
     "388c12078484467581575c21af6a2bd5": {
      "model_module": "k3d",
      "model_module_version": "2.8.1",
      "model_name": "ObjectModel",
      "state": {
       "_view_count": null,
       "_view_module": null,
       "_view_module_version": "",
       "_view_name": null,
       "colorLegend": false,
       "colors": {
        "compressed_buffer": {},
        "dtype": "uint32",
        "shape": [
         20,
         2
        ]
       },
       "compression_level": 0,
       "head_color": 255,
       "head_size": 1,
       "id": 140167733783632,
       "label_size": 1,
       "labels": [],
       "line_width": 0.01,
       "model_matrix": {
        "compressed_buffer": {},
        "dtype": "float32",
        "shape": [
         4,
         4
        ]
       },
       "name": "Vectors #1",
       "origin_color": 255,
       "origins": {
        "compressed_buffer": {},
        "dtype": "float32",
        "shape": [
         20,
         3
        ]
       },
       "type": "Vectors",
       "use_head": true,
       "vectors": {
        "compressed_buffer": {},
        "dtype": "float32",
        "shape": [
         20,
         3
        ]
       },
       "visible": true
      }
     },
     "3e8fca4198634917b67b71716aab43ed": {
      "buffers": [
       {
        "data": "c6CqAHOgqgA46P4AOOj+AF7C1QBewtUAcqGsAHKhrABtXlgAbV5YAG1BLgBtQS4AcDMIAHAzCAB0nKUAdJylAFzF2QBcxdkAb2NfAG9jXwBG2PAARtjwAFLP5QBSz+UAbFdQAGxXUAB4jpMAeI6TAE4iAABOIgAAY7zOAGO8zgBB3PUAQdz1AHRzcgB0c3IAa6++AGuvvgBbxtoAW8baAA==",
        "encoding": "base64",
        "path": [
         "colors",
         "data"
        ]
       },
       {
        "data": "AACAPwAAAAAAAAAAAAAAAAAAAAAAAIA/AAAAAAAAAAAAAAAAAAAAAAAAgD8AAAAAAAAAAAAAAAAAAAAAAACAPw==",
        "encoding": "base64",
        "path": [
         "model_matrix",
         "data"
        ]
       },
       {
        "data": "cTwfwZzXND+jVJc+I8sFwTFesz6AOCM7PPn8wLW/AD8KmhY+Uw7bwCRzFj5MgZM+dg+xwGXcgj8AVx8/qyWVwHiWhT0uqEU/QnBawFUvZz8iSFg/hOk1wEr+Az5gmKE+GHXnv9bTPj9Emgk+nbosvwAAAAAreRc/OzndPoZqUD6gpGg9jSXKP+zOVz8IGMA97lw/QH7Wrz4a4yc/lVlBQFwtkz77isI+eQWGQME2/j7SFHA/Nrm3QHCpGD6iMjA+GQbZQO+iAD9Any09U6n/QEJYjj4e5AI/knQCQYCuRj5mJWc+2XsZQRhu9D3KJAc+",
        "encoding": "base64",
        "path": [
         "origins",
         "data"
        ]
       },
       {
        "data": "JI5nP25e0766VtE+TDeNvp5DmT6PuX4/wZNPP+a0v7v7sjQ/LOUwP27GND9p/dg+zbqHPcq4hb8BuHq+WrWkPmKaXj9dUAu/w/cxvqpeTr9FkDC/IkwvP9sAPj9Bz7w+YtQdP1ZP+77eMjs/deqyPgAAgD9byTu+FBsLPr3KFz9s62I/1VgivtidL7/++U8/bOd6vwNToD5mjJ++WTN1P0il2T4V1HU+aagfP3ef5DujKWC/wyb3vkirMz+v5ic/jGEQvxXvorsYTGo/NZV6v3xP4z5yB7m8s20xP8CoHD9NbQw/sew9vnrkQj+bbTw/",
        "encoding": "base64",
        "path": [
         "vectors",
         "data"
        ]
       }
      ],
      "model_module": "k3d",
      "model_module_version": "2.8.1",
      "model_name": "ObjectModel",
      "state": {
       "_view_count": null,
       "_view_module": null,
       "_view_module_version": "",
       "_view_name": null,
       "colorLegend": false,
       "colors": {
        "data": {},
        "dtype": "uint32",
        "shape": [
         20,
         2
        ]
       },
       "compression_level": 0,
       "head_color": 255,
       "head_size": 1,
       "id": 140327003440512,
       "label_size": 1,
       "labels": [],
       "line_width": 0.01,
       "model_matrix": {
        "data": {},
        "dtype": "float32",
        "shape": [
         4,
         4
        ]
       },
       "name": "Vectors #1",
       "origin_color": 255,
       "origins": {
        "data": {},
        "dtype": "float32",
        "shape": [
         20,
         3
        ]
       },
       "type": "Vectors",
       "use_head": true,
       "vectors": {
        "data": {},
        "dtype": "float32",
        "shape": [
         20,
         3
        ]
       },
       "visible": true
      }
     },
     "40e48778bb8443f79b8d0fd60772625c": {
      "model_module": "k3d",
      "model_module_version": "2.8.1",
      "model_name": "PlotModel",
      "state": {
       "_backend_version": "2.7.4",
       "_dom_classes": [],
       "_view_count": null,
       "antialias": 3,
       "auto_rendering": true,
       "axes": [
        "x (nm)",
        "y (nm)",
        "z (nm)"
       ],
       "axes_helper": 1,
       "background_color": 16777215,
       "camera": [
        16.513896925893096,
        -23.989595388839646,
        2.1326396918442487,
        0.1875,
        0.5,
        0.49999999925494193,
        0,
        0,
        1
       ],
       "camera_animation": [],
       "camera_auto_fit": true,
       "camera_fov": 60,
       "camera_no_pan": false,
       "camera_no_rotate": false,
       "camera_no_zoom": false,
       "clipping_planes": [],
       "colorbar_object_id": -1,
       "fps": 25,
       "fps_meter": false,
       "grid": [
        -1,
        -1,
        -1,
        1,
        1,
        1
       ],
       "grid_auto_fit": true,
       "grid_visible": true,
       "height": 512,
       "layout": "IPY_MODEL_13d344e609694adebaecd88d24e05512",
       "lighting": 1.5,
       "menu_visibility": true,
       "mode": "view",
       "name": null,
       "object_ids": [
        140168505153232,
        140168505155472
       ],
       "rendering_steps": 1,
       "screenshot": "",
       "screenshot_scale": 2,
       "snapshot": "",
       "time": 0,
       "voxel_paint_color": 0
      }
     },
     "460ef5ed839f4a2e86465cfbfaa4c156": {
      "buffers": [
       {
        "data": "OOj+ADjo/gA46P4AOOj+AE4iAABOIgAAOOj+ADjo/gBOIgAATiIAADjo/gA46P4AOOj+ADjo/gA46P4AOOj+ADjo/gA46P4AOOj+ADjo/gBOIgAATiIAADjo/gA46P4AOOj+ADjo/gA46P4AOOj+AE4iAABOIgAATiIAAE4iAABOIgAATiIAADjo/gA46P4ATiIAAE4iAAA46P4AOOj+AA==",
        "encoding": "base64",
        "path": [
         "colors",
         "data"
        ]
       },
       {
        "data": "AACAPwAAAAAAAAAAAAAAAAAAAAAAAIA/AAAAAAAAAAAAAAAAAAAAAAAAgD8AAAAAAAAAAAAAAAAAAAAAAACAPw==",
        "encoding": "base64",
        "path": [
         "model_matrix",
         "data"
        ]
       },
       {
        "data": "AAAYwQAAAD8AAAAAAAAIwQAAAD8AAAAAAADwwAAAAD8AAIA/AADQwAAAAD8AAAAAAACwwAAAAD8AAIA/AACQwAAAAD8AAAAAAABgwAAAAD8AAAAAAAAgwAAAAD8AAAAAAADAvwAAAD8AAAAAAAAAvwAAAD8AAAAAAAAAPwAAAD8AAIA/AADAPwAAAD8AAAAAAAAgQAAAAD8AAAAAAABgQAAAAD8AAAAAAACQQAAAAD8AAIA/AACwQAAAAD8AAIA/AADQQAAAAD8AAIA/AADwQAAAAD8AAAAAAAAIQQAAAD8AAIA/AAAYQQAAAD8AAAAA",
        "encoding": "base64",
        "path": [
         "origins",
         "data"
        ]
       },
       {
        "data": "3BHpsaSXprEAAIA/M6y5NLVpYjIAAIA/kgqtMZ0zN7EAAIC/J7PPMTlvMzIAAIA/5lvqMfURBzIAAIC/SpkpM8TQYjIAAIA/nSFCMkgsvDEAAIA/zd1gMQmlxDAAAIA/Uq9esndgojIAAIA/dMqnsa45ljAAAIA/CnOuMZ+HzzEAAIC/L7GEsjnY7DIAAIA/hRbZrz6zwLAAAIA/NU+BsIaeXC8AAIA/rPDssTOaMjEAAIC/RA0gsBxwIjEAAIC/MvgLMZBRnzAAAIC/F9xGL8+PYC4AAIA/F1AaMQpuGDIAAIC/H7O0r05GJjEAAIA/",
        "encoding": "base64",
        "path": [
         "vectors",
         "data"
        ]
       }
      ],
      "model_module": "k3d",
      "model_module_version": "2.8.1",
      "model_name": "ObjectModel",
      "state": {
       "_view_count": null,
       "_view_module": null,
       "_view_module_version": "",
       "_view_name": null,
       "colorLegend": false,
       "colors": {
        "data": {},
        "dtype": "uint32",
        "shape": [
         20,
         2
        ]
       },
       "compression_level": 0,
       "head_color": 255,
       "head_size": 1,
       "id": 140327003609408,
       "label_size": 1,
       "labels": [],
       "line_width": 0.01,
       "model_matrix": {
        "data": {},
        "dtype": "float32",
        "shape": [
         4,
         4
        ]
       },
       "name": "Vectors #1",
       "origin_color": 255,
       "origins": {
        "data": {},
        "dtype": "float32",
        "shape": [
         20,
         3
        ]
       },
       "type": "Vectors",
       "use_head": true,
       "vectors": {
        "data": {},
        "dtype": "float32",
        "shape": [
         20,
         3
        ]
       },
       "visible": true
      }
     },
     "4add2eccd745459c92ad06c8e3b33c2f": {
      "model_module": "@jupyter-widgets/base",
      "model_module_version": "1.2.0",
      "model_name": "LayoutModel",
      "state": {}
     },
     "510ff9df99134161852d494810ec0b93": {
      "model_module": "@jupyter-widgets/base",
      "model_module_version": "1.2.0",
      "model_name": "LayoutModel",
      "state": {}
     },
     "549c517a6e0449018bfd322bc8161413": {
      "model_module": "@jupyter-widgets/base",
      "model_module_version": "1.2.0",
      "model_name": "LayoutModel",
      "state": {}
     },
     "5b1c35f4e57347539b114e351a2f50b6": {
      "model_module": "k3d",
      "model_module_version": "2.8.1",
      "model_name": "ObjectModel",
      "state": {
       "_view_count": null,
       "_view_module": null,
       "_view_module_version": "",
       "_view_name": null,
       "colorLegend": false,
       "color_map": {
        "compressed_buffer": {},
        "dtype": "uint32",
        "shape": [
         2
        ]
       },
       "compression_level": 0,
       "id": 140167834326672,
       "model_matrix": {
        "compressed_buffer": {},
        "dtype": "float32",
        "shape": [
         4,
         4
        ]
       },
       "name": "Voxels #1",
       "opacity": 1,
       "outlines": false,
       "outlines_color": 0,
       "type": "Voxels",
       "visible": true,
       "voxels": {
        "compressed_buffer": {},
        "dtype": "uint8",
        "shape": [
         1,
         1,
         20
        ]
       },
       "wireframe": false
      }
     },
     "5baf08fe4cef431693d2568b4a1cf424": {
      "model_module": "@jupyter-widgets/base",
      "model_module_version": "1.2.0",
      "model_name": "LayoutModel",
      "state": {}
     },
     "5e2937c109934074858dbfa87bdf77f4": {
      "model_module": "@jupyter-widgets/output",
      "model_module_version": "1.0.0",
      "model_name": "OutputModel",
      "state": {
       "layout": "IPY_MODEL_f6db340fc6004d439a77b65ee277dc09",
       "outputs": [
        {
         "data": {
          "application/vnd.jupyter.widget-view+json": {
           "model_id": "e69e384bdba84e70beac8eb02523ace7",
           "version_major": 2,
           "version_minor": 0
          },
          "text/plain": "Plot(antialias=3, axes=['x', 'y', 'z'], axes_helper=1.0, background_color=16777215, camera=[2, -3, 0.2, 0.0, 0…"
         },
         "metadata": {},
         "output_type": "display_data"
        }
       ]
      }
     },
     "6387de02704343ebbf7daae123000ee2": {
      "model_module": "@jupyter-widgets/base",
      "model_module_version": "1.2.0",
      "model_name": "LayoutModel",
      "state": {}
     },
     "695efc8b563a4a32b76b443c81036a09": {
      "model_module": "@jupyter-widgets/base",
      "model_module_version": "1.2.0",
      "model_name": "LayoutModel",
      "state": {}
     },
     "6fd32a1f1a8d4333a394a53acac476ff": {
      "model_module": "k3d",
      "model_module_version": "2.8.1",
      "model_name": "PlotModel",
      "state": {
       "_backend_version": "2.7.4",
       "_dom_classes": [],
       "_view_count": null,
       "antialias": 3,
       "auto_rendering": true,
       "axes": [
        "x (nm)",
        "y (nm)",
        "z (nm)"
       ],
       "axes_helper": 1,
       "background_color": 16777215,
       "camera": [
        16.10238085385279,
        -23.815915021242446,
        2.121061000671102,
        -0.10822916030883789,
        0.5,
        0.49999999925494193,
        0,
        0,
        1
       ],
       "camera_animation": [],
       "camera_auto_fit": true,
       "camera_fov": 60,
       "camera_no_pan": false,
       "camera_no_rotate": false,
       "camera_no_zoom": false,
       "clipping_planes": [],
       "colorbar_object_id": -1,
       "fps": 25,
       "fps_meter": false,
       "grid": [
        -1,
        -1,
        -1,
        1,
        1,
        1
       ],
       "grid_auto_fit": true,
       "grid_visible": true,
       "height": 512,
       "layout": "IPY_MODEL_295618cc596341e2950b268c414b9079",
       "lighting": 1.5,
       "menu_visibility": true,
       "mode": "view",
       "name": null,
       "object_ids": [
        140168895971536,
        140167769580624
       ],
       "rendering_steps": 1,
       "screenshot": "",
       "screenshot_scale": 2,
       "snapshot": "",
       "time": 0,
       "voxel_paint_color": 0
      }
     },
     "707cbd08d2c243858c403cc2e7b2da72": {
      "model_module": "@jupyter-widgets/base",
      "model_module_version": "1.2.0",
      "model_name": "LayoutModel",
      "state": {}
     },
     "70faf3b04c514bae84d21af1c7fc5c7a": {
      "model_module": "@jupyter-widgets/output",
      "model_module_version": "1.0.0",
      "model_name": "OutputModel",
      "state": {
       "layout": "IPY_MODEL_b0949c2742c04e3e956cca7ee0cf202b",
       "outputs": [
        {
         "data": {
          "application/vnd.jupyter.widget-view+json": {
           "model_id": "f1337f9148194f7e89d9a2d756b6bd35",
           "version_major": 2,
           "version_minor": 0
          },
          "text/plain": "Plot(antialias=3, axes=['x', 'y', 'z'], axes_helper=1.0, background_color=16777215, camera=[2, -3, 0.2, 0.0, 0…"
         },
         "metadata": {},
         "output_type": "display_data"
        }
       ]
      }
     },
     "7219ef779f9146408b8e556864800831": {
      "model_module": "@jupyter-widgets/base",
      "model_module_version": "1.2.0",
      "model_name": "LayoutModel",
      "state": {}
     },
     "73cbdb8a4b3c4450b1132e7c03ef8870": {
      "buffers": [
       {
        "data": "",
        "encoding": "base64",
        "path": [
         "colors",
         "data"
        ]
       },
       {
        "data": "AACAPwAAAAAAAAAAAAAAAAAAAAAAAIA/AAAAAAAAAAAAAAAAAAAAAAAAgD8AAAAAAAAAAAAAAAAAAAAAAACAPw==",
        "encoding": "base64",
        "path": [
         "model_matrix",
         "data"
        ]
       },
       {
        "data": "",
        "encoding": "base64",
        "path": [
         "opacities",
         "data"
        ]
       },
       {
        "data": "AAAYwQAAAD8AAAA/AAAIwQAAAD8AAAA/AADwwAAAAD8AAAA/AADQwAAAAD8AAAA/AACwwAAAAD8AAAA/AACQwAAAAD8AAAA/AABgwAAAAD8AAAA/AAAgwAAAAD8AAAA/AADAvwAAAD8AAAA/AAAAvwAAAD8AAAA/AAAAPwAAAD8AAAA/AADAPwAAAD8AAAA/AAAgQAAAAD8AAAA/AABgQAAAAD8AAAA/AACQQAAAAD8AAAA/AACwQAAAAD8AAAA/AADQQAAAAD8AAAA/AADwQAAAAD8AAAA/AAAIQQAAAD8AAAA/AAAYQQAAAD8AAAA/",
        "encoding": "base64",
        "path": [
         "positions",
         "data"
        ]
       }
      ],
      "model_module": "k3d",
      "model_module_version": "2.8.1",
      "model_name": "ObjectModel",
      "state": {
       "_view_count": null,
       "_view_module": null,
       "_view_module_version": "",
       "_view_name": null,
       "color": 5010096,
       "colorLegend": false,
       "colors": {
        "data": {},
        "dtype": "uint32",
        "shape": [
         0
        ]
       },
       "compression_level": 0,
       "id": 140327003734560,
       "mesh_detail": 2,
       "model_matrix": {
        "data": {},
        "dtype": "float32",
        "shape": [
         4,
         4
        ]
       },
       "name": "Points #1",
       "opacities": {
        "data": {},
        "dtype": "float32",
        "shape": [
         0
        ]
       },
       "opacity": 1,
       "point_size": 0.25,
       "positions": {
        "data": {},
        "dtype": "float32",
        "shape": [
         20,
         3
        ]
       },
       "shader": "3dSpecular",
       "type": "Points",
       "visible": true
      }
     },
     "747745742293451d8d04e7be9abbe623": {
      "model_module": "@jupyter-widgets/output",
      "model_module_version": "1.0.0",
      "model_name": "OutputModel",
      "state": {
       "layout": "IPY_MODEL_e2eaee171cd444a294b0b5941aa397df",
       "outputs": [
        {
         "data": {
          "application/vnd.jupyter.widget-view+json": {
           "model_id": "8f27695dd7ab4745b7888cfc174df06b",
           "version_major": 2,
           "version_minor": 0
          },
          "text/plain": "Plot(antialias=3, axes=['x', 'y', 'z'], axes_helper=1.0, background_color=16777215, camera=[2, -3, 0.2, 0.0, 0…"
         },
         "metadata": {},
         "output_type": "display_data"
        }
       ]
      }
     },
     "799c75e5ad24481baba20c5ca1c47ac0": {
      "model_module": "k3d",
      "model_module_version": "2.8.1",
      "model_name": "PlotModel",
      "state": {
       "_backend_version": "2.7.4",
       "_dom_classes": [],
       "_view_count": null,
       "antialias": 3,
       "auto_rendering": true,
       "axes": [
        "x (nm)",
        "y (nm)",
        "z (nm)"
       ],
       "axes_helper": 1,
       "background_color": 16777215,
       "camera": [
        16.015294166555943,
        -23.522941249833917,
        2.1015294159105333,
        0,
        0.5,
        0.49999999925494193,
        0,
        0,
        1
       ],
       "camera_animation": [],
       "camera_auto_fit": true,
       "camera_fov": 60,
       "camera_no_pan": false,
       "camera_no_rotate": false,
       "camera_no_zoom": false,
       "clipping_planes": [],
       "colorbar_object_id": -1,
       "fps": 25,
       "fps_meter": false,
       "grid": [
        -1,
        -1,
        -1,
        1,
        1,
        1
       ],
       "grid_auto_fit": true,
       "grid_visible": true,
       "height": 512,
       "layout": "IPY_MODEL_7e4740f2020141a3a8b1d69a2d05d10c",
       "lighting": 1.5,
       "menu_visibility": true,
       "mode": "view",
       "name": null,
       "object_ids": [
        140167733783632,
        140167699882896
       ],
       "rendering_steps": 1,
       "screenshot": "",
       "screenshot_scale": 2,
       "snapshot": "",
       "time": 0,
       "voxel_paint_color": 0
      }
     },
     "7e4740f2020141a3a8b1d69a2d05d10c": {
      "model_module": "@jupyter-widgets/base",
      "model_module_version": "1.2.0",
      "model_name": "LayoutModel",
      "state": {}
     },
     "80edea68028d4f31a5aaaeb3ad454c55": {
      "model_module": "@jupyter-widgets/base",
      "model_module_version": "1.2.0",
      "model_name": "LayoutModel",
      "state": {}
     },
     "83027e45c6a34006b53d7186ff99943b": {
      "buffers": [
       {
        "data": "",
        "encoding": "base64",
        "path": [
         "colors",
         "data"
        ]
       },
       {
        "data": "AACAPwAAAAAAAAAAAAAAAAAAAAAAAIA/AAAAAAAAAAAAAAAAAAAAAAAAgD8AAAAAAAAAAAAAAAAAAAAAAACAPw==",
        "encoding": "base64",
        "path": [
         "model_matrix",
         "data"
        ]
       },
       {
        "data": "",
        "encoding": "base64",
        "path": [
         "opacities",
         "data"
        ]
       },
       {
        "data": "AAAYwQAAAD8AAAA/AAAIwQAAAD8AAAA/AADwwAAAAD8AAAA/AADQwAAAAD8AAAA/AACwwAAAAD8AAAA/AACQwAAAAD8AAAA/AABgwAAAAD8AAAA/AAAgwAAAAD8AAAA/AADAvwAAAD8AAAA/AAAAvwAAAD8AAAA/AAAAPwAAAD8AAAA/AADAPwAAAD8AAAA/AAAgQAAAAD8AAAA/AABgQAAAAD8AAAA/AACQQAAAAD8AAAA/AACwQAAAAD8AAAA/AADQQAAAAD8AAAA/AADwQAAAAD8AAAA/AAAIQQAAAD8AAAA/AAAYQQAAAD8AAAA/",
        "encoding": "base64",
        "path": [
         "positions",
         "data"
        ]
       }
      ],
      "model_module": "k3d",
      "model_module_version": "2.8.1",
      "model_name": "ObjectModel",
      "state": {
       "_view_count": null,
       "_view_module": null,
       "_view_module_version": "",
       "_view_name": null,
       "color": 5010096,
       "colorLegend": false,
       "colors": {
        "data": {},
        "dtype": "uint32",
        "shape": [
         0
        ]
       },
       "compression_level": 0,
       "id": 140327004162368,
       "mesh_detail": 2,
       "model_matrix": {
        "data": {},
        "dtype": "float32",
        "shape": [
         4,
         4
        ]
       },
       "name": "Points #1",
       "opacities": {
        "data": {},
        "dtype": "float32",
        "shape": [
         0
        ]
       },
       "opacity": 1,
       "point_size": 0.25,
       "positions": {
        "data": {},
        "dtype": "float32",
        "shape": [
         20,
         3
        ]
       },
       "shader": "3dSpecular",
       "type": "Points",
       "visible": true
      }
     },
     "89cdeca226b246dfa580b0e7fa07c8d4": {
      "model_module": "@jupyter-widgets/output",
      "model_module_version": "1.0.0",
      "model_name": "OutputModel",
      "state": {
       "layout": "IPY_MODEL_eedf33c90ff142dea35b38727bc21054",
       "outputs": [
        {
         "data": {
          "application/vnd.jupyter.widget-view+json": {
           "model_id": "40e48778bb8443f79b8d0fd60772625c",
           "version_major": 2,
           "version_minor": 0
          },
          "text/plain": "Plot(antialias=3, axes=['x', 'y', 'z'], axes_helper=1.0, background_color=16777215, camera=[2, -3, 0.2, 0.0, 0…"
         },
         "metadata": {},
         "output_type": "display_data"
        }
       ]
      }
     },
     "8a1dfb49b55444fe802d7123e5de7239": {
      "model_module": "@jupyter-widgets/base",
      "model_module_version": "1.2.0",
      "model_name": "LayoutModel",
      "state": {}
     },
     "8dceef62298341808c65423b73679d2d": {
      "model_module": "@jupyter-widgets/base",
      "model_module_version": "1.2.0",
      "model_name": "LayoutModel",
      "state": {}
     },
     "8f27695dd7ab4745b7888cfc174df06b": {
      "model_module": "k3d",
      "model_module_version": "2.8.1",
      "model_name": "PlotModel",
      "state": {
       "_backend_version": "2.8.1",
       "_dom_classes": [],
       "_view_count": null,
       "antialias": 3,
       "auto_rendering": true,
       "axes": [
        "x\\,\\text{(nm)}",
        "y\\,\\text{(nm)}",
        "z\\,\\text{(nm)}"
       ],
       "axes_helper": 1,
       "background_color": 16777215,
       "camera": [
        16.015294166555943,
        -23.522941249833913,
        2.1015294159105595,
        0,
        0.5,
        0.49999999925494193,
        0,
        0,
        1
       ],
       "camera_animation": [],
       "camera_auto_fit": true,
       "camera_fov": 60,
       "camera_mode": "trackball",
       "camera_no_pan": false,
       "camera_no_rotate": false,
       "camera_no_zoom": false,
       "clipping_planes": [],
       "colorbar_object_id": -1,
       "colorbar_scientific": false,
       "fps": 25,
       "fps_meter": false,
       "grid": [
        -1,
        -1,
        -1,
        1,
        1,
        1
       ],
       "grid_auto_fit": true,
       "grid_visible": true,
       "height": 512,
       "layout": "IPY_MODEL_d5284f80cd214abd9dcd78734cc2d327",
       "lighting": 1.5,
       "manipulate_mode": "translate",
       "menu_visibility": true,
       "mode": "view",
       "name": null,
       "object_ids": [
        140327003609408,
        140327003792480
       ],
       "rendering_steps": 1,
       "screenshot": "",
       "screenshot_scale": 2,
       "snapshot": "",
       "snapshot_include_js": true,
       "time": 0,
       "voxel_paint_color": 0
      }
     },
     "8f45815c6f864be48e79d69d92c7ae96": {
      "model_module": "@jupyter-widgets/output",
      "model_module_version": "1.0.0",
      "model_name": "OutputModel",
      "state": {
       "layout": "IPY_MODEL_def2b3b2d0214fb7898ed8d70fede04a",
       "outputs": [
        {
         "data": {
          "application/vnd.jupyter.widget-view+json": {
           "model_id": "2525b145b63b4effbca3bad1c7b3a876",
           "version_major": 2,
           "version_minor": 0
          },
          "text/plain": "Plot(antialias=3, axes=['x', 'y', 'z'], axes_helper=1.0, background_color=16777215, camera=[2, -3, 0.2, 0.0, 0…"
         },
         "metadata": {},
         "output_type": "display_data"
        }
       ]
      }
     },
     "9436f45076cf4bad92dd16f5bd7bdbfc": {
      "model_module": "@jupyter-widgets/base",
      "model_module_version": "1.2.0",
      "model_name": "LayoutModel",
      "state": {}
     },
     "99685fe1a4714e4cab9db15a0de37929": {
      "model_module": "@jupyter-widgets/output",
      "model_module_version": "1.0.0",
      "model_name": "OutputModel",
      "state": {
       "layout": "IPY_MODEL_9e29b35268ca42879d48f9a48e9ef69d",
       "outputs": [
        {
         "data": {
          "application/vnd.jupyter.widget-view+json": {
           "model_id": "e589b19522af45caaa88936e1eaf4f82",
           "version_major": 2,
           "version_minor": 0
          },
          "text/plain": "Plot(antialias=3, axes=['x', 'y', 'z'], axes_helper=1.0, background_color=16777215, camera=[2, -3, 0.2, 0.0, 0…"
         },
         "metadata": {},
         "output_type": "display_data"
        }
       ]
      }
     },
     "9e29b35268ca42879d48f9a48e9ef69d": {
      "model_module": "@jupyter-widgets/base",
      "model_module_version": "1.2.0",
      "model_name": "LayoutModel",
      "state": {}
     },
     "9ed0980a6d324aa9a69d98c25afd3734": {
      "model_module": "@jupyter-widgets/base",
      "model_module_version": "1.2.0",
      "model_name": "LayoutModel",
      "state": {}
     },
     "a2c90822ec184b9bb0fd36d6ce700851": {
      "buffers": [
       {
        "data": "arHAAGqxwAB4e3wAeHt8AHA3FgBwNxYAcKWxAHClsQBsSDkAbEg5AHiLkQB4i5EAcaWwAHGlsABTzuQAU87kAHaVnQB2lZ0AXcPWAF3D1gBtQCsAbUArAHeQlgB3kJYANOP9ADTj/QA46P4AOOj+AG4/KQBuPykATyMAAE8jAABOIgAATiIAAHZ3dwB2d3cAbUQzAG1EMwBF2fEARdnxAA==",
        "encoding": "base64",
        "path": [
         "colors",
         "data"
        ]
       },
       {
        "data": "AACAPwAAAAAAAAAAAAAAAAAAAAAAAIA/AAAAAAAAAAAAAAAAAAAAAAAAgD8AAAAAAAAAAAAAAAAAAAAAAACAPw==",
        "encoding": "base64",
        "path": [
         "model_matrix",
         "data"
        ]
       },
       {
        "data": "AZwdwS5lfz7mWWA+gpH/wF8CBT9k2vM+4gXlwBQHoz6ybFY/G57IwEILZj+Sroo+LZCmwFQFVz+Fyz8/lbmAwFHbKD/pm8k++FNFwOy0Mz+SWo0+s0cNwLC9ID+86MU9zH/jv3qKZz8qfrA+BpVcv/W4FD8qrxI+4hhGP7ljUz9C/Uk/Ic+gP7BYbz/xHr8+dfwcQExkqj7AgYE80m5YQIt0Bj8AAAAAHHiDQEPIJT9FlUw/BgyuQLttPz8NWHI/Q+vWQHmAHz9rQ3M/g9f/QFrHIz8Hqv8+o7kJQfQPbT8ic0Q/B3MXQRTcQD+YsVs9",
        "encoding": "base64",
        "path": [
         "origins",
         "data"
        ]
       },
       {
        "data": "H4AzP2lNAD8N0w8/8nODv9lLIL28WUI926Evv9nxuT5k2Sy/oTzsvoQWTL/douo+Mf0Wv6kKLr8ULv++s2Z0v0Nto75dkFk+PWBVv7LTzr7bSuU+ZsIVv8L2gr7RhU4/Mf8NP/QUT7+sA58+DCo5P6vHJb5rqDY/wzEMv3LHJr+E+hO/+ob5PmGxXr8ewoE+ouLAPWc3qz7k53c/tCVyPmORTr0AAIA/QH5IPw0hl76KKhm/1vz5Pey2/b4asGS/aGjdvsoDfL7Whma/NHh9v2cdj75K8as6ttFcvucfWr9F5gi/HfmMPSm4Ab/NiWQ/",
        "encoding": "base64",
        "path": [
         "vectors",
         "data"
        ]
       }
      ],
      "model_module": "k3d",
      "model_module_version": "2.8.1",
      "model_name": "ObjectModel",
      "state": {
       "_view_count": null,
       "_view_module": null,
       "_view_module_version": "",
       "_view_name": null,
       "colorLegend": false,
       "colors": {
        "data": {},
        "dtype": "uint32",
        "shape": [
         20,
         2
        ]
       },
       "compression_level": 0,
       "head_color": 255,
       "head_size": 1,
       "id": 140326963521184,
       "label_size": 1,
       "labels": [],
       "line_width": 0.01,
       "model_matrix": {
        "data": {},
        "dtype": "float32",
        "shape": [
         4,
         4
        ]
       },
       "name": "Vectors #1",
       "origin_color": 255,
       "origins": {
        "data": {},
        "dtype": "float32",
        "shape": [
         20,
         3
        ]
       },
       "type": "Vectors",
       "use_head": true,
       "vectors": {
        "data": {},
        "dtype": "float32",
        "shape": [
         20,
         3
        ]
       },
       "visible": true
      }
     },
     "a42619013e7d4c9583d9fcb21f7ce613": {
      "buffers": [
       {
        "data": "OOj+ADjo/gA46P4AOOj+ADjo/gA46P4AOOj+ADjo/gBOIgAATiIAAE4iAABOIgAATiIAAE4iAAA46P4AOOj+ADjo/gA46P4ATiIAAE4iAAB4fH0AeHx9AHh7fAB4e3wAeHt8AHh7fAB4fH0AeHx9AHh7fAB4e3wAeHx9AHh8fQB4fH0AeHx9AHh7fAB4e3wAeHx9AHh8fQB4e3wAeHt8AA==",
        "encoding": "base64",
        "path": [
         "colors",
         "data"
        ]
       },
       {
        "data": "AACAPwAAAAAAAAAAAAAAAAAAAAAAAIA/AAAAAAAAAAAAAAAAAAAAAAAAgD8AAAAAAAAAAAAAAAAAAAAAAACAPw==",
        "encoding": "base64",
        "path": [
         "model_matrix",
         "data"
        ]
       },
       {
        "data": "AAAYwQAAAD8AAAAAAAAIwQAAAD8AAAAAAADwwAAAAD8AAAAAAADQwAAAAD8AAAAAAACwwAAAAD8AAIA/AACQwAAAAD8AAIA/AABgwAAAAD8AAIA/AAAgwAAAAD8AAAAAAADAvwAAAD8AAAAAAAAAvwAAAD8AAIA/AAAAAAAAAD8AAAA/AAAAQAAAAD8AAAA/AABAQAAAAD8AAAA/AABAQAAAAD8AAAA/AACAQAAAAD8AAAA/AADAQAAAAD8AAAA/AADgQAAAAD8AAAA/AAAAQQAAAD8AAAA/AAAAQQAAAD8AAAA/AAAgQQAAAD8AAAA/",
        "encoding": "base64",
        "path": [
         "origins",
         "data"
        ]
       },
       {
        "data": "2nVuMQms2bAAAIA/LGSvr+xavi8AAIA/WrXXMFg3R60AAIA/Rr8vMRWaMzEAAIA/AExvL8bBa7EAAIC/XPJzMMTYJDEAAIC/Fx+/r2Kf3bAAAIC/impFMUr6VTEAAIA/deqbMD1DeLAAAIA/YMY8sakNB7IAAIC/AACAPz6u7jAMaDIxAACAvygVdjKotpGyAACAv5jwyy/088qvAACAP5ODDzD2GKIvAACAP2Q6jS0LeQqxAACAvzRmGjFRSRAxAACAvwBeZq3+oSUxAACAv+fdEDBQ1+utAACAP9UTpzAIxJUwAACAv2zxt7GH17Gx",
        "encoding": "base64",
        "path": [
         "vectors",
         "data"
        ]
       }
      ],
      "model_module": "k3d",
      "model_module_version": "2.8.1",
      "model_name": "ObjectModel",
      "state": {
       "_view_count": null,
       "_view_module": null,
       "_view_module_version": "",
       "_view_name": null,
       "colorLegend": false,
       "colors": {
        "data": {},
        "dtype": "uint32",
        "shape": [
         20,
         2
        ]
       },
       "compression_level": 0,
       "head_color": 255,
       "head_size": 1,
       "id": 140327004257920,
       "label_size": 1,
       "labels": [],
       "line_width": 0.01,
       "model_matrix": {
        "data": {},
        "dtype": "float32",
        "shape": [
         4,
         4
        ]
       },
       "name": "Vectors #1",
       "origin_color": 255,
       "origins": {
        "data": {},
        "dtype": "float32",
        "shape": [
         20,
         3
        ]
       },
       "type": "Vectors",
       "use_head": true,
       "vectors": {
        "data": {},
        "dtype": "float32",
        "shape": [
         20,
         3
        ]
       },
       "visible": true
      }
     },
     "a7717cdffe7b498a8558139ebbec1472": {
      "model_module": "@jupyter-widgets/output",
      "model_module_version": "1.0.0",
      "model_name": "OutputModel",
      "state": {
       "layout": "IPY_MODEL_510ff9df99134161852d494810ec0b93",
       "outputs": [
        {
         "data": {
          "application/vnd.jupyter.widget-view+json": {
           "model_id": "6fd32a1f1a8d4333a394a53acac476ff",
           "version_major": 2,
           "version_minor": 0
          },
          "text/plain": "Plot(antialias=3, axes=['x', 'y', 'z'], axes_helper=1.0, background_color=16777215, camera=[2, -3, 0.2, 0.0, 0…"
         },
         "metadata": {},
         "output_type": "display_data"
        }
       ]
      }
     },
     "a8e2a9c284d047429071c73c22331daa": {
      "model_module": "k3d",
      "model_module_version": "2.8.1",
      "model_name": "ObjectModel",
      "state": {
       "_view_count": null,
       "_view_module": null,
       "_view_module_version": "",
       "_view_name": null,
       "colorLegend": false,
       "color_map": {
        "compressed_buffer": {},
        "dtype": "uint32",
        "shape": [
         10
        ]
       },
       "compression_level": 0,
       "id": 140167733694352,
       "model_matrix": {
        "compressed_buffer": {},
        "dtype": "float32",
        "shape": [
         4,
         4
        ]
       },
       "name": "Voxels #1",
       "opacity": 1,
       "outlines": false,
       "outlines_color": 0,
       "type": "Voxels",
       "visible": true,
       "voxels": {
        "compressed_buffer": {},
        "dtype": "uint8",
        "shape": [
         1,
         1,
         20
        ]
       },
       "wireframe": false
      }
     },
     "a9756547e58f4c2081c69368c5568498": {
      "buffers": [
       {
        "data": "bzAAAG8wAABsV08AbFdPAGuvvgBrr74AbE9EAGxPRAB1dXUAdXV1AHA2FABwNhQAcWpoAHFqaABsTEAAbExAAFYmAABWJgAAdZigAHWYoAA46P4AOOj+ADjo/gA46P4ATiIAAE4iAABOIgAATiIAADjo/gA46P4AOOj+ADjo/gA46P4AOOj+AE4iAABOIgAATiIAAE4iAAA46P4AOOj+AA==",
        "encoding": "base64",
        "path": [
         "colors",
         "data"
        ]
       },
       {
        "data": "AACAPwAAAAAAAAAAAAAAAAAAAAAAAIA/AAAAAAAAAAAAAAAAAAAAAAAAgD8AAAAAAAAAAAAAAAAAAAAAAACAPw==",
        "encoding": "base64",
        "path": [
         "model_matrix",
         "data"
        ]
       },
       {
        "data": "bPwTwZgL3D6yQG0/vOUAwXIxHD++tzM/ozf5wBazPD5IQHY+DJnHwD5IWT/9Zz4/w5+rwEBDpjz1zgg/TEuOwIavPT5hg2I/C+99wOysJj8ifRc/HGgvwGTKWT9aQkM/BZqzvwGuyD6wfXo/IfNLv5DvAD6e/LM+AAAAPwAAAD8AAAAAAADAPwAAAD8AAAAAAAAgQAAAAD8AAIA/AABgQAAAAD8AAIA/AACQQAAAAD8AAAAAAACwQAAAAD8AAAAAAADQQAAAAD8AAAAAAADwQAAAAD8AAIA/AAAIQQAAAD8AAIA/AAAYQQEAAD8AAAAA",
        "encoding": "base64",
        "path": [
         "origins",
         "data"
        ]
       },
       {
        "data": "cnIAv6DRDz5jgVq/hEhjv5GLYb753s6+N3oTP3WmIT/c3wQ/Om8Gv3uQMr/0n/m+lQeMvsybdT9N74y99VnavT0oIT/CBkW/WnhvP6+zmr4P6Tu+yIH2PseUM7+zhAa/t19Gvv1HXT5h+3S/QuYXPziIPz/DBpg+NPhArxZcOq8AAIA/cIJyL9dooS4AAIA/BFNyr/0Zn64AAIC/8dnbriUkB68AAIC/xp0nsnp9VjEAAIA/dOeNLsgGLS8AAIA/Ui5Rsb/3DbAAAIA/aNFrMBOnPTAAAIC/n2aZq5v/uK4AAIC/TBMms0X60bMAAIA/",
        "encoding": "base64",
        "path": [
         "vectors",
         "data"
        ]
       }
      ],
      "model_module": "k3d",
      "model_module_version": "2.8.1",
      "model_name": "ObjectModel",
      "state": {
       "_view_count": null,
       "_view_module": null,
       "_view_module_version": "",
       "_view_name": null,
       "colorLegend": false,
       "colors": {
        "data": {},
        "dtype": "uint32",
        "shape": [
         20,
         2
        ]
       },
       "compression_level": 0,
       "head_color": 255,
       "head_size": 1,
       "id": 140327003608304,
       "label_size": 1,
       "labels": [],
       "line_width": 0.01,
       "model_matrix": {
        "data": {},
        "dtype": "float32",
        "shape": [
         4,
         4
        ]
       },
       "name": "Vectors #1",
       "origin_color": 255,
       "origins": {
        "data": {},
        "dtype": "float32",
        "shape": [
         20,
         3
        ]
       },
       "type": "Vectors",
       "use_head": true,
       "vectors": {
        "data": {},
        "dtype": "float32",
        "shape": [
         20,
         3
        ]
       },
       "visible": true
      }
     },
     "ac22167277de40bb8a5977fcb879ea58": {
      "model_module": "k3d",
      "model_module_version": "2.8.1",
      "model_name": "ObjectModel",
      "state": {
       "_view_count": null,
       "_view_module": null,
       "_view_module_version": "",
       "_view_name": null,
       "color": 5010096,
       "colorLegend": false,
       "colors": {
        "compressed_buffer": {},
        "dtype": "uint32",
        "shape": [
         0
        ]
       },
       "compression_level": 0,
       "id": 140168505109520,
       "mesh_detail": 2,
       "model_matrix": {
        "compressed_buffer": {},
        "dtype": "float32",
        "shape": [
         4,
         4
        ]
       },
       "name": "Points #1",
       "opacities": {
        "compressed_buffer": {},
        "dtype": "float32",
        "shape": [
         0
        ]
       },
       "opacity": 1,
       "point_size": 0.25,
       "positions": {
        "compressed_buffer": {},
        "dtype": "float32",
        "shape": [
         20,
         3
        ]
       },
       "shader": "3dSpecular",
       "type": "Points",
       "visible": true
      }
     },
     "ac46427a99f543b8bb1249dd518cbad3": {
      "model_module": "k3d",
      "model_module_version": "2.8.1",
      "model_name": "ObjectModel",
      "state": {
       "_view_count": null,
       "_view_module": null,
       "_view_module_version": "",
       "_view_name": null,
       "color": 5010096,
       "colorLegend": false,
       "colors": {
        "compressed_buffer": {},
        "dtype": "uint32",
        "shape": [
         0
        ]
       },
       "compression_level": 0,
       "id": 140167769580624,
       "mesh_detail": 2,
       "model_matrix": {
        "compressed_buffer": {},
        "dtype": "float32",
        "shape": [
         4,
         4
        ]
       },
       "name": "Points #1",
       "opacities": {
        "compressed_buffer": {},
        "dtype": "float32",
        "shape": [
         0
        ]
       },
       "opacity": 1,
       "point_size": 0.25,
       "positions": {
        "compressed_buffer": {},
        "dtype": "float32",
        "shape": [
         20,
         3
        ]
       },
       "shader": "3dSpecular",
       "type": "Points",
       "visible": true
      }
     },
     "b0949c2742c04e3e956cca7ee0cf202b": {
      "model_module": "@jupyter-widgets/base",
      "model_module_version": "1.2.0",
      "model_name": "LayoutModel",
      "state": {}
     },
     "b73662a0890047a4bd05fd5f2168e820": {
      "model_module": "@jupyter-widgets/base",
      "model_module_version": "1.2.0",
      "model_name": "LayoutModel",
      "state": {}
     },
     "b799730cec0a417f8c523b0a13eb5fba": {
      "buffers": [
       {
        "data": "",
        "encoding": "base64",
        "path": [
         "colors",
         "data"
        ]
       },
       {
        "data": "AACAPwAAAAAAAAAAAAAAAAAAAAAAAIA/AAAAAAAAAAAAAAAAAAAAAAAAgD8AAAAAAAAAAAAAAAAAAAAAAACAPw==",
        "encoding": "base64",
        "path": [
         "model_matrix",
         "data"
        ]
       },
       {
        "data": "",
        "encoding": "base64",
        "path": [
         "opacities",
         "data"
        ]
       },
       {
        "data": "AAAYwQAAAD8AAAA/AAAIwQAAAD8AAAA/AADwwAAAAD8AAAA/AADQwAAAAD8AAAA/AACwwAAAAD8AAAA/AACQwAAAAD8AAAA/AABgwAAAAD8AAAA/AAAgwAAAAD8AAAA/AADAvwAAAD8AAAA/AAAAvwAAAD8AAAA/AAAAPwAAAD8AAAA/AADAPwAAAD8AAAA/AAAgQAAAAD8AAAA/AABgQAAAAD8AAAA/AACQQAAAAD8AAAA/AACwQAAAAD8AAAA/AADQQAAAAD8AAAA/AADwQAAAAD8AAAA/AAAIQQAAAD8AAAA/AAAYQQAAAD8AAAA/",
        "encoding": "base64",
        "path": [
         "positions",
         "data"
        ]
       }
      ],
      "model_module": "k3d",
      "model_module_version": "2.8.1",
      "model_name": "ObjectModel",
      "state": {
       "_view_count": null,
       "_view_module": null,
       "_view_module_version": "",
       "_view_name": null,
       "color": 5010096,
       "colorLegend": false,
       "colors": {
        "data": {},
        "dtype": "uint32",
        "shape": [
         0
        ]
       },
       "compression_level": 0,
       "id": 140327004255664,
       "mesh_detail": 2,
       "model_matrix": {
        "data": {},
        "dtype": "float32",
        "shape": [
         4,
         4
        ]
       },
       "name": "Points #1",
       "opacities": {
        "data": {},
        "dtype": "float32",
        "shape": [
         0
        ]
       },
       "opacity": 1,
       "point_size": 0.25,
       "positions": {
        "data": {},
        "dtype": "float32",
        "shape": [
         20,
         3
        ]
       },
       "shader": "3dSpecular",
       "type": "Points",
       "visible": true
      }
     },
     "b990520c00f648faafd6cf9ecfc78bd9": {
      "model_module": "k3d",
      "model_module_version": "2.8.1",
      "model_name": "ObjectModel",
      "state": {
       "_view_count": null,
       "_view_module": null,
       "_view_module_version": "",
       "_view_name": null,
       "colorLegend": false,
       "colors": {
        "compressed_buffer": {},
        "dtype": "uint32",
        "shape": [
         20,
         2
        ]
       },
       "compression_level": 0,
       "head_color": 255,
       "head_size": 1,
       "id": 140167825918032,
       "label_size": 1,
       "labels": [],
       "line_width": 0.01,
       "model_matrix": {
        "compressed_buffer": {},
        "dtype": "float32",
        "shape": [
         4,
         4
        ]
       },
       "name": "Vectors #1",
       "origin_color": 255,
       "origins": {
        "compressed_buffer": {},
        "dtype": "float32",
        "shape": [
         20,
         3
        ]
       },
       "type": "Vectors",
       "use_head": true,
       "vectors": {
        "compressed_buffer": {},
        "dtype": "float32",
        "shape": [
         20,
         3
        ]
       },
       "visible": true
      }
     },
     "bbd24010062e47438f7e3889a0684c21": {
      "model_module": "k3d",
      "model_module_version": "2.8.1",
      "model_name": "PlotModel",
      "state": {
       "_backend_version": "2.7.4",
       "_dom_classes": [],
       "_view_count": null,
       "antialias": 3,
       "auto_rendering": true,
       "axes": [
        "x (nm)",
        "y (nm)",
        "z (nm)"
       ],
       "axes_helper": 1,
       "background_color": 16777215,
       "camera": [
        16.707952969879074,
        -24.636929444760327,
        2.175795296317352,
        -0.04999999329447746,
        0.5,
        0.5,
        0,
        0,
        1
       ],
       "camera_animation": [],
       "camera_auto_fit": true,
       "camera_fov": 60,
       "camera_no_pan": false,
       "camera_no_rotate": false,
       "camera_no_zoom": false,
       "clipping_planes": [],
       "colorbar_object_id": -1,
       "fps": 25,
       "fps_meter": false,
       "grid": [
        -1,
        -1,
        -1,
        1,
        1,
        1
       ],
       "grid_auto_fit": true,
       "grid_visible": true,
       "height": 512,
       "layout": "IPY_MODEL_707cbd08d2c243858c403cc2e7b2da72",
       "lighting": 1.5,
       "menu_visibility": true,
       "mode": "view",
       "name": null,
       "object_ids": [
        140167733694352
       ],
       "rendering_steps": 1,
       "screenshot": "",
       "screenshot_scale": 2,
       "snapshot": "",
       "time": 0,
       "voxel_paint_color": 0
      }
     },
     "bf513e73f047443b82ed2ae3a540a3ed": {
      "model_module": "k3d",
      "model_module_version": "2.8.1",
      "model_name": "ObjectModel",
      "state": {
       "_view_count": null,
       "_view_module": null,
       "_view_module_version": "",
       "_view_name": null,
       "color": 5010096,
       "colorLegend": false,
       "colors": {
        "compressed_buffer": {},
        "dtype": "uint32",
        "shape": [
         0
        ]
       },
       "compression_level": 0,
       "id": 140168505155472,
       "mesh_detail": 2,
       "model_matrix": {
        "compressed_buffer": {},
        "dtype": "float32",
        "shape": [
         4,
         4
        ]
       },
       "name": "Points #1",
       "opacities": {
        "compressed_buffer": {},
        "dtype": "float32",
        "shape": [
         0
        ]
       },
       "opacity": 1,
       "point_size": 0.25,
       "positions": {
        "compressed_buffer": {},
        "dtype": "float32",
        "shape": [
         20,
         3
        ]
       },
       "shader": "3dSpecular",
       "type": "Points",
       "visible": true
      }
     },
     "c9c4b950e6df4b6fb0516c1eb0100c2a": {
      "model_module": "@jupyter-widgets/output",
      "model_module_version": "1.0.0",
      "model_name": "OutputModel",
      "state": {
       "layout": "IPY_MODEL_4add2eccd745459c92ad06c8e3b33c2f",
       "outputs": [
        {
         "data": {
          "application/vnd.jupyter.widget-view+json": {
           "model_id": "2a7993b6478c4fa9a722c96604361ebb",
           "version_major": 2,
           "version_minor": 0
          },
          "text/plain": "Plot(antialias=3, axes=['x', 'y', 'z'], axes_helper=1.0, background_color=16777215, camera=[2, -3, 0.2, 0.0, 0…"
         },
         "metadata": {},
         "output_type": "display_data"
        }
       ]
      }
     },
     "cc29b8f284984533a26c6b31831c23b0": {
      "model_module": "k3d",
      "model_module_version": "2.8.1",
      "model_name": "ObjectModel",
      "state": {
       "_view_count": null,
       "_view_module": null,
       "_view_module_version": "",
       "_view_name": null,
       "colorLegend": false,
       "colors": {
        "compressed_buffer": {},
        "dtype": "uint32",
        "shape": [
         20,
         2
        ]
       },
       "compression_level": 0,
       "head_color": 255,
       "head_size": 1,
       "id": 140168505153232,
       "label_size": 1,
       "labels": [],
       "line_width": 0.01,
       "model_matrix": {
        "compressed_buffer": {},
        "dtype": "float32",
        "shape": [
         4,
         4
        ]
       },
       "name": "Vectors #1",
       "origin_color": 255,
       "origins": {
        "compressed_buffer": {},
        "dtype": "float32",
        "shape": [
         20,
         3
        ]
       },
       "type": "Vectors",
       "use_head": true,
       "vectors": {
        "compressed_buffer": {},
        "dtype": "float32",
        "shape": [
         20,
         3
        ]
       },
       "visible": true
      }
     },
     "cec39cf01619462b87a56732c60f1d2c": {
      "model_module": "k3d",
      "model_module_version": "2.8.1",
      "model_name": "ObjectModel",
      "state": {
       "_view_count": null,
       "_view_module": null,
       "_view_module_version": "",
       "_view_name": null,
       "color": 5010096,
       "colorLegend": false,
       "colors": {
        "compressed_buffer": {},
        "dtype": "uint32",
        "shape": [
         0
        ]
       },
       "compression_level": 0,
       "id": 140167699882896,
       "mesh_detail": 2,
       "model_matrix": {
        "compressed_buffer": {},
        "dtype": "float32",
        "shape": [
         4,
         4
        ]
       },
       "name": "Points #1",
       "opacities": {
        "compressed_buffer": {},
        "dtype": "float32",
        "shape": [
         0
        ]
       },
       "opacity": 1,
       "point_size": 0.25,
       "positions": {
        "compressed_buffer": {},
        "dtype": "float32",
        "shape": [
         20,
         3
        ]
       },
       "shader": "3dSpecular",
       "type": "Points",
       "visible": true
      }
     },
     "d0b87029440f45cdbc45fe6ec105e117": {
      "model_module": "k3d",
      "model_module_version": "2.8.1",
      "model_name": "ObjectModel",
      "state": {
       "_view_count": null,
       "_view_module": null,
       "_view_module_version": "",
       "_view_name": null,
       "color": 5010096,
       "colorLegend": false,
       "colors": {
        "compressed_buffer": {},
        "dtype": "uint32",
        "shape": [
         0
        ]
       },
       "compression_level": 0,
       "id": 140168896354960,
       "mesh_detail": 2,
       "model_matrix": {
        "compressed_buffer": {},
        "dtype": "float32",
        "shape": [
         4,
         4
        ]
       },
       "name": "Points #1",
       "opacities": {
        "compressed_buffer": {},
        "dtype": "float32",
        "shape": [
         0
        ]
       },
       "opacity": 1,
       "point_size": 0.25,
       "positions": {
        "compressed_buffer": {},
        "dtype": "float32",
        "shape": [
         20,
         3
        ]
       },
       "shader": "3dSpecular",
       "type": "Points",
       "visible": true
      }
     },
     "d3be95f804754503bcf2d4f654694481": {
      "model_module": "@jupyter-widgets/base",
      "model_module_version": "1.2.0",
      "model_name": "LayoutModel",
      "state": {}
     },
     "d3dbe775c800488e81e463f8049b0e03": {
      "model_module": "@jupyter-widgets/output",
      "model_module_version": "1.0.0",
      "model_name": "OutputModel",
      "state": {
       "layout": "IPY_MODEL_9436f45076cf4bad92dd16f5bd7bdbfc",
       "outputs": [
        {
         "data": {
          "application/vnd.jupyter.widget-view+json": {
           "model_id": "799c75e5ad24481baba20c5ca1c47ac0",
           "version_major": 2,
           "version_minor": 0
          },
          "text/plain": "Plot(antialias=3, axes=['x', 'y', 'z'], axes_helper=1.0, background_color=16777215, camera=[2, -3, 0.2, 0.0, 0…"
         },
         "metadata": {},
         "output_type": "display_data"
        }
       ]
      }
     },
     "d5284f80cd214abd9dcd78734cc2d327": {
      "model_module": "@jupyter-widgets/base",
      "model_module_version": "1.2.0",
      "model_name": "LayoutModel",
      "state": {}
     },
     "d532e77e28ce44d08ee8f7634611896c": {
      "model_module": "@jupyter-widgets/base",
      "model_module_version": "1.2.0",
      "model_name": "LayoutModel",
      "state": {}
     },
     "d6e3e220ea034d99bf55605c6de3cb8d": {
      "buffers": [
       {
        "data": "sHJMAFKE3QA=",
        "encoding": "base64",
        "path": [
         "color_map",
         "data"
        ]
       },
       {
        "data": "AACgQQAAAAAAAAAAAAAAAAAAAAAAAIA/AAAAAAAAAD8AAAAAAAAAAAAAgD8AAAA/AAAAAAAAAAAAAAAAAACAPw==",
        "encoding": "base64",
        "path": [
         "model_matrix",
         "data"
        ]
       },
       {
        "data": "AQEBAQEBAQEBAQEBAQEBAQEBAQI=",
        "encoding": "base64",
        "path": [
         "voxels",
         "data"
        ]
       }
      ],
      "model_module": "k3d",
      "model_module_version": "2.8.1",
      "model_name": "ObjectModel",
      "state": {
       "_view_count": null,
       "_view_module": null,
       "_view_module_version": "",
       "_view_name": null,
       "colorLegend": false,
       "color_map": {
        "data": {},
        "dtype": "uint32",
        "shape": [
         2
        ]
       },
       "compression_level": 0,
       "id": 140326963666080,
       "model_matrix": {
        "data": {},
        "dtype": "float32",
        "shape": [
         4,
         4
        ]
       },
       "name": "Voxels #1",
       "opacity": 1,
       "outlines": false,
       "outlines_color": 0,
       "type": "Voxels",
       "visible": true,
       "voxels": {
        "data": {},
        "dtype": "uint8",
        "shape": [
         1,
         1,
         20
        ]
       },
       "wireframe": false
      }
     },
     "d9fa7be23c1a4f2db1ca34791067766d": {
      "model_module": "k3d",
      "model_module_version": "2.8.1",
      "model_name": "PlotModel",
      "state": {
       "_backend_version": "2.7.4",
       "_dom_classes": [],
       "_view_count": null,
       "antialias": 3,
       "auto_rendering": true,
       "axes": [
        "x (nm)",
        "y (nm)",
        "z (nm)"
       ],
       "axes_helper": 1,
       "background_color": 16777215,
       "camera": [
        16.271799264135247,
        -23.84190681246264,
        2.122793802398667,
        0.04386138916015625,
        0.5,
        0.5000000149011612,
        0,
        0,
        1
       ],
       "camera_animation": [],
       "camera_auto_fit": true,
       "camera_fov": 60,
       "camera_no_pan": false,
       "camera_no_rotate": false,
       "camera_no_zoom": false,
       "clipping_planes": [],
       "colorbar_object_id": -1,
       "fps": 25,
       "fps_meter": false,
       "grid": [
        -1,
        -1,
        -1,
        1,
        1,
        1
       ],
       "grid_auto_fit": true,
       "grid_visible": true,
       "height": 512,
       "layout": "IPY_MODEL_5baf08fe4cef431693d2568b4a1cf424",
       "lighting": 1.5,
       "menu_visibility": true,
       "mode": "view",
       "name": null,
       "object_ids": [
        140167825918032,
        140168896354960
       ],
       "rendering_steps": 1,
       "screenshot": "",
       "screenshot_scale": 2,
       "snapshot": "",
       "time": 0,
       "voxel_paint_color": 0
      }
     },
     "da243cb031724a8c83495aeae7c23548": {
      "model_module": "@jupyter-widgets/base",
      "model_module_version": "1.2.0",
      "model_name": "LayoutModel",
      "state": {}
     },
     "dd20b1f9b02a4a6faa5615d159fb0928": {
      "model_module": "k3d",
      "model_module_version": "2.8.1",
      "model_name": "PlotModel",
      "state": {
       "_backend_version": "2.8.1",
       "_dom_classes": [],
       "_view_count": null,
       "antialias": 3,
       "auto_rendering": true,
       "axes": [
        "x\\,\\text{(nm)}",
        "y\\,\\text{(nm)}",
        "z\\,\\text{(nm)}"
       ],
       "axes_helper": 1,
       "background_color": 16777215,
       "camera": [
        16.707952969879074,
        -24.636929444760327,
        2.1757952963173697,
        -0.04999999329447746,
        0.5,
        0.5,
        0,
        0,
        1
       ],
       "camera_animation": [],
       "camera_auto_fit": true,
       "camera_fov": 60,
       "camera_mode": "trackball",
       "camera_no_pan": false,
       "camera_no_rotate": false,
       "camera_no_zoom": false,
       "clipping_planes": [],
       "colorbar_object_id": -1,
       "colorbar_scientific": false,
       "fps": 25,
       "fps_meter": false,
       "grid": [
        -1,
        -1,
        -1,
        1,
        1,
        1
       ],
       "grid_auto_fit": true,
       "grid_visible": true,
       "height": 512,
       "layout": "IPY_MODEL_8a1dfb49b55444fe802d7123e5de7239",
       "lighting": 1.5,
       "manipulate_mode": "translate",
       "menu_visibility": true,
       "mode": "view",
       "name": null,
       "object_ids": [
        140326963666080
       ],
       "rendering_steps": 1,
       "screenshot": "",
       "screenshot_scale": 2,
       "snapshot": "",
       "snapshot_include_js": true,
       "time": 0,
       "voxel_paint_color": 0
      }
     },
     "def2b3b2d0214fb7898ed8d70fede04a": {
      "model_module": "@jupyter-widgets/base",
      "model_module_version": "1.2.0",
      "model_name": "LayoutModel",
      "state": {}
     },
     "e101a3f6b01247e0afd9f3e5d44b108e": {
      "model_module": "@jupyter-widgets/base",
      "model_module_version": "1.2.0",
      "model_name": "LayoutModel",
      "state": {}
     },
     "e2eaee171cd444a294b0b5941aa397df": {
      "model_module": "@jupyter-widgets/base",
      "model_module_version": "1.2.0",
      "model_name": "LayoutModel",
      "state": {}
     },
     "e5232c41cb8f4022b5f8b960f1e1c234": {
      "model_module": "@jupyter-widgets/base",
      "model_module_version": "1.2.0",
      "model_name": "LayoutModel",
      "state": {}
     },
     "e589b19522af45caaa88936e1eaf4f82": {
      "model_module": "k3d",
      "model_module_version": "2.8.1",
      "model_name": "PlotModel",
      "state": {
       "_backend_version": "2.8.1",
       "_dom_classes": [],
       "_view_count": null,
       "antialias": 3,
       "auto_rendering": true,
       "axes": [
        "x\\,\\text{(nm)}",
        "y\\,\\text{(nm)}",
        "z\\,\\text{(nm)}"
       ],
       "axes_helper": 1,
       "background_color": 16777215,
       "camera": [
        16.104426451465905,
        -23.825829875381913,
        2.1217219897053297,
        -0.1127934455871582,
        0.4999999701976776,
        0.5,
        0,
        0,
        1
       ],
       "camera_animation": [],
       "camera_auto_fit": true,
       "camera_fov": 60,
       "camera_mode": "trackball",
       "camera_no_pan": false,
       "camera_no_rotate": false,
       "camera_no_zoom": false,
       "clipping_planes": [],
       "colorbar_object_id": -1,
       "colorbar_scientific": false,
       "fps": 25,
       "fps_meter": false,
       "grid": [
        -1,
        -1,
        -1,
        1,
        1,
        1
       ],
       "grid_auto_fit": true,
       "grid_visible": true,
       "height": 512,
       "layout": "IPY_MODEL_15ed7e6d44f940dbb8eb46c965097f0f",
       "lighting": 1.5,
       "manipulate_mode": "translate",
       "menu_visibility": true,
       "mode": "view",
       "name": null,
       "object_ids": [
        140326963521184,
        140326963666032
       ],
       "rendering_steps": 1,
       "screenshot": "",
       "screenshot_scale": 2,
       "snapshot": "",
       "snapshot_include_js": true,
       "time": 0,
       "voxel_paint_color": 0
      }
     },
     "e69e384bdba84e70beac8eb02523ace7": {
      "model_module": "k3d",
      "model_module_version": "2.8.1",
      "model_name": "PlotModel",
      "state": {
       "_backend_version": "2.7.4",
       "_dom_classes": [],
       "_view_count": null,
       "antialias": 3,
       "auto_rendering": true,
       "axes": [
        "x (nm)",
        "y (nm)",
        "z (nm)"
       ],
       "axes_helper": 1,
       "background_color": 16777215,
       "camera": [
        16.339572380584755,
        -24.048078940216122,
        2.136538596014405,
        -0.025813579559326172,
        0.5,
        0.5,
        0,
        0,
        1
       ],
       "camera_animation": [],
       "camera_auto_fit": true,
       "camera_fov": 60,
       "camera_no_pan": false,
       "camera_no_rotate": false,
       "camera_no_zoom": false,
       "clipping_planes": [],
       "colorbar_object_id": -1,
       "fps": 25,
       "fps_meter": false,
       "grid": [
        -1,
        -1,
        -1,
        1,
        1,
        1
       ],
       "grid_auto_fit": true,
       "grid_visible": true,
       "height": 512,
       "layout": "IPY_MODEL_80edea68028d4f31a5aaaeb3ad454c55",
       "lighting": 1.5,
       "menu_visibility": true,
       "mode": "view",
       "name": null,
       "object_ids": [
        140167733782032,
        140167700028432
       ],
       "rendering_steps": 1,
       "screenshot": "",
       "screenshot_scale": 2,
       "snapshot": "",
       "time": 0,
       "voxel_paint_color": 0
      }
     },
     "e9dc4e62c6304ee582241813b8899b15": {
      "model_module": "@jupyter-widgets/output",
      "model_module_version": "1.0.0",
      "model_name": "OutputModel",
      "state": {
       "layout": "IPY_MODEL_8dceef62298341808c65423b73679d2d",
       "outputs": [
        {
         "data": {
          "application/vnd.jupyter.widget-view+json": {
           "model_id": "1f3a513cc35d48cc932ccedc1cc47c77",
           "version_major": 2,
           "version_minor": 0
          },
          "text/plain": "Plot(antialias=3, axes=['x', 'y', 'z'], axes_helper=1.0, background_color=16777215, camera=[2, -3, 0.2, 0.0, 0…"
         },
         "metadata": {},
         "output_type": "display_data"
        }
       ]
      }
     },
     "ec17e21ebe9347f19ea07eac785a849e": {
      "buffers": [
       {
        "data": "",
        "encoding": "base64",
        "path": [
         "colors",
         "data"
        ]
       },
       {
        "data": "AACAPwAAAAAAAAAAAAAAAAAAAAAAAIA/AAAAAAAAAAAAAAAAAAAAAAAAgD8AAAAAAAAAAAAAAAAAAAAAAACAPw==",
        "encoding": "base64",
        "path": [
         "model_matrix",
         "data"
        ]
       },
       {
        "data": "",
        "encoding": "base64",
        "path": [
         "opacities",
         "data"
        ]
       },
       {
        "data": "AAAYwQAAAD8AAAA/AAAIwQAAAD8AAAA/AADwwAAAAD8AAAA/AADQwAAAAD8AAAA/AACwwAAAAD8AAAA/AACQwAAAAD8AAAA/AABgwAAAAD8AAAA/AAAgwAAAAD8AAAA/AADAvwAAAD8AAAA/AAAAvwAAAD8AAAA/AAAAPwAAAD8AAAA/AADAPwAAAD8AAAA/AAAgQAAAAD8AAAA/AABgQAAAAD8AAAA/AACQQAAAAD8AAAA/AACwQAAAAD8AAAA/AADQQAAAAD8AAAA/AADwQAAAAD8AAAA/AAAIQQAAAD8AAAA/AAAYQQAAAD8AAAA/",
        "encoding": "base64",
        "path": [
         "positions",
         "data"
        ]
       }
      ],
      "model_module": "k3d",
      "model_module_version": "2.8.1",
      "model_name": "ObjectModel",
      "state": {
       "_view_count": null,
       "_view_module": null,
       "_view_module_version": "",
       "_view_name": null,
       "color": 5010096,
       "colorLegend": false,
       "colors": {
        "data": {},
        "dtype": "uint32",
        "shape": [
         0
        ]
       },
       "compression_level": 0,
       "id": 140327003792480,
       "mesh_detail": 2,
       "model_matrix": {
        "data": {},
        "dtype": "float32",
        "shape": [
         4,
         4
        ]
       },
       "name": "Points #1",
       "opacities": {
        "data": {},
        "dtype": "float32",
        "shape": [
         0
        ]
       },
       "opacity": 1,
       "point_size": 0.25,
       "positions": {
        "data": {},
        "dtype": "float32",
        "shape": [
         20,
         3
        ]
       },
       "shader": "3dSpecular",
       "type": "Points",
       "visible": true
      }
     },
     "eedf33c90ff142dea35b38727bc21054": {
      "model_module": "@jupyter-widgets/base",
      "model_module_version": "1.2.0",
      "model_name": "LayoutModel",
      "state": {}
     },
     "f1337f9148194f7e89d9a2d756b6bd35": {
      "model_module": "k3d",
      "model_module_version": "2.8.1",
      "model_name": "PlotModel",
      "state": {
       "_backend_version": "2.7.4",
       "_dom_classes": [],
       "_view_count": null,
       "antialias": 3,
       "auto_rendering": true,
       "axes": [
        "x (nm)",
        "y (nm)",
        "z (nm)"
       ],
       "axes_helper": 1,
       "background_color": 16777215,
       "camera": [
        16.390031714087243,
        -23.92358787185776,
        2.1282391924505917,
        0.10763978958129883,
        0.5000000149011612,
        0.5,
        0,
        0,
        1
       ],
       "camera_animation": [],
       "camera_auto_fit": true,
       "camera_fov": 60,
       "camera_no_pan": false,
       "camera_no_rotate": false,
       "camera_no_zoom": false,
       "clipping_planes": [],
       "colorbar_object_id": -1,
       "fps": 25,
       "fps_meter": false,
       "grid": [
        -1,
        -1,
        -1,
        1,
        1,
        1
       ],
       "grid_auto_fit": true,
       "grid_visible": true,
       "height": 512,
       "layout": "IPY_MODEL_d3be95f804754503bcf2d4f654694481",
       "lighting": 1.5,
       "menu_visibility": true,
       "mode": "view",
       "name": null,
       "object_ids": [
        140167733693136,
        140168505109520
       ],
       "rendering_steps": 1,
       "screenshot": "",
       "screenshot_scale": 2,
       "snapshot": "",
       "time": 0,
       "voxel_paint_color": 0
      }
     },
     "f3404f98d0a44f7b9d6816ebe5a30885": {
      "model_module": "k3d",
      "model_module_version": "2.8.1",
      "model_name": "PlotModel",
      "state": {
       "_backend_version": "2.8.1",
       "_dom_classes": [],
       "_view_count": null,
       "antialias": 3,
       "auto_rendering": true,
       "axes": [
        "x\\,\\text{(nm)}",
        "y\\,\\text{(nm)}",
        "z\\,\\text{(nm)}"
       ],
       "axes_helper": 1,
       "background_color": 16777215,
       "camera": [
        16.707952969879074,
        -24.636929444760327,
        2.1757952963173697,
        -0.04999999329447746,
        0.5,
        0.5,
        0,
        0,
        1
       ],
       "camera_animation": [],
       "camera_auto_fit": true,
       "camera_fov": 60,
       "camera_mode": "trackball",
       "camera_no_pan": false,
       "camera_no_rotate": false,
       "camera_no_zoom": false,
       "clipping_planes": [],
       "colorbar_object_id": -1,
       "colorbar_scientific": false,
       "fps": 25,
       "fps_meter": false,
       "grid": [
        -1,
        -1,
        -1,
        1,
        1,
        1
       ],
       "grid_auto_fit": true,
       "grid_visible": true,
       "height": 512,
       "layout": "IPY_MODEL_e101a3f6b01247e0afd9f3e5d44b108e",
       "lighting": 1.5,
       "manipulate_mode": "translate",
       "menu_visibility": true,
       "mode": "view",
       "name": null,
       "object_ids": [
        140326988812496
       ],
       "rendering_steps": 1,
       "screenshot": "",
       "screenshot_scale": 2,
       "snapshot": "",
       "snapshot_include_js": true,
       "time": 0,
       "voxel_paint_color": 0
      }
     },
     "f6db340fc6004d439a77b65ee277dc09": {
      "model_module": "@jupyter-widgets/base",
      "model_module_version": "1.2.0",
      "model_name": "LayoutModel",
      "state": {}
     },
     "f8f27ca11fd346a593c96c517e312a11": {
      "model_module": "k3d",
      "model_module_version": "2.8.1",
      "model_name": "ObjectModel",
      "state": {
       "_view_count": null,
       "_view_module": null,
       "_view_module_version": "",
       "_view_name": null,
       "colorLegend": false,
       "colors": {
        "compressed_buffer": {},
        "dtype": "uint32",
        "shape": [
         20,
         2
        ]
       },
       "compression_level": 0,
       "head_color": 255,
       "head_size": 1,
       "id": 140167733693136,
       "label_size": 1,
       "labels": [],
       "line_width": 0.01,
       "model_matrix": {
        "compressed_buffer": {},
        "dtype": "float32",
        "shape": [
         4,
         4
        ]
       },
       "name": "Vectors #1",
       "origin_color": 255,
       "origins": {
        "compressed_buffer": {},
        "dtype": "float32",
        "shape": [
         20,
         3
        ]
       },
       "type": "Vectors",
       "use_head": true,
       "vectors": {
        "compressed_buffer": {},
        "dtype": "float32",
        "shape": [
         20,
         3
        ]
       },
       "visible": true
      }
     },
     "ffefab44d0ed4241b824b314a41cd53d": {
      "buffers": [
       {
        "data": "",
        "encoding": "base64",
        "path": [
         "colors",
         "data"
        ]
       },
       {
        "data": "AACAPwAAAAAAAAAAAAAAAAAAAAAAAIA/AAAAAAAAAAAAAAAAAAAAAAAAgD8AAAAAAAAAAAAAAAAAAAAAAACAPw==",
        "encoding": "base64",
        "path": [
         "model_matrix",
         "data"
        ]
       },
       {
        "data": "",
        "encoding": "base64",
        "path": [
         "opacities",
         "data"
        ]
       },
       {
        "data": "AAAYwQAAAD8AAAA/AAAIwQAAAD8AAAA/AADwwAAAAD8AAAA/AADQwAAAAD8AAAA/AACwwAAAAD8AAAA/AACQwAAAAD8AAAA/AABgwAAAAD8AAAA/AAAgwAAAAD8AAAA/AADAvwAAAD8AAAA/AAAAvwAAAD8AAAA/AAAAPwAAAD8AAAA/AADAPwAAAD8AAAA/AAAgQAAAAD8AAAA/AABgQAAAAD8AAAA/AACQQAAAAD8AAAA/AACwQAAAAD8AAAA/AADQQAAAAD8AAAA/AADwQAAAAD8AAAA/AAAIQQAAAD8AAAA/AAAYQQAAAD8AAAA/",
        "encoding": "base64",
        "path": [
         "positions",
         "data"
        ]
       }
      ],
      "model_module": "k3d",
      "model_module_version": "2.8.1",
      "model_name": "ObjectModel",
      "state": {
       "_view_count": null,
       "_view_module": null,
       "_view_module_version": "",
       "_view_name": null,
       "color": 5010096,
       "colorLegend": false,
       "colors": {
        "data": {},
        "dtype": "uint32",
        "shape": [
         0
        ]
       },
       "compression_level": 0,
       "id": 140326963664208,
       "mesh_detail": 2,
       "model_matrix": {
        "data": {},
        "dtype": "float32",
        "shape": [
         4,
         4
        ]
       },
       "name": "Points #1",
       "opacities": {
        "data": {},
        "dtype": "float32",
        "shape": [
         0
        ]
       },
       "opacity": 1,
       "point_size": 0.25,
       "positions": {
        "data": {},
        "dtype": "float32",
        "shape": [
         20,
         3
        ]
       },
       "shader": "3dSpecular",
       "type": "Points",
       "visible": true
      }
     }
    },
    "version_major": 2,
    "version_minor": 0
   }
  }
 },
 "nbformat": 4,
 "nbformat_minor": 4
}
