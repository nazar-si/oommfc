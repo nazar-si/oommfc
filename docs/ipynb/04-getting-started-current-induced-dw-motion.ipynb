{
 "cells": [
  {
   "cell_type": "markdown",
   "metadata": {},
   "source": [
    "# Getting started 04: Current induced domain wall motion\n",
    "\n",
    "> Interactive online tutorial:\n",
    "> [![Binder](https://mybinder.org/badge_logo.svg)](https://mybinder.org/v2/gh/ubermag/oommfc/master?filepath=docs%2Fipynb%2Findex.ipynb)\n",
    "\n",
    "In this tutorial we show how Zhang-Li spin transfer torque (STT) can be included in micromagnetic simulations. To illustrate that, we will try to move a domain wall pair using spin-polarised current.\n",
    "\n",
    "Let us simulate a two-dimensional sample with length $L = 500 \\,\\text{nm}$, width $w = 20 \\,\\text{nm}$ and discretisation cell $(2.5 \\,\\text{nm}, 2.5 \\,\\text{nm}, 2.5 \\,\\text{nm})$. The material parameters are:\n",
    "\n",
    "- exchange energy constant $A = 15 \\,\\text{pJ}\\,\\text{m}^{-1}$,\n",
    "- Dzyaloshinskii-Moriya energy constant $D = 3 \\,\\text{mJ}\\,\\text{m}^{-2}$,\n",
    "- uniaxial anisotropy constant $K = 0.5 \\,\\text{MJ}\\,\\text{m}^{-3}$ with easy axis $\\mathbf{u}$ in the out of plane direction $(0, 0, 1)$,\n",
    "- gyrotropic ratio $\\gamma = 2.211 \\times 10^{5} \\,\\text{m}\\,\\text{A}^{-1}\\,\\text{s}^{-1}$, and\n",
    "- Gilbert damping $\\alpha=0.3$."
   ]
  },
  {
   "cell_type": "code",
   "execution_count": 1,
   "metadata": {},
   "outputs": [],
   "source": [
    "import oommfc as oc\n",
    "import discretisedfield as df\n",
    "import micromagneticmodel as mm\n",
    "%matplotlib inline\n",
    "\n",
    "# Definition of parameters\n",
    "L = 500e-9  # sample length (m)\n",
    "w = 20e-9  # sample width (m)\n",
    "d = 2.5e-9  # discretisation cell size (m)\n",
    "Ms = 5.8e5  # saturation magnetisation (A/m)\n",
    "A = 15e-12  # exchange energy constant (J/)\n",
    "D = 3e-3  # Dzyaloshinkii-Moriya energy constant (J/m**2)\n",
    "K = 0.5e6  # uniaxial anisotropy constant (J/m**3)\n",
    "u = (0, 0, 1)  # easy axis\n",
    "gamma0 = 2.211e5  # gyromagnetic ratio (m/As)\n",
    "alpha = 0.3  # Gilbert damping\n",
    "\n",
    "# Mesh definition\n",
    "p1 = (0, 0, 0)\n",
    "p2 = (L, w, d)\n",
    "cell = (d, d, d)\n",
    "region = df.Region(p1=p1, p2=p2)\n",
    "mesh = df.Mesh(region=region, cell=cell)\n",
    "\n",
    "# Micromagnetic system definition\n",
    "system = mm.System(name='domain_wall_pair')\n",
    "system.energy = mm.Exchange(A=A) + \\\n",
    "                mm.DMI(D=D, crystalclass=\"Cnv\") + \\\n",
    "                mm.UniaxialAnisotropy(K=K, u=u)\n",
    "system.dynamics = mm.Precession(gamma0=gamma0) + mm.Damping(alpha=alpha)"
   ]
  },
  {
   "cell_type": "markdown",
   "metadata": {},
   "source": [
    "Because we want to move a DW pair, we need to initialise the magnetisation in an appropriate way before we relax the system."
   ]
  },
  {
   "cell_type": "code",
   "execution_count": 2,
   "metadata": {},
   "outputs": [
    {
     "data": {
      "application/vnd.jupyter.widget-view+json": {
       "model_id": "d9284037e51848fe8fed6d0cdd7090b2",
       "version_major": 2,
       "version_minor": 0
      },
      "text/plain": [
       "Output()"
      ]
     },
     "metadata": {},
     "output_type": "display_data"
    }
   ],
   "source": [
    "def m_value(pos):\n",
    "    x, y, z = pos\n",
    "    if 20e-9 < x < 40e-9:\n",
    "        return (0, 0, -1)\n",
    "    else:\n",
    "        return (0, 0, 1)\n",
    "    \n",
    "system.m = df.Field(mesh, dim=3, value=m_value, norm=Ms)\n",
    "\n",
    "system.m.z.plane('z').k3d.scalar()"
   ]
  },
  {
   "cell_type": "markdown",
   "metadata": {},
   "source": [
    "Now, we can relax the magnetisation."
   ]
  },
  {
   "cell_type": "code",
   "execution_count": 3,
   "metadata": {},
   "outputs": [
    {
     "name": "stdout",
     "output_type": "stream",
     "text": [
      "Running OOMMF (ExeOOMMFRunner) [2020/06/12 00:40]... (8.4 s)\n"
     ]
    },
    {
     "data": {
      "application/vnd.jupyter.widget-view+json": {
       "model_id": "61f76f88767a4375bba29ec0d2b829ca",
       "version_major": 2,
       "version_minor": 0
      },
      "text/plain": [
       "Output()"
      ]
     },
     "metadata": {},
     "output_type": "display_data"
    }
   ],
   "source": [
    "md = oc.MinDriver()\n",
    "md.drive(system)\n",
    "\n",
    "system.m.z.plane('z').k3d.scalar()"
   ]
  },
  {
   "cell_type": "markdown",
   "metadata": {},
   "source": [
    "Now we can add the STT term to the dynamics equation."
   ]
  },
  {
   "cell_type": "code",
   "execution_count": 4,
   "metadata": {},
   "outputs": [],
   "source": [
    "ux = 400  # velocity in x-direction (m/s)\n",
    "beta = 0.5  # non-adiabatic STT parameter\n",
    "\n",
    "system.dynamics += mm.ZhangLi(u=ux, beta=beta)  # please notice the use of `+=` operator"
   ]
  },
  {
   "cell_type": "markdown",
   "metadata": {},
   "source": [
    "And drive the system for $0.5 \\,\\text{ns}$:"
   ]
  },
  {
   "cell_type": "code",
   "execution_count": 5,
   "metadata": {},
   "outputs": [
    {
     "name": "stdout",
     "output_type": "stream",
     "text": [
      "Running OOMMF (ExeOOMMFRunner) [2020/06/12 00:40]... (6.0 s)\n"
     ]
    },
    {
     "data": {
      "application/vnd.jupyter.widget-view+json": {
       "model_id": "5ff74713df9a4586bd37d1e13b5f4f87",
       "version_major": 2,
       "version_minor": 0
      },
      "text/plain": [
       "Output()"
      ]
     },
     "metadata": {},
     "output_type": "display_data"
    }
   ],
   "source": [
    "td = oc.TimeDriver()\n",
    "td.drive(system, t=0.5e-9, n=100)\n",
    "\n",
    "system.m.z.plane('z').k3d.scalar()"
   ]
  },
  {
   "cell_type": "markdown",
   "metadata": {},
   "source": [
    "We see that the DW pair has moved to the positive $x$ direction."
   ]
  },
  {
   "cell_type": "markdown",
   "metadata": {},
   "source": [
    "## Exercise 1\n",
    "\n",
    "Modify the code below (which is a copy of the example from above) to obtain one domain wall instead of a domain wall pair and move it using the same current."
   ]
  },
  {
   "cell_type": "code",
   "execution_count": 6,
   "metadata": {},
   "outputs": [
    {
     "data": {
      "application/vnd.jupyter.widget-view+json": {
       "model_id": "69bdc5d46844409f96099ead3e7c0289",
       "version_major": 2,
       "version_minor": 0
      },
      "text/plain": [
       "Output()"
      ]
     },
     "metadata": {},
     "output_type": "display_data"
    }
   ],
   "source": [
    "# Definition of parameters\n",
    "L = 500e-9  # sample length (m)\n",
    "w = 20e-9  # sample width (m)\n",
    "d = 2.5e-9  # discretisation cell size (m)\n",
    "Ms = 5.8e5  # saturation magnetisation (A/m)\n",
    "A = 15e-12  # exchange energy constant (J/)\n",
    "D = 3e-3  # Dzyaloshinkii-Moriya energy constant (J/m**2)\n",
    "K = 0.5e6  # uniaxial anisotropy constant (J/m**3)\n",
    "u = (0, 0, 1)  # easy axis\n",
    "gamma0 = 2.211e5  # gyromagnetic ratio (m/As)\n",
    "alpha = 0.3  # Gilbert damping\n",
    "\n",
    "# Mesh definition\n",
    "p1 = (0, 0, 0)\n",
    "p2 = (L, w, d)\n",
    "cell = (d, d, d)\n",
    "region = df.Region(p1=p1, p2=p2)\n",
    "mesh = df.Mesh(region=region, cell=cell)\n",
    "\n",
    "# Micromagnetic system definition\n",
    "system = mm.System(name='domain_wall')\n",
    "system.energy = mm.Exchange(A=A) + \\\n",
    "                mm.DMI(D=D, crystalclass='Cnv') + \\\n",
    "                mm.UniaxialAnisotropy(K=K, u=u)\n",
    "system.dynamics = mm.Precession(gamma0=gamma0) + mm.Damping(alpha=alpha)\n",
    "\n",
    "def m_value(pos):\n",
    "    x, y, z = pos\n",
    "    # Modify the following line\n",
    "    if 20e-9 < x < 40e-9:\n",
    "        return (0, 0, -1)\n",
    "    else:\n",
    "        return (0, 0, 1)\n",
    "    # We have added the y-component of 1e-8 to the magnetisation to be able to \n",
    "    # plot the vector field. This will not be necessary in the long run.\n",
    "    \n",
    "system.m = df.Field(mesh, dim=3, value=m_value, norm=Ms)\n",
    "\n",
    "system.m.z.plane('z').k3d.scalar()"
   ]
  },
  {
   "cell_type": "code",
   "execution_count": 7,
   "metadata": {},
   "outputs": [
    {
     "name": "stdout",
     "output_type": "stream",
     "text": [
      "Running OOMMF (ExeOOMMFRunner) [2020/06/12 00:40]... (8.2 s)\n"
     ]
    },
    {
     "data": {
      "application/vnd.jupyter.widget-view+json": {
       "model_id": "688b18af8b364b738012d6277a5916f3",
       "version_major": 2,
       "version_minor": 0
      },
      "text/plain": [
       "Output()"
      ]
     },
     "metadata": {},
     "output_type": "display_data"
    }
   ],
   "source": [
    "md = oc.MinDriver()\n",
    "md.drive(system)\n",
    "\n",
    "system.m.z.plane('z').k3d.scalar()"
   ]
  },
  {
   "cell_type": "code",
   "execution_count": 8,
   "metadata": {},
   "outputs": [
    {
     "name": "stdout",
     "output_type": "stream",
     "text": [
      "Running OOMMF (ExeOOMMFRunner) [2020/06/12 00:40]... (5.6 s)\n"
     ]
    },
    {
     "data": {
      "application/vnd.jupyter.widget-view+json": {
       "model_id": "fd7a60e7c36249f8aed87727a65b3623",
       "version_major": 2,
       "version_minor": 0
      },
      "text/plain": [
       "Output()"
      ]
     },
     "metadata": {},
     "output_type": "display_data"
    }
   ],
   "source": [
    "ux = 400  # velocity in x direction (m/s)\n",
    "beta = 0.5  # non-adiabatic STT parameter\n",
    "\n",
    "system.dynamics += mm.ZhangLi(u=ux, beta=beta)\n",
    "\n",
    "td = oc.TimeDriver()\n",
    "td.drive(system, t=0.5e-9, n=100)\n",
    "\n",
    "system.m.z.plane('z').k3d.scalar()"
   ]
  }
 ],
 "metadata": {
  "kernelspec": {
   "display_name": "Python 3",
   "language": "python",
   "name": "python3"
  },
  "language_info": {
   "codemirror_mode": {
    "name": "ipython",
    "version": 3
   },
   "file_extension": ".py",
   "mimetype": "text/x-python",
   "name": "python",
   "nbconvert_exporter": "python",
   "pygments_lexer": "ipython3",
   "version": "3.8.3"
  },
  "widgets": {
   "application/vnd.jupyter.widget-state+json": {
    "state": {
     "0001bfc389d74da4af3a573de0f11745": {
      "model_module": "@jupyter-widgets/base",
      "model_module_version": "1.2.0",
      "model_name": "LayoutModel",
      "state": {}
     },
     "03aa94ab92f84841a6894a59cdbb23a3": {
      "model_module": "k3d",
      "model_module_version": "2.8.1",
      "model_name": "PlotModel",
      "state": {
       "_backend_version": "2.8.1",
       "_dom_classes": [],
       "_view_count": null,
       "antialias": 3,
       "auto_rendering": true,
       "axes": [
        "x\\,\\text{(nm)}",
        "y\\,\\text{(nm)}",
        "z\\,\\text{(nm)}"
       ],
       "axes_helper": 1,
       "background_color": 16777215,
       "camera": [
        665.8171011542858,
        -614.0381518827686,
        42.84421012353145,
        249.87499991897494,
        9.874999970197678,
        1.25,
        0,
        0,
        1
       ],
       "camera_animation": [],
       "camera_auto_fit": true,
       "camera_fov": 60,
       "camera_mode": "trackball",
       "camera_no_pan": false,
       "camera_no_rotate": false,
       "camera_no_zoom": false,
       "clipping_planes": [],
       "colorbar_object_id": -1,
       "colorbar_scientific": false,
       "fps": 25,
       "fps_meter": false,
       "grid": [
        -1,
        -1,
        -1,
        1,
        1,
        1
       ],
       "grid_auto_fit": true,
       "grid_visible": true,
       "height": 512,
       "layout": "IPY_MODEL_0001bfc389d74da4af3a573de0f11745",
       "lighting": 1.5,
       "manipulate_mode": "translate",
       "menu_visibility": true,
       "mode": "view",
       "name": null,
       "object_ids": [
        140592647807088
       ],
       "rendering_steps": 1,
       "screenshot": "",
       "screenshot_scale": 2,
       "snapshot": "",
       "snapshot_include_js": true,
       "time": 0,
       "voxel_paint_color": 0
      }
     },
     "05d53fe496204442ba29c61434ec6528": {
      "model_module": "@jupyter-widgets/base",
      "model_module_version": "1.2.0",
      "model_name": "LayoutModel",
      "state": {}
     },
     "07ab63c5f32e4f92a86e3af03f5bd03f": {
      "model_module": "k3d",
      "model_module_version": "2.8.1",
      "model_name": "ObjectModel",
      "state": {
       "_view_count": null,
       "_view_module": null,
       "_view_module_version": "",
       "_view_name": null,
       "colorLegend": false,
       "color_map": {
        "compressed_buffer": {},
        "dtype": "uint32",
        "shape": [
         256
        ]
       },
       "compression_level": 0,
       "id": 140685695444560,
       "model_matrix": {
        "compressed_buffer": {},
        "dtype": "float32",
        "shape": [
         4,
         4
        ]
       },
       "name": "Voxels #1",
       "opacity": 1,
       "outlines": false,
       "outlines_color": 0,
       "type": "Voxels",
       "visible": true,
       "voxels": {
        "compressed_buffer": {},
        "dtype": "uint8",
        "shape": [
         1,
         8,
         200
        ]
       },
       "wireframe": false
      }
     },
     "144016378ff5488cafadf186fc214be2": {
      "model_module": "@jupyter-widgets/base",
      "model_module_version": "1.2.0",
      "model_name": "LayoutModel",
      "state": {}
     },
     "16b5bffb7c44423cade78fbc93ebe09b": {
      "model_module": "@jupyter-widgets/base",
      "model_module_version": "1.2.0",
      "model_name": "LayoutModel",
      "state": {}
     },
     "191b6cd556c6457a8eba5fe5859a7477": {
      "model_module": "@jupyter-widgets/base",
      "model_module_version": "1.2.0",
      "model_name": "LayoutModel",
      "state": {}
     },
     "1a16554e48734a19a13a87cfaf44456c": {
      "model_module": "k3d",
      "model_module_version": "2.8.1",
      "model_name": "PlotModel",
      "state": {
       "_backend_version": "2.8.1",
       "_dom_classes": [],
       "_view_count": null,
       "antialias": 3,
       "auto_rendering": true,
       "axes": [
        "x\\,\\text{(nm)}",
        "y\\,\\text{(nm)}",
        "z\\,\\text{(nm)}"
       ],
       "axes_helper": 1,
       "background_color": 16777215,
       "camera": [
        665.8171011542858,
        -614.0381518827686,
        42.84421012353145,
        249.87499991897494,
        9.874999970197678,
        1.25,
        0,
        0,
        1
       ],
       "camera_animation": [],
       "camera_auto_fit": true,
       "camera_fov": 60,
       "camera_mode": "trackball",
       "camera_no_pan": false,
       "camera_no_rotate": false,
       "camera_no_zoom": false,
       "clipping_planes": [],
       "colorbar_object_id": -1,
       "colorbar_scientific": false,
       "fps": 25,
       "fps_meter": false,
       "grid": [
        -1,
        -1,
        -1,
        1,
        1,
        1
       ],
       "grid_auto_fit": true,
       "grid_visible": true,
       "height": 512,
       "layout": "IPY_MODEL_62fe1e5cd94249d99eda454fcecb6c79",
       "lighting": 1.5,
       "manipulate_mode": "translate",
       "menu_visibility": true,
       "mode": "view",
       "name": null,
       "object_ids": [
        140592689404032
       ],
       "rendering_steps": 1,
       "screenshot": "",
       "screenshot_scale": 2,
       "snapshot": "",
       "snapshot_include_js": true,
       "time": 0,
       "voxel_paint_color": 0
      }
     },
     "1b1a6c5f99484bb6bbad5a84b49ff3fe": {
      "buffers": [
       {
        "data": "TiIAAE8jAABRJAAAUyUAAFQlAABWJgAAWCcAAFkoAABbKAAAXSkAAF8qAABhKgAAYisAAGQsAABmLAAAaC0AAGouAABsLgAAbS8AAG8wAABwMAAAcDEAAHExAABxMgEAcTMFAHAzCABwNAwAcDUPAHA1EgBwNhQAcDcWAG83GABvOBoAbzkcAG86HgBvOiAAbjshAG48IwBuPCQAbj0mAG4+JwBuPykAbT8qAG1AKwBtQS0AbUEuAG1CLwBtQzEAbUMyAG1EMwBsRTQAbEU1AGxGNgBsRzgAbEg5AGxIOgBsSTsAbEo8AGxKPQBsSz4AbEw/AGxMQABsTUEAbE5CAGxOQwBsT0QAbFBFAGxRRgBsUUcAbFJIAGxTSQBsU0oAbFRLAGxVTABsVU0AbFZOAGxXTwBsV1AAbVhRAG1ZUgBtWlMAbVpUAG1bVQBtXFUAbVxWAG1dVwBtXlgAbl5ZAG5fWgBuYFsAbmFcAG5hXQBuYl4Ab2NeAG9jXwBvZGAAb2VhAG9lYgBwZmMAcGdkAHBoZQBwaGUAcGlmAHFqZwBxamgAcWtpAHFsagBybWsAcm1sAHJubAByb20Ac29uAHNwbwBzcXAAdHJxAHRycgB0c3IAdXRzAHV0dAB1dXUAdnZ2AHZ3dwB3d3cAd3h4AHd5eQB4enoAeHp7AHh7fAB4fH0AeHx+AHh9fgB4fn8AeH+AAHh/gQB5gIIAeYGDAHmChAB5goUAeYOGAHiEhwB4hYgAeIWJAHiGigB4h4sAeIiMAHiIjQB4iY4AeIqPAHiLkAB4i5EAeIySAHiNkgB4jpMAd46UAHePlQB3kJYAd5GXAHeSmAB3kpkAdpOaAHaUmwB2lZwAdpWdAHaWngB1l58AdZigAHWZoQB1maIAdJqjAHSbpAB0nKUAdJymAHOdpwBznqgAc5+pAHOgqgByoKsAcqGsAHKirQBxo64AcaSvAHGlsABwpbEAcKazAG+ntABvqLUAb6m2AG6ptwBuqrgAbau5AG2sugBtrbsAbK68AGyuvQBrr74Aa7C/AGqxwABqssEAabPCAGmzwwBotMQAaLXFAGe2xgBnt8cAZrjIAGW5yQBlucsAZLrMAGO7zQBjvM4AYr3PAGK+0ABhv9EAYMDSAF/A0wBfwdQAXsLVAF3D1gBcxNcAXMXZAFvG2gBax9sAWcjcAFjI3QBYyd4AV8rfAFbL4ABVzOEAVM3iAFPO5ABSz+UAUdDmAFDR5wBP0ugATtPpAEzT6gBL1OsAStXtAEnW7gBI1+8ARtjwAEXZ8QBE2vIAQtvzAEHc9QA/3fYAPt73ADzf+AA64PkAOOH7ADbi/AA04/0ANOT+ADXl/gA25v4AOOj+AA==",
        "encoding": "base64",
        "path": [
         "color_map",
         "data"
        ]
       },
       {
        "data": "AAD6QwAAAAAAAAAAAAB6QwAAAAAAAKBBAAAAAAAAIEEAAAAAAAAAAAAAIEAAAKA/AAAAAAAAAAAAAAAAAACAPw==",
        "encoding": "base64",
        "path": [
         "model_matrix",
         "data"
        ]
       },
       {
        "data": "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",
        "encoding": "base64",
        "path": [
         "voxels",
         "data"
        ]
       }
      ],
      "model_module": "k3d",
      "model_module_version": "2.8.1",
      "model_name": "ObjectModel",
      "state": {
       "_view_count": null,
       "_view_module": null,
       "_view_module_version": "",
       "_view_name": null,
       "colorLegend": false,
       "color_map": {
        "dtype": "uint32",
        "shape": [
         256
        ]
       },
       "compression_level": 0,
       "id": 140592689404032,
       "model_matrix": {
        "dtype": "float32",
        "shape": [
         4,
         4
        ]
       },
       "name": "Voxels #1",
       "opacity": 1,
       "outlines": false,
       "outlines_color": 0,
       "type": "Voxels",
       "visible": true,
       "voxels": {
        "dtype": "uint8",
        "shape": [
         1,
         8,
         200
        ]
       },
       "wireframe": false
      }
     },
     "1c537f09afaa42eb9a8ba036d8b865c8": {
      "buffers": [
       {
        "data": "TiIAAE8jAABRJAAAUyUAAFQlAABWJgAAWCcAAFkoAABbKAAAXSkAAF8qAABhKgAAYisAAGQsAABmLAAAaC0AAGouAABsLgAAbS8AAG8wAABwMAAAcDEAAHExAABxMgEAcTMFAHAzCABwNAwAcDUPAHA1EgBwNhQAcDcWAG83GABvOBoAbzkcAG86HgBvOiAAbjshAG48IwBuPCQAbj0mAG4+JwBuPykAbT8qAG1AKwBtQS0AbUEuAG1CLwBtQzEAbUMyAG1EMwBsRTQAbEU1AGxGNgBsRzgAbEg5AGxIOgBsSTsAbEo8AGxKPQBsSz4AbEw/AGxMQABsTUEAbE5CAGxOQwBsT0QAbFBFAGxRRgBsUUcAbFJIAGxTSQBsU0oAbFRLAGxVTABsVU0AbFZOAGxXTwBsV1AAbVhRAG1ZUgBtWlMAbVpUAG1bVQBtXFUAbVxWAG1dVwBtXlgAbl5ZAG5fWgBuYFsAbmFcAG5hXQBuYl4Ab2NeAG9jXwBvZGAAb2VhAG9lYgBwZmMAcGdkAHBoZQBwaGUAcGlmAHFqZwBxamgAcWtpAHFsagBybWsAcm1sAHJubAByb20Ac29uAHNwbwBzcXAAdHJxAHRycgB0c3IAdXRzAHV0dAB1dXUAdnZ2AHZ3dwB3d3cAd3h4AHd5eQB4enoAeHp7AHh7fAB4fH0AeHx+AHh9fgB4fn8AeH+AAHh/gQB5gIIAeYGDAHmChAB5goUAeYOGAHiEhwB4hYgAeIWJAHiGigB4h4sAeIiMAHiIjQB4iY4AeIqPAHiLkAB4i5EAeIySAHiNkgB4jpMAd46UAHePlQB3kJYAd5GXAHeSmAB3kpkAdpOaAHaUmwB2lZwAdpWdAHaWngB1l58AdZigAHWZoQB1maIAdJqjAHSbpAB0nKUAdJymAHOdpwBznqgAc5+pAHOgqgByoKsAcqGsAHKirQBxo64AcaSvAHGlsABwpbEAcKazAG+ntABvqLUAb6m2AG6ptwBuqrgAbau5AG2sugBtrbsAbK68AGyuvQBrr74Aa7C/AGqxwABqssEAabPCAGmzwwBotMQAaLXFAGe2xgBnt8cAZrjIAGW5yQBlucsAZLrMAGO7zQBjvM4AYr3PAGK+0ABhv9EAYMDSAF/A0wBfwdQAXsLVAF3D1gBcxNcAXMXZAFvG2gBax9sAWcjcAFjI3QBYyd4AV8rfAFbL4ABVzOEAVM3iAFPO5ABSz+UAUdDmAFDR5wBP0ugATtPpAEzT6gBL1OsAStXtAEnW7gBI1+8ARtjwAEXZ8QBE2vIAQtvzAEHc9QA/3fYAPt73ADzf+AA64PkAOOH7ADbi/AA04/0ANOT+ADXl/gA25v4AOOj+AA==",
        "encoding": "base64",
        "path": [
         "color_map",
         "data"
        ]
       },
       {
        "data": "AAD6QwAAAAAAAAAAAAB6QwAAAAAAAKBBAAAAAAAAIEEAAAAAAAAAAAAAIEAAAKA/AAAAAAAAAAAAAAAAAACAPw==",
        "encoding": "base64",
        "path": [
         "model_matrix",
         "data"
        ]
       },
       {
        "data": "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",
        "encoding": "base64",
        "path": [
         "voxels",
         "data"
        ]
       }
      ],
      "model_module": "k3d",
      "model_module_version": "2.8.1",
      "model_name": "ObjectModel",
      "state": {
       "_view_count": null,
       "_view_module": null,
       "_view_module_version": "",
       "_view_name": null,
       "colorLegend": false,
       "color_map": {
        "dtype": "uint32",
        "shape": [
         256
        ]
       },
       "compression_level": 0,
       "id": 140592647807088,
       "model_matrix": {
        "dtype": "float32",
        "shape": [
         4,
         4
        ]
       },
       "name": "Voxels #1",
       "opacity": 1,
       "outlines": false,
       "outlines_color": 0,
       "type": "Voxels",
       "visible": true,
       "voxels": {
        "dtype": "uint8",
        "shape": [
         1,
         8,
         200
        ]
       },
       "wireframe": false
      }
     },
     "22591fd405d8428a8ae06aaad17058f9": {
      "model_module": "k3d",
      "model_module_version": "2.8.1",
      "model_name": "PlotModel",
      "state": {
       "_backend_version": "2.7.4",
       "_dom_classes": [],
       "_view_count": null,
       "antialias": 3,
       "auto_rendering": true,
       "axes": [
        "x (nm)",
        "y (nm)",
        "z (nm)"
       ],
       "axes_helper": 1,
       "background_color": 16777215,
       "camera": [
        665.8171011542858,
        -614.0381518827686,
        42.844210123531006,
        249.87499991897494,
        9.874999970197678,
        1.25,
        0,
        0,
        1
       ],
       "camera_animation": [],
       "camera_auto_fit": true,
       "camera_fov": 60,
       "camera_no_pan": false,
       "camera_no_rotate": false,
       "camera_no_zoom": false,
       "clipping_planes": [],
       "colorbar_object_id": -1,
       "fps": 25,
       "fps_meter": false,
       "grid": [
        -1,
        -1,
        -1,
        1,
        1,
        1
       ],
       "grid_auto_fit": true,
       "grid_visible": true,
       "height": 512,
       "layout": "IPY_MODEL_ea460d4485c54d69b92ec2d51ed49be2",
       "lighting": 1.5,
       "menu_visibility": true,
       "mode": "view",
       "name": null,
       "object_ids": [
        140686828110928
       ],
       "rendering_steps": 1,
       "screenshot": "",
       "screenshot_scale": 2,
       "snapshot": "",
       "time": 0,
       "voxel_paint_color": 0
      }
     },
     "29547c0feab44f5c9555cfa63f33e96a": {
      "model_module": "k3d",
      "model_module_version": "2.8.1",
      "model_name": "PlotModel",
      "state": {
       "_backend_version": "2.8.1",
       "_dom_classes": [],
       "_view_count": null,
       "antialias": 3,
       "auto_rendering": true,
       "axes": [
        "x\\,\\text{(nm)}",
        "y\\,\\text{(nm)}",
        "z\\,\\text{(nm)}"
       ],
       "axes_helper": 1,
       "background_color": 16777215,
       "camera": [
        665.8171011542858,
        -614.0381518827686,
        42.84421012353145,
        249.87499991897494,
        9.874999970197678,
        1.25,
        0,
        0,
        1
       ],
       "camera_animation": [],
       "camera_auto_fit": true,
       "camera_fov": 60,
       "camera_mode": "trackball",
       "camera_no_pan": false,
       "camera_no_rotate": false,
       "camera_no_zoom": false,
       "clipping_planes": [],
       "colorbar_object_id": -1,
       "colorbar_scientific": false,
       "fps": 25,
       "fps_meter": false,
       "grid": [
        -1,
        -1,
        -1,
        1,
        1,
        1
       ],
       "grid_auto_fit": true,
       "grid_visible": true,
       "height": 512,
       "layout": "IPY_MODEL_d1f6461063664602b4e0f665a6b093de",
       "lighting": 1.5,
       "manipulate_mode": "translate",
       "menu_visibility": true,
       "mode": "view",
       "name": null,
       "object_ids": [
        140592688439152
       ],
       "rendering_steps": 1,
       "screenshot": "",
       "screenshot_scale": 2,
       "snapshot": "",
       "snapshot_include_js": true,
       "time": 0,
       "voxel_paint_color": 0
      }
     },
     "29fb11c459134668a8d226049bc1c60a": {
      "model_module": "@jupyter-widgets/base",
      "model_module_version": "1.2.0",
      "model_name": "LayoutModel",
      "state": {}
     },
     "386774c13ae04a9aa7de8af979e06131": {
      "model_module": "@jupyter-widgets/base",
      "model_module_version": "1.2.0",
      "model_name": "LayoutModel",
      "state": {}
     },
     "3b23a13b982341a6903ca55ab21adb46": {
      "model_module": "@jupyter-widgets/output",
      "model_module_version": "1.0.0",
      "model_name": "OutputModel",
      "state": {
       "layout": "IPY_MODEL_386774c13ae04a9aa7de8af979e06131",
       "outputs": [
        {
         "data": {
          "application/vnd.jupyter.widget-view+json": {
           "model_id": "3f1e753e3ae641a6acf422d59aaf6d84",
           "version_major": 2,
           "version_minor": 0
          },
          "text/plain": "Plot(antialias=3, axes=['x', 'y', 'z'], axes_helper=1.0, background_color=16777215, camera=[2, -3, 0.2, 0.0, 0…"
         },
         "metadata": {},
         "output_type": "display_data"
        }
       ]
      }
     },
     "3d8d21f3d9ac44c5abbe5774319fdee7": {
      "model_module": "@jupyter-widgets/base",
      "model_module_version": "1.2.0",
      "model_name": "LayoutModel",
      "state": {}
     },
     "3f1e753e3ae641a6acf422d59aaf6d84": {
      "model_module": "k3d",
      "model_module_version": "2.8.1",
      "model_name": "PlotModel",
      "state": {
       "_backend_version": "2.7.4",
       "_dom_classes": [],
       "_view_count": null,
       "antialias": 3,
       "auto_rendering": true,
       "axes": [
        "x (nm)",
        "y (nm)",
        "z (nm)"
       ],
       "axes_helper": 1,
       "background_color": 16777215,
       "camera": [
        665.8171011542858,
        -614.0381518827686,
        42.844210123531006,
        249.87499991897494,
        9.874999970197678,
        1.25,
        0,
        0,
        1
       ],
       "camera_animation": [],
       "camera_auto_fit": true,
       "camera_fov": 60,
       "camera_no_pan": false,
       "camera_no_rotate": false,
       "camera_no_zoom": false,
       "clipping_planes": [],
       "colorbar_object_id": -1,
       "fps": 25,
       "fps_meter": false,
       "grid": [
        -1,
        -1,
        -1,
        1,
        1,
        1
       ],
       "grid_auto_fit": true,
       "grid_visible": true,
       "height": 512,
       "layout": "IPY_MODEL_797fc9c1d3db42c2bdf55f90fee820dc",
       "lighting": 1.5,
       "menu_visibility": true,
       "mode": "view",
       "name": null,
       "object_ids": [
        140686562462352
       ],
       "rendering_steps": 1,
       "screenshot": "",
       "screenshot_scale": 2,
       "snapshot": "",
       "time": 0,
       "voxel_paint_color": 0
      }
     },
     "4400d9c0f58f4d149576cb3082a9a078": {
      "model_module": "k3d",
      "model_module_version": "2.8.1",
      "model_name": "PlotModel",
      "state": {
       "_backend_version": "2.7.4",
       "_dom_classes": [],
       "_view_count": null,
       "antialias": 3,
       "auto_rendering": true,
       "axes": [
        "x (nm)",
        "y (nm)",
        "z (nm)"
       ],
       "axes_helper": 1,
       "background_color": 16777215,
       "camera": [
        665.8171011542858,
        -614.0381518827686,
        42.844210123531006,
        249.87499991897494,
        9.874999970197678,
        1.25,
        0,
        0,
        1
       ],
       "camera_animation": [],
       "camera_auto_fit": true,
       "camera_fov": 60,
       "camera_no_pan": false,
       "camera_no_rotate": false,
       "camera_no_zoom": false,
       "clipping_planes": [],
       "colorbar_object_id": -1,
       "fps": 25,
       "fps_meter": false,
       "grid": [
        -1,
        -1,
        -1,
        1,
        1,
        1
       ],
       "grid_auto_fit": true,
       "grid_visible": true,
       "height": 512,
       "layout": "IPY_MODEL_9612b5f40aae4495b2b77836ba6e7020",
       "lighting": 1.5,
       "menu_visibility": true,
       "mode": "view",
       "name": null,
       "object_ids": [
        140685695444560
       ],
       "rendering_steps": 1,
       "screenshot": "",
       "screenshot_scale": 2,
       "snapshot": "",
       "time": 0,
       "voxel_paint_color": 0
      }
     },
     "4e2623ec1f134741891076b8e6f1e415": {
      "model_module": "k3d",
      "model_module_version": "2.8.1",
      "model_name": "PlotModel",
      "state": {
       "_backend_version": "2.8.1",
       "_dom_classes": [],
       "_view_count": null,
       "antialias": 3,
       "auto_rendering": true,
       "axes": [
        "x\\,\\text{(nm)}",
        "y\\,\\text{(nm)}",
        "z\\,\\text{(nm)}"
       ],
       "axes_helper": 1,
       "background_color": 16777215,
       "camera": [
        665.8171011542858,
        -614.0381518827686,
        42.84421012353145,
        249.87499991897494,
        9.874999970197678,
        1.25,
        0,
        0,
        1
       ],
       "camera_animation": [],
       "camera_auto_fit": true,
       "camera_fov": 60,
       "camera_mode": "trackball",
       "camera_no_pan": false,
       "camera_no_rotate": false,
       "camera_no_zoom": false,
       "clipping_planes": [],
       "colorbar_object_id": -1,
       "colorbar_scientific": false,
       "fps": 25,
       "fps_meter": false,
       "grid": [
        -1,
        -1,
        -1,
        1,
        1,
        1
       ],
       "grid_auto_fit": true,
       "grid_visible": true,
       "height": 512,
       "layout": "IPY_MODEL_df00ba0852774ff181d3b7ea4db67d2d",
       "lighting": 1.5,
       "manipulate_mode": "translate",
       "menu_visibility": true,
       "mode": "view",
       "name": null,
       "object_ids": [
        140592688480944
       ],
       "rendering_steps": 1,
       "screenshot": "",
       "screenshot_scale": 2,
       "snapshot": "",
       "snapshot_include_js": true,
       "time": 0,
       "voxel_paint_color": 0
      }
     },
     "54eec8afd8e94c23b8b1ff388e4d8e35": {
      "model_module": "k3d",
      "model_module_version": "2.8.1",
      "model_name": "PlotModel",
      "state": {
       "_backend_version": "2.7.4",
       "_dom_classes": [],
       "_view_count": null,
       "antialias": 3,
       "auto_rendering": true,
       "axes": [
        "x (nm)",
        "y (nm)",
        "z (nm)"
       ],
       "axes_helper": 1,
       "background_color": 16777215,
       "camera": [
        665.8171011542858,
        -614.0381518827686,
        42.84421012353145,
        249.87499991897494,
        9.874999970197678,
        1.25,
        0,
        0,
        1
       ],
       "camera_animation": [],
       "camera_auto_fit": true,
       "camera_fov": 60,
       "camera_no_pan": false,
       "camera_no_rotate": false,
       "camera_no_zoom": false,
       "clipping_planes": [],
       "colorbar_object_id": -1,
       "fps": 25,
       "fps_meter": false,
       "grid": [
        -1,
        -1,
        -1,
        1,
        1,
        1
       ],
       "grid_auto_fit": true,
       "grid_visible": true,
       "height": 512,
       "layout": "IPY_MODEL_191b6cd556c6457a8eba5fe5859a7477",
       "lighting": 1.5,
       "menu_visibility": true,
       "mode": "view",
       "name": null,
       "object_ids": [
        140686562459728
       ],
       "rendering_steps": 1,
       "screenshot": "",
       "screenshot_scale": 2,
       "snapshot": "",
       "time": 0,
       "voxel_paint_color": 0
      }
     },
     "5628933520a046dda499a983233292fc": {
      "model_module": "@jupyter-widgets/output",
      "model_module_version": "1.0.0",
      "model_name": "OutputModel",
      "state": {
       "layout": "IPY_MODEL_05d53fe496204442ba29c61434ec6528",
       "outputs": [
        {
         "data": {
          "application/vnd.jupyter.widget-view+json": {
           "model_id": "22591fd405d8428a8ae06aaad17058f9",
           "version_major": 2,
           "version_minor": 0
          },
          "text/plain": "Plot(antialias=3, axes=['x', 'y', 'z'], axes_helper=1.0, background_color=16777215, camera=[2, -3, 0.2, 0.0, 0…"
         },
         "metadata": {},
         "output_type": "display_data"
        }
       ]
      }
     },
     "5c2f9149ffe44d30a7ca46bf15d6c691": {
      "model_module": "k3d",
      "model_module_version": "2.8.1",
      "model_name": "PlotModel",
      "state": {
       "_backend_version": "2.7.4",
       "_dom_classes": [],
       "_view_count": null,
       "antialias": 3,
       "auto_rendering": true,
       "axes": [
        "x (nm)",
        "y (nm)",
        "z (nm)"
       ],
       "axes_helper": 1,
       "background_color": 16777215,
       "camera": [
        665.8171011542858,
        -614.0381518827686,
        42.844210123531006,
        249.87499991897494,
        9.874999970197678,
        1.25,
        0,
        0,
        1
       ],
       "camera_animation": [],
       "camera_auto_fit": true,
       "camera_fov": 60,
       "camera_no_pan": false,
       "camera_no_rotate": false,
       "camera_no_zoom": false,
       "clipping_planes": [],
       "colorbar_object_id": -1,
       "fps": 25,
       "fps_meter": false,
       "grid": [
        -1,
        -1,
        -1,
        1,
        1,
        1
       ],
       "grid_auto_fit": true,
       "grid_visible": true,
       "height": 512,
       "layout": "IPY_MODEL_29fb11c459134668a8d226049bc1c60a",
       "lighting": 1.5,
       "menu_visibility": true,
       "mode": "view",
       "name": null,
       "object_ids": [
        140685657200016
       ],
       "rendering_steps": 1,
       "screenshot": "",
       "screenshot_scale": 2,
       "snapshot": "",
       "time": 0,
       "voxel_paint_color": 0
      }
     },
     "5ff74713df9a4586bd37d1e13b5f4f87": {
      "model_module": "@jupyter-widgets/output",
      "model_module_version": "1.0.0",
      "model_name": "OutputModel",
      "state": {
       "layout": "IPY_MODEL_9c1ce808b9e74548a9d9c1af4e3b5dd2",
       "outputs": [
        {
         "data": {
          "application/vnd.jupyter.widget-view+json": {
           "model_id": "4e2623ec1f134741891076b8e6f1e415",
           "version_major": 2,
           "version_minor": 0
          },
          "text/plain": "Plot(antialias=3, axes=['x', 'y', 'z'], axes_helper=1.0, background_color=16777215, camera=[2, -3, 0.2, 0.0, 0…"
         },
         "metadata": {},
         "output_type": "display_data"
        }
       ]
      }
     },
     "61f76f88767a4375bba29ec0d2b829ca": {
      "model_module": "@jupyter-widgets/output",
      "model_module_version": "1.0.0",
      "model_name": "OutputModel",
      "state": {
       "layout": "IPY_MODEL_cb63ee391bc9400d992d27569c1038c1",
       "outputs": [
        {
         "data": {
          "application/vnd.jupyter.widget-view+json": {
           "model_id": "a07eb38b86304580972009fa8f2619cc",
           "version_major": 2,
           "version_minor": 0
          },
          "text/plain": "Plot(antialias=3, axes=['x', 'y', 'z'], axes_helper=1.0, background_color=16777215, camera=[2, -3, 0.2, 0.0, 0…"
         },
         "metadata": {},
         "output_type": "display_data"
        }
       ]
      }
     },
     "62fe1e5cd94249d99eda454fcecb6c79": {
      "model_module": "@jupyter-widgets/base",
      "model_module_version": "1.2.0",
      "model_name": "LayoutModel",
      "state": {}
     },
     "6634dc40b67544aaa5291a0faac25974": {
      "model_module": "k3d",
      "model_module_version": "2.8.1",
      "model_name": "ObjectModel",
      "state": {
       "_view_count": null,
       "_view_module": null,
       "_view_module_version": "",
       "_view_name": null,
       "colorLegend": false,
       "color_map": {
        "compressed_buffer": {},
        "dtype": "uint32",
        "shape": [
         256
        ]
       },
       "compression_level": 0,
       "id": 140685657200016,
       "model_matrix": {
        "compressed_buffer": {},
        "dtype": "float32",
        "shape": [
         4,
         4
        ]
       },
       "name": "Voxels #1",
       "opacity": 1,
       "outlines": false,
       "outlines_color": 0,
       "type": "Voxels",
       "visible": true,
       "voxels": {
        "compressed_buffer": {},
        "dtype": "uint8",
        "shape": [
         1,
         8,
         200
        ]
       },
       "wireframe": false
      }
     },
     "688b18af8b364b738012d6277a5916f3": {
      "model_module": "@jupyter-widgets/output",
      "model_module_version": "1.0.0",
      "model_name": "OutputModel",
      "state": {
       "layout": "IPY_MODEL_d6a16dbfdb4b4aee96b4b6ac235c6c1a",
       "outputs": [
        {
         "data": {
          "application/vnd.jupyter.widget-view+json": {
           "model_id": "03aa94ab92f84841a6894a59cdbb23a3",
           "version_major": 2,
           "version_minor": 0
          },
          "text/plain": "Plot(antialias=3, axes=['x', 'y', 'z'], axes_helper=1.0, background_color=16777215, camera=[2, -3, 0.2, 0.0, 0…"
         },
         "metadata": {},
         "output_type": "display_data"
        }
       ]
      }
     },
     "69bdc5d46844409f96099ead3e7c0289": {
      "model_module": "@jupyter-widgets/output",
      "model_module_version": "1.0.0",
      "model_name": "OutputModel",
      "state": {
       "layout": "IPY_MODEL_b0e40e4bb54c45d58a33b6647390b44a",
       "outputs": [
        {
         "data": {
          "application/vnd.jupyter.widget-view+json": {
           "model_id": "29547c0feab44f5c9555cfa63f33e96a",
           "version_major": 2,
           "version_minor": 0
          },
          "text/plain": "Plot(antialias=3, axes=['x', 'y', 'z'], axes_helper=1.0, background_color=16777215, camera=[2, -3, 0.2, 0.0, 0…"
         },
         "metadata": {},
         "output_type": "display_data"
        }
       ]
      }
     },
     "6e826f59709b43d7acfe2aa553e793f6": {
      "buffers": [
       {
        "data": "TiIAAE8jAABRJAAAUyUAAFQlAABWJgAAWCcAAFkoAABbKAAAXSkAAF8qAABhKgAAYisAAGQsAABmLAAAaC0AAGouAABsLgAAbS8AAG8wAABwMAAAcDEAAHExAABxMgEAcTMFAHAzCABwNAwAcDUPAHA1EgBwNhQAcDcWAG83GABvOBoAbzkcAG86HgBvOiAAbjshAG48IwBuPCQAbj0mAG4+JwBuPykAbT8qAG1AKwBtQS0AbUEuAG1CLwBtQzEAbUMyAG1EMwBsRTQAbEU1AGxGNgBsRzgAbEg5AGxIOgBsSTsAbEo8AGxKPQBsSz4AbEw/AGxMQABsTUEAbE5CAGxOQwBsT0QAbFBFAGxRRgBsUUcAbFJIAGxTSQBsU0oAbFRLAGxVTABsVU0AbFZOAGxXTwBsV1AAbVhRAG1ZUgBtWlMAbVpUAG1bVQBtXFUAbVxWAG1dVwBtXlgAbl5ZAG5fWgBuYFsAbmFcAG5hXQBuYl4Ab2NeAG9jXwBvZGAAb2VhAG9lYgBwZmMAcGdkAHBoZQBwaGUAcGlmAHFqZwBxamgAcWtpAHFsagBybWsAcm1sAHJubAByb20Ac29uAHNwbwBzcXAAdHJxAHRycgB0c3IAdXRzAHV0dAB1dXUAdnZ2AHZ3dwB3d3cAd3h4AHd5eQB4enoAeHp7AHh7fAB4fH0AeHx+AHh9fgB4fn8AeH+AAHh/gQB5gIIAeYGDAHmChAB5goUAeYOGAHiEhwB4hYgAeIWJAHiGigB4h4sAeIiMAHiIjQB4iY4AeIqPAHiLkAB4i5EAeIySAHiNkgB4jpMAd46UAHePlQB3kJYAd5GXAHeSmAB3kpkAdpOaAHaUmwB2lZwAdpWdAHaWngB1l58AdZigAHWZoQB1maIAdJqjAHSbpAB0nKUAdJymAHOdpwBznqgAc5+pAHOgqgByoKsAcqGsAHKirQBxo64AcaSvAHGlsABwpbEAcKazAG+ntABvqLUAb6m2AG6ptwBuqrgAbau5AG2sugBtrbsAbK68AGyuvQBrr74Aa7C/AGqxwABqssEAabPCAGmzwwBotMQAaLXFAGe2xgBnt8cAZrjIAGW5yQBlucsAZLrMAGO7zQBjvM4AYr3PAGK+0ABhv9EAYMDSAF/A0wBfwdQAXsLVAF3D1gBcxNcAXMXZAFvG2gBax9sAWcjcAFjI3QBYyd4AV8rfAFbL4ABVzOEAVM3iAFPO5ABSz+UAUdDmAFDR5wBP0ugATtPpAEzT6gBL1OsAStXtAEnW7gBI1+8ARtjwAEXZ8QBE2vIAQtvzAEHc9QA/3fYAPt73ADzf+AA64PkAOOH7ADbi/AA04/0ANOT+ADXl/gA25v4AOOj+AA==",
        "encoding": "base64",
        "path": [
         "color_map",
         "data"
        ]
       },
       {
        "data": "AAD6QwAAAAAAAAAAAAB6QwAAAAAAAKBBAAAAAAAAIEEAAAAAAAAAAAAAIEAAAKA/AAAAAAAAAAAAAAAAAACAPw==",
        "encoding": "base64",
        "path": [
         "model_matrix",
         "data"
        ]
       },
       {
        "data": "//////////8BAQEBAQEBAf///////////////////////////////////////////////////////////////////////////////////////////////////////////////////////////////////////////////////////////////////////////////////////////////////////////////////////////////////////////////////////////////wEBAQEBAQEB////////////////////////////////////////////////////////////////////////////////////////////////////////////////////////////////////////////////////////////////////////////////////////////////////////////////////////////////////////////////////////////////AQEBAQEBAQH///////////////////////////////////////////////////////////////////////////////////////////////////////////////////////////////////////////////////////////////////////////////////////////////////////////////////////////////////////////////////////////////8BAQEBAQEBAf///////////////////////////////////////////////////////////////////////////////////////////////////////////////////////////////////////////////////////////////////////////////////////////////////////////////////////////////////////////////////////////////wEBAQEBAQEB////////////////////////////////////////////////////////////////////////////////////////////////////////////////////////////////////////////////////////////////////////////////////////////////////////////////////////////////////////////////////////////////AQEBAQEBAQH///////////////////////////////////////////////////////////////////////////////////////////////////////////////////////////////////////////////////////////////////////////////////////////////////////////////////////////////////////////////////////////////8BAQEBAQEBAf///////////////////////////////////////////////////////////////////////////////////////////////////////////////////////////////////////////////////////////////////////////////////////////////////////////////////////////////////////////////////////////////wEBAQEBAQEB/////////////////////////////////////////////////////////////////////////////////////////////////////////////////////////////////////////////////////////////////////////////////////////////////////////////////////////////////////////////////////w==",
        "encoding": "base64",
        "path": [
         "voxels",
         "data"
        ]
       }
      ],
      "model_module": "k3d",
      "model_module_version": "2.8.1",
      "model_name": "ObjectModel",
      "state": {
       "_view_count": null,
       "_view_module": null,
       "_view_module_version": "",
       "_view_name": null,
       "colorLegend": false,
       "color_map": {
        "dtype": "uint32",
        "shape": [
         256
        ]
       },
       "compression_level": 0,
       "id": 140592647671472,
       "model_matrix": {
        "dtype": "float32",
        "shape": [
         4,
         4
        ]
       },
       "name": "Voxels #1",
       "opacity": 1,
       "outlines": false,
       "outlines_color": 0,
       "type": "Voxels",
       "visible": true,
       "voxels": {
        "dtype": "uint8",
        "shape": [
         1,
         8,
         200
        ]
       },
       "wireframe": false
      }
     },
     "77aef1aa258f4df79e6acf58968742c8": {
      "model_module": "@jupyter-widgets/output",
      "model_module_version": "1.0.0",
      "model_name": "OutputModel",
      "state": {
       "layout": "IPY_MODEL_3d8d21f3d9ac44c5abbe5774319fdee7",
       "outputs": [
        {
         "data": {
          "application/vnd.jupyter.widget-view+json": {
           "model_id": "5c2f9149ffe44d30a7ca46bf15d6c691",
           "version_major": 2,
           "version_minor": 0
          },
          "text/plain": "Plot(antialias=3, axes=['x', 'y', 'z'], axes_helper=1.0, background_color=16777215, camera=[2, -3, 0.2, 0.0, 0…"
         },
         "metadata": {},
         "output_type": "display_data"
        }
       ]
      }
     },
     "797fc9c1d3db42c2bdf55f90fee820dc": {
      "model_module": "@jupyter-widgets/base",
      "model_module_version": "1.2.0",
      "model_name": "LayoutModel",
      "state": {}
     },
     "812b5caac9ee4a8b8c2d93a7d6871506": {
      "model_module": "@jupyter-widgets/output",
      "model_module_version": "1.0.0",
      "model_name": "OutputModel",
      "state": {
       "layout": "IPY_MODEL_144016378ff5488cafadf186fc214be2",
       "outputs": [
        {
         "data": {
          "application/vnd.jupyter.widget-view+json": {
           "model_id": "4400d9c0f58f4d149576cb3082a9a078",
           "version_major": 2,
           "version_minor": 0
          },
          "text/plain": "Plot(antialias=3, axes=['x', 'y', 'z'], axes_helper=1.0, background_color=16777215, camera=[2, -3, 0.2, 0.0, 0…"
         },
         "metadata": {},
         "output_type": "display_data"
        }
       ]
      }
     },
     "82114eab52964629b9873882d90c9c1e": {
      "model_module": "@jupyter-widgets/base",
      "model_module_version": "1.2.0",
      "model_name": "LayoutModel",
      "state": {}
     },
     "84b2e61c859e4e82b53b74ddb740b5c6": {
      "model_module": "@jupyter-widgets/base",
      "model_module_version": "1.2.0",
      "model_name": "LayoutModel",
      "state": {}
     },
     "8caed4b42c9a421e939ecee5c74acffd": {
      "buffers": [
       {
        "data": "TiIAAE8jAABRJAAAUyUAAFQlAABWJgAAWCcAAFkoAABbKAAAXSkAAF8qAABhKgAAYisAAGQsAABmLAAAaC0AAGouAABsLgAAbS8AAG8wAABwMAAAcDEAAHExAABxMgEAcTMFAHAzCABwNAwAcDUPAHA1EgBwNhQAcDcWAG83GABvOBoAbzkcAG86HgBvOiAAbjshAG48IwBuPCQAbj0mAG4+JwBuPykAbT8qAG1AKwBtQS0AbUEuAG1CLwBtQzEAbUMyAG1EMwBsRTQAbEU1AGxGNgBsRzgAbEg5AGxIOgBsSTsAbEo8AGxKPQBsSz4AbEw/AGxMQABsTUEAbE5CAGxOQwBsT0QAbFBFAGxRRgBsUUcAbFJIAGxTSQBsU0oAbFRLAGxVTABsVU0AbFZOAGxXTwBsV1AAbVhRAG1ZUgBtWlMAbVpUAG1bVQBtXFUAbVxWAG1dVwBtXlgAbl5ZAG5fWgBuYFsAbmFcAG5hXQBuYl4Ab2NeAG9jXwBvZGAAb2VhAG9lYgBwZmMAcGdkAHBoZQBwaGUAcGlmAHFqZwBxamgAcWtpAHFsagBybWsAcm1sAHJubAByb20Ac29uAHNwbwBzcXAAdHJxAHRycgB0c3IAdXRzAHV0dAB1dXUAdnZ2AHZ3dwB3d3cAd3h4AHd5eQB4enoAeHp7AHh7fAB4fH0AeHx+AHh9fgB4fn8AeH+AAHh/gQB5gIIAeYGDAHmChAB5goUAeYOGAHiEhwB4hYgAeIWJAHiGigB4h4sAeIiMAHiIjQB4iY4AeIqPAHiLkAB4i5EAeIySAHiNkgB4jpMAd46UAHePlQB3kJYAd5GXAHeSmAB3kpkAdpOaAHaUmwB2lZwAdpWdAHaWngB1l58AdZigAHWZoQB1maIAdJqjAHSbpAB0nKUAdJymAHOdpwBznqgAc5+pAHOgqgByoKsAcqGsAHKirQBxo64AcaSvAHGlsABwpbEAcKazAG+ntABvqLUAb6m2AG6ptwBuqrgAbau5AG2sugBtrbsAbK68AGyuvQBrr74Aa7C/AGqxwABqssEAabPCAGmzwwBotMQAaLXFAGe2xgBnt8cAZrjIAGW5yQBlucsAZLrMAGO7zQBjvM4AYr3PAGK+0ABhv9EAYMDSAF/A0wBfwdQAXsLVAF3D1gBcxNcAXMXZAFvG2gBax9sAWcjcAFjI3QBYyd4AV8rfAFbL4ABVzOEAVM3iAFPO5ABSz+UAUdDmAFDR5wBP0ugATtPpAEzT6gBL1OsAStXtAEnW7gBI1+8ARtjwAEXZ8QBE2vIAQtvzAEHc9QA/3fYAPt73ADzf+AA64PkAOOH7ADbi/AA04/0ANOT+ADXl/gA25v4AOOj+AA==",
        "encoding": "base64",
        "path": [
         "color_map",
         "data"
        ]
       },
       {
        "data": "AAD6QwAAAAAAAAAAAAB6QwAAAAAAAKBBAAAAAAAAIEEAAAAAAAAAAAAAIEAAAKA/AAAAAAAAAAAAAAAAAACAPw==",
        "encoding": "base64",
        "path": [
         "model_matrix",
         "data"
        ]
       },
       {
        "data": "//////////8BAQEBAQEBAf///////////////////////////////////////////////////////////////////////////////////////////////////////////////////////////////////////////////////////////////////////////////////////////////////////////////////////////////////////////////////////////////wEBAQEBAQEB////////////////////////////////////////////////////////////////////////////////////////////////////////////////////////////////////////////////////////////////////////////////////////////////////////////////////////////////////////////////////////////////AQEBAQEBAQH///////////////////////////////////////////////////////////////////////////////////////////////////////////////////////////////////////////////////////////////////////////////////////////////////////////////////////////////////////////////////////////////8BAQEBAQEBAf///////////////////////////////////////////////////////////////////////////////////////////////////////////////////////////////////////////////////////////////////////////////////////////////////////////////////////////////////////////////////////////////wEBAQEBAQEB////////////////////////////////////////////////////////////////////////////////////////////////////////////////////////////////////////////////////////////////////////////////////////////////////////////////////////////////////////////////////////////////AQEBAQEBAQH///////////////////////////////////////////////////////////////////////////////////////////////////////////////////////////////////////////////////////////////////////////////////////////////////////////////////////////////////////////////////////////////8BAQEBAQEBAf///////////////////////////////////////////////////////////////////////////////////////////////////////////////////////////////////////////////////////////////////////////////////////////////////////////////////////////////////////////////////////////////wEBAQEBAQEB/////////////////////////////////////////////////////////////////////////////////////////////////////////////////////////////////////////////////////////////////////////////////////////////////////////////////////////////////////////////////////w==",
        "encoding": "base64",
        "path": [
         "voxels",
         "data"
        ]
       }
      ],
      "model_module": "k3d",
      "model_module_version": "2.8.1",
      "model_name": "ObjectModel",
      "state": {
       "_view_count": null,
       "_view_module": null,
       "_view_module_version": "",
       "_view_name": null,
       "colorLegend": false,
       "color_map": {
        "dtype": "uint32",
        "shape": [
         256
        ]
       },
       "compression_level": 0,
       "id": 140592688439152,
       "model_matrix": {
        "dtype": "float32",
        "shape": [
         4,
         4
        ]
       },
       "name": "Voxels #1",
       "opacity": 1,
       "outlines": false,
       "outlines_color": 0,
       "type": "Voxels",
       "visible": true,
       "voxels": {
        "dtype": "uint8",
        "shape": [
         1,
         8,
         200
        ]
       },
       "wireframe": false
      }
     },
     "9612b5f40aae4495b2b77836ba6e7020": {
      "model_module": "@jupyter-widgets/base",
      "model_module_version": "1.2.0",
      "model_name": "LayoutModel",
      "state": {}
     },
     "9b53e2763c4b40f2a211cbe45d61365a": {
      "model_module": "k3d",
      "model_module_version": "2.8.1",
      "model_name": "PlotModel",
      "state": {
       "_backend_version": "2.8.1",
       "_dom_classes": [],
       "_view_count": null,
       "antialias": 3,
       "auto_rendering": true,
       "axes": [
        "x\\,\\text{(nm)}",
        "y\\,\\text{(nm)}",
        "z\\,\\text{(nm)}"
       ],
       "axes_helper": 1,
       "background_color": 16777215,
       "camera": [
        665.8171011542858,
        -614.0381518827686,
        42.84421012353145,
        249.87499991897494,
        9.874999970197678,
        1.25,
        0,
        0,
        1
       ],
       "camera_animation": [],
       "camera_auto_fit": true,
       "camera_fov": 60,
       "camera_mode": "trackball",
       "camera_no_pan": false,
       "camera_no_rotate": false,
       "camera_no_zoom": false,
       "clipping_planes": [],
       "colorbar_object_id": -1,
       "colorbar_scientific": false,
       "fps": 25,
       "fps_meter": false,
       "grid": [
        -1,
        -1,
        -1,
        1,
        1,
        1
       ],
       "grid_auto_fit": true,
       "grid_visible": true,
       "height": 512,
       "layout": "IPY_MODEL_16b5bffb7c44423cade78fbc93ebe09b",
       "lighting": 1.5,
       "manipulate_mode": "translate",
       "menu_visibility": true,
       "mode": "view",
       "name": null,
       "object_ids": [
        140592647671472
       ],
       "rendering_steps": 1,
       "screenshot": "",
       "screenshot_scale": 2,
       "snapshot": "",
       "snapshot_include_js": true,
       "time": 0,
       "voxel_paint_color": 0
      }
     },
     "9c1ce808b9e74548a9d9c1af4e3b5dd2": {
      "model_module": "@jupyter-widgets/base",
      "model_module_version": "1.2.0",
      "model_name": "LayoutModel",
      "state": {}
     },
     "a07eb38b86304580972009fa8f2619cc": {
      "model_module": "k3d",
      "model_module_version": "2.8.1",
      "model_name": "PlotModel",
      "state": {
       "_backend_version": "2.8.1",
       "_dom_classes": [],
       "_view_count": null,
       "antialias": 3,
       "auto_rendering": true,
       "axes": [
        "x\\,\\text{(nm)}",
        "y\\,\\text{(nm)}",
        "z\\,\\text{(nm)}"
       ],
       "axes_helper": 1,
       "background_color": 16777215,
       "camera": [
        665.8171011542858,
        -614.0381518827686,
        42.84421012353145,
        249.87499991897494,
        9.874999970197678,
        1.25,
        0,
        0,
        1
       ],
       "camera_animation": [],
       "camera_auto_fit": true,
       "camera_fov": 60,
       "camera_mode": "trackball",
       "camera_no_pan": false,
       "camera_no_rotate": false,
       "camera_no_zoom": false,
       "clipping_planes": [],
       "colorbar_object_id": -1,
       "colorbar_scientific": false,
       "fps": 25,
       "fps_meter": false,
       "grid": [
        -1,
        -1,
        -1,
        1,
        1,
        1
       ],
       "grid_auto_fit": true,
       "grid_visible": true,
       "height": 512,
       "layout": "IPY_MODEL_d5c4b0f3e8a44ed4885a56d20be2d939",
       "lighting": 1.5,
       "manipulate_mode": "translate",
       "menu_visibility": true,
       "mode": "view",
       "name": null,
       "object_ids": [
        140592689500016
       ],
       "rendering_steps": 1,
       "screenshot": "",
       "screenshot_scale": 2,
       "snapshot": "",
       "snapshot_include_js": true,
       "time": 0,
       "voxel_paint_color": 0
      }
     },
     "b0e40e4bb54c45d58a33b6647390b44a": {
      "model_module": "@jupyter-widgets/base",
      "model_module_version": "1.2.0",
      "model_name": "LayoutModel",
      "state": {}
     },
     "bb155e77661140b8bbd09641a62c94ab": {
      "buffers": [
       {
        "data": "TiIAAE8jAABRJAAAUyUAAFQlAABWJgAAWCcAAFkoAABbKAAAXSkAAF8qAABhKgAAYisAAGQsAABmLAAAaC0AAGouAABsLgAAbS8AAG8wAABwMAAAcDEAAHExAABxMgEAcTMFAHAzCABwNAwAcDUPAHA1EgBwNhQAcDcWAG83GABvOBoAbzkcAG86HgBvOiAAbjshAG48IwBuPCQAbj0mAG4+JwBuPykAbT8qAG1AKwBtQS0AbUEuAG1CLwBtQzEAbUMyAG1EMwBsRTQAbEU1AGxGNgBsRzgAbEg5AGxIOgBsSTsAbEo8AGxKPQBsSz4AbEw/AGxMQABsTUEAbE5CAGxOQwBsT0QAbFBFAGxRRgBsUUcAbFJIAGxTSQBsU0oAbFRLAGxVTABsVU0AbFZOAGxXTwBsV1AAbVhRAG1ZUgBtWlMAbVpUAG1bVQBtXFUAbVxWAG1dVwBtXlgAbl5ZAG5fWgBuYFsAbmFcAG5hXQBuYl4Ab2NeAG9jXwBvZGAAb2VhAG9lYgBwZmMAcGdkAHBoZQBwaGUAcGlmAHFqZwBxamgAcWtpAHFsagBybWsAcm1sAHJubAByb20Ac29uAHNwbwBzcXAAdHJxAHRycgB0c3IAdXRzAHV0dAB1dXUAdnZ2AHZ3dwB3d3cAd3h4AHd5eQB4enoAeHp7AHh7fAB4fH0AeHx+AHh9fgB4fn8AeH+AAHh/gQB5gIIAeYGDAHmChAB5goUAeYOGAHiEhwB4hYgAeIWJAHiGigB4h4sAeIiMAHiIjQB4iY4AeIqPAHiLkAB4i5EAeIySAHiNkgB4jpMAd46UAHePlQB3kJYAd5GXAHeSmAB3kpkAdpOaAHaUmwB2lZwAdpWdAHaWngB1l58AdZigAHWZoQB1maIAdJqjAHSbpAB0nKUAdJymAHOdpwBznqgAc5+pAHOgqgByoKsAcqGsAHKirQBxo64AcaSvAHGlsABwpbEAcKazAG+ntABvqLUAb6m2AG6ptwBuqrgAbau5AG2sugBtrbsAbK68AGyuvQBrr74Aa7C/AGqxwABqssEAabPCAGmzwwBotMQAaLXFAGe2xgBnt8cAZrjIAGW5yQBlucsAZLrMAGO7zQBjvM4AYr3PAGK+0ABhv9EAYMDSAF/A0wBfwdQAXsLVAF3D1gBcxNcAXMXZAFvG2gBax9sAWcjcAFjI3QBYyd4AV8rfAFbL4ABVzOEAVM3iAFPO5ABSz+UAUdDmAFDR5wBP0ugATtPpAEzT6gBL1OsAStXtAEnW7gBI1+8ARtjwAEXZ8QBE2vIAQtvzAEHc9QA/3fYAPt73ADzf+AA64PkAOOH7ADbi/AA04/0ANOT+ADXl/gA25v4AOOj+AA==",
        "encoding": "base64",
        "path": [
         "color_map",
         "data"
        ]
       },
       {
        "data": "AAD6QwAAAAAAAAAAAAB6QwAAAAAAAKBBAAAAAAAAIEEAAAAAAAAAAAAAIEAAAKA/AAAAAAAAAAAAAAAAAACAPw==",
        "encoding": "base64",
        "path": [
         "model_matrix",
         "data"
        ]
       },
       {
        "data": "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",
        "encoding": "base64",
        "path": [
         "voxels",
         "data"
        ]
       }
      ],
      "model_module": "k3d",
      "model_module_version": "2.8.1",
      "model_name": "ObjectModel",
      "state": {
       "_view_count": null,
       "_view_module": null,
       "_view_module_version": "",
       "_view_name": null,
       "colorLegend": false,
       "color_map": {
        "dtype": "uint32",
        "shape": [
         256
        ]
       },
       "compression_level": 0,
       "id": 140592688480944,
       "model_matrix": {
        "dtype": "float32",
        "shape": [
         4,
         4
        ]
       },
       "name": "Voxels #1",
       "opacity": 1,
       "outlines": false,
       "outlines_color": 0,
       "type": "Voxels",
       "visible": true,
       "voxels": {
        "dtype": "uint8",
        "shape": [
         1,
         8,
         200
        ]
       },
       "wireframe": false
      }
     },
     "bd1933371bf54e69aa76a9d9588f2243": {
      "model_module": "k3d",
      "model_module_version": "2.8.1",
      "model_name": "ObjectModel",
      "state": {
       "_view_count": null,
       "_view_module": null,
       "_view_module_version": "",
       "_view_name": null,
       "colorLegend": false,
       "color_map": {
        "compressed_buffer": {},
        "dtype": "uint32",
        "shape": [
         256
        ]
       },
       "compression_level": 0,
       "id": 140686828110928,
       "model_matrix": {
        "compressed_buffer": {},
        "dtype": "float32",
        "shape": [
         4,
         4
        ]
       },
       "name": "Voxels #1",
       "opacity": 1,
       "outlines": false,
       "outlines_color": 0,
       "type": "Voxels",
       "visible": true,
       "voxels": {
        "compressed_buffer": {},
        "dtype": "uint8",
        "shape": [
         1,
         8,
         200
        ]
       },
       "wireframe": false
      }
     },
     "bdaa955242ae4b43823b565b5ea22178": {
      "model_module": "k3d",
      "model_module_version": "2.8.1",
      "model_name": "ObjectModel",
      "state": {
       "_view_count": null,
       "_view_module": null,
       "_view_module_version": "",
       "_view_name": null,
       "colorLegend": false,
       "color_map": {
        "compressed_buffer": {},
        "dtype": "uint32",
        "shape": [
         256
        ]
       },
       "compression_level": 0,
       "id": 140685739841168,
       "model_matrix": {
        "compressed_buffer": {},
        "dtype": "float32",
        "shape": [
         4,
         4
        ]
       },
       "name": "Voxels #1",
       "opacity": 1,
       "outlines": false,
       "outlines_color": 0,
       "type": "Voxels",
       "visible": true,
       "voxels": {
        "compressed_buffer": {},
        "dtype": "uint8",
        "shape": [
         1,
         8,
         200
        ]
       },
       "wireframe": false
      }
     },
     "c5038cfd26ac4fb59d7f8e50bd0d98c4": {
      "model_module": "@jupyter-widgets/base",
      "model_module_version": "1.2.0",
      "model_name": "LayoutModel",
      "state": {}
     },
     "cb63ee391bc9400d992d27569c1038c1": {
      "model_module": "@jupyter-widgets/base",
      "model_module_version": "1.2.0",
      "model_name": "LayoutModel",
      "state": {}
     },
     "d19d66ac32904b239d57768574b92b08": {
      "model_module": "@jupyter-widgets/output",
      "model_module_version": "1.0.0",
      "model_name": "OutputModel",
      "state": {
       "layout": "IPY_MODEL_d7e71bca1370427bb90e12555bca6e40",
       "outputs": [
        {
         "data": {
          "application/vnd.jupyter.widget-view+json": {
           "model_id": "54eec8afd8e94c23b8b1ff388e4d8e35",
           "version_major": 2,
           "version_minor": 0
          },
          "text/plain": "Plot(antialias=3, axes=['x', 'y', 'z'], axes_helper=1.0, background_color=16777215, camera=[2, -3, 0.2, 0.0, 0…"
         },
         "metadata": {},
         "output_type": "display_data"
        }
       ]
      }
     },
     "d1f6461063664602b4e0f665a6b093de": {
      "model_module": "@jupyter-widgets/base",
      "model_module_version": "1.2.0",
      "model_name": "LayoutModel",
      "state": {}
     },
     "d250e8d39da940c6a4cb2810943988d3": {
      "model_module": "k3d",
      "model_module_version": "2.8.1",
      "model_name": "ObjectModel",
      "state": {
       "_view_count": null,
       "_view_module": null,
       "_view_module_version": "",
       "_view_name": null,
       "colorLegend": false,
       "color_map": {
        "compressed_buffer": {},
        "dtype": "uint32",
        "shape": [
         256
        ]
       },
       "compression_level": 0,
       "id": 140686562459728,
       "model_matrix": {
        "compressed_buffer": {},
        "dtype": "float32",
        "shape": [
         4,
         4
        ]
       },
       "name": "Voxels #1",
       "opacity": 1,
       "outlines": false,
       "outlines_color": 0,
       "type": "Voxels",
       "visible": true,
       "voxels": {
        "compressed_buffer": {},
        "dtype": "uint8",
        "shape": [
         1,
         8,
         200
        ]
       },
       "wireframe": false
      }
     },
     "d5c4b0f3e8a44ed4885a56d20be2d939": {
      "model_module": "@jupyter-widgets/base",
      "model_module_version": "1.2.0",
      "model_name": "LayoutModel",
      "state": {}
     },
     "d6a16dbfdb4b4aee96b4b6ac235c6c1a": {
      "model_module": "@jupyter-widgets/base",
      "model_module_version": "1.2.0",
      "model_name": "LayoutModel",
      "state": {}
     },
     "d7e71bca1370427bb90e12555bca6e40": {
      "model_module": "@jupyter-widgets/base",
      "model_module_version": "1.2.0",
      "model_name": "LayoutModel",
      "state": {}
     },
     "d9284037e51848fe8fed6d0cdd7090b2": {
      "model_module": "@jupyter-widgets/output",
      "model_module_version": "1.0.0",
      "model_name": "OutputModel",
      "state": {
       "layout": "IPY_MODEL_c5038cfd26ac4fb59d7f8e50bd0d98c4",
       "outputs": [
        {
         "data": {
          "application/vnd.jupyter.widget-view+json": {
           "model_id": "9b53e2763c4b40f2a211cbe45d61365a",
           "version_major": 2,
           "version_minor": 0
          },
          "text/plain": "Plot(antialias=3, axes=['x', 'y', 'z'], axes_helper=1.0, background_color=16777215, camera=[2, -3, 0.2, 0.0, 0…"
         },
         "metadata": {},
         "output_type": "display_data"
        }
       ]
      }
     },
     "d9b60ac0b4a14254bdbad723f13fb028": {
      "model_module": "k3d",
      "model_module_version": "2.8.1",
      "model_name": "PlotModel",
      "state": {
       "_backend_version": "2.7.4",
       "_dom_classes": [],
       "_view_count": null,
       "antialias": 3,
       "auto_rendering": true,
       "axes": [
        "x (nm)",
        "y (nm)",
        "z (nm)"
       ],
       "axes_helper": 1,
       "background_color": 16777215,
       "camera": [
        665.8171011542858,
        -614.0381518827686,
        42.844210123531006,
        249.87499991897494,
        9.874999970197678,
        1.25,
        0,
        0,
        1
       ],
       "camera_animation": [],
       "camera_auto_fit": true,
       "camera_fov": 60,
       "camera_no_pan": false,
       "camera_no_rotate": false,
       "camera_no_zoom": false,
       "clipping_planes": [],
       "colorbar_object_id": -1,
       "fps": 25,
       "fps_meter": false,
       "grid": [
        -1,
        -1,
        -1,
        1,
        1,
        1
       ],
       "grid_auto_fit": true,
       "grid_visible": true,
       "height": 512,
       "layout": "IPY_MODEL_84b2e61c859e4e82b53b74ddb740b5c6",
       "lighting": 1.5,
       "menu_visibility": true,
       "mode": "view",
       "name": null,
       "object_ids": [
        140685739841168
       ],
       "rendering_steps": 1,
       "screenshot": "",
       "screenshot_scale": 2,
       "snapshot": "",
       "time": 0,
       "voxel_paint_color": 0
      }
     },
     "df00ba0852774ff181d3b7ea4db67d2d": {
      "model_module": "@jupyter-widgets/base",
      "model_module_version": "1.2.0",
      "model_name": "LayoutModel",
      "state": {}
     },
     "e6144b2151c943689d74f918b732fc46": {
      "model_module": "@jupyter-widgets/output",
      "model_module_version": "1.0.0",
      "model_name": "OutputModel",
      "state": {
       "layout": "IPY_MODEL_e92362b98e7a492cbc0958bb5d049bcf",
       "outputs": [
        {
         "data": {
          "application/vnd.jupyter.widget-view+json": {
           "model_id": "d9b60ac0b4a14254bdbad723f13fb028",
           "version_major": 2,
           "version_minor": 0
          },
          "text/plain": "Plot(antialias=3, axes=['x', 'y', 'z'], axes_helper=1.0, background_color=16777215, camera=[2, -3, 0.2, 0.0, 0…"
         },
         "metadata": {},
         "output_type": "display_data"
        }
       ]
      }
     },
     "e92362b98e7a492cbc0958bb5d049bcf": {
      "model_module": "@jupyter-widgets/base",
      "model_module_version": "1.2.0",
      "model_name": "LayoutModel",
      "state": {}
     },
     "ea460d4485c54d69b92ec2d51ed49be2": {
      "model_module": "@jupyter-widgets/base",
      "model_module_version": "1.2.0",
      "model_name": "LayoutModel",
      "state": {}
     },
     "f6f1a984686c4c2d9d79e701378645b3": {
      "model_module": "k3d",
      "model_module_version": "2.8.1",
      "model_name": "ObjectModel",
      "state": {
       "_view_count": null,
       "_view_module": null,
       "_view_module_version": "",
       "_view_name": null,
       "colorLegend": false,
       "color_map": {
        "compressed_buffer": {},
        "dtype": "uint32",
        "shape": [
         256
        ]
       },
       "compression_level": 0,
       "id": 140686562462352,
       "model_matrix": {
        "compressed_buffer": {},
        "dtype": "float32",
        "shape": [
         4,
         4
        ]
       },
       "name": "Voxels #1",
       "opacity": 1,
       "outlines": false,
       "outlines_color": 0,
       "type": "Voxels",
       "visible": true,
       "voxels": {
        "compressed_buffer": {},
        "dtype": "uint8",
        "shape": [
         1,
         8,
         200
        ]
       },
       "wireframe": false
      }
     },
     "f94c09b6787e46758ffd323418eca706": {
      "buffers": [
       {
        "data": "TiIAAE8jAABRJAAAUyUAAFQlAABWJgAAWCcAAFkoAABbKAAAXSkAAF8qAABhKgAAYisAAGQsAABmLAAAaC0AAGouAABsLgAAbS8AAG8wAABwMAAAcDEAAHExAABxMgEAcTMFAHAzCABwNAwAcDUPAHA1EgBwNhQAcDcWAG83GABvOBoAbzkcAG86HgBvOiAAbjshAG48IwBuPCQAbj0mAG4+JwBuPykAbT8qAG1AKwBtQS0AbUEuAG1CLwBtQzEAbUMyAG1EMwBsRTQAbEU1AGxGNgBsRzgAbEg5AGxIOgBsSTsAbEo8AGxKPQBsSz4AbEw/AGxMQABsTUEAbE5CAGxOQwBsT0QAbFBFAGxRRgBsUUcAbFJIAGxTSQBsU0oAbFRLAGxVTABsVU0AbFZOAGxXTwBsV1AAbVhRAG1ZUgBtWlMAbVpUAG1bVQBtXFUAbVxWAG1dVwBtXlgAbl5ZAG5fWgBuYFsAbmFcAG5hXQBuYl4Ab2NeAG9jXwBvZGAAb2VhAG9lYgBwZmMAcGdkAHBoZQBwaGUAcGlmAHFqZwBxamgAcWtpAHFsagBybWsAcm1sAHJubAByb20Ac29uAHNwbwBzcXAAdHJxAHRycgB0c3IAdXRzAHV0dAB1dXUAdnZ2AHZ3dwB3d3cAd3h4AHd5eQB4enoAeHp7AHh7fAB4fH0AeHx+AHh9fgB4fn8AeH+AAHh/gQB5gIIAeYGDAHmChAB5goUAeYOGAHiEhwB4hYgAeIWJAHiGigB4h4sAeIiMAHiIjQB4iY4AeIqPAHiLkAB4i5EAeIySAHiNkgB4jpMAd46UAHePlQB3kJYAd5GXAHeSmAB3kpkAdpOaAHaUmwB2lZwAdpWdAHaWngB1l58AdZigAHWZoQB1maIAdJqjAHSbpAB0nKUAdJymAHOdpwBznqgAc5+pAHOgqgByoKsAcqGsAHKirQBxo64AcaSvAHGlsABwpbEAcKazAG+ntABvqLUAb6m2AG6ptwBuqrgAbau5AG2sugBtrbsAbK68AGyuvQBrr74Aa7C/AGqxwABqssEAabPCAGmzwwBotMQAaLXFAGe2xgBnt8cAZrjIAGW5yQBlucsAZLrMAGO7zQBjvM4AYr3PAGK+0ABhv9EAYMDSAF/A0wBfwdQAXsLVAF3D1gBcxNcAXMXZAFvG2gBax9sAWcjcAFjI3QBYyd4AV8rfAFbL4ABVzOEAVM3iAFPO5ABSz+UAUdDmAFDR5wBP0ugATtPpAEzT6gBL1OsAStXtAEnW7gBI1+8ARtjwAEXZ8QBE2vIAQtvzAEHc9QA/3fYAPt73ADzf+AA64PkAOOH7ADbi/AA04/0ANOT+ADXl/gA25v4AOOj+AA==",
        "encoding": "base64",
        "path": [
         "color_map",
         "data"
        ]
       },
       {
        "data": "AAD6QwAAAAAAAAAAAAB6QwAAAAAAAKBBAAAAAAAAIEEAAAAAAAAAAAAAIEAAAKA/AAAAAAAAAAAAAAAAAACAPw==",
        "encoding": "base64",
        "path": [
         "model_matrix",
         "data"
        ]
       },
       {
        "data": "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",
        "encoding": "base64",
        "path": [
         "voxels",
         "data"
        ]
       }
      ],
      "model_module": "k3d",
      "model_module_version": "2.8.1",
      "model_name": "ObjectModel",
      "state": {
       "_view_count": null,
       "_view_module": null,
       "_view_module_version": "",
       "_view_name": null,
       "colorLegend": false,
       "color_map": {
        "dtype": "uint32",
        "shape": [
         256
        ]
       },
       "compression_level": 0,
       "id": 140592689500016,
       "model_matrix": {
        "dtype": "float32",
        "shape": [
         4,
         4
        ]
       },
       "name": "Voxels #1",
       "opacity": 1,
       "outlines": false,
       "outlines_color": 0,
       "type": "Voxels",
       "visible": true,
       "voxels": {
        "dtype": "uint8",
        "shape": [
         1,
         8,
         200
        ]
       },
       "wireframe": false
      }
     },
     "fd7a60e7c36249f8aed87727a65b3623": {
      "model_module": "@jupyter-widgets/output",
      "model_module_version": "1.0.0",
      "model_name": "OutputModel",
      "state": {
       "layout": "IPY_MODEL_82114eab52964629b9873882d90c9c1e",
       "outputs": [
        {
         "data": {
          "application/vnd.jupyter.widget-view+json": {
           "model_id": "1a16554e48734a19a13a87cfaf44456c",
           "version_major": 2,
           "version_minor": 0
          },
          "text/plain": "Plot(antialias=3, axes=['x', 'y', 'z'], axes_helper=1.0, background_color=16777215, camera=[2, -3, 0.2, 0.0, 0…"
         },
         "metadata": {},
         "output_type": "display_data"
        }
       ]
      }
     }
    },
    "version_major": 2,
    "version_minor": 0
   }
  }
 },
 "nbformat": 4,
 "nbformat_minor": 4
}
