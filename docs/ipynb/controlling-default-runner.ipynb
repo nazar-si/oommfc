{
 "cells": [
  {
   "cell_type": "markdown",
   "id": "e9570296",
   "metadata": {},
   "source": [
    "# Controlling the default runner\n",
    "In this tutorial we show how to globally controll the default runner. First we import `oommfc`."
   ]
  },
  {
   "cell_type": "code",
   "execution_count": 1,
   "id": "1564bf86",
   "metadata": {},
   "outputs": [],
   "source": [
    "import oommfc"
   ]
  },
  {
   "cell_type": "markdown",
   "id": "8a52a930",
   "metadata": {},
   "source": [
    "`oommfc` has a special member `oommfc.runner` that provides information and control about the default runner and how it is chosen."
   ]
  },
  {
   "cell_type": "markdown",
   "id": "494902cc",
   "metadata": {},
   "source": [
    "## The default runner"
   ]
  },
  {
   "cell_type": "code",
   "execution_count": 2,
   "id": "e3160c7b",
   "metadata": {},
   "outputs": [
    {
     "data": {
      "text/plain": [
       "OOMMF runner: UNSET\n",
       "runner is cached: True"
      ]
     },
     "execution_count": 2,
     "metadata": {},
     "output_type": "execute_result"
    }
   ],
   "source": [
    "oommfc.runner"
   ]
  },
  {
   "cell_type": "markdown",
   "id": "63875b72",
   "metadata": {},
   "source": [
    "When we import `oommfc` the `OOMMF runner` is unset. The runner is chosen automatically when we first ask for ``oommfc.runner.runner``."
   ]
  },
  {
   "cell_type": "code",
   "execution_count": 3,
   "id": "2cf63aba",
   "metadata": {},
   "outputs": [
    {
     "data": {
      "text/plain": [
       "ExeOOMMFRunner(/opt/miniconda3/envs/ubermag-dev/bin/oommf)"
      ]
     },
     "execution_count": 3,
     "metadata": {},
     "output_type": "execute_result"
    }
   ],
   "source": [
    "# NBVAL_IGNORE_OUTPUT\n",
    "oommfc.runner.runner"
   ]
  },
  {
   "cell_type": "markdown",
   "id": "073b4a6a",
   "metadata": {},
   "source": [
    "Now we have a default runner. The same does also happen in the background when creating a `driver` object and calling its `drive` method without explicitly passing a runner.\n",
    "\n",
    "A subsequent call to `oommfc.runner` shows the default runner."
   ]
  },
  {
   "cell_type": "code",
   "execution_count": 4,
   "id": "9ac7213a",
   "metadata": {},
   "outputs": [
    {
     "data": {
      "text/plain": [
       "OOMMF runner: ExeOOMMFRunner(/opt/miniconda3/envs/ubermag-dev/bin/oommf)\n",
       "runner is cached: True"
      ]
     },
     "execution_count": 4,
     "metadata": {},
     "output_type": "execute_result"
    }
   ],
   "source": [
    "# NBVAL_IGNORE_OUTPUT\n",
    "oommfc.runner"
   ]
  },
  {
   "cell_type": "markdown",
   "id": "d1b6ad54",
   "metadata": {},
   "source": [
    "We can also see, that the default runner is cached. This is controlled by:"
   ]
  },
  {
   "cell_type": "code",
   "execution_count": 5,
   "id": "bb9454d7",
   "metadata": {},
   "outputs": [
    {
     "data": {
      "text/plain": [
       "True"
      ]
     },
     "execution_count": 5,
     "metadata": {},
     "output_type": "execute_result"
    }
   ],
   "source": [
    "oommfc.runner.cache_runner"
   ]
  },
  {
   "cell_type": "markdown",
   "id": "85cf4162",
   "metadata": {},
   "source": [
    "## Defaults for the different runner types"
   ]
  },
  {
   "cell_type": "markdown",
   "id": "10d06415",
   "metadata": {},
   "source": [
    "The default values for the envvar `OOMMFTCL`, the executable `oommf`, and the `docker` executable can also be controlled via the `runner` object. They default to:"
   ]
  },
  {
   "cell_type": "code",
   "execution_count": 6,
   "id": "a93fa38d",
   "metadata": {},
   "outputs": [
    {
     "data": {
      "text/plain": [
       "'OOMMFTCL'"
      ]
     },
     "execution_count": 6,
     "metadata": {},
     "output_type": "execute_result"
    }
   ],
   "source": [
    "oommfc.runner.envvar"
   ]
  },
  {
   "cell_type": "code",
   "execution_count": 7,
   "id": "0385972c",
   "metadata": {},
   "outputs": [
    {
     "data": {
      "text/plain": [
       "'oommf'"
      ]
     },
     "execution_count": 7,
     "metadata": {},
     "output_type": "execute_result"
    }
   ],
   "source": [
    "oommfc.runner.oommf_exe"
   ]
  },
  {
   "cell_type": "code",
   "execution_count": 8,
   "id": "2c5bf158",
   "metadata": {},
   "outputs": [
    {
     "data": {
      "text/plain": [
       "'docker'"
      ]
     },
     "execution_count": 8,
     "metadata": {},
     "output_type": "execute_result"
    }
   ],
   "source": [
    "oommfc.runner.docker_exe"
   ]
  },
  {
   "cell_type": "markdown",
   "id": "ba09c985",
   "metadata": {},
   "source": [
    "## Changing the default runner\n",
    "Our current runner is:"
   ]
  },
  {
   "cell_type": "code",
   "execution_count": 9,
   "id": "81686c18",
   "metadata": {},
   "outputs": [
    {
     "data": {
      "text/plain": [
       "OOMMF runner: ExeOOMMFRunner(/opt/miniconda3/envs/ubermag-dev/bin/oommf)\n",
       "runner is cached: True"
      ]
     },
     "execution_count": 9,
     "metadata": {},
     "output_type": "execute_result"
    }
   ],
   "source": [
    "# NBVAL_IGNORE_OUTPUT\n",
    "oommfc.runner"
   ]
  },
  {
   "cell_type": "markdown",
   "id": "07395834",
   "metadata": {},
   "source": [
    "We can change the default runner by assigning an new `OOMMFRunner` object to `oommfc.runner.runner`."
   ]
  },
  {
   "cell_type": "code",
   "execution_count": 10,
   "id": "b5575b85",
   "metadata": {},
   "outputs": [
    {
     "name": "stdout",
     "output_type": "stream",
     "text": [
      "Running OOMMF (TclOOMMFRunner) [2021/08/12 10:53]... (0.0 s)\n",
      "OOMMF error:\n",
      "\tcommand: tclsh /path/to/oommf_tcl boxsi +fg macrospin.mif -exitondone 1\n",
      "\tstdout: \n",
      "\tstderr: couldn't read file \"/path/to/oommf_tcl\": no such file or directory\n",
      "\n",
      "\n",
      "\n",
      "Cannot find OOMMF.\n",
      "====================\n",
      "ValueError: new_runner=TclOOMMFRunner(/path/to/oommf_tcl) cannot be used.\n"
     ]
    }
   ],
   "source": [
    "# NBVAL_IGNORE_OUTPUT\n",
    "try:\n",
    "    oommfc.runner.runner = oommfc.oommf.TclOOMMFRunner('/path/to/oommf_tcl')\n",
    "except ValueError as e:\n",
    "    print('=' * 20)\n",
    "    print('ValueError:', e)"
   ]
  },
  {
   "cell_type": "markdown",
   "id": "8fb361e0",
   "metadata": {},
   "source": [
    "In this example we (expect to) get a `ValueError` because the path `/path/to/oommf_tcl` is invalid. The default runner has not been changed:"
   ]
  },
  {
   "cell_type": "code",
   "execution_count": 11,
   "id": "b3ddacd2",
   "metadata": {},
   "outputs": [
    {
     "data": {
      "text/plain": [
       "OOMMF runner: ExeOOMMFRunner(/opt/miniconda3/envs/ubermag-dev/bin/oommf)\n",
       "runner is cached: True"
      ]
     },
     "execution_count": 11,
     "metadata": {},
     "output_type": "execute_result"
    }
   ],
   "source": [
    "# NBVAL_IGNORE_OUTPUT\n",
    "oommfc.runner"
   ]
  },
  {
   "cell_type": "markdown",
   "id": "ebfb1a46",
   "metadata": {},
   "source": [
    "## Going back to the default runner\n",
    "We can change the default runner as demonstrated in the previous paragraph. If we later on decide that we want to go back to the default runner choosen by `oommfc`, we can do so by calling:"
   ]
  },
  {
   "cell_type": "code",
   "execution_count": 12,
   "id": "47ccab34",
   "metadata": {},
   "outputs": [],
   "source": [
    "oommfc.runner.autoselect_runner()"
   ]
  },
  {
   "cell_type": "markdown",
   "id": "63a6b1f6",
   "metadata": {},
   "source": [
    "This call searches for the best available runner (it does not rely on caching) and overwrites the default obtained via `oommfc.runner.runner`. We still have the same runner, because we actually never sucessfully changed a runner in this tutorial: "
   ]
  },
  {
   "cell_type": "code",
   "execution_count": 13,
   "id": "6522b4dc",
   "metadata": {},
   "outputs": [
    {
     "data": {
      "text/plain": [
       "OOMMF runner: ExeOOMMFRunner(/opt/miniconda3/envs/ubermag-dev/bin/oommf)\n",
       "runner is cached: True"
      ]
     },
     "execution_count": 13,
     "metadata": {},
     "output_type": "execute_result"
    }
   ],
   "source": [
    "# NBVAL_IGNORE_OUTPUT\n",
    "oommfc.runner"
   ]
  }
 ],
 "metadata": {
  "kernelspec": {
   "display_name": "Python 3",
   "language": "python",
   "name": "python3"
  },
  "language_info": {
   "codemirror_mode": {
    "name": "ipython",
    "version": 3
   },
   "file_extension": ".py",
   "mimetype": "text/x-python",
   "name": "python",
   "nbconvert_exporter": "python",
   "pygments_lexer": "ipython3",
   "version": "3.8.10"
  }
 },
 "nbformat": 4,
 "nbformat_minor": 5
}
