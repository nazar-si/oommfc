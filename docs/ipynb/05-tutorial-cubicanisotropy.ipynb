{
 "cells": [
  {
   "cell_type": "markdown",
   "metadata": {},
   "source": [
    "# Tutorial 05: Cubic anisotropy energy term\n",
    "\n",
    "> Interactive online tutorial:\n",
    "> [![Binder](https://mybinder.org/badge_logo.svg)](https://mybinder.org/v2/gh/ubermag/oommfc/master?filepath=docs%2Fipynb%2Findex.ipynb)\n",
    "\n",
    "Cubic anisotropy energy density is computed as\n",
    "\n",
    "$$w_{ca} = -K_{1} [(\\mathbf{m} \\cdot\n",
    "           \\mathbf{u}_{1})^{2}(\\mathbf{m} \\cdot\n",
    "           \\mathbf{u}_{2})^{2} + (\\mathbf{m} \\cdot\n",
    "           \\mathbf{u}_{2})^{2}(\\mathbf{m} \\cdot\n",
    "           \\mathbf{u}_{3})^{2} + (\\mathbf{m} \\cdot\n",
    "           \\mathbf{u}_{1})^{2}(\\mathbf{m} \\cdot\n",
    "           \\mathbf{u}_{3})^{2}]$$\n",
    "\n",
    "where $\\mathbf{m}$ is the normalised ($|\\mathbf{m}|=1$) magnetisation, $K_{1}$ is the cubic anisotropy constant, and $\\mathbf{u}_{1}$ and $\\mathbf{u}_{2}$ are the anisotropy axes. Cubic anisotropy energy term tends to align all magnetic moments parallel or antiparallel to one of the three anisotropy axes.\n",
    "\n",
    "In `oommfc`, $\\mathbf{m}$ is a part of the magnetisation field `system.m`. Therefore, only cubic anisotropy constant $K_{1}$ and axes $\\mathbf{u}_{1}$ and $\\mathbf{u}_{2}$ should be provided as input parameters to uniquely define the energy term. All parameters can be constant in space or spatially varying.\n",
    "\n",
    "## Spatially constant $K_{1}$ and $\\mathbf{u}$\n",
    "\n",
    "Let us start by assembling a simple simple simulation where neither $K$ nor $\\mathbf{u}$ vary in space. The sample is a \"one-dimensional\" chain of magnetic moments."
   ]
  },
  {
   "cell_type": "code",
   "execution_count": 1,
   "metadata": {},
   "outputs": [],
   "source": [
    "import oommfc as oc\n",
    "import discretisedfield as df\n",
    "import micromagneticmodel as mm\n",
    "\n",
    "p1 = (-10e-9, 0, 0)\n",
    "p2 = (10e-9, 1e-9, 1e-9)\n",
    "cell = (1e-9, 1e-9, 1e-9)\n",
    "\n",
    "region = df.Region(p1=p1, p2=p2)\n",
    "mesh = df.Mesh(region=region, cell=cell)"
   ]
  },
  {
   "cell_type": "markdown",
   "metadata": {},
   "source": [
    "The mesh is"
   ]
  },
  {
   "cell_type": "code",
   "execution_count": 2,
   "metadata": {},
   "outputs": [
    {
     "data": {
      "application/vnd.jupyter.widget-view+json": {
       "model_id": "ee11bc7b9c394f488079ef1e9a26fae4",
       "version_major": 2,
       "version_minor": 0
      },
      "text/plain": [
       "Output()"
      ]
     },
     "metadata": {},
     "output_type": "display_data"
    }
   ],
   "source": [
    "# NBVAL_IGNORE_OUTPUT\n",
    "mesh.k3d()"
   ]
  },
  {
   "cell_type": "markdown",
   "metadata": {},
   "source": [
    "The system has a Hamiltonian, which consists of only cubic anisotropy energy term."
   ]
  },
  {
   "cell_type": "code",
   "execution_count": 3,
   "metadata": {},
   "outputs": [],
   "source": [
    "K = 1e5  # cubic anisotropy constant (J/m**3)\n",
    "u1 = (0, 0, 1)  # cubic anisotropy axis\n",
    "u2 = (0, 1, 0)  # cubic anisotropy axis\n",
    "system = mm.System(name='cubicanisotropy_constant_K_u')\n",
    "system.energy = mm.CubicAnisotropy(K=K, u1=u1, u2=u2)"
   ]
  },
  {
   "cell_type": "markdown",
   "metadata": {},
   "source": [
    "We are going to minimise the system's energy using `oommfc.MinDriver` later. Therefore, we do not have to define the system's dynamics equation. Finally, we need to define the system's magnetisation (`system.m`). We are going to make it random with $M_\\text{s}=8\\times10^{5} \\,\\text{Am}^{-1}$"
   ]
  },
  {
   "cell_type": "code",
   "execution_count": 4,
   "metadata": {},
   "outputs": [],
   "source": [
    "import random\n",
    "import discretisedfield as df\n",
    "\n",
    "Ms = 8e5  # saturation magnetisation (A/m)\n",
    "\n",
    "def m_fun(pos):\n",
    "    return [2*random.random()-1 for i in range(3)]\n",
    "\n",
    "system.m = df.Field(mesh, dim=3, value=m_fun, norm=Ms)"
   ]
  },
  {
   "cell_type": "markdown",
   "metadata": {},
   "source": [
    "The magnetisation, we set is"
   ]
  },
  {
   "cell_type": "code",
   "execution_count": 5,
   "metadata": {},
   "outputs": [
    {
     "data": {
      "application/vnd.jupyter.widget-view+json": {
       "model_id": "5474669962624581b86f18ed680f6b42",
       "version_major": 2,
       "version_minor": 0
      },
      "text/plain": [
       "Output()"
      ]
     },
     "metadata": {},
     "output_type": "display_data"
    }
   ],
   "source": [
    "# NBVAL_IGNORE_OUTPUT\n",
    "system.m.k3d.vector(color_field=system.m.z)"
   ]
  },
  {
   "cell_type": "markdown",
   "metadata": {},
   "source": [
    "Now, we can minimise the system's energy by using `oommfc.MinDriver`."
   ]
  },
  {
   "cell_type": "code",
   "execution_count": 6,
   "metadata": {},
   "outputs": [
    {
     "name": "stdout",
     "output_type": "stream",
     "text": [
      "Running OOMMF (ExeOOMMFRunner) [2020/06/30 13:04]... (2.1 s)\n"
     ]
    }
   ],
   "source": [
    "md = oc.MinDriver()\n",
    "md.drive(system)"
   ]
  },
  {
   "cell_type": "markdown",
   "metadata": {},
   "source": [
    "We expect that now all magnetic moments are aligned parallel or antiparallel to the anisotropy axes."
   ]
  },
  {
   "cell_type": "code",
   "execution_count": 7,
   "metadata": {},
   "outputs": [
    {
     "data": {
      "application/vnd.jupyter.widget-view+json": {
       "model_id": "bd4692909fdf4f6ab73b8c04c6c39da2",
       "version_major": 2,
       "version_minor": 0
      },
      "text/plain": [
       "Output()"
      ]
     },
     "metadata": {},
     "output_type": "display_data"
    }
   ],
   "source": [
    "# NBVAL_IGNORE_OUTPUT\n",
    "system.m.k3d.vector(color_field=system.m.z)"
   ]
  },
  {
   "cell_type": "markdown",
   "metadata": {},
   "source": [
    "## Spatially varying $\\mathbf{K}_{1}$\n",
    "\n",
    "There are two different ways how a parameter can be made spatially varying, by using:\n",
    "1. Dictionary\n",
    "2. `discretisedfield.Field`\n",
    "\n",
    "### Dictionary\n",
    "\n",
    "In order to define a parameter using a dictionary, regions must be defined in the mesh. Regions are defined as a dictionary, whose keys are the strings and values are `discretisedfield.Region` objects, which take two corner points of the region as input parameters. "
   ]
  },
  {
   "cell_type": "code",
   "execution_count": 8,
   "metadata": {},
   "outputs": [],
   "source": [
    "p1 = (-10e-9, 0, 0)\n",
    "p2 = (10e-9, 1e-9, 1e-9)\n",
    "cell = (1e-9, 1e-9, 1e-9)\n",
    "subregions = {'region1': df.Region(p1=(-10e-9, 0, 0), p2=(0, 1e-9, 1e-9)),\n",
    "              'region2': df.Region(p1=(0, 0, 0), p2=(10e-9, 1e-9, 1e-9))}\n",
    "region = df.Region(p1=p1, p2=p2)\n",
    "mesh = df.Mesh(region=region, cell=cell, subregions=subregions)"
   ]
  },
  {
   "cell_type": "code",
   "execution_count": 9,
   "metadata": {},
   "outputs": [
    {
     "data": {
      "application/vnd.jupyter.widget-view+json": {
       "model_id": "3d8be780db394a26888f261901fa40e2",
       "version_major": 2,
       "version_minor": 0
      },
      "text/plain": [
       "Output()"
      ]
     },
     "metadata": {},
     "output_type": "display_data"
    }
   ],
   "source": [
    "# NBVAL_IGNORE_OUTPUT\n",
    "mesh.k3d_subregions()"
   ]
  },
  {
   "cell_type": "markdown",
   "metadata": {},
   "source": [
    "Let us say that there is no cubic anisotropy ($K=0$) in region 1, whereas in region 2 it is $K=10^{5} \\,\\text{Jm}^{-3}$. `K` is now defined as a dictionary:"
   ]
  },
  {
   "cell_type": "code",
   "execution_count": 10,
   "metadata": {},
   "outputs": [],
   "source": [
    "K = {'region1': 0, 'region2': 1e5}"
   ]
  },
  {
   "cell_type": "markdown",
   "metadata": {},
   "source": [
    "The system object is"
   ]
  },
  {
   "cell_type": "code",
   "execution_count": 11,
   "metadata": {},
   "outputs": [],
   "source": [
    "system = mm.System(name='cubicanisotropy_dict_K')\n",
    "system.energy = mm.CubicAnisotropy(K=K, u1=u1, u2=u2)\n",
    "system.m = df.Field(mesh, dim=3, value=m_fun, norm=Ms)"
   ]
  },
  {
   "cell_type": "markdown",
   "metadata": {},
   "source": [
    "Its magnetisation is"
   ]
  },
  {
   "cell_type": "code",
   "execution_count": 12,
   "metadata": {},
   "outputs": [
    {
     "data": {
      "application/vnd.jupyter.widget-view+json": {
       "model_id": "d7464cffda1549aabd358403951339bd",
       "version_major": 2,
       "version_minor": 0
      },
      "text/plain": [
       "Output()"
      ]
     },
     "metadata": {},
     "output_type": "display_data"
    }
   ],
   "source": [
    "# NBVAL_IGNORE_OUTPUT\n",
    "system.m.k3d.vector(color_field=system.m.z)"
   ]
  },
  {
   "cell_type": "markdown",
   "metadata": {},
   "source": [
    "After we minimise the energy"
   ]
  },
  {
   "cell_type": "code",
   "execution_count": 13,
   "metadata": {},
   "outputs": [
    {
     "name": "stdout",
     "output_type": "stream",
     "text": [
      "Running OOMMF (ExeOOMMFRunner) [2020/06/30 13:04]... (2.5 s)\n"
     ]
    }
   ],
   "source": [
    "md.drive(system)"
   ]
  },
  {
   "cell_type": "markdown",
   "metadata": {},
   "source": [
    "The magnetisation is as we expected."
   ]
  },
  {
   "cell_type": "code",
   "execution_count": 14,
   "metadata": {},
   "outputs": [
    {
     "data": {
      "application/vnd.jupyter.widget-view+json": {
       "model_id": "8d7932cf5c9644a1ab3dc2a324f85733",
       "version_major": 2,
       "version_minor": 0
      },
      "text/plain": [
       "Output()"
      ]
     },
     "metadata": {},
     "output_type": "display_data"
    }
   ],
   "source": [
    "# NBVAL_IGNORE_OUTPUT\n",
    "system.m.k3d.vector(color_field=system.m.z)"
   ]
  },
  {
   "cell_type": "markdown",
   "metadata": {},
   "source": [
    "### `discretisedfield.Field`\n",
    "\n",
    "Let us define the spatailly varying uniaxial anisotropy, so that\n",
    "\n",
    "$K(x, y, z) = \\left\\{\n",
    "\\begin{array}{ll}\n",
    "0 & x \\le 0 \\\\\n",
    "1e5 & x > 0 \\\\\n",
    "\\end{array}\n",
    "\\right. $\n",
    "\n",
    "The value of `K` for the spatially varying anisotropy is set using a Python function."
   ]
  },
  {
   "cell_type": "code",
   "execution_count": 15,
   "metadata": {},
   "outputs": [],
   "source": [
    "def K_fun(pos):\n",
    "    x, y, z = pos\n",
    "    if x <= 0:\n",
    "        return 0\n",
    "    else:\n",
    "        return 1e5"
   ]
  },
  {
   "cell_type": "markdown",
   "metadata": {},
   "source": [
    "The uniaxial anisotropy parameters are"
   ]
  },
  {
   "cell_type": "code",
   "execution_count": 16,
   "metadata": {},
   "outputs": [],
   "source": [
    "K = df.Field(mesh, dim=1, value=K_fun)"
   ]
  },
  {
   "cell_type": "markdown",
   "metadata": {},
   "source": [
    "The system is"
   ]
  },
  {
   "cell_type": "code",
   "execution_count": 17,
   "metadata": {},
   "outputs": [],
   "source": [
    "system = mm.System(name='cubicanisotropy_field_u')\n",
    "system.energy = mm.CubicAnisotropy(K=K, u1=u1, u2=u2)\n",
    "system.m = df.Field(mesh, dim=3, value=m_fun, norm=Ms)"
   ]
  },
  {
   "cell_type": "markdown",
   "metadata": {},
   "source": [
    "and its magnetisation is"
   ]
  },
  {
   "cell_type": "code",
   "execution_count": 18,
   "metadata": {},
   "outputs": [
    {
     "data": {
      "application/vnd.jupyter.widget-view+json": {
       "model_id": "3061d3795f2c497495e7c264d445effc",
       "version_major": 2,
       "version_minor": 0
      },
      "text/plain": [
       "Output()"
      ]
     },
     "metadata": {},
     "output_type": "display_data"
    }
   ],
   "source": [
    "# NBVAL_IGNORE_OUTPUT\n",
    "system.m.k3d.vector(color_field=system.m.z)"
   ]
  },
  {
   "cell_type": "markdown",
   "metadata": {},
   "source": [
    "After the energy minimisation, the magnetisation is:"
   ]
  },
  {
   "cell_type": "code",
   "execution_count": 19,
   "metadata": {},
   "outputs": [
    {
     "name": "stdout",
     "output_type": "stream",
     "text": [
      "Running OOMMF (ExeOOMMFRunner) [2020/06/30 13:04]... (2.2 s)\n"
     ]
    },
    {
     "data": {
      "application/vnd.jupyter.widget-view+json": {
       "model_id": "cd9193500cf246e38e85a3d6d730b20c",
       "version_major": 2,
       "version_minor": 0
      },
      "text/plain": [
       "Output()"
      ]
     },
     "metadata": {},
     "output_type": "display_data"
    }
   ],
   "source": [
    "# NBVAL_IGNORE_OUTPUT\n",
    "md.drive(system)\n",
    "system.m.k3d.vector(color_field=system.m.z)"
   ]
  }
 ],
 "metadata": {
  "kernelspec": {
   "display_name": "Python 3",
   "language": "python",
   "name": "python3"
  },
  "language_info": {
   "codemirror_mode": {
    "name": "ipython",
    "version": 3
   },
   "file_extension": ".py",
   "mimetype": "text/x-python",
   "name": "python",
   "nbconvert_exporter": "python",
   "pygments_lexer": "ipython3",
   "version": "3.8.3"
  },
  "widgets": {
   "application/vnd.jupyter.widget-state+json": {
    "state": {
     "03594b06eb8849ea9cf2e10f299dfd01": {
      "model_module": "k3d",
      "model_module_version": "2.8.1",
      "model_name": "PlotModel",
      "state": {
       "_backend_version": "2.8.1",
       "_dom_classes": [],
       "_view_count": null,
       "antialias": 3,
       "auto_rendering": true,
       "axes": [
        "x\\,\\text{(nm)}",
        "y\\,\\text{(nm)}",
        "z\\,\\text{(nm)}"
       ],
       "axes_helper": 1,
       "background_color": 16777215,
       "camera": [
        16.707952969879074,
        -24.636929444760327,
        2.1757952963173697,
        -0.04999999329447746,
        0.5,
        0.5,
        0,
        0,
        1
       ],
       "camera_animation": [],
       "camera_auto_fit": true,
       "camera_fov": 60,
       "camera_mode": "trackball",
       "camera_no_pan": false,
       "camera_no_rotate": false,
       "camera_no_zoom": false,
       "clipping_planes": [],
       "colorbar_object_id": -1,
       "colorbar_scientific": false,
       "fps": 25,
       "fps_meter": false,
       "grid": [
        -1,
        -1,
        -1,
        1,
        1,
        1
       ],
       "grid_auto_fit": true,
       "grid_visible": true,
       "height": 512,
       "layout": "IPY_MODEL_caaac2e27b5841188bbb9c7f24b94978",
       "lighting": 1.5,
       "manipulate_mode": "translate",
       "menu_visibility": true,
       "mode": "view",
       "name": null,
       "object_ids": [
        140689319037584
       ],
       "rendering_steps": 1,
       "screenshot": "",
       "screenshot_scale": 2,
       "snapshot": "",
       "snapshot_include_js": true,
       "time": 0,
       "voxel_paint_color": 0
      }
     },
     "0a09726d09bb418baef7261b2f42f24f": {
      "model_module": "@jupyter-widgets/base",
      "model_module_version": "1.2.0",
      "model_name": "LayoutModel",
      "state": {}
     },
     "0cc209560f9141a5b0096908231a5a0e": {
      "model_module": "k3d",
      "model_module_version": "2.8.1",
      "model_name": "PlotModel",
      "state": {
       "_backend_version": "2.7.4",
       "_dom_classes": [],
       "_view_count": null,
       "antialias": 3,
       "auto_rendering": true,
       "axes": [
        "x (nm)",
        "y (nm)",
        "z (nm)"
       ],
       "axes_helper": 1,
       "background_color": 16777215,
       "camera": [
        16.53370090815847,
        -24.019301362982763,
        2.134620090070786,
        0.1875,
        0.49999999925494193,
        0.49999999925494193,
        0,
        0,
        1
       ],
       "camera_animation": [],
       "camera_auto_fit": true,
       "camera_fov": 60,
       "camera_no_pan": false,
       "camera_no_rotate": false,
       "camera_no_zoom": false,
       "clipping_planes": [],
       "colorbar_object_id": -1,
       "fps": 25,
       "fps_meter": false,
       "grid": [
        -1,
        -1,
        -1,
        1,
        1,
        1
       ],
       "grid_auto_fit": true,
       "grid_visible": true,
       "height": 512,
       "layout": "IPY_MODEL_7a3901b03d4646e7b7039c2dc209d0d5",
       "lighting": 1.5,
       "menu_visibility": true,
       "mode": "view",
       "name": null,
       "object_ids": [
        139941391312080,
        139942518307152
       ],
       "rendering_steps": 1,
       "screenshot": "",
       "screenshot_scale": 2,
       "snapshot": "",
       "time": 0,
       "voxel_paint_color": 0
      }
     },
     "0f4688c77c784b9fac9cb373c8c7407c": {
      "model_module": "@jupyter-widgets/base",
      "model_module_version": "1.2.0",
      "model_name": "LayoutModel",
      "state": {}
     },
     "15be38bf175047d6b40286f375848c9d": {
      "buffers": [
       {
        "data": "eHt8AHh7fAB4fH0AeHx9ADjo/gA46P4AOOj+ADjo/gBOIgAATiIAAHh8fQB4fH0AeHx9AHh8fQB4fH0AeHx9AHh7fAB4e3wATiIAAE4iAAB4fH0AeHx9AHh8fQB4fH0AeHx9AHh8fQBOIgAATiIAAHh7fAB4e3wATiIAAE4iAAB4e3wAeHt8AHh7fAB4e3wATiIAAE4iAAB4fH0AeHx9AA==",
        "encoding": "base64",
        "path": [
         "colors",
         "data"
        ]
       },
       {
        "data": "AACAPwAAAAAAAAAAAAAAAAAAAAAAAIA/AAAAAAAAAAAAAAAAAAAAAAAAgD8AAAAAAAAAAAAAAAAAAAAAAACAPw==",
        "encoding": "base64",
        "path": [
         "model_matrix",
         "data"
        ]
       },
       {
        "data": "AAAQwQAAAD8AAAA/AAAAwQAAAD8AAAA/AADwwAAAAD8AAAAAAADQwAAAAD8AAAAAAACwwAAAAD8AAIA/AACgwAAAAD8AAAA/AACAwAAAAD8AAAA/AAAgwAAAAAAAAAA/AACAvwAAAD8AAAA/AAAAvwAAAD8AAIA/AAAAAAEAAD8AAAA/AADAPwAAAAAAAAA/AAAgQAAAAAAAAAA/AABgQAAAAD8AAIA/AACQQAAAgD8AAAA/AACwQAAAAD8AAIA/AADAQAAAAD8AAAA/AADgQAAAAD8AAAA/AAAIQQAAAD8AAIA/AAAQQQAAAD8AAAA/",
        "encoding": "base64",
        "path": [
         "origins",
         "data"
        ]
       },
       {
        "data": "AACAvwfWYTKN9mawAACAv4L8ObE7UD4ysGatLaY3BC8AAIA/QGlLLfg6pC0AAIA/okXyrPBEDC4AAIC/AACAPzuJATFx7tYwAACAP/ML0qx7BvEvhlOSLgAAgD9Tk4QvAACAv1YZNS0vH52schC5sYDJE7IAAIC/AACAP0U06LOV+GUySeMsMQAAgD9yKMgxQJVasAAAgD+hy3cyR0/rr6ZB7y4AAIC/rMzyLQAAgL9UfcGtldPJLbOWCC4AAIC/AACAPxWn+TITTvKwAACAP4hT0602OhuuKcvrMWth8a8AAIC/AACAP4B9LS+09hMv",
        "encoding": "base64",
        "path": [
         "vectors",
         "data"
        ]
       }
      ],
      "model_module": "k3d",
      "model_module_version": "2.8.1",
      "model_name": "ObjectModel",
      "state": {
       "_view_count": null,
       "_view_module": null,
       "_view_module_version": "",
       "_view_name": null,
       "colorLegend": false,
       "colors": {
        "data": {},
        "dtype": "uint32",
        "shape": [
         20,
         2
        ]
       },
       "compression_level": 0,
       "head_color": 255,
       "head_size": 1,
       "id": 140689358008128,
       "label_size": 1,
       "labels": [],
       "line_width": 0.01,
       "model_matrix": {
        "data": {},
        "dtype": "float32",
        "shape": [
         4,
         4
        ]
       },
       "name": "Vectors #1",
       "origin_color": 255,
       "origins": {
        "data": {},
        "dtype": "float32",
        "shape": [
         20,
         3
        ]
       },
       "type": "Vectors",
       "use_head": true,
       "vectors": {
        "data": {},
        "dtype": "float32",
        "shape": [
         20,
         3
        ]
       },
       "visible": true
      }
     },
     "19fd45609ad3455bafdc4a10484c6d37": {
      "model_module": "@jupyter-widgets/base",
      "model_module_version": "1.2.0",
      "model_name": "LayoutModel",
      "state": {}
     },
     "1c417464a92244b180ae69003b911ca5": {
      "model_module": "@jupyter-widgets/output",
      "model_module_version": "1.0.0",
      "model_name": "OutputModel",
      "state": {
       "layout": "IPY_MODEL_cd59441d055d45b38db7e861a6d7ef39",
       "outputs": [
        {
         "data": {
          "application/vnd.jupyter.widget-view+json": {
           "model_id": "6201358bb8ca49e3b1d2487d8b482433",
           "version_major": 2,
           "version_minor": 0
          },
          "text/plain": "Plot(antialias=3, axes=['x', 'y', 'z'], axes_helper=1.0, background_color=16777215, camera=[2, -3, 0.2, 0.0, 0…"
         },
         "metadata": {},
         "output_type": "display_data"
        }
       ]
      }
     },
     "1d2963d2be17486bb4db4ab65ea2f38b": {
      "model_module": "k3d",
      "model_module_version": "2.8.1",
      "model_name": "ObjectModel",
      "state": {
       "_view_count": null,
       "_view_module": null,
       "_view_module_version": "",
       "_view_name": null,
       "colorLegend": false,
       "colors": {
        "compressed_buffer": {},
        "dtype": "uint32",
        "shape": [
         20,
         2
        ]
       },
       "compression_level": 0,
       "head_color": 255,
       "head_size": 1,
       "id": 139941391312080,
       "label_size": 1,
       "labels": [],
       "line_width": 0.01,
       "model_matrix": {
        "compressed_buffer": {},
        "dtype": "float32",
        "shape": [
         4,
         4
        ]
       },
       "name": "Vectors #1",
       "origin_color": 255,
       "origins": {
        "compressed_buffer": {},
        "dtype": "float32",
        "shape": [
         20,
         3
        ]
       },
       "type": "Vectors",
       "use_head": true,
       "vectors": {
        "compressed_buffer": {},
        "dtype": "float32",
        "shape": [
         20,
         3
        ]
       },
       "visible": true
      }
     },
     "1e2016ca684b4c26a31c28097c58cf17": {
      "model_module": "@jupyter-widgets/base",
      "model_module_version": "1.2.0",
      "model_name": "LayoutModel",
      "state": {}
     },
     "1f79ba5290f84f6cb62177f6d279b167": {
      "model_module": "k3d",
      "model_module_version": "2.8.1",
      "model_name": "ObjectModel",
      "state": {
       "_view_count": null,
       "_view_module": null,
       "_view_module_version": "",
       "_view_name": null,
       "color": 5010096,
       "colorLegend": false,
       "colors": {
        "compressed_buffer": {},
        "dtype": "uint32",
        "shape": [
         0
        ]
       },
       "compression_level": 0,
       "id": 139941438047056,
       "mesh_detail": 2,
       "model_matrix": {
        "compressed_buffer": {},
        "dtype": "float32",
        "shape": [
         4,
         4
        ]
       },
       "name": "Points #1",
       "opacities": {
        "compressed_buffer": {},
        "dtype": "float32",
        "shape": [
         0
        ]
       },
       "opacity": 1,
       "point_size": 0.25,
       "positions": {
        "compressed_buffer": {},
        "dtype": "float32",
        "shape": [
         20,
         3
        ]
       },
       "shader": "3dSpecular",
       "type": "Points",
       "visible": true
      }
     },
     "248f98c7a143483fba7c30aa5971805f": {
      "model_module": "@jupyter-widgets/output",
      "model_module_version": "1.0.0",
      "model_name": "OutputModel",
      "state": {
       "layout": "IPY_MODEL_cbe0de15aee54e29997e31cb19b87573",
       "outputs": [
        {
         "data": {
          "application/vnd.jupyter.widget-view+json": {
           "model_id": "3951525ed7944bbc8fd500bc096449a4",
           "version_major": 2,
           "version_minor": 0
          },
          "text/plain": "Plot(antialias=3, axes=['x', 'y', 'z'], axes_helper=1.0, background_color=16777215, camera=[2, -3, 0.2, 0.0, 0…"
         },
         "metadata": {},
         "output_type": "display_data"
        }
       ]
      }
     },
     "25da6a785d664acdba8d93b9338ac756": {
      "model_module": "@jupyter-widgets/output",
      "model_module_version": "1.0.0",
      "model_name": "OutputModel",
      "state": {
       "layout": "IPY_MODEL_e7d077f4d7ae470e96f2cdff4efc05b0",
       "outputs": [
        {
         "data": {
          "application/vnd.jupyter.widget-view+json": {
           "model_id": "0cc209560f9141a5b0096908231a5a0e",
           "version_major": 2,
           "version_minor": 0
          },
          "text/plain": "Plot(antialias=3, axes=['x', 'y', 'z'], axes_helper=1.0, background_color=16777215, camera=[2, -3, 0.2, 0.0, 0…"
         },
         "metadata": {},
         "output_type": "display_data"
        }
       ]
      }
     },
     "268da446f72945c8aec99f61833bfb1f": {
      "buffers": [
       {
        "data": "",
        "encoding": "base64",
        "path": [
         "colors",
         "data"
        ]
       },
       {
        "data": "AACAPwAAAAAAAAAAAAAAAAAAAAAAAIA/AAAAAAAAAAAAAAAAAAAAAAAAgD8AAAAAAAAAAAAAAAAAAAAAAACAPw==",
        "encoding": "base64",
        "path": [
         "model_matrix",
         "data"
        ]
       },
       {
        "data": "",
        "encoding": "base64",
        "path": [
         "opacities",
         "data"
        ]
       },
       {
        "data": "AAAYwQAAAD8AAAA/AAAIwQAAAD8AAAA/AADwwAAAAD8AAAA/AADQwAAAAD8AAAA/AACwwAAAAD8AAAA/AACQwAAAAD8AAAA/AABgwAAAAD8AAAA/AAAgwAAAAD8AAAA/AADAvwAAAD8AAAA/AAAAvwAAAD8AAAA/AAAAPwAAAD8AAAA/AADAPwAAAD8AAAA/AAAgQAAAAD8AAAA/AABgQAAAAD8AAAA/AACQQAAAAD8AAAA/AACwQAAAAD8AAAA/AADQQAAAAD8AAAA/AADwQAAAAD8AAAA/AAAIQQAAAD8AAAA/AAAYQQAAAD8AAAA/",
        "encoding": "base64",
        "path": [
         "positions",
         "data"
        ]
       }
      ],
      "model_module": "k3d",
      "model_module_version": "2.8.1",
      "model_name": "ObjectModel",
      "state": {
       "_view_count": null,
       "_view_module": null,
       "_view_module_version": "",
       "_view_name": null,
       "color": 5010096,
       "colorLegend": false,
       "colors": {
        "data": {},
        "dtype": "uint32",
        "shape": [
         0
        ]
       },
       "compression_level": 0,
       "id": 140689358427040,
       "mesh_detail": 2,
       "model_matrix": {
        "data": {},
        "dtype": "float32",
        "shape": [
         4,
         4
        ]
       },
       "name": "Points #1",
       "opacities": {
        "data": {},
        "dtype": "float32",
        "shape": [
         0
        ]
       },
       "opacity": 1,
       "point_size": 0.25,
       "positions": {
        "data": {},
        "dtype": "float32",
        "shape": [
         20,
         3
        ]
       },
       "shader": "3dSpecular",
       "type": "Points",
       "visible": true
      }
     },
     "2730ae58086a4d489b8541ca5b39aa68": {
      "model_module": "@jupyter-widgets/base",
      "model_module_version": "1.2.0",
      "model_name": "LayoutModel",
      "state": {}
     },
     "29360b8ef2364d6985cb8117c83da869": {
      "model_module": "@jupyter-widgets/output",
      "model_module_version": "1.0.0",
      "model_name": "OutputModel",
      "state": {
       "layout": "IPY_MODEL_2730ae58086a4d489b8541ca5b39aa68",
       "outputs": [
        {
         "data": {
          "application/vnd.jupyter.widget-view+json": {
           "model_id": "03594b06eb8849ea9cf2e10f299dfd01",
           "version_major": 2,
           "version_minor": 0
          },
          "text/plain": "Plot(antialias=3, axes=['x', 'y', 'z'], axes_helper=1.0, background_color=16777215, camera=[2, -3, 0.2, 0.0, 0…"
         },
         "metadata": {},
         "output_type": "display_data"
        }
       ]
      }
     },
     "29454ed8265548d49548a16fbcc9a836": {
      "buffers": [
       {
        "data": "sHJMAFKE3QBoqFUAUk7EALNygQBgeJMAw4vaAIyMjAB0ucwAzbVkAA==",
        "encoding": "base64",
        "path": [
         "color_map",
         "data"
        ]
       },
       {
        "data": "AACgQQAAAAAAAAAAAAAAAAAAAAAAAIA/AAAAAAAAAD8AAAAAAAAAAAAAgD8AAAA/AAAAAAAAAAAAAAAAAACAPw==",
        "encoding": "base64",
        "path": [
         "model_matrix",
         "data"
        ]
       },
       {
        "data": "AQEBAQEBAQEBAQICAgICAgICAgI=",
        "encoding": "base64",
        "path": [
         "voxels",
         "data"
        ]
       }
      ],
      "model_module": "k3d",
      "model_module_version": "2.8.1",
      "model_name": "ObjectModel",
      "state": {
       "_view_count": null,
       "_view_module": null,
       "_view_module_version": "",
       "_view_name": null,
       "colorLegend": false,
       "color_map": {
        "data": {},
        "dtype": "uint32",
        "shape": [
         10
        ]
       },
       "compression_level": 0,
       "id": 140689319037584,
       "model_matrix": {
        "data": {},
        "dtype": "float32",
        "shape": [
         4,
         4
        ]
       },
       "name": "Voxels #1",
       "opacity": 1,
       "outlines": false,
       "outlines_color": 0,
       "type": "Voxels",
       "visible": true,
       "voxels": {
        "data": {},
        "dtype": "uint8",
        "shape": [
         1,
         1,
         20
        ]
       },
       "wireframe": false
      }
     },
     "2e15a623c260471697e65d8996595af7": {
      "model_module": "k3d",
      "model_module_version": "2.8.1",
      "model_name": "PlotModel",
      "state": {
       "_backend_version": "2.7.4",
       "_dom_classes": [],
       "_view_count": null,
       "antialias": 3,
       "auto_rendering": true,
       "axes": [
        "x (nm)",
        "y (nm)",
        "z (nm)"
       ],
       "axes_helper": 1,
       "background_color": 16777215,
       "camera": [
        16.125645137145952,
        -23.894273961804565,
        2.1262849307372975,
        -0.13720417022705078,
        0.49999999925494193,
        0.5,
        0,
        0,
        1
       ],
       "camera_animation": [],
       "camera_auto_fit": true,
       "camera_fov": 60,
       "camera_no_pan": false,
       "camera_no_rotate": false,
       "camera_no_zoom": false,
       "clipping_planes": [],
       "colorbar_object_id": -1,
       "fps": 25,
       "fps_meter": false,
       "grid": [
        -1,
        -1,
        -1,
        1,
        1,
        1
       ],
       "grid_auto_fit": true,
       "grid_visible": true,
       "height": 512,
       "layout": "IPY_MODEL_fae4290ea72f44deb673abdd932391b6",
       "lighting": 1.5,
       "menu_visibility": true,
       "mode": "view",
       "name": null,
       "object_ids": [
        139941443413584,
        139941355597712
       ],
       "rendering_steps": 1,
       "screenshot": "",
       "screenshot_scale": 2,
       "snapshot": "",
       "time": 0,
       "voxel_paint_color": 0
      }
     },
     "2e61afe4c1944604b9a354ffa947a192": {
      "model_module": "@jupyter-widgets/base",
      "model_module_version": "1.2.0",
      "model_name": "LayoutModel",
      "state": {}
     },
     "30095c871bcf4cb3a198db38c97224fe": {
      "model_module": "k3d",
      "model_module_version": "2.8.1",
      "model_name": "ObjectModel",
      "state": {
       "_view_count": null,
       "_view_module": null,
       "_view_module_version": "",
       "_view_name": null,
       "color": 5010096,
       "colorLegend": false,
       "colors": {
        "compressed_buffer": {},
        "dtype": "uint32",
        "shape": [
         0
        ]
       },
       "compression_level": 0,
       "id": 139942518307152,
       "mesh_detail": 2,
       "model_matrix": {
        "compressed_buffer": {},
        "dtype": "float32",
        "shape": [
         4,
         4
        ]
       },
       "name": "Points #1",
       "opacities": {
        "compressed_buffer": {},
        "dtype": "float32",
        "shape": [
         0
        ]
       },
       "opacity": 1,
       "point_size": 0.25,
       "positions": {
        "compressed_buffer": {},
        "dtype": "float32",
        "shape": [
         20,
         3
        ]
       },
       "shader": "3dSpecular",
       "type": "Points",
       "visible": true
      }
     },
     "303874b886624d389590946ac6b1d527": {
      "buffers": [
       {
        "data": "cGhlAHBoZQA83/gAPN/4AHJtbABybWwAd5GXAHeRlwB0nKUAdJylAGxIOgBsSDoAbE1BAGxNQQBotcUAaLXFAGxVTQBsVU0AZbnJAGW5yQBOIgAATiIAAHh8fQB4fH0AOOj+ADjo/gB4e3wAeHt8ADjo/gA46P4AOOj+ADjo/gBOIgAATiIAAE4iAABOIgAAeHx9AHh8fQB4e3wAeHt8AA==",
        "encoding": "base64",
        "path": [
         "colors",
         "data"
        ]
       },
       {
        "data": "AACAPwAAAAAAAAAAAAAAAAAAAAAAAIA/AAAAAAAAAAAAAAAAAAAAAAAAgD8AAAAAAAAAAAAAAAAAAAAAAACAPw==",
        "encoding": "base64",
        "path": [
         "model_matrix",
         "data"
        ]
       },
       {
        "data": "XlYcwSYoaD/S0Ro/aGQJwQgJsT4YvgQ9qEX/wIgZvj6wQxM/k0PGwGh99T0tx8U+jjm6wPaKWD8356k+IdWKwDxV+T0iykg/fKldwIhTkz1Me0E/ZWIzwDJTZT78qVo+t7fsv1B3Vj58aDU/i3uYvhgWVz9oDUc+AwAAPwAAAD8AAIA/AACAPwAAAD8AAAA/AAAgQAAAAD8AAAAAAABgQAAAAAAAAAA/AACQQAAAAD8AAAAAAACwQAAAAD8AAAAAAADQQAAAAD8AAIA/AADwQAAAAD8AAIA/AAAIQQAAAAAAAAA/AAAYQQAAgD8BAAA/",
        "encoding": "base64",
        "path": [
         "origins",
         "data"
        ]
       },
       {
        "data": "tcsKP0xQUL+Qjla+EDQyPvDtnT49aG8/hlp0P/DMgz6CHRq+ysYbv6agQj9L42g+3pgjP+sVMb+SMaw+4FulvrGqQT9FlBG/EKGVvR4rWz+X9gK/KRMbP2dWDT8CqxI/3N4yP1jEFD/wodW+6gjPvi8sLr9MeRw/fImutPotzzEAAIC/AACAPy3+WC+G7LwuUvR2Mqu3ujAAAIA/E/AnMgAAgD+6WXWzgyW4srqOfDAAAIA/fMIOLsWVsq0AAIA/GSsXLst5yC4AAIC/OfSYrIUcey0AAIC/CtmQLgAAgD8eKKwuFHaAsQAAgL9XhYez",
        "encoding": "base64",
        "path": [
         "vectors",
         "data"
        ]
       }
      ],
      "model_module": "k3d",
      "model_module_version": "2.8.1",
      "model_name": "ObjectModel",
      "state": {
       "_view_count": null,
       "_view_module": null,
       "_view_module_version": "",
       "_view_name": null,
       "colorLegend": false,
       "colors": {
        "data": {},
        "dtype": "uint32",
        "shape": [
         20,
         2
        ]
       },
       "compression_level": 0,
       "head_color": 255,
       "head_size": 1,
       "id": 140689358030208,
       "label_size": 1,
       "labels": [],
       "line_width": 0.01,
       "model_matrix": {
        "data": {},
        "dtype": "float32",
        "shape": [
         4,
         4
        ]
       },
       "name": "Vectors #1",
       "origin_color": 255,
       "origins": {
        "data": {},
        "dtype": "float32",
        "shape": [
         20,
         3
        ]
       },
       "type": "Vectors",
       "use_head": true,
       "vectors": {
        "data": {},
        "dtype": "float32",
        "shape": [
         20,
         3
        ]
       },
       "visible": true
      }
     },
     "37035924b19c472f90f46df788e92a3b": {
      "model_module": "k3d",
      "model_module_version": "2.8.1",
      "model_name": "ObjectModel",
      "state": {
       "_view_count": null,
       "_view_module": null,
       "_view_module_version": "",
       "_view_name": null,
       "colorLegend": false,
       "colors": {
        "compressed_buffer": {},
        "dtype": "uint32",
        "shape": [
         20,
         2
        ]
       },
       "compression_level": 0,
       "head_color": 255,
       "head_size": 1,
       "id": 139941321865168,
       "label_size": 1,
       "labels": [],
       "line_width": 0.01,
       "model_matrix": {
        "compressed_buffer": {},
        "dtype": "float32",
        "shape": [
         4,
         4
        ]
       },
       "name": "Vectors #1",
       "origin_color": 255,
       "origins": {
        "compressed_buffer": {},
        "dtype": "float32",
        "shape": [
         20,
         3
        ]
       },
       "type": "Vectors",
       "use_head": true,
       "vectors": {
        "compressed_buffer": {},
        "dtype": "float32",
        "shape": [
         20,
         3
        ]
       },
       "visible": true
      }
     },
     "3951525ed7944bbc8fd500bc096449a4": {
      "model_module": "k3d",
      "model_module_version": "2.8.1",
      "model_name": "PlotModel",
      "state": {
       "_backend_version": "2.8.1",
       "_dom_classes": [],
       "_view_count": null,
       "antialias": 3,
       "auto_rendering": true,
       "axes": [
        "x\\,\\text{(nm)}",
        "y\\,\\text{(nm)}",
        "z\\,\\text{(nm)}"
       ],
       "axes_helper": 1,
       "background_color": 16777215,
       "camera": [
        16.707952969879074,
        -24.636929444760327,
        2.1757952963173697,
        -0.04999999329447746,
        0.5,
        0.5,
        0,
        0,
        1
       ],
       "camera_animation": [],
       "camera_auto_fit": true,
       "camera_fov": 60,
       "camera_mode": "trackball",
       "camera_no_pan": false,
       "camera_no_rotate": false,
       "camera_no_zoom": false,
       "clipping_planes": [],
       "colorbar_object_id": -1,
       "colorbar_scientific": false,
       "fps": 25,
       "fps_meter": false,
       "grid": [
        -1,
        -1,
        -1,
        1,
        1,
        1
       ],
       "grid_auto_fit": true,
       "grid_visible": true,
       "height": 512,
       "layout": "IPY_MODEL_0f4688c77c784b9fac9cb373c8c7407c",
       "lighting": 1.5,
       "manipulate_mode": "translate",
       "menu_visibility": true,
       "mode": "view",
       "name": null,
       "object_ids": [
        140689319037680
       ],
       "rendering_steps": 1,
       "screenshot": "",
       "screenshot_scale": 2,
       "snapshot": "",
       "snapshot_include_js": true,
       "time": 0,
       "voxel_paint_color": 0
      }
     },
     "3c0fa7f638c04c82b116ec2e9cb64c57": {
      "model_module": "k3d",
      "model_module_version": "2.8.1",
      "model_name": "ObjectModel",
      "state": {
       "_view_count": null,
       "_view_module": null,
       "_view_module_version": "",
       "_view_name": null,
       "colorLegend": false,
       "colors": {
        "compressed_buffer": {},
        "dtype": "uint32",
        "shape": [
         20,
         2
        ]
       },
       "compression_level": 0,
       "head_color": 255,
       "head_size": 1,
       "id": 139941437748624,
       "label_size": 1,
       "labels": [],
       "line_width": 0.01,
       "model_matrix": {
        "compressed_buffer": {},
        "dtype": "float32",
        "shape": [
         4,
         4
        ]
       },
       "name": "Vectors #1",
       "origin_color": 255,
       "origins": {
        "compressed_buffer": {},
        "dtype": "float32",
        "shape": [
         20,
         3
        ]
       },
       "type": "Vectors",
       "use_head": true,
       "vectors": {
        "compressed_buffer": {},
        "dtype": "float32",
        "shape": [
         20,
         3
        ]
       },
       "visible": true
      }
     },
     "40692198f392498e8ed2091779972f3a": {
      "model_module": "k3d",
      "model_module_version": "2.8.1",
      "model_name": "ObjectModel",
      "state": {
       "_view_count": null,
       "_view_module": null,
       "_view_module_version": "",
       "_view_name": null,
       "color": 5010096,
       "colorLegend": false,
       "colors": {
        "compressed_buffer": {},
        "dtype": "uint32",
        "shape": [
         0
        ]
       },
       "compression_level": 0,
       "id": 139942518305744,
       "mesh_detail": 2,
       "model_matrix": {
        "compressed_buffer": {},
        "dtype": "float32",
        "shape": [
         4,
         4
        ]
       },
       "name": "Points #1",
       "opacities": {
        "compressed_buffer": {},
        "dtype": "float32",
        "shape": [
         0
        ]
       },
       "opacity": 1,
       "point_size": 0.25,
       "positions": {
        "compressed_buffer": {},
        "dtype": "float32",
        "shape": [
         20,
         3
        ]
       },
       "shader": "3dSpecular",
       "type": "Points",
       "visible": true
      }
     },
     "41b1dc9bd900451eba4f33c5219e831c": {
      "buffers": [
       {
        "data": "NOT+ADTk/gA+3vcAPt73AHiHiwB4h4sAd46UAHeOlABZKAAAWSgAADjo/gA46P4ATiIAAE4iAAA/3fYAP932AHaWngB2lp4AeH+AAHh/gABsV1AAbFdQAG4+JwBuPicAT9LoAE/S6AB2lp4AdpaeAHd4eAB3eHgAa6++AGuvvgBsSDkAbEg5AG1DMgBtQzIAeHp6AHh6egBWy+AAVsvgAA==",
        "encoding": "base64",
        "path": [
         "colors",
         "data"
        ]
       },
       {
        "data": "AACAPwAAAAAAAAAAAAAAAAAAAAAAAIA/AAAAAAAAAAAAAAAAAAAAAAAAgD8AAAAAAAAAAAAAAAAAAAAAAACAPw==",
        "encoding": "base64",
        "path": [
         "model_matrix",
         "data"
        ]
       },
       {
        "data": "bpIRwT8NFz8cxb49bb4NwWoxgz7Yd+891IfjwHOKbT8pnQI/AADgwElTSj/OA/I+3saywMTHjT4odYM/0zKMwJzeYT/Y0ac9OGZqwKQZAT/AG4c/B0gEwDFEDD+ss/M9qE2SvwjFST1p9d0+hRdhv8Efbz9qew0/ZnJoPw4GOz5WsEI/BKD0P8HSDT+WYmc/Nis9QIN6vz6qKSo+Km2BQLggLz//Ut0+hxaCQKDeAj7fKxY/b8W8QPjt+z1lGKI+NuvdQLZuJj865Vk/VizwQHjsYj10314/lEsQQdtigj4r7BM/ICgUQSidlD2G+kQ+",
        "encoding": "base64",
        "path": [
         "origins",
         "data"
        ]
       },
       {
        "data": "T7JNv/ZpOL65TlA/qs03Pyud+T4KIkQ/vIJHv+YUW79SSqe8AACAP5KmFL8hw189hLcxPndw5D5P6oa/Qktzvjm9Q7+KC1Y/hGOmPhTSDLx/N46/xr9dvxdDxL0VE0M/Xsk2v1/HZj9dKgg+Ci9CP4I/Xr+atte9zeRQv/l8Ij+tYAW/EYBSvw0s3b0sxU6/tFlpv/oKgT4r6yo/TGmLv+KCvL4DtAo+k5deP7CQPj/2XjG+9lZMv4IEQT82z7s+aLNev9m6mb5zyjO/bVkxvHGiYz/pvj2/ObmEv0o6+z5YYR++Dvj1PrbYWj+9gh0/",
        "encoding": "base64",
        "path": [
         "vectors",
         "data"
        ]
       }
      ],
      "model_module": "k3d",
      "model_module_version": "2.8.1",
      "model_name": "ObjectModel",
      "state": {
       "_view_count": null,
       "_view_module": null,
       "_view_module_version": "",
       "_view_name": null,
       "colorLegend": false,
       "colors": {
        "data": {},
        "dtype": "uint32",
        "shape": [
         20,
         2
        ]
       },
       "compression_level": 0,
       "head_color": 255,
       "head_size": 1,
       "id": 140689357087072,
       "label_size": 1,
       "labels": [],
       "line_width": 0.01,
       "model_matrix": {
        "data": {},
        "dtype": "float32",
        "shape": [
         4,
         4
        ]
       },
       "name": "Vectors #1",
       "origin_color": 255,
       "origins": {
        "data": {},
        "dtype": "float32",
        "shape": [
         20,
         3
        ]
       },
       "type": "Vectors",
       "use_head": true,
       "vectors": {
        "data": {},
        "dtype": "float32",
        "shape": [
         20,
         3
        ]
       },
       "visible": true
      }
     },
     "42ff28f1e91c4b08ae7ead448285a219": {
      "model_module": "@jupyter-widgets/base",
      "model_module_version": "1.2.0",
      "model_name": "LayoutModel",
      "state": {}
     },
     "485acde4e1554a02b1860483b5c42fdc": {
      "model_module": "@jupyter-widgets/base",
      "model_module_version": "1.2.0",
      "model_name": "LayoutModel",
      "state": {}
     },
     "535848807562406a90e5ca5c17fc7e7f": {
      "model_module": "k3d",
      "model_module_version": "2.8.1",
      "model_name": "PlotModel",
      "state": {
       "_backend_version": "2.7.4",
       "_dom_classes": [],
       "_view_count": null,
       "antialias": 3,
       "auto_rendering": true,
       "axes": [
        "x (nm)",
        "y (nm)",
        "z (nm)"
       ],
       "axes_helper": 1,
       "background_color": 16777215,
       "camera": [
        16.529716046734414,
        -24.116345930224302,
        2.1410897435827785,
        0.11881875991821289,
        0.5,
        0.5000000149011612,
        0,
        0,
        1
       ],
       "camera_animation": [],
       "camera_auto_fit": true,
       "camera_fov": 60,
       "camera_no_pan": false,
       "camera_no_rotate": false,
       "camera_no_zoom": false,
       "clipping_planes": [],
       "colorbar_object_id": -1,
       "fps": 25,
       "fps_meter": false,
       "grid": [
        -1,
        -1,
        -1,
        1,
        1,
        1
       ],
       "grid_auto_fit": true,
       "grid_visible": true,
       "height": 512,
       "layout": "IPY_MODEL_57fb32b46c8a4b1895227d896b522b98",
       "lighting": 1.5,
       "menu_visibility": true,
       "mode": "view",
       "name": null,
       "object_ids": [
        139941355517968,
        139942518305744
       ],
       "rendering_steps": 1,
       "screenshot": "",
       "screenshot_scale": 2,
       "snapshot": "",
       "time": 0,
       "voxel_paint_color": 0
      }
     },
     "547249cb7ea446d991f1f579131cbb81": {
      "model_module": "@jupyter-widgets/output",
      "model_module_version": "1.0.0",
      "model_name": "OutputModel",
      "state": {
       "layout": "IPY_MODEL_d2d7a155d2074c289347651487142e7f",
       "outputs": [
        {
         "data": {
          "application/vnd.jupyter.widget-view+json": {
           "model_id": "2e15a623c260471697e65d8996595af7",
           "version_major": 2,
           "version_minor": 0
          },
          "text/plain": "Plot(antialias=3, axes=['x', 'y', 'z'], axes_helper=1.0, background_color=16777215, camera=[2, -3, 0.2, 0.0, 0…"
         },
         "metadata": {},
         "output_type": "display_data"
        }
       ]
      }
     },
     "5536a08a9e5c4350b5917b55cef13f3b": {
      "model_module": "k3d",
      "model_module_version": "2.8.1",
      "model_name": "PlotModel",
      "state": {
       "_backend_version": "2.8.1",
       "_dom_classes": [],
       "_view_count": null,
       "antialias": 3,
       "auto_rendering": true,
       "axes": [
        "x\\,\\text{(nm)}",
        "y\\,\\text{(nm)}",
        "z\\,\\text{(nm)}"
       ],
       "axes_helper": 1,
       "background_color": 16777215,
       "camera": [
        16.085169717650885,
        -23.742119677336923,
        2.1161412512865176,
        -0.07624340057373047,
        0.5,
        0.49999993946403265,
        0,
        0,
        1
       ],
       "camera_animation": [],
       "camera_auto_fit": true,
       "camera_fov": 60,
       "camera_mode": "trackball",
       "camera_no_pan": false,
       "camera_no_rotate": false,
       "camera_no_zoom": false,
       "clipping_planes": [],
       "colorbar_object_id": -1,
       "colorbar_scientific": false,
       "fps": 25,
       "fps_meter": false,
       "grid": [
        -1,
        -1,
        -1,
        1,
        1,
        1
       ],
       "grid_auto_fit": true,
       "grid_visible": true,
       "height": 512,
       "layout": "IPY_MODEL_fabf6e191aea4510a1e70d24f4310d09",
       "lighting": 1.5,
       "manipulate_mode": "translate",
       "menu_visibility": true,
       "mode": "view",
       "name": null,
       "object_ids": [
        140689358085232,
        140689358084944
       ],
       "rendering_steps": 1,
       "screenshot": "",
       "screenshot_scale": 2,
       "snapshot": "",
       "snapshot_include_js": true,
       "time": 0,
       "voxel_paint_color": 0
      }
     },
     "57fb32b46c8a4b1895227d896b522b98": {
      "model_module": "@jupyter-widgets/base",
      "model_module_version": "1.2.0",
      "model_name": "LayoutModel",
      "state": {}
     },
     "5aa3a4aa596442c9b3a02b1f64164694": {
      "buffers": [
       {
        "data": "sHJMAFKE3QA=",
        "encoding": "base64",
        "path": [
         "color_map",
         "data"
        ]
       },
       {
        "data": "AACgQQAAAAAAAAAAAAAAAAAAAAAAAIA/AAAAAAAAAD8AAAAAAAAAAAAAgD8AAAA/AAAAAAAAAAAAAAAAAACAPw==",
        "encoding": "base64",
        "path": [
         "model_matrix",
         "data"
        ]
       },
       {
        "data": "AQEBAQEBAQEBAQEBAQEBAQEBAQI=",
        "encoding": "base64",
        "path": [
         "voxels",
         "data"
        ]
       }
      ],
      "model_module": "k3d",
      "model_module_version": "2.8.1",
      "model_name": "ObjectModel",
      "state": {
       "_view_count": null,
       "_view_module": null,
       "_view_module_version": "",
       "_view_name": null,
       "colorLegend": false,
       "color_map": {
        "data": {},
        "dtype": "uint32",
        "shape": [
         2
        ]
       },
       "compression_level": 0,
       "id": 140689319037680,
       "model_matrix": {
        "data": {},
        "dtype": "float32",
        "shape": [
         4,
         4
        ]
       },
       "name": "Voxels #1",
       "opacity": 1,
       "outlines": false,
       "outlines_color": 0,
       "type": "Voxels",
       "visible": true,
       "voxels": {
        "data": {},
        "dtype": "uint8",
        "shape": [
         1,
         1,
         20
        ]
       },
       "wireframe": false
      }
     },
     "5d63d689e4784d8cba2aac0cff36390b": {
      "model_module": "@jupyter-widgets/base",
      "model_module_version": "1.2.0",
      "model_name": "LayoutModel",
      "state": {}
     },
     "6061ddd3c7854c7ba32286e0b41cefe2": {
      "buffers": [
       {
        "data": "",
        "encoding": "base64",
        "path": [
         "colors",
         "data"
        ]
       },
       {
        "data": "AACAPwAAAAAAAAAAAAAAAAAAAAAAAIA/AAAAAAAAAAAAAAAAAAAAAAAAgD8AAAAAAAAAAAAAAAAAAAAAAACAPw==",
        "encoding": "base64",
        "path": [
         "model_matrix",
         "data"
        ]
       },
       {
        "data": "",
        "encoding": "base64",
        "path": [
         "opacities",
         "data"
        ]
       },
       {
        "data": "AAAYwQAAAD8AAAA/AAAIwQAAAD8AAAA/AADwwAAAAD8AAAA/AADQwAAAAD8AAAA/AACwwAAAAD8AAAA/AACQwAAAAD8AAAA/AABgwAAAAD8AAAA/AAAgwAAAAD8AAAA/AADAvwAAAD8AAAA/AAAAvwAAAD8AAAA/AAAAPwAAAD8AAAA/AADAPwAAAD8AAAA/AAAgQAAAAD8AAAA/AABgQAAAAD8AAAA/AACQQAAAAD8AAAA/AACwQAAAAD8AAAA/AADQQAAAAD8AAAA/AADwQAAAAD8AAAA/AAAIQQAAAD8AAAA/AAAYQQAAAD8AAAA/",
        "encoding": "base64",
        "path": [
         "positions",
         "data"
        ]
       }
      ],
      "model_module": "k3d",
      "model_module_version": "2.8.1",
      "model_name": "ObjectModel",
      "state": {
       "_view_count": null,
       "_view_module": null,
       "_view_module_version": "",
       "_view_name": null,
       "color": 5010096,
       "colorLegend": false,
       "colors": {
        "data": {},
        "dtype": "uint32",
        "shape": [
         0
        ]
       },
       "compression_level": 0,
       "id": 140689357892624,
       "mesh_detail": 2,
       "model_matrix": {
        "data": {},
        "dtype": "float32",
        "shape": [
         4,
         4
        ]
       },
       "name": "Points #1",
       "opacities": {
        "data": {},
        "dtype": "float32",
        "shape": [
         0
        ]
       },
       "opacity": 1,
       "point_size": 0.25,
       "positions": {
        "data": {},
        "dtype": "float32",
        "shape": [
         20,
         3
        ]
       },
       "shader": "3dSpecular",
       "type": "Points",
       "visible": true
      }
     },
     "60a85607b0b64bb5a3caa31fc11bce5c": {
      "model_module": "k3d",
      "model_module_version": "2.8.1",
      "model_name": "PlotModel",
      "state": {
       "_backend_version": "2.8.1",
       "_dom_classes": [],
       "_view_count": null,
       "antialias": 3,
       "auto_rendering": true,
       "axes": [
        "x\\,\\text{(nm)}",
        "y\\,\\text{(nm)}",
        "z\\,\\text{(nm)}"
       ],
       "axes_helper": 1,
       "background_color": 16777215,
       "camera": [
        16.280471037613417,
        -24.04186728713969,
        2.1361245464073826,
        -0.08077383041381836,
        0.5000000149011612,
        0.5000000596046448,
        0,
        0,
        1
       ],
       "camera_animation": [],
       "camera_auto_fit": true,
       "camera_fov": 60,
       "camera_mode": "trackball",
       "camera_no_pan": false,
       "camera_no_rotate": false,
       "camera_no_zoom": false,
       "clipping_planes": [],
       "colorbar_object_id": -1,
       "colorbar_scientific": false,
       "fps": 25,
       "fps_meter": false,
       "grid": [
        -1,
        -1,
        -1,
        1,
        1,
        1
       ],
       "grid_auto_fit": true,
       "grid_visible": true,
       "height": 512,
       "layout": "IPY_MODEL_f3f1f9f645674a3f8ffef14587b133c9",
       "lighting": 1.5,
       "manipulate_mode": "translate",
       "menu_visibility": true,
       "mode": "view",
       "name": null,
       "object_ids": [
        140689357087072,
        140689357576272
       ],
       "rendering_steps": 1,
       "screenshot": "",
       "screenshot_scale": 2,
       "snapshot": "",
       "snapshot_include_js": true,
       "time": 0,
       "voxel_paint_color": 0
      }
     },
     "6201358bb8ca49e3b1d2487d8b482433": {
      "model_module": "k3d",
      "model_module_version": "2.8.1",
      "model_name": "PlotModel",
      "state": {
       "_backend_version": "2.8.1",
       "_dom_classes": [],
       "_view_count": null,
       "antialias": 3,
       "auto_rendering": true,
       "axes": [
        "x\\,\\text{(nm)}",
        "y\\,\\text{(nm)}",
        "z\\,\\text{(nm)}"
       ],
       "axes_helper": 1,
       "background_color": 16777215,
       "camera": [
        16.106759198379134,
        -23.82666892986241,
        2.1217778979238657,
        -0.11102008819580078,
        0.5,
        0.49999996926635504,
        0,
        0,
        1
       ],
       "camera_animation": [],
       "camera_auto_fit": true,
       "camera_fov": 60,
       "camera_mode": "trackball",
       "camera_no_pan": false,
       "camera_no_rotate": false,
       "camera_no_zoom": false,
       "clipping_planes": [],
       "colorbar_object_id": -1,
       "colorbar_scientific": false,
       "fps": 25,
       "fps_meter": false,
       "grid": [
        -1,
        -1,
        -1,
        1,
        1,
        1
       ],
       "grid_auto_fit": true,
       "grid_visible": true,
       "height": 512,
       "layout": "IPY_MODEL_19fd45609ad3455bafdc4a10484c6d37",
       "lighting": 1.5,
       "manipulate_mode": "translate",
       "menu_visibility": true,
       "mode": "view",
       "name": null,
       "object_ids": [
        140689357629136,
        140689357892624
       ],
       "rendering_steps": 1,
       "screenshot": "",
       "screenshot_scale": 2,
       "snapshot": "",
       "snapshot_include_js": true,
       "time": 0,
       "voxel_paint_color": 0
      }
     },
     "6ae0ee855cf741cfa9ca21d48cc64ecb": {
      "model_module": "k3d",
      "model_module_version": "2.8.1",
      "model_name": "PlotModel",
      "state": {
       "_backend_version": "2.7.4",
       "_dom_classes": [],
       "_view_count": null,
       "antialias": 3,
       "auto_rendering": true,
       "axes": [
        "x (nm)",
        "y (nm)",
        "z (nm)"
       ],
       "axes_helper": 1,
       "background_color": 16777215,
       "camera": [
        16.067026913699245,
        -23.618361683430876,
        2.1078907937344615,
        -0.011880874633789062,
        0.4999999990686774,
        0.5000000149011612,
        0,
        0,
        1
       ],
       "camera_animation": [],
       "camera_auto_fit": true,
       "camera_fov": 60,
       "camera_no_pan": false,
       "camera_no_rotate": false,
       "camera_no_zoom": false,
       "clipping_planes": [],
       "colorbar_object_id": -1,
       "fps": 25,
       "fps_meter": false,
       "grid": [
        -1,
        -1,
        -1,
        1,
        1,
        1
       ],
       "grid_auto_fit": true,
       "grid_visible": true,
       "height": 512,
       "layout": "IPY_MODEL_a9a49fcc629848b7bcad2e722a01754a",
       "lighting": 1.5,
       "menu_visibility": true,
       "mode": "view",
       "name": null,
       "object_ids": [
        139942517920592,
        139941438047056
       ],
       "rendering_steps": 1,
       "screenshot": "",
       "screenshot_scale": 2,
       "snapshot": "",
       "time": 0,
       "voxel_paint_color": 0
      }
     },
     "6c5628266e264d5aa3bfe0c4f8dd272e": {
      "model_module": "k3d",
      "model_module_version": "2.8.1",
      "model_name": "PlotModel",
      "state": {
       "_backend_version": "2.8.1",
       "_dom_classes": [],
       "_view_count": null,
       "antialias": 3,
       "auto_rendering": true,
       "axes": [
        "x\\,\\text{(nm)}",
        "y\\,\\text{(nm)}",
        "z\\,\\text{(nm)}"
       ],
       "axes_helper": 1,
       "background_color": 16777215,
       "camera": [
        16.524744443352134,
        -24.237688888430764,
        2.1491792611534652,
        0.03295183181762695,
        0.5000000288709998,
        0.5,
        0,
        0,
        1
       ],
       "camera_animation": [],
       "camera_auto_fit": true,
       "camera_fov": 60,
       "camera_mode": "trackball",
       "camera_no_pan": false,
       "camera_no_rotate": false,
       "camera_no_zoom": false,
       "clipping_planes": [],
       "colorbar_object_id": -1,
       "colorbar_scientific": false,
       "fps": 25,
       "fps_meter": false,
       "grid": [
        -1,
        -1,
        -1,
        1,
        1,
        1
       ],
       "grid_auto_fit": true,
       "grid_visible": true,
       "height": 512,
       "layout": "IPY_MODEL_1e2016ca684b4c26a31c28097c58cf17",
       "lighting": 1.5,
       "manipulate_mode": "translate",
       "menu_visibility": true,
       "mode": "view",
       "name": null,
       "object_ids": [
        140689318844736,
        140689358029584
       ],
       "rendering_steps": 1,
       "screenshot": "",
       "screenshot_scale": 2,
       "snapshot": "",
       "snapshot_include_js": true,
       "time": 0,
       "voxel_paint_color": 0
      }
     },
     "6cb746749c1c40e4a5c5d36e04e0c34f": {
      "model_module": "k3d",
      "model_module_version": "2.8.1",
      "model_name": "PlotModel",
      "state": {
       "_backend_version": "2.7.4",
       "_dom_classes": [],
       "_view_count": null,
       "antialias": 3,
       "auto_rendering": true,
       "axes": [
        "x (nm)",
        "y (nm)",
        "z (nm)"
       ],
       "axes_helper": 1,
       "background_color": 16777215,
       "camera": [
        16.707952969879074,
        -24.636929444760327,
        2.175795296317352,
        -0.04999999329447746,
        0.5,
        0.5,
        0,
        0,
        1
       ],
       "camera_animation": [],
       "camera_auto_fit": true,
       "camera_fov": 60,
       "camera_no_pan": false,
       "camera_no_rotate": false,
       "camera_no_zoom": false,
       "clipping_planes": [],
       "colorbar_object_id": -1,
       "fps": 25,
       "fps_meter": false,
       "grid": [
        -1,
        -1,
        -1,
        1,
        1,
        1
       ],
       "grid_auto_fit": true,
       "grid_visible": true,
       "height": 512,
       "layout": "IPY_MODEL_fb617132b9014d5d9850e50ac63bf6df",
       "lighting": 1.5,
       "menu_visibility": true,
       "mode": "view",
       "name": null,
       "object_ids": [
        139942517920656
       ],
       "rendering_steps": 1,
       "screenshot": "",
       "screenshot_scale": 2,
       "snapshot": "",
       "time": 0,
       "voxel_paint_color": 0
      }
     },
     "6d7598d4d3ad49329a785ad60d7f3608": {
      "buffers": [
       {
        "data": "NOT+ADTk/gA+3vcAPt73AHiHiwB4h4sAd46UAHeOlABZKAAAWSgAADjo/gA46P4ATiIAAE4iAAA/3fYAP932AHaWngB2lp4AeH+AAHh/gAB4iY4AeImOAHiJjgB4iY4AeImOAHiJjgB4iY4AeImOAHiJjgB4iY4AeImOAHiJjgB4iY4AeImOAHiJjgB4iY4AeImOAHiJjgB4iY4AeImOAA==",
        "encoding": "base64",
        "path": [
         "colors",
         "data"
        ]
       },
       {
        "data": "AACAPwAAAAAAAAAAAAAAAAAAAAAAAIA/AAAAAAAAAAAAAAAAAAAAAAAAgD8AAAAAAAAAAAAAAAAAAAAAAACAPw==",
        "encoding": "base64",
        "path": [
         "model_matrix",
         "data"
        ]
       },
       {
        "data": "h3ISwZnpEz/mHhg+LvYMwYcwlD5iJy0+jDrlwI6fXj8IQgI/MtLdwBo0QD9d6/M+D2aywMZVnT7LinQ/W7eMwJyKVD9QNQ4+rPtowEnzAD9u2Xo/YA4IwI6YCj+A+y4+xIaYv9iY4j0vmOI+ot5Tv6v9Xz9kpQs/AACAPwAAAD8AAAA/AAAAQAAAAD/+//8+AABAQAAAAD8AAAA/AACAQAAAAD8AAAA/AACAQAAAAD8AAAA/AADAQAAAAD8AAAA/AADgQAAAAD8AAAA/AADwQAAAAAAAAAA/AAAQQQAAAD8AAAA/AAAYQQAAAAAAAAA/",
        "encoding": "base64",
        "path": [
         "origins",
         "data"
        ]
       },
       {
        "data": "Kq8xv8pMH76N8DM/x8UeP/Ke1z5PbCk/P1csvx0/Pb8ggpC8JCNdPzRoAL8rSkE90oMZPnNUxT6WFWm/XilSvjgVKb9Y5Tg/wLqPPmBJ87vdsnW//4w/v9yIqb1Agig/7uQdv8pZRz+HPus9Q70nP1b7P78/Vrq9AACAv4xBrq9o0zovAACAv0BYLjDjieszAACAv7LVoK08l+muAACAv+YKziywkvqrAACAPzStDLBTIgcuAACAv3b9BLJKPxSwAACAv3paOS7LZJMvcRq8KwAAgD9SRLYvAACAvx8ed63wulwsyuGnrgAAgD/KKh2v",
        "encoding": "base64",
        "path": [
         "vectors",
         "data"
        ]
       }
      ],
      "model_module": "k3d",
      "model_module_version": "2.8.1",
      "model_name": "ObjectModel",
      "state": {
       "_view_count": null,
       "_view_module": null,
       "_view_module_version": "",
       "_view_name": null,
       "colorLegend": false,
       "colors": {
        "data": {},
        "dtype": "uint32",
        "shape": [
         20,
         2
        ]
       },
       "compression_level": 0,
       "head_color": 255,
       "head_size": 1,
       "id": 140689357629136,
       "label_size": 1,
       "labels": [],
       "line_width": 0.01,
       "model_matrix": {
        "data": {},
        "dtype": "float32",
        "shape": [
         4,
         4
        ]
       },
       "name": "Vectors #1",
       "origin_color": 255,
       "origins": {
        "data": {},
        "dtype": "float32",
        "shape": [
         20,
         3
        ]
       },
       "type": "Vectors",
       "use_head": true,
       "vectors": {
        "data": {},
        "dtype": "float32",
        "shape": [
         20,
         3
        ]
       },
       "visible": true
      }
     },
     "709b6c111c584a639fcb8cef09b2aaa7": {
      "model_module": "@jupyter-widgets/output",
      "model_module_version": "1.0.0",
      "model_name": "OutputModel",
      "state": {
       "layout": "IPY_MODEL_0a09726d09bb418baef7261b2f42f24f",
       "outputs": [
        {
         "data": {
          "application/vnd.jupyter.widget-view+json": {
           "model_id": "ad27e89f263c45299ad774b9ccacd22d",
           "version_major": 2,
           "version_minor": 0
          },
          "text/plain": "Plot(antialias=3, axes=['x', 'y', 'z'], axes_helper=1.0, background_color=16777215, camera=[2, -3, 0.2, 0.0, 0…"
         },
         "metadata": {},
         "output_type": "display_data"
        }
       ]
      }
     },
     "7296d1b14bc24eb7a4902f46df78928f": {
      "model_module": "@jupyter-widgets/base",
      "model_module_version": "1.2.0",
      "model_name": "LayoutModel",
      "state": {}
     },
     "75768286f9a44c87979dccfa4dca133a": {
      "buffers": [
       {
        "data": "",
        "encoding": "base64",
        "path": [
         "colors",
         "data"
        ]
       },
       {
        "data": "AACAPwAAAAAAAAAAAAAAAAAAAAAAAIA/AAAAAAAAAAAAAAAAAAAAAAAAgD8AAAAAAAAAAAAAAAAAAAAAAACAPw==",
        "encoding": "base64",
        "path": [
         "model_matrix",
         "data"
        ]
       },
       {
        "data": "",
        "encoding": "base64",
        "path": [
         "opacities",
         "data"
        ]
       },
       {
        "data": "AAAYwQAAAD8AAAA/AAAIwQAAAD8AAAA/AADwwAAAAD8AAAA/AADQwAAAAD8AAAA/AACwwAAAAD8AAAA/AACQwAAAAD8AAAA/AABgwAAAAD8AAAA/AAAgwAAAAD8AAAA/AADAvwAAAD8AAAA/AAAAvwAAAD8AAAA/AAAAPwAAAD8AAAA/AADAPwAAAD8AAAA/AAAgQAAAAD8AAAA/AABgQAAAAD8AAAA/AACQQAAAAD8AAAA/AACwQAAAAD8AAAA/AADQQAAAAD8AAAA/AADwQAAAAD8AAAA/AAAIQQAAAD8AAAA/AAAYQQAAAD8AAAA/",
        "encoding": "base64",
        "path": [
         "positions",
         "data"
        ]
       }
      ],
      "model_module": "k3d",
      "model_module_version": "2.8.1",
      "model_name": "ObjectModel",
      "state": {
       "_view_count": null,
       "_view_module": null,
       "_view_module_version": "",
       "_view_name": null,
       "color": 5010096,
       "colorLegend": false,
       "colors": {
        "data": {},
        "dtype": "uint32",
        "shape": [
         0
        ]
       },
       "compression_level": 0,
       "id": 140689357576272,
       "mesh_detail": 2,
       "model_matrix": {
        "data": {},
        "dtype": "float32",
        "shape": [
         4,
         4
        ]
       },
       "name": "Points #1",
       "opacities": {
        "data": {},
        "dtype": "float32",
        "shape": [
         0
        ]
       },
       "opacity": 1,
       "point_size": 0.25,
       "positions": {
        "data": {},
        "dtype": "float32",
        "shape": [
         20,
         3
        ]
       },
       "shader": "3dSpecular",
       "type": "Points",
       "visible": true
      }
     },
     "758dae143b774fdf9eb5edfa10921635": {
      "model_module": "@jupyter-widgets/output",
      "model_module_version": "1.0.0",
      "model_name": "OutputModel",
      "state": {
       "layout": "IPY_MODEL_79d0c7452ee045a983a89059c965c9d1",
       "outputs": [
        {
         "data": {
          "application/vnd.jupyter.widget-view+json": {
           "model_id": "dec78697d99f428fbabf565e7f35a9e5",
           "version_major": 2,
           "version_minor": 0
          },
          "text/plain": "Plot(antialias=3, axes=['x', 'y', 'z'], axes_helper=1.0, background_color=16777215, camera=[2, -3, 0.2, 0.0, 0…"
         },
         "metadata": {},
         "output_type": "display_data"
        }
       ]
      }
     },
     "79601a7ea8ce4c0f82085d46649f0f8f": {
      "model_module": "@jupyter-widgets/output",
      "model_module_version": "1.0.0",
      "model_name": "OutputModel",
      "state": {
       "layout": "IPY_MODEL_ed50cf78a7444c25bb27333120126eac",
       "outputs": [
        {
         "data": {
          "application/vnd.jupyter.widget-view+json": {
           "model_id": "6ae0ee855cf741cfa9ca21d48cc64ecb",
           "version_major": 2,
           "version_minor": 0
          },
          "text/plain": "Plot(antialias=3, axes=['x', 'y', 'z'], axes_helper=1.0, background_color=16777215, camera=[2, -3, 0.2, 0.0, 0…"
         },
         "metadata": {},
         "output_type": "display_data"
        }
       ]
      }
     },
     "79d0c7452ee045a983a89059c965c9d1": {
      "model_module": "@jupyter-widgets/base",
      "model_module_version": "1.2.0",
      "model_name": "LayoutModel",
      "state": {}
     },
     "7a3901b03d4646e7b7039c2dc209d0d5": {
      "model_module": "@jupyter-widgets/base",
      "model_module_version": "1.2.0",
      "model_name": "LayoutModel",
      "state": {}
     },
     "838b75cd964f40bcace5de7218c85c57": {
      "model_module": "k3d",
      "model_module_version": "2.8.1",
      "model_name": "ObjectModel",
      "state": {
       "_view_count": null,
       "_view_module": null,
       "_view_module_version": "",
       "_view_name": null,
       "colorLegend": false,
       "colors": {
        "compressed_buffer": {},
        "dtype": "uint32",
        "shape": [
         20,
         2
        ]
       },
       "compression_level": 0,
       "head_color": 255,
       "head_size": 1,
       "id": 139941443413584,
       "label_size": 1,
       "labels": [],
       "line_width": 0.01,
       "model_matrix": {
        "compressed_buffer": {},
        "dtype": "float32",
        "shape": [
         4,
         4
        ]
       },
       "name": "Vectors #1",
       "origin_color": 255,
       "origins": {
        "compressed_buffer": {},
        "dtype": "float32",
        "shape": [
         20,
         3
        ]
       },
       "type": "Vectors",
       "use_head": true,
       "vectors": {
        "compressed_buffer": {},
        "dtype": "float32",
        "shape": [
         20,
         3
        ]
       },
       "visible": true
      }
     },
     "870ce8bcb95343a795526c5a2fb892be": {
      "buffers": [
       {
        "data": "cGhlAHBoZQA24vwANuL8AHJubABybmwAd5KZAHeSmQBznacAc52nAGxIOgBsSDoAbE1BAGxNQQBnt8cAZ7fHAGxVTQBsVU0AY7vNAGO7zQBtQCsAbUArAHFraQBxa2kAVM3iAFTN4gBkuswAZLrMAFTN4gBUzeIAOOj+ADjo/gBWJgAAViYAAE4iAABOIgAAcGdkAHBnZABhv9EAYb/RAA==",
        "encoding": "base64",
        "path": [
         "colors",
         "data"
        ]
       },
       {
        "data": "AACAPwAAAAAAAAAAAAAAAAAAAAAAAIA/AAAAAAAAAAAAAAAAAAAAAAAAgD8AAAAAAAAAAAAAAAAAAAAAAACAPw==",
        "encoding": "base64",
        "path": [
         "model_matrix",
         "data"
        ]
       },
       {
        "data": "lnAcwcOdaj/xcxs/02wJwbQrrz5QCa88+qH/wCyLvD4kuBM/uQjGwGwb4z08Z8Q+XXe6wDCiWj/G3qc+5LWKwHwK5z0kgko/WptdwFBAfT0gB0M/ktczwHamXj7QvFM+B8btv8RwTz5UqzY/zAmWvoQkWT+uqT8+Gf+jPiaZVj8u5lY/wQ6DP+vgKT/Amhc/oRs0QHRsGD9I99s9FXBrQK4HCz4Yg0A+2ZqFQGwMDj8k2t09HOWyQF2Z4D4AAAAAfBHSQL7NIj8cOn0/smDvQFlfDz/YAoE/qaoJQUB/VDy6LR4/QXAWQRjTYD8EWi0+",
        "encoding": "base64",
        "path": [
         "origins",
         "data"
        ]
       },
       {
        "data": "thIOP4Y7Vb+Hn1u+R2k2PpmooT5rD3U/mx96P6fphj4dwR2+cHQfvyU5Rz8SY24+ynUnP2BENb90QrA+ckOpvmE9Rj9HBBW/jSmZvfZXYD8/Dga/kLweP8WsED+YIRY/HBg3P55HGD9Rrdq+aezTvghJMr8pKyA/zgG4PkwyLb9czC2//MRzP6yDp74C1jy+B90gv51jQ74uAkk/UgG3vil8Oj90vh8/a1ImP8PG4L13iUg/HEc5vhY1+z0AAIA/6V4Evvk2i744dHq/f04fPZP19b2xBYK/mlRVvgZceT/PbXG+bN9HPjGmQb/+Uik/",
        "encoding": "base64",
        "path": [
         "vectors",
         "data"
        ]
       }
      ],
      "model_module": "k3d",
      "model_module_version": "2.8.1",
      "model_name": "ObjectModel",
      "state": {
       "_view_count": null,
       "_view_module": null,
       "_view_module_version": "",
       "_view_name": null,
       "colorLegend": false,
       "colors": {
        "data": {},
        "dtype": "uint32",
        "shape": [
         20,
         2
        ]
       },
       "compression_level": 0,
       "head_color": 255,
       "head_size": 1,
       "id": 140689358085232,
       "label_size": 1,
       "labels": [],
       "line_width": 0.01,
       "model_matrix": {
        "data": {},
        "dtype": "float32",
        "shape": [
         4,
         4
        ]
       },
       "name": "Vectors #1",
       "origin_color": 255,
       "origins": {
        "data": {},
        "dtype": "float32",
        "shape": [
         20,
         3
        ]
       },
       "type": "Vectors",
       "use_head": true,
       "vectors": {
        "data": {},
        "dtype": "float32",
        "shape": [
         20,
         3
        ]
       },
       "visible": true
      }
     },
     "884c8188d01b4825a728ef0bf32083e6": {
      "model_module": "k3d",
      "model_module_version": "2.8.1",
      "model_name": "ObjectModel",
      "state": {
       "_view_count": null,
       "_view_module": null,
       "_view_module_version": "",
       "_view_name": null,
       "colorLegend": false,
       "colors": {
        "compressed_buffer": {},
        "dtype": "uint32",
        "shape": [
         20,
         2
        ]
       },
       "compression_level": 0,
       "head_color": 255,
       "head_size": 1,
       "id": 139941355517968,
       "label_size": 1,
       "labels": [],
       "line_width": 0.01,
       "model_matrix": {
        "compressed_buffer": {},
        "dtype": "float32",
        "shape": [
         4,
         4
        ]
       },
       "name": "Vectors #1",
       "origin_color": 255,
       "origins": {
        "compressed_buffer": {},
        "dtype": "float32",
        "shape": [
         20,
         3
        ]
       },
       "type": "Vectors",
       "use_head": true,
       "vectors": {
        "compressed_buffer": {},
        "dtype": "float32",
        "shape": [
         20,
         3
        ]
       },
       "visible": true
      }
     },
     "8c8abd6d6d6641c09d9b56f9100d4543": {
      "model_module": "k3d",
      "model_module_version": "2.8.1",
      "model_name": "ObjectModel",
      "state": {
       "_view_count": null,
       "_view_module": null,
       "_view_module_version": "",
       "_view_name": null,
       "colorLegend": false,
       "color_map": {
        "compressed_buffer": {},
        "dtype": "uint32",
        "shape": [
         10
        ]
       },
       "compression_level": 0,
       "id": 139942517920656,
       "model_matrix": {
        "compressed_buffer": {},
        "dtype": "float32",
        "shape": [
         4,
         4
        ]
       },
       "name": "Voxels #1",
       "opacity": 1,
       "outlines": false,
       "outlines_color": 0,
       "type": "Voxels",
       "visible": true,
       "voxels": {
        "compressed_buffer": {},
        "dtype": "uint8",
        "shape": [
         1,
         1,
         20
        ]
       },
       "wireframe": false
      }
     },
     "8cc49f8b531d452b921dd304ff0b426c": {
      "model_module": "@jupyter-widgets/output",
      "model_module_version": "1.0.0",
      "model_name": "OutputModel",
      "state": {
       "layout": "IPY_MODEL_ad435920fd2b45e69c44c381909f2d2d",
       "outputs": [
        {
         "data": {
          "application/vnd.jupyter.widget-view+json": {
           "model_id": "ef87384986c7473497442511b2ce1e62",
           "version_major": 2,
           "version_minor": 0
          },
          "text/plain": "Plot(antialias=3, axes=['x', 'y', 'z'], axes_helper=1.0, background_color=16777215, camera=[2, -3, 0.2, 0.0, 0…"
         },
         "metadata": {},
         "output_type": "display_data"
        }
       ]
      }
     },
     "8d62fcaa49e74c34b62c847f16f1fdaa": {
      "model_module": "@jupyter-widgets/output",
      "model_module_version": "1.0.0",
      "model_name": "OutputModel",
      "state": {
       "layout": "IPY_MODEL_485acde4e1554a02b1860483b5c42fdc",
       "outputs": [
        {
         "data": {
          "application/vnd.jupyter.widget-view+json": {
           "model_id": "5536a08a9e5c4350b5917b55cef13f3b",
           "version_major": 2,
           "version_minor": 0
          },
          "text/plain": "Plot(antialias=3, axes=['x', 'y', 'z'], axes_helper=1.0, background_color=16777215, camera=[2, -3, 0.2, 0.0, 0…"
         },
         "metadata": {},
         "output_type": "display_data"
        }
       ]
      }
     },
     "948c839e6e1d4d8780eefc58dcab1c1e": {
      "model_module": "@jupyter-widgets/base",
      "model_module_version": "1.2.0",
      "model_name": "LayoutModel",
      "state": {}
     },
     "a15ca5d67cdf439586432593297cf6c2": {
      "model_module": "k3d",
      "model_module_version": "2.8.1",
      "model_name": "ObjectModel",
      "state": {
       "_view_count": null,
       "_view_module": null,
       "_view_module_version": "",
       "_view_name": null,
       "colorLegend": false,
       "color_map": {
        "compressed_buffer": {},
        "dtype": "uint32",
        "shape": [
         2
        ]
       },
       "compression_level": 0,
       "id": 139941438061904,
       "model_matrix": {
        "compressed_buffer": {},
        "dtype": "float32",
        "shape": [
         4,
         4
        ]
       },
       "name": "Voxels #1",
       "opacity": 1,
       "outlines": false,
       "outlines_color": 0,
       "type": "Voxels",
       "visible": true,
       "voxels": {
        "compressed_buffer": {},
        "dtype": "uint8",
        "shape": [
         1,
         1,
         20
        ]
       },
       "wireframe": false
      }
     },
     "a5933f7972d047bc81d275608fd568cc": {
      "buffers": [
       {
        "data": "",
        "encoding": "base64",
        "path": [
         "colors",
         "data"
        ]
       },
       {
        "data": "AACAPwAAAAAAAAAAAAAAAAAAAAAAAIA/AAAAAAAAAAAAAAAAAAAAAAAAgD8AAAAAAAAAAAAAAAAAAAAAAACAPw==",
        "encoding": "base64",
        "path": [
         "model_matrix",
         "data"
        ]
       },
       {
        "data": "",
        "encoding": "base64",
        "path": [
         "opacities",
         "data"
        ]
       },
       {
        "data": "AAAYwQAAAD8AAAA/AAAIwQAAAD8AAAA/AADwwAAAAD8AAAA/AADQwAAAAD8AAAA/AACwwAAAAD8AAAA/AACQwAAAAD8AAAA/AABgwAAAAD8AAAA/AAAgwAAAAD8AAAA/AADAvwAAAD8AAAA/AAAAvwAAAD8AAAA/AAAAPwAAAD8AAAA/AADAPwAAAD8AAAA/AAAgQAAAAD8AAAA/AABgQAAAAD8AAAA/AACQQAAAAD8AAAA/AACwQAAAAD8AAAA/AADQQAAAAD8AAAA/AADwQAAAAD8AAAA/AAAIQQAAAD8AAAA/AAAYQQAAAD8AAAA/",
        "encoding": "base64",
        "path": [
         "positions",
         "data"
        ]
       }
      ],
      "model_module": "k3d",
      "model_module_version": "2.8.1",
      "model_name": "ObjectModel",
      "state": {
       "_view_count": null,
       "_view_module": null,
       "_view_module_version": "",
       "_view_name": null,
       "color": 5010096,
       "colorLegend": false,
       "colors": {
        "data": {},
        "dtype": "uint32",
        "shape": [
         0
        ]
       },
       "compression_level": 0,
       "id": 140689358085808,
       "mesh_detail": 2,
       "model_matrix": {
        "data": {},
        "dtype": "float32",
        "shape": [
         4,
         4
        ]
       },
       "name": "Points #1",
       "opacities": {
        "data": {},
        "dtype": "float32",
        "shape": [
         0
        ]
       },
       "opacity": 1,
       "point_size": 0.25,
       "positions": {
        "data": {},
        "dtype": "float32",
        "shape": [
         20,
         3
        ]
       },
       "shader": "3dSpecular",
       "type": "Points",
       "visible": true
      }
     },
     "a628dc72180c4e1a84e5e9b8a481d8b7": {
      "model_module": "@jupyter-widgets/output",
      "model_module_version": "1.0.0",
      "model_name": "OutputModel",
      "state": {
       "layout": "IPY_MODEL_d5af47dd2c1b4e3ca5c5f0683c6f303f",
       "outputs": [
        {
         "data": {
          "application/vnd.jupyter.widget-view+json": {
           "model_id": "efa576f6f83049f38c2119477df40cec",
           "version_major": 2,
           "version_minor": 0
          },
          "text/plain": "Plot(antialias=3, axes=['x', 'y', 'z'], axes_helper=1.0, background_color=16777215, camera=[2, -3, 0.2, 0.0, 0…"
         },
         "metadata": {},
         "output_type": "display_data"
        }
       ]
      }
     },
     "a7b76dba1cdf4ad5a6028d76b4727d7e": {
      "model_module": "k3d",
      "model_module_version": "2.8.1",
      "model_name": "ObjectModel",
      "state": {
       "_view_count": null,
       "_view_module": null,
       "_view_module_version": "",
       "_view_name": null,
       "color": 5010096,
       "colorLegend": false,
       "colors": {
        "compressed_buffer": {},
        "dtype": "uint32",
        "shape": [
         0
        ]
       },
       "compression_level": 0,
       "id": 139941321864784,
       "mesh_detail": 2,
       "model_matrix": {
        "compressed_buffer": {},
        "dtype": "float32",
        "shape": [
         4,
         4
        ]
       },
       "name": "Points #1",
       "opacities": {
        "compressed_buffer": {},
        "dtype": "float32",
        "shape": [
         0
        ]
       },
       "opacity": 1,
       "point_size": 0.25,
       "positions": {
        "compressed_buffer": {},
        "dtype": "float32",
        "shape": [
         20,
         3
        ]
       },
       "shader": "3dSpecular",
       "type": "Points",
       "visible": true
      }
     },
     "a7df45fd3f6f40d7aa2e7475bdde99d1": {
      "model_module": "@jupyter-widgets/output",
      "model_module_version": "1.0.0",
      "model_name": "OutputModel",
      "state": {
       "layout": "IPY_MODEL_7296d1b14bc24eb7a4902f46df78928f",
       "outputs": [
        {
         "data": {
          "application/vnd.jupyter.widget-view+json": {
           "model_id": "6cb746749c1c40e4a5c5d36e04e0c34f",
           "version_major": 2,
           "version_minor": 0
          },
          "text/plain": "Plot(antialias=3, axes=['x', 'y', 'z'], axes_helper=1.0, background_color=16777215, camera=[2, -3, 0.2, 0.0, 0…"
         },
         "metadata": {},
         "output_type": "display_data"
        }
       ]
      }
     },
     "a83bcb39bca845479ee944617276cb8b": {
      "model_module": "@jupyter-widgets/base",
      "model_module_version": "1.2.0",
      "model_name": "LayoutModel",
      "state": {}
     },
     "a9a49fcc629848b7bcad2e722a01754a": {
      "model_module": "@jupyter-widgets/base",
      "model_module_version": "1.2.0",
      "model_name": "LayoutModel",
      "state": {}
     },
     "ad17481aeaa848b79a702f67a9777075": {
      "model_module": "k3d",
      "model_module_version": "2.8.1",
      "model_name": "ObjectModel",
      "state": {
       "_view_count": null,
       "_view_module": null,
       "_view_module_version": "",
       "_view_name": null,
       "colorLegend": false,
       "colors": {
        "compressed_buffer": {},
        "dtype": "uint32",
        "shape": [
         20,
         2
        ]
       },
       "compression_level": 0,
       "head_color": 255,
       "head_size": 1,
       "id": 139942517920592,
       "label_size": 1,
       "labels": [],
       "line_width": 0.01,
       "model_matrix": {
        "compressed_buffer": {},
        "dtype": "float32",
        "shape": [
         4,
         4
        ]
       },
       "name": "Vectors #1",
       "origin_color": 255,
       "origins": {
        "compressed_buffer": {},
        "dtype": "float32",
        "shape": [
         20,
         3
        ]
       },
       "type": "Vectors",
       "use_head": true,
       "vectors": {
        "compressed_buffer": {},
        "dtype": "float32",
        "shape": [
         20,
         3
        ]
       },
       "visible": true
      }
     },
     "ad27e89f263c45299ad774b9ccacd22d": {
      "model_module": "k3d",
      "model_module_version": "2.8.1",
      "model_name": "PlotModel",
      "state": {
       "_backend_version": "2.7.4",
       "_dom_classes": [],
       "_view_count": null,
       "antialias": 3,
       "auto_rendering": true,
       "axes": [
        "x (nm)",
        "y (nm)",
        "z (nm)"
       ],
       "axes_helper": 1,
       "background_color": 16777215,
       "camera": [
        16.707952969879074,
        -24.636929444760327,
        2.175795296317352,
        -0.04999999329447746,
        0.5,
        0.5,
        0,
        0,
        1
       ],
       "camera_animation": [],
       "camera_auto_fit": true,
       "camera_fov": 60,
       "camera_no_pan": false,
       "camera_no_rotate": false,
       "camera_no_zoom": false,
       "clipping_planes": [],
       "colorbar_object_id": -1,
       "fps": 25,
       "fps_meter": false,
       "grid": [
        -1,
        -1,
        -1,
        1,
        1,
        1
       ],
       "grid_auto_fit": true,
       "grid_visible": true,
       "height": 512,
       "layout": "IPY_MODEL_42ff28f1e91c4b08ae7ead448285a219",
       "lighting": 1.5,
       "menu_visibility": true,
       "mode": "view",
       "name": null,
       "object_ids": [
        139941438061904
       ],
       "rendering_steps": 1,
       "screenshot": "",
       "screenshot_scale": 2,
       "snapshot": "",
       "time": 0,
       "voxel_paint_color": 0
      }
     },
     "ad435920fd2b45e69c44c381909f2d2d": {
      "model_module": "@jupyter-widgets/base",
      "model_module_version": "1.2.0",
      "model_name": "LayoutModel",
      "state": {}
     },
     "bd77da269471464aa566ee672a0585a2": {
      "model_module": "k3d",
      "model_module_version": "2.8.1",
      "model_name": "ObjectModel",
      "state": {
       "_view_count": null,
       "_view_module": null,
       "_view_module_version": "",
       "_view_name": null,
       "color": 5010096,
       "colorLegend": false,
       "colors": {
        "compressed_buffer": {},
        "dtype": "uint32",
        "shape": [
         0
        ]
       },
       "compression_level": 0,
       "id": 139941355597008,
       "mesh_detail": 2,
       "model_matrix": {
        "compressed_buffer": {},
        "dtype": "float32",
        "shape": [
         4,
         4
        ]
       },
       "name": "Points #1",
       "opacities": {
        "compressed_buffer": {},
        "dtype": "float32",
        "shape": [
         0
        ]
       },
       "opacity": 1,
       "point_size": 0.25,
       "positions": {
        "compressed_buffer": {},
        "dtype": "float32",
        "shape": [
         20,
         3
        ]
       },
       "shader": "3dSpecular",
       "type": "Points",
       "visible": true
      }
     },
     "ca4fb21258c245d8b243ca823b9cb3d8": {
      "model_module": "@jupyter-widgets/output",
      "model_module_version": "1.0.0",
      "model_name": "OutputModel",
      "state": {
       "layout": "IPY_MODEL_e21a7a21e0e4498a881895320c00c47e",
       "outputs": [
        {
         "data": {
          "application/vnd.jupyter.widget-view+json": {
           "model_id": "6c5628266e264d5aa3bfe0c4f8dd272e",
           "version_major": 2,
           "version_minor": 0
          },
          "text/plain": "Plot(antialias=3, axes=['x', 'y', 'z'], axes_helper=1.0, background_color=16777215, camera=[2, -3, 0.2, 0.0, 0…"
         },
         "metadata": {},
         "output_type": "display_data"
        }
       ]
      }
     },
     "caaac2e27b5841188bbb9c7f24b94978": {
      "model_module": "@jupyter-widgets/base",
      "model_module_version": "1.2.0",
      "model_name": "LayoutModel",
      "state": {}
     },
     "cbe0de15aee54e29997e31cb19b87573": {
      "model_module": "@jupyter-widgets/base",
      "model_module_version": "1.2.0",
      "model_name": "LayoutModel",
      "state": {}
     },
     "cd59441d055d45b38db7e861a6d7ef39": {
      "model_module": "@jupyter-widgets/base",
      "model_module_version": "1.2.0",
      "model_name": "LayoutModel",
      "state": {}
     },
     "d0a98a89021f40f49ca276810c2bef11": {
      "buffers": [
       {
        "data": "",
        "encoding": "base64",
        "path": [
         "colors",
         "data"
        ]
       },
       {
        "data": "AACAPwAAAAAAAAAAAAAAAAAAAAAAAIA/AAAAAAAAAAAAAAAAAAAAAAAAgD8AAAAAAAAAAAAAAAAAAAAAAACAPw==",
        "encoding": "base64",
        "path": [
         "model_matrix",
         "data"
        ]
       },
       {
        "data": "",
        "encoding": "base64",
        "path": [
         "opacities",
         "data"
        ]
       },
       {
        "data": "AAAYwQAAAD8AAAA/AAAIwQAAAD8AAAA/AADwwAAAAD8AAAA/AADQwAAAAD8AAAA/AACwwAAAAD8AAAA/AACQwAAAAD8AAAA/AABgwAAAAD8AAAA/AAAgwAAAAD8AAAA/AADAvwAAAD8AAAA/AAAAvwAAAD8AAAA/AAAAPwAAAD8AAAA/AADAPwAAAD8AAAA/AAAgQAAAAD8AAAA/AABgQAAAAD8AAAA/AACQQAAAAD8AAAA/AACwQAAAAD8AAAA/AADQQAAAAD8AAAA/AADwQAAAAD8AAAA/AAAIQQAAAD8AAAA/AAAYQQAAAD8AAAA/",
        "encoding": "base64",
        "path": [
         "positions",
         "data"
        ]
       }
      ],
      "model_module": "k3d",
      "model_module_version": "2.8.1",
      "model_name": "ObjectModel",
      "state": {
       "_view_count": null,
       "_view_module": null,
       "_view_module_version": "",
       "_view_name": null,
       "color": 5010096,
       "colorLegend": false,
       "colors": {
        "data": {},
        "dtype": "uint32",
        "shape": [
         0
        ]
       },
       "compression_level": 0,
       "id": 140689358084944,
       "mesh_detail": 2,
       "model_matrix": {
        "data": {},
        "dtype": "float32",
        "shape": [
         4,
         4
        ]
       },
       "name": "Points #1",
       "opacities": {
        "data": {},
        "dtype": "float32",
        "shape": [
         0
        ]
       },
       "opacity": 1,
       "point_size": 0.25,
       "positions": {
        "data": {},
        "dtype": "float32",
        "shape": [
         20,
         3
        ]
       },
       "shader": "3dSpecular",
       "type": "Points",
       "visible": true
      }
     },
     "d2d7a155d2074c289347651487142e7f": {
      "model_module": "@jupyter-widgets/base",
      "model_module_version": "1.2.0",
      "model_name": "LayoutModel",
      "state": {}
     },
     "d425ee773533470596e043c1849ae1fb": {
      "model_module": "@jupyter-widgets/base",
      "model_module_version": "1.2.0",
      "model_name": "LayoutModel",
      "state": {}
     },
     "d5af47dd2c1b4e3ca5c5f0683c6f303f": {
      "model_module": "@jupyter-widgets/base",
      "model_module_version": "1.2.0",
      "model_name": "LayoutModel",
      "state": {}
     },
     "dbd3bd696d3742ad868c6b0eec6e0f91": {
      "buffers": [
       {
        "data": "",
        "encoding": "base64",
        "path": [
         "colors",
         "data"
        ]
       },
       {
        "data": "AACAPwAAAAAAAAAAAAAAAAAAAAAAAIA/AAAAAAAAAAAAAAAAAAAAAAAAgD8AAAAAAAAAAAAAAAAAAAAAAACAPw==",
        "encoding": "base64",
        "path": [
         "model_matrix",
         "data"
        ]
       },
       {
        "data": "",
        "encoding": "base64",
        "path": [
         "opacities",
         "data"
        ]
       },
       {
        "data": "AAAYwQAAAD8AAAA/AAAIwQAAAD8AAAA/AADwwAAAAD8AAAA/AADQwAAAAD8AAAA/AACwwAAAAD8AAAA/AACQwAAAAD8AAAA/AABgwAAAAD8AAAA/AAAgwAAAAD8AAAA/AADAvwAAAD8AAAA/AAAAvwAAAD8AAAA/AAAAPwAAAD8AAAA/AADAPwAAAD8AAAA/AAAgQAAAAD8AAAA/AABgQAAAAD8AAAA/AACQQAAAAD8AAAA/AACwQAAAAD8AAAA/AADQQAAAAD8AAAA/AADwQAAAAD8AAAA/AAAIQQAAAD8AAAA/AAAYQQAAAD8AAAA/",
        "encoding": "base64",
        "path": [
         "positions",
         "data"
        ]
       }
      ],
      "model_module": "k3d",
      "model_module_version": "2.8.1",
      "model_name": "ObjectModel",
      "state": {
       "_view_count": null,
       "_view_module": null,
       "_view_module_version": "",
       "_view_name": null,
       "color": 5010096,
       "colorLegend": false,
       "colors": {
        "data": {},
        "dtype": "uint32",
        "shape": [
         0
        ]
       },
       "compression_level": 0,
       "id": 140689358029584,
       "mesh_detail": 2,
       "model_matrix": {
        "data": {},
        "dtype": "float32",
        "shape": [
         4,
         4
        ]
       },
       "name": "Points #1",
       "opacities": {
        "data": {},
        "dtype": "float32",
        "shape": [
         0
        ]
       },
       "opacity": 1,
       "point_size": 0.25,
       "positions": {
        "data": {},
        "dtype": "float32",
        "shape": [
         20,
         3
        ]
       },
       "shader": "3dSpecular",
       "type": "Points",
       "visible": true
      }
     },
     "dec78697d99f428fbabf565e7f35a9e5": {
      "model_module": "k3d",
      "model_module_version": "2.8.1",
      "model_name": "PlotModel",
      "state": {
       "_backend_version": "2.8.1",
       "_dom_classes": [],
       "_view_count": null,
       "antialias": 3,
       "auto_rendering": true,
       "axes": [
        "x\\,\\text{(nm)}",
        "y\\,\\text{(nm)}",
        "z\\,\\text{(nm)}"
       ],
       "axes_helper": 1,
       "background_color": 16777215,
       "camera": [
        16.083479864131327,
        -23.734784101293855,
        2.115652272624885,
        -0.0730428695678711,
        0.49999999925494193,
        0.49999999925494193,
        0,
        0,
        1
       ],
       "camera_animation": [],
       "camera_auto_fit": true,
       "camera_fov": 60,
       "camera_mode": "trackball",
       "camera_no_pan": false,
       "camera_no_rotate": false,
       "camera_no_zoom": false,
       "clipping_planes": [],
       "colorbar_object_id": -1,
       "colorbar_scientific": false,
       "fps": 25,
       "fps_meter": false,
       "grid": [
        -1,
        -1,
        -1,
        1,
        1,
        1
       ],
       "grid_auto_fit": true,
       "grid_visible": true,
       "height": 512,
       "layout": "IPY_MODEL_5d63d689e4784d8cba2aac0cff36390b",
       "lighting": 1.5,
       "manipulate_mode": "translate",
       "menu_visibility": true,
       "mode": "view",
       "name": null,
       "object_ids": [
        140689358030208,
        140689358427040
       ],
       "rendering_steps": 1,
       "screenshot": "",
       "screenshot_scale": 2,
       "snapshot": "",
       "snapshot_include_js": true,
       "time": 0,
       "voxel_paint_color": 0
      }
     },
     "df71c33a07e8431ebc3ebd1697779ef2": {
      "buffers": [
       {
        "data": "cGdkAHBnZABlucsAZbnLAD/d9gA/3fYAOOj+ADjo/gBOIgAATiIAAG2sugBtrLoAabPDAGmzwwBtrLoAbay6AHZ3dwB2d3cAbj4nAG4+JwBwprMAcKazAGe2xgBntsYAYMDSAGDA0gBvMAAAbzAAAHFraQBxa2kATyMAAE8jAABybWsAcm1rAG9kYABvZGAAcDcWAHA3FgBznqgAc56oAA==",
        "encoding": "base64",
        "path": [
         "colors",
         "data"
        ]
       },
       {
        "data": "AACAPwAAAAAAAAAAAAAAAAAAAAAAAIA/AAAAAAAAAAAAAAAAAAAAAAAAgD8AAAAAAAAAAAAAAAAAAAAAAACAPw==",
        "encoding": "base64",
        "path": [
         "model_matrix",
         "data"
        ]
       },
       {
        "data": "XB0SwVacKD6Q/hs/pHICwQMcNj9mA0U+v4/xwEJNkj4AnSQ9F7PRwPp+1T4AAAAA/w+vwJmewT4NdX4/SH6bwJpVcj6uK4E+Oj17wJbtAT8oFGE+B4UmwCTzhD30i4I+kVx+vxU35T5e6wU/oGV5vgC/SD92IVY/GiIrPmBmUT8pD5A+RDyiP3CFHD7gOlU+vWsmQLyoBj58eSY+PCBxQBoCxT54Cms/QqaMQBrHfT9Y9BU/IjmtQH4vxj7qQ30/fn/EQGBWWj9z0RM/32rgQPpyFj8sPx8/O64CQbVVFz+QFWA/aw8RQU1tmj5PFaQ+",
        "encoding": "base64",
        "path": [
         "origins",
         "data"
        ]
       },
       {
        "data": "hlQ8v9WxKz989F++e6sxvwxw2L5Nfh0/Ud/HPXxl2z5gbGs/WIvZPRoEKj4AAIA/qQBwvZyFeT4a6ny/f+Q3PzPVBj+kqP0+0elZP93KdrzsdQ8/16BQPjfDXj8Z6Po+b6OBv1VH1j28az29ME0Dv/99Eb/rQiy/824qP7/MIr+u4d8+3h3uPki9MT+QYhU/pXdNvqKrPD9Cwyw/4gEJv5b3az7vFFa/Zm9WPjOOe7+9oi++grcxPgpCZz7Vh3q/GAg4P7+sNL+Wix6+ElJ5P82XM75e+Xm+pzgqP6etOr4fK0C/mxJeP2Ylyz5i1bc+",
        "encoding": "base64",
        "path": [
         "vectors",
         "data"
        ]
       }
      ],
      "model_module": "k3d",
      "model_module_version": "2.8.1",
      "model_name": "ObjectModel",
      "state": {
       "_view_count": null,
       "_view_module": null,
       "_view_module_version": "",
       "_view_name": null,
       "colorLegend": false,
       "colors": {
        "data": {},
        "dtype": "uint32",
        "shape": [
         20,
         2
        ]
       },
       "compression_level": 0,
       "head_color": 255,
       "head_size": 1,
       "id": 140689318844736,
       "label_size": 1,
       "labels": [],
       "line_width": 0.01,
       "model_matrix": {
        "data": {},
        "dtype": "float32",
        "shape": [
         4,
         4
        ]
       },
       "name": "Vectors #1",
       "origin_color": 255,
       "origins": {
        "data": {},
        "dtype": "float32",
        "shape": [
         20,
         3
        ]
       },
       "type": "Vectors",
       "use_head": true,
       "vectors": {
        "data": {},
        "dtype": "float32",
        "shape": [
         20,
         3
        ]
       },
       "visible": true
      }
     },
     "dfbf77c274154c4f8980a265ec218cec": {
      "model_module": "k3d",
      "model_module_version": "2.8.1",
      "model_name": "ObjectModel",
      "state": {
       "_view_count": null,
       "_view_module": null,
       "_view_module_version": "",
       "_view_name": null,
       "color": 5010096,
       "colorLegend": false,
       "colors": {
        "compressed_buffer": {},
        "dtype": "uint32",
        "shape": [
         0
        ]
       },
       "compression_level": 0,
       "id": 139941355597712,
       "mesh_detail": 2,
       "model_matrix": {
        "compressed_buffer": {},
        "dtype": "float32",
        "shape": [
         4,
         4
        ]
       },
       "name": "Points #1",
       "opacities": {
        "compressed_buffer": {},
        "dtype": "float32",
        "shape": [
         0
        ]
       },
       "opacity": 1,
       "point_size": 0.25,
       "positions": {
        "compressed_buffer": {},
        "dtype": "float32",
        "shape": [
         20,
         3
        ]
       },
       "shader": "3dSpecular",
       "type": "Points",
       "visible": true
      }
     },
     "e21a7a21e0e4498a881895320c00c47e": {
      "model_module": "@jupyter-widgets/base",
      "model_module_version": "1.2.0",
      "model_name": "LayoutModel",
      "state": {}
     },
     "e5a092585d6948d2859ddabb089557b8": {
      "model_module": "@jupyter-widgets/output",
      "model_module_version": "1.0.0",
      "model_name": "OutputModel",
      "state": {
       "layout": "IPY_MODEL_948c839e6e1d4d8780eefc58dcab1c1e",
       "outputs": [
        {
         "data": {
          "application/vnd.jupyter.widget-view+json": {
           "model_id": "535848807562406a90e5ca5c17fc7e7f",
           "version_major": 2,
           "version_minor": 0
          },
          "text/plain": "Plot(antialias=3, axes=['x', 'y', 'z'], axes_helper=1.0, background_color=16777215, camera=[2, -3, 0.2, 0.0, 0…"
         },
         "metadata": {},
         "output_type": "display_data"
        }
       ]
      }
     },
     "e7d077f4d7ae470e96f2cdff4efc05b0": {
      "model_module": "@jupyter-widgets/base",
      "model_module_version": "1.2.0",
      "model_name": "LayoutModel",
      "state": {}
     },
     "e9917d6e0d60436286f7b5dd4b127bcf": {
      "model_module": "k3d",
      "model_module_version": "2.8.1",
      "model_name": "PlotModel",
      "state": {
       "_backend_version": "2.7.4",
       "_dom_classes": [],
       "_view_count": null,
       "antialias": 3,
       "auto_rendering": true,
       "axes": [
        "x (nm)",
        "y (nm)",
        "z (nm)"
       ],
       "axes_helper": 1,
       "background_color": 16777215,
       "camera": [
        16.342878839316835,
        -24.129602493260606,
        2.141973437959238,
        -0.07685613632202148,
        0.4999999701976776,
        0.4999999403953552,
        0,
        0,
        1
       ],
       "camera_animation": [],
       "camera_auto_fit": true,
       "camera_fov": 60,
       "camera_no_pan": false,
       "camera_no_rotate": false,
       "camera_no_zoom": false,
       "clipping_planes": [],
       "colorbar_object_id": -1,
       "fps": 25,
       "fps_meter": false,
       "grid": [
        -1,
        -1,
        -1,
        1,
        1,
        1
       ],
       "grid_auto_fit": true,
       "grid_visible": true,
       "height": 512,
       "layout": "IPY_MODEL_f7515259bc0d4c6c8db6d38a4da962ca",
       "lighting": 1.5,
       "menu_visibility": true,
       "mode": "view",
       "name": null,
       "object_ids": [
        139941437748624,
        139941355597008
       ],
       "rendering_steps": 1,
       "screenshot": "",
       "screenshot_scale": 2,
       "snapshot": "",
       "time": 0,
       "voxel_paint_color": 0
      }
     },
     "ed50cf78a7444c25bb27333120126eac": {
      "model_module": "@jupyter-widgets/base",
      "model_module_version": "1.2.0",
      "model_name": "LayoutModel",
      "state": {}
     },
     "ef87384986c7473497442511b2ce1e62": {
      "model_module": "k3d",
      "model_module_version": "2.8.1",
      "model_name": "PlotModel",
      "state": {
       "_backend_version": "2.8.1",
       "_dom_classes": [],
       "_view_count": null,
       "antialias": 3,
       "auto_rendering": true,
       "axes": [
        "x\\,\\text{(nm)}",
        "y\\,\\text{(nm)}",
        "z\\,\\text{(nm)}"
       ],
       "axes_helper": 1,
       "background_color": 16777215,
       "camera": [
        16.656950133027816,
        -24.48542520028678,
        2.165695012557738,
        0,
        0.49999999925494193,
        0.49999999925494193,
        0,
        0,
        1
       ],
       "camera_animation": [],
       "camera_auto_fit": true,
       "camera_fov": 60,
       "camera_mode": "trackball",
       "camera_no_pan": false,
       "camera_no_rotate": false,
       "camera_no_zoom": false,
       "clipping_planes": [],
       "colorbar_object_id": -1,
       "colorbar_scientific": false,
       "fps": 25,
       "fps_meter": false,
       "grid": [
        -1,
        -1,
        -1,
        1,
        1,
        1
       ],
       "grid_auto_fit": true,
       "grid_visible": true,
       "height": 512,
       "layout": "IPY_MODEL_ff8c231bc0f945a092f883ce7c83ccc9",
       "lighting": 1.5,
       "manipulate_mode": "translate",
       "menu_visibility": true,
       "mode": "view",
       "name": null,
       "object_ids": [
        140689358008128,
        140689358085808
       ],
       "rendering_steps": 1,
       "screenshot": "",
       "screenshot_scale": 2,
       "snapshot": "",
       "snapshot_include_js": true,
       "time": 0,
       "voxel_paint_color": 0
      }
     },
     "efa576f6f83049f38c2119477df40cec": {
      "model_module": "k3d",
      "model_module_version": "2.8.1",
      "model_name": "PlotModel",
      "state": {
       "_backend_version": "2.7.4",
       "_dom_classes": [],
       "_view_count": null,
       "antialias": 3,
       "auto_rendering": true,
       "axes": [
        "x (nm)",
        "y (nm)",
        "z (nm)"
       ],
       "axes_helper": 1,
       "background_color": 16777215,
       "camera": [
        16.046013499625435,
        -23.59306071076976,
        2.106204046589919,
        -0.016026973724365234,
        0.49999999925494193,
        0.49999999925494193,
        0,
        0,
        1
       ],
       "camera_animation": [],
       "camera_auto_fit": true,
       "camera_fov": 60,
       "camera_no_pan": false,
       "camera_no_rotate": false,
       "camera_no_zoom": false,
       "clipping_planes": [],
       "colorbar_object_id": -1,
       "fps": 25,
       "fps_meter": false,
       "grid": [
        -1,
        -1,
        -1,
        1,
        1,
        1
       ],
       "grid_auto_fit": true,
       "grid_visible": true,
       "height": 512,
       "layout": "IPY_MODEL_2e61afe4c1944604b9a354ffa947a192",
       "lighting": 1.5,
       "menu_visibility": true,
       "mode": "view",
       "name": null,
       "object_ids": [
        139941321865168,
        139941321864784
       ],
       "rendering_steps": 1,
       "screenshot": "",
       "screenshot_scale": 2,
       "snapshot": "",
       "time": 0,
       "voxel_paint_color": 0
      }
     },
     "f3f1f9f645674a3f8ffef14587b133c9": {
      "model_module": "@jupyter-widgets/base",
      "model_module_version": "1.2.0",
      "model_name": "LayoutModel",
      "state": {}
     },
     "f7515259bc0d4c6c8db6d38a4da962ca": {
      "model_module": "@jupyter-widgets/base",
      "model_module_version": "1.2.0",
      "model_name": "LayoutModel",
      "state": {}
     },
     "fabf6e191aea4510a1e70d24f4310d09": {
      "model_module": "@jupyter-widgets/base",
      "model_module_version": "1.2.0",
      "model_name": "LayoutModel",
      "state": {}
     },
     "fae4290ea72f44deb673abdd932391b6": {
      "model_module": "@jupyter-widgets/base",
      "model_module_version": "1.2.0",
      "model_name": "LayoutModel",
      "state": {}
     },
     "fb617132b9014d5d9850e50ac63bf6df": {
      "model_module": "@jupyter-widgets/base",
      "model_module_version": "1.2.0",
      "model_name": "LayoutModel",
      "state": {}
     },
     "fdca492a19c24ad7b481f4b1e3e1e1f4": {
      "model_module": "@jupyter-widgets/output",
      "model_module_version": "1.0.0",
      "model_name": "OutputModel",
      "state": {
       "layout": "IPY_MODEL_d425ee773533470596e043c1849ae1fb",
       "outputs": [
        {
         "data": {
          "application/vnd.jupyter.widget-view+json": {
           "model_id": "60a85607b0b64bb5a3caa31fc11bce5c",
           "version_major": 2,
           "version_minor": 0
          },
          "text/plain": "Plot(antialias=3, axes=['x', 'y', 'z'], axes_helper=1.0, background_color=16777215, camera=[2, -3, 0.2, 0.0, 0…"
         },
         "metadata": {},
         "output_type": "display_data"
        }
       ]
      }
     },
     "ff4690e5930047ba99f343962c9b0418": {
      "model_module": "@jupyter-widgets/output",
      "model_module_version": "1.0.0",
      "model_name": "OutputModel",
      "state": {
       "layout": "IPY_MODEL_a83bcb39bca845479ee944617276cb8b",
       "outputs": [
        {
         "data": {
          "application/vnd.jupyter.widget-view+json": {
           "model_id": "e9917d6e0d60436286f7b5dd4b127bcf",
           "version_major": 2,
           "version_minor": 0
          },
          "text/plain": "Plot(antialias=3, axes=['x', 'y', 'z'], axes_helper=1.0, background_color=16777215, camera=[2, -3, 0.2, 0.0, 0…"
         },
         "metadata": {},
         "output_type": "display_data"
        }
       ]
      }
     },
     "ff8c231bc0f945a092f883ce7c83ccc9": {
      "model_module": "@jupyter-widgets/base",
      "model_module_version": "1.2.0",
      "model_name": "LayoutModel",
      "state": {}
     }
    },
    "version_major": 2,
    "version_minor": 0
   }
  }
 },
 "nbformat": 4,
 "nbformat_minor": 4
}
