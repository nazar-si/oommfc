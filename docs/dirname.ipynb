{
 "cells": [
  {
   "cell_type": "markdown",
   "metadata": {
    "editable": true,
    "slideshow": {
     "slide_type": ""
    },
    "tags": []
   },
   "source": [
    "# Custom directory name\n",
    "\n",
    "When we drive a system, a directory with the same name as the system is created at the same level as the notebook and all simulation files are saved in it. Sometimes we want to change the path of that directory in order to keep our files organised. We can do that by passing `dirname` argument to the `drive` method.\n",
    "\n",
    "As a simple example, let us simulate a one-dimensional array of spins."
   ]
  },
  {
   "cell_type": "code",
   "execution_count": 1,
   "metadata": {},
   "outputs": [],
   "source": [
    "import discretisedfield as df\n",
    "import micromagneticmodel as mm\n",
    "\n",
    "import oommfc as mc\n",
    "\n",
    "region = df.Region(p1=(-30e-9, 0, 0), p2=(30e-9, 3e-9, 3e-9))\n",
    "cell = (3e-9, 3e-9, 3e-9)\n",
    "mesh = df.Mesh(region=region, cell=cell)\n",
    "\n",
    "system = mm.System(name=\"my_simulation\")\n",
    "system.energy = mm.Zeeman(H=(0, 0, 1e6))\n",
    "system.m = df.Field(mesh, nvdim=3, value=(1, 0, 0), norm=1e6)"
   ]
  },
  {
   "cell_type": "markdown",
   "metadata": {},
   "source": [
    "Now, we can pass `dirname` to the `drive` method to instruct Ubermag where to place `my_simulation` directory. Let us say we want to place it in `my_project`:"
   ]
  },
  {
   "cell_type": "code",
   "execution_count": 2,
   "metadata": {},
   "outputs": [
    {
     "name": "stdout",
     "output_type": "stream",
     "text": [
      "Running OOMMF (ExeOOMMFRunner)[2025-02-02T14:31:13]... (0.4 s)\n"
     ]
    }
   ],
   "source": [
    "md = mc.MinDriver()\n",
    "md.drive(system, dirname=\"./my_project\")"
   ]
  },
  {
   "cell_type": "markdown",
   "metadata": {},
   "source": [
    "If we inspect the files, we can see that our simulation results are saved in `my_project/my_simulation/drive-0`:"
   ]
  },
  {
   "cell_type": "code",
   "execution_count": 3,
   "metadata": {},
   "outputs": [
    {
     "data": {
      "text/plain": [
       "True"
      ]
     },
     "execution_count": 3,
     "metadata": {},
     "output_type": "execute_result"
    }
   ],
   "source": [
    "import os\n",
    "\n",
    "dirname = os.path.join(\"my_project\", \"my_simulation\", \"drive-0\")\n",
    "os.path.isdir(dirname)"
   ]
  },
  {
   "cell_type": "markdown",
   "metadata": {},
   "source": [
    "All properties of the system can be accessed as usual - changing the directory happens in the background:"
   ]
  },
  {
   "cell_type": "code",
   "execution_count": 4,
   "metadata": {},
   "outputs": [
    {
     "data": {
      "image/png": "[encoded data removed]",
      "text/plain": [
       "<Figure size 1200x300 with 2 Axes>"
      ]
     },
     "metadata": {},
     "output_type": "display_data"
    }
   ],
   "source": [
    "system.m.sel(\"y\").mpl(figsize=(12, 3))"
   ]
  },
  {
   "cell_type": "code",
   "execution_count": 5,
   "metadata": {
    "editable": true,
    "slideshow": {
     "slide_type": ""
    },
    "tags": [
     "nbval-ignore-output"
    ]
   },
   "outputs": [
    {
     "data": {
      "text/html": [
       "<div>\n",
       "<style scoped>\n",
       "    .dataframe tbody tr th:only-of-type {\n",
       "        vertical-align: middle;\n",
       "    }\n",
       "\n",
       "    .dataframe tbody tr th {\n",
       "        vertical-align: top;\n",
       "    }\n",
       "\n",
       "    .dataframe thead th {\n",
       "        text-align: right;\n",
       "    }\n",
       "</style>\n",
       "<table border=\"1\" class=\"dataframe\">\n",
       "  <thead>\n",
       "    <tr style=\"text-align: right;\">\n",
       "      <th></th>\n",
       "      <th>max_mxHxm</th>\n",
       "      <th>E</th>\n",
       "      <th>delta_E</th>\n",
       "      <th>bracket_count</th>\n",
       "      <th>line_min_count</th>\n",
       "      <th>conjugate_cycle_count</th>\n",
       "      <th>cycle_count</th>\n",
       "      <th>cycle_sub_count</th>\n",
       "      <th>energy_calc_count</th>\n",
       "      <th>E_zeeman</th>\n",
       "      <th>iteration</th>\n",
       "      <th>stage_iteration</th>\n",
       "      <th>stage</th>\n",
       "      <th>mx</th>\n",
       "      <th>my</th>\n",
       "      <th>mz</th>\n",
       "    </tr>\n",
       "  </thead>\n",
       "  <tbody>\n",
       "    <tr>\n",
       "      <th>0</th>\n",
       "      <td>2.733391e-11</td>\n",
       "      <td>-6.785840e-19</td>\n",
       "      <td>-1.350143e-21</td>\n",
       "      <td>13.0</td>\n",
       "      <td>0.0</td>\n",
       "      <td>9.0</td>\n",
       "      <td>9.0</td>\n",
       "      <td>0.0</td>\n",
       "      <td>14.0</td>\n",
       "      <td>-6.785840e-19</td>\n",
       "      <td>13.0</td>\n",
       "      <td>13.0</td>\n",
       "      <td>0.0</td>\n",
       "      <td>2.733391e-17</td>\n",
       "      <td>0.0</td>\n",
       "      <td>1.0</td>\n",
       "    </tr>\n",
       "  </tbody>\n",
       "</table>\n",
       "</div>"
      ],
      "text/plain": [
       "      max_mxHxm             E       delta_E  bracket_count  line_min_count  \\\n",
       "0  2.733391e-11 -6.785840e-19 -1.350143e-21           13.0             0.0   \n",
       "\n",
       "   conjugate_cycle_count  cycle_count  cycle_sub_count  energy_calc_count  \\\n",
       "0                    9.0          9.0              0.0               14.0   \n",
       "\n",
       "       E_zeeman  iteration  stage_iteration  stage            mx   my   mz  \n",
       "0 -6.785840e-19       13.0             13.0    0.0  2.733391e-17  0.0  1.0  "
      ]
     },
     "execution_count": 5,
     "metadata": {},
     "output_type": "execute_result"
    }
   ],
   "source": [
    "system.table.data"
   ]
  }
 ],
 "metadata": {
  "kernelspec": {
   "display_name": "Python 3 (ipykernel)",
   "language": "python",
   "name": "python3"
  },
  "language_info": {
   "codemirror_mode": {
    "name": "ipython",
    "version": 3
   },
   "file_extension": ".py",
   "mimetype": "text/x-python",
   "name": "python",
   "nbconvert_exporter": "python",
   "pygments_lexer": "ipython3",
   "version": "3.12.5"
  },
  "widgets": {
   "application/vnd.jupyter.widget-state+json": {
    "state": {},
    "version_major": 2,
    "version_minor": 0
   }
  }
 },
 "nbformat": 4,
 "nbformat_minor": 4
}
