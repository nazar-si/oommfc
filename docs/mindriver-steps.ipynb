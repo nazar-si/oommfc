{
 "cells": [
  {
   "cell_type": "markdown",
   "metadata": {},
   "source": [
    "# `MinDriver` steps\n",
    "\n",
    "In this tutorial, we show how we can save individual steps during minimisation as well as how we can analyse them. We are going to minimise a simple system object. For details on how to define a system object, please have a look at other tutorials."
   ]
  },
  {
   "cell_type": "code",
   "execution_count": 1,
   "metadata": {},
   "outputs": [],
   "source": [
    "import oommfc as mc\n",
    "import discretisedfield as df\n",
    "import micromagneticmodel as mm\n",
    "\n",
    "region = df.Region(p1=(-50e-9, -50e-9, 0), p2=(50e-9, 50e-9, 10e-9))\n",
    "mesh = df.Mesh(region=region, cell=(5e-9, 5e-9, 5e-9))\n",
    "\n",
    "system = mm.System(name='mindriver_steps')\n",
    "\n",
    "system.energy = mm.Zeeman(H=(0, 0, 1e5))\n",
    "system.m = df.Field(mesh, dim=3, value=(1, 0, 0), norm=1.1e6)"
   ]
  },
  {
   "cell_type": "markdown",
   "metadata": {},
   "source": [
    "We now have a system object and we can minimise it using `MinDriver`. By default, `MinDriver` saves only the data of the last step in the relexation. However, if we want to save all individual steps in between, we have to pass `output_step=True` to the `drive` method."
   ]
  },
  {
   "cell_type": "code",
   "execution_count": 2,
   "metadata": {},
   "outputs": [
    {
     "name": "stdout",
     "output_type": "stream",
     "text": [
      "Running OOMMF (ExeOOMMFRunner)[2022/02/18 18:12]... (0.5 s)\n"
     ]
    }
   ],
   "source": [
    "md = mc.MinDriver()\n",
    "md.drive(system, output_step=True)"
   ]
  },
  {
   "cell_type": "markdown",
   "metadata": {},
   "source": [
    "If we have a look at the table, we can see that multiple steps are saved:"
   ]
  },
  {
   "cell_type": "code",
   "execution_count": 3,
   "metadata": {
    "tags": [
     "nbval-ignore-output"
    ]
   },
   "outputs": [
    {
     "data": {
      "text/html": [
       "<div>\n",
       "<style scoped>\n",
       "    .dataframe tbody tr th:only-of-type {\n",
       "        vertical-align: middle;\n",
       "    }\n",
       "\n",
       "    .dataframe tbody tr th {\n",
       "        vertical-align: top;\n",
       "    }\n",
       "\n",
       "    .dataframe thead th {\n",
       "        text-align: right;\n",
       "    }\n",
       "</style>\n",
       "<table border=\"1\" class=\"dataframe\">\n",
       "  <thead>\n",
       "    <tr style=\"text-align: right;\">\n",
       "      <th></th>\n",
       "      <th>max_mxHxm</th>\n",
       "      <th>E</th>\n",
       "      <th>delta_E</th>\n",
       "      <th>bracket_count</th>\n",
       "      <th>line_min_count</th>\n",
       "      <th>conjugate_cycle_count</th>\n",
       "      <th>cycle_count</th>\n",
       "      <th>cycle_sub_count</th>\n",
       "      <th>energy_calc_count</th>\n",
       "      <th>E_zeeman</th>\n",
       "      <th>iteration</th>\n",
       "      <th>stage_iteration</th>\n",
       "      <th>stage</th>\n",
       "      <th>mx</th>\n",
       "      <th>my</th>\n",
       "      <th>mz</th>\n",
       "    </tr>\n",
       "  </thead>\n",
       "  <tbody>\n",
       "    <tr>\n",
       "      <th>0</th>\n",
       "      <td>1.000000e+05</td>\n",
       "      <td>0.000000e+00</td>\n",
       "      <td>0.000000e+00</td>\n",
       "      <td>0.0</td>\n",
       "      <td>0.0</td>\n",
       "      <td>1.0</td>\n",
       "      <td>1.0</td>\n",
       "      <td>0.0</td>\n",
       "      <td>1.0</td>\n",
       "      <td>0.000000e+00</td>\n",
       "      <td>0.0</td>\n",
       "      <td>0.0</td>\n",
       "      <td>0.0</td>\n",
       "      <td>1.000000e+00</td>\n",
       "      <td>0.0</td>\n",
       "      <td>0.000000</td>\n",
       "    </tr>\n",
       "    <tr>\n",
       "      <th>1</th>\n",
       "      <td>9.999996e+04</td>\n",
       "      <td>-1.206285e-20</td>\n",
       "      <td>-1.206285e-20</td>\n",
       "      <td>1.0</td>\n",
       "      <td>0.0</td>\n",
       "      <td>1.0</td>\n",
       "      <td>1.0</td>\n",
       "      <td>0.0</td>\n",
       "      <td>2.0</td>\n",
       "      <td>-1.206285e-20</td>\n",
       "      <td>1.0</td>\n",
       "      <td>1.0</td>\n",
       "      <td>0.0</td>\n",
       "      <td>9.999996e-01</td>\n",
       "      <td>0.0</td>\n",
       "      <td>0.000873</td>\n",
       "    </tr>\n",
       "    <tr>\n",
       "      <th>2</th>\n",
       "      <td>9.848078e+04</td>\n",
       "      <td>-2.400340e-18</td>\n",
       "      <td>-2.388277e-18</td>\n",
       "      <td>2.0</td>\n",
       "      <td>0.0</td>\n",
       "      <td>1.0</td>\n",
       "      <td>1.0</td>\n",
       "      <td>0.0</td>\n",
       "      <td>3.0</td>\n",
       "      <td>-2.400340e-18</td>\n",
       "      <td>2.0</td>\n",
       "      <td>2.0</td>\n",
       "      <td>0.0</td>\n",
       "      <td>9.848078e-01</td>\n",
       "      <td>0.0</td>\n",
       "      <td>0.173648</td>\n",
       "    </tr>\n",
       "    <tr>\n",
       "      <th>3</th>\n",
       "      <td>9.396926e+04</td>\n",
       "      <td>-4.727747e-18</td>\n",
       "      <td>-2.327407e-18</td>\n",
       "      <td>3.0</td>\n",
       "      <td>0.0</td>\n",
       "      <td>2.0</td>\n",
       "      <td>2.0</td>\n",
       "      <td>0.0</td>\n",
       "      <td>4.0</td>\n",
       "      <td>-4.727747e-18</td>\n",
       "      <td>3.0</td>\n",
       "      <td>3.0</td>\n",
       "      <td>0.0</td>\n",
       "      <td>9.396926e-01</td>\n",
       "      <td>0.0</td>\n",
       "      <td>0.342020</td>\n",
       "    </tr>\n",
       "    <tr>\n",
       "      <th>4</th>\n",
       "      <td>8.660254e+04</td>\n",
       "      <td>-6.911504e-18</td>\n",
       "      <td>-2.183757e-18</td>\n",
       "      <td>4.0</td>\n",
       "      <td>0.0</td>\n",
       "      <td>3.0</td>\n",
       "      <td>3.0</td>\n",
       "      <td>0.0</td>\n",
       "      <td>5.0</td>\n",
       "      <td>-6.911504e-18</td>\n",
       "      <td>4.0</td>\n",
       "      <td>4.0</td>\n",
       "      <td>0.0</td>\n",
       "      <td>8.660254e-01</td>\n",
       "      <td>0.0</td>\n",
       "      <td>0.500000</td>\n",
       "    </tr>\n",
       "    <tr>\n",
       "      <th>5</th>\n",
       "      <td>7.660444e+04</td>\n",
       "      <td>-8.885258e-18</td>\n",
       "      <td>-1.973754e-18</td>\n",
       "      <td>5.0</td>\n",
       "      <td>0.0</td>\n",
       "      <td>4.0</td>\n",
       "      <td>4.0</td>\n",
       "      <td>0.0</td>\n",
       "      <td>6.0</td>\n",
       "      <td>-8.885258e-18</td>\n",
       "      <td>5.0</td>\n",
       "      <td>5.0</td>\n",
       "      <td>0.0</td>\n",
       "      <td>7.660444e-01</td>\n",
       "      <td>0.0</td>\n",
       "      <td>0.642788</td>\n",
       "    </tr>\n",
       "    <tr>\n",
       "      <th>6</th>\n",
       "      <td>6.427876e+04</td>\n",
       "      <td>-1.058904e-17</td>\n",
       "      <td>-1.703780e-18</td>\n",
       "      <td>6.0</td>\n",
       "      <td>0.0</td>\n",
       "      <td>5.0</td>\n",
       "      <td>5.0</td>\n",
       "      <td>0.0</td>\n",
       "      <td>7.0</td>\n",
       "      <td>-1.058904e-17</td>\n",
       "      <td>6.0</td>\n",
       "      <td>6.0</td>\n",
       "      <td>0.0</td>\n",
       "      <td>6.427876e-01</td>\n",
       "      <td>0.0</td>\n",
       "      <td>0.766044</td>\n",
       "    </tr>\n",
       "    <tr>\n",
       "      <th>7</th>\n",
       "      <td>5.000000e+04</td>\n",
       "      <td>-1.197108e-17</td>\n",
       "      <td>-1.382038e-18</td>\n",
       "      <td>7.0</td>\n",
       "      <td>0.0</td>\n",
       "      <td>6.0</td>\n",
       "      <td>6.0</td>\n",
       "      <td>0.0</td>\n",
       "      <td>8.0</td>\n",
       "      <td>-1.197108e-17</td>\n",
       "      <td>7.0</td>\n",
       "      <td>7.0</td>\n",
       "      <td>0.0</td>\n",
       "      <td>5.000000e-01</td>\n",
       "      <td>0.0</td>\n",
       "      <td>0.866025</td>\n",
       "    </tr>\n",
       "    <tr>\n",
       "      <th>8</th>\n",
       "      <td>3.464669e+04</td>\n",
       "      <td>-1.296684e-17</td>\n",
       "      <td>-9.957653e-19</td>\n",
       "      <td>8.0</td>\n",
       "      <td>0.0</td>\n",
       "      <td>7.0</td>\n",
       "      <td>7.0</td>\n",
       "      <td>0.0</td>\n",
       "      <td>9.0</td>\n",
       "      <td>-1.296684e-17</td>\n",
       "      <td>8.0</td>\n",
       "      <td>8.0</td>\n",
       "      <td>0.0</td>\n",
       "      <td>3.464669e-01</td>\n",
       "      <td>0.0</td>\n",
       "      <td>0.938062</td>\n",
       "    </tr>\n",
       "    <tr>\n",
       "      <th>9</th>\n",
       "      <td>3.420201e+04</td>\n",
       "      <td>-1.298938e-17</td>\n",
       "      <td>-2.253721e-20</td>\n",
       "      <td>9.0</td>\n",
       "      <td>0.0</td>\n",
       "      <td>7.0</td>\n",
       "      <td>7.0</td>\n",
       "      <td>0.0</td>\n",
       "      <td>10.0</td>\n",
       "      <td>-1.298938e-17</td>\n",
       "      <td>9.0</td>\n",
       "      <td>9.0</td>\n",
       "      <td>0.0</td>\n",
       "      <td>3.420201e-01</td>\n",
       "      <td>0.0</td>\n",
       "      <td>0.939693</td>\n",
       "    </tr>\n",
       "    <tr>\n",
       "      <th>10</th>\n",
       "      <td>1.981052e+04</td>\n",
       "      <td>-1.354905e-17</td>\n",
       "      <td>-5.596679e-19</td>\n",
       "      <td>10.0</td>\n",
       "      <td>0.0</td>\n",
       "      <td>8.0</td>\n",
       "      <td>8.0</td>\n",
       "      <td>0.0</td>\n",
       "      <td>11.0</td>\n",
       "      <td>-1.354905e-17</td>\n",
       "      <td>10.0</td>\n",
       "      <td>10.0</td>\n",
       "      <td>0.0</td>\n",
       "      <td>1.981052e-01</td>\n",
       "      <td>0.0</td>\n",
       "      <td>0.980181</td>\n",
       "    </tr>\n",
       "    <tr>\n",
       "      <th>11</th>\n",
       "      <td>1.736482e+04</td>\n",
       "      <td>-1.361301e-17</td>\n",
       "      <td>-6.395896e-20</td>\n",
       "      <td>11.0</td>\n",
       "      <td>0.0</td>\n",
       "      <td>8.0</td>\n",
       "      <td>8.0</td>\n",
       "      <td>0.0</td>\n",
       "      <td>12.0</td>\n",
       "      <td>-1.361301e-17</td>\n",
       "      <td>11.0</td>\n",
       "      <td>11.0</td>\n",
       "      <td>0.0</td>\n",
       "      <td>1.736482e-01</td>\n",
       "      <td>0.0</td>\n",
       "      <td>0.984808</td>\n",
       "    </tr>\n",
       "    <tr>\n",
       "      <th>12</th>\n",
       "      <td>6.305027e+03</td>\n",
       "      <td>-1.379550e-17</td>\n",
       "      <td>-1.824996e-19</td>\n",
       "      <td>12.0</td>\n",
       "      <td>0.0</td>\n",
       "      <td>9.0</td>\n",
       "      <td>9.0</td>\n",
       "      <td>0.0</td>\n",
       "      <td>13.0</td>\n",
       "      <td>-1.379550e-17</td>\n",
       "      <td>12.0</td>\n",
       "      <td>12.0</td>\n",
       "      <td>0.0</td>\n",
       "      <td>6.305027e-02</td>\n",
       "      <td>0.0</td>\n",
       "      <td>0.998010</td>\n",
       "    </tr>\n",
       "    <tr>\n",
       "      <th>13</th>\n",
       "      <td>1.366695e-11</td>\n",
       "      <td>-1.382301e-17</td>\n",
       "      <td>-2.750291e-20</td>\n",
       "      <td>13.0</td>\n",
       "      <td>0.0</td>\n",
       "      <td>9.0</td>\n",
       "      <td>9.0</td>\n",
       "      <td>0.0</td>\n",
       "      <td>14.0</td>\n",
       "      <td>-1.382301e-17</td>\n",
       "      <td>13.0</td>\n",
       "      <td>13.0</td>\n",
       "      <td>0.0</td>\n",
       "      <td>1.366695e-16</td>\n",
       "      <td>0.0</td>\n",
       "      <td>1.000000</td>\n",
       "    </tr>\n",
       "  </tbody>\n",
       "</table>\n",
       "</div>"
      ],
      "text/plain": [
       "       max_mxHxm             E       delta_E  bracket_count  line_min_count  \\\n",
       "0   1.000000e+05  0.000000e+00  0.000000e+00            0.0             0.0   \n",
       "1   9.999996e+04 -1.206285e-20 -1.206285e-20            1.0             0.0   \n",
       "2   9.848078e+04 -2.400340e-18 -2.388277e-18            2.0             0.0   \n",
       "3   9.396926e+04 -4.727747e-18 -2.327407e-18            3.0             0.0   \n",
       "4   8.660254e+04 -6.911504e-18 -2.183757e-18            4.0             0.0   \n",
       "5   7.660444e+04 -8.885258e-18 -1.973754e-18            5.0             0.0   \n",
       "6   6.427876e+04 -1.058904e-17 -1.703780e-18            6.0             0.0   \n",
       "7   5.000000e+04 -1.197108e-17 -1.382038e-18            7.0             0.0   \n",
       "8   3.464669e+04 -1.296684e-17 -9.957653e-19            8.0             0.0   \n",
       "9   3.420201e+04 -1.298938e-17 -2.253721e-20            9.0             0.0   \n",
       "10  1.981052e+04 -1.354905e-17 -5.596679e-19           10.0             0.0   \n",
       "11  1.736482e+04 -1.361301e-17 -6.395896e-20           11.0             0.0   \n",
       "12  6.305027e+03 -1.379550e-17 -1.824996e-19           12.0             0.0   \n",
       "13  1.366695e-11 -1.382301e-17 -2.750291e-20           13.0             0.0   \n",
       "\n",
       "    conjugate_cycle_count  cycle_count  cycle_sub_count  energy_calc_count  \\\n",
       "0                     1.0          1.0              0.0                1.0   \n",
       "1                     1.0          1.0              0.0                2.0   \n",
       "2                     1.0          1.0              0.0                3.0   \n",
       "3                     2.0          2.0              0.0                4.0   \n",
       "4                     3.0          3.0              0.0                5.0   \n",
       "5                     4.0          4.0              0.0                6.0   \n",
       "6                     5.0          5.0              0.0                7.0   \n",
       "7                     6.0          6.0              0.0                8.0   \n",
       "8                     7.0          7.0              0.0                9.0   \n",
       "9                     7.0          7.0              0.0               10.0   \n",
       "10                    8.0          8.0              0.0               11.0   \n",
       "11                    8.0          8.0              0.0               12.0   \n",
       "12                    9.0          9.0              0.0               13.0   \n",
       "13                    9.0          9.0              0.0               14.0   \n",
       "\n",
       "        E_zeeman  iteration  stage_iteration  stage            mx   my  \\\n",
       "0   0.000000e+00        0.0              0.0    0.0  1.000000e+00  0.0   \n",
       "1  -1.206285e-20        1.0              1.0    0.0  9.999996e-01  0.0   \n",
       "2  -2.400340e-18        2.0              2.0    0.0  9.848078e-01  0.0   \n",
       "3  -4.727747e-18        3.0              3.0    0.0  9.396926e-01  0.0   \n",
       "4  -6.911504e-18        4.0              4.0    0.0  8.660254e-01  0.0   \n",
       "5  -8.885258e-18        5.0              5.0    0.0  7.660444e-01  0.0   \n",
       "6  -1.058904e-17        6.0              6.0    0.0  6.427876e-01  0.0   \n",
       "7  -1.197108e-17        7.0              7.0    0.0  5.000000e-01  0.0   \n",
       "8  -1.296684e-17        8.0              8.0    0.0  3.464669e-01  0.0   \n",
       "9  -1.298938e-17        9.0              9.0    0.0  3.420201e-01  0.0   \n",
       "10 -1.354905e-17       10.0             10.0    0.0  1.981052e-01  0.0   \n",
       "11 -1.361301e-17       11.0             11.0    0.0  1.736482e-01  0.0   \n",
       "12 -1.379550e-17       12.0             12.0    0.0  6.305027e-02  0.0   \n",
       "13 -1.382301e-17       13.0             13.0    0.0  1.366695e-16  0.0   \n",
       "\n",
       "          mz  \n",
       "0   0.000000  \n",
       "1   0.000873  \n",
       "2   0.173648  \n",
       "3   0.342020  \n",
       "4   0.500000  \n",
       "5   0.642788  \n",
       "6   0.766044  \n",
       "7   0.866025  \n",
       "8   0.938062  \n",
       "9   0.939693  \n",
       "10  0.980181  \n",
       "11  0.984808  \n",
       "12  0.998010  \n",
       "13  1.000000  "
      ]
     },
     "execution_count": 3,
     "metadata": {},
     "output_type": "execute_result"
    }
   ],
   "source": [
    "system.table.data"
   ]
  },
  {
   "cell_type": "markdown",
   "metadata": {},
   "source": [
    "Using all the utility of the `Table` object, we can analyse the data. For instance, we can plot the energy."
   ]
  },
  {
   "cell_type": "code",
   "execution_count": 4,
   "metadata": {},
   "outputs": [
    {
     "data": {
      "image/png": "[encoded data removed]",
      "text/plain": [
       "<Figure size 576x432 with 1 Axes>"
      ]
     },
     "metadata": {},
     "output_type": "display_data"
    }
   ],
   "source": [
    "system.table.mpl(y=['E'])"
   ]
  },
  {
   "cell_type": "markdown",
   "metadata": {},
   "source": [
    "By fecault, iteration is showed on the $x$-axis. We can change that by passing `x` variable. For example:"
   ]
  },
  {
   "cell_type": "code",
   "execution_count": 5,
   "metadata": {},
   "outputs": [
    {
     "data": {
      "image/png": "[encoded data removed]",
      "text/plain": [
       "<Figure size 576x432 with 1 Axes>"
      ]
     },
     "metadata": {},
     "output_type": "display_data"
    }
   ],
   "source": [
    "system.table.mpl(x='mx', y=['E'])"
   ]
  },
  {
   "cell_type": "markdown",
   "metadata": {},
   "source": [
    "## `micromagneticdata` analysis\n",
    "\n",
    "Similar to all other drivers, we can use `micromagneticdata` package to analyse the data. We start by creationg the data object:"
   ]
  },
  {
   "cell_type": "code",
   "execution_count": 6,
   "metadata": {},
   "outputs": [],
   "source": [
    "import micromagneticdata as md\n",
    "data = md.Data(name=system.name)"
   ]
  },
  {
   "cell_type": "markdown",
   "metadata": {},
   "source": [
    "We can have a look at all drives we did so far:"
   ]
  },
  {
   "cell_type": "code",
   "execution_count": 7,
   "metadata": {
    "tags": [
     "nbval-ignore-output"
    ]
   },
   "outputs": [
    {
     "data": {
      "text/html": [
       "<div>\n",
       "<style scoped>\n",
       "    .dataframe tbody tr th:only-of-type {\n",
       "        vertical-align: middle;\n",
       "    }\n",
       "\n",
       "    .dataframe tbody tr th {\n",
       "        vertical-align: top;\n",
       "    }\n",
       "\n",
       "    .dataframe thead th {\n",
       "        text-align: right;\n",
       "    }\n",
       "</style>\n",
       "<table border=\"1\" class=\"dataframe\">\n",
       "  <thead>\n",
       "    <tr style=\"text-align: right;\">\n",
       "      <th></th>\n",
       "      <th>drive_number</th>\n",
       "      <th>date</th>\n",
       "      <th>time</th>\n",
       "      <th>driver</th>\n",
       "    </tr>\n",
       "  </thead>\n",
       "  <tbody>\n",
       "    <tr>\n",
       "      <th>0</th>\n",
       "      <td>0</td>\n",
       "      <td>2022-02-16</td>\n",
       "      <td>17:38:17</td>\n",
       "      <td>MinDriver</td>\n",
       "    </tr>\n",
       "    <tr>\n",
       "      <th>1</th>\n",
       "      <td>1</td>\n",
       "      <td>2022-02-18</td>\n",
       "      <td>18:12:56</td>\n",
       "      <td>MinDriver</td>\n",
       "    </tr>\n",
       "  </tbody>\n",
       "</table>\n",
       "</div>"
      ],
      "text/plain": [
       "   drive_number        date      time     driver\n",
       "0             0  2022-02-16  17:38:17  MinDriver\n",
       "1             1  2022-02-18  18:12:56  MinDriver"
      ]
     },
     "execution_count": 7,
     "metadata": {},
     "output_type": "execute_result"
    }
   ],
   "source": [
    "data.info"
   ]
  },
  {
   "cell_type": "markdown",
   "metadata": {},
   "source": [
    "There is only one drive and we can get it by passing `0` (ot `-1`) as an index:"
   ]
  },
  {
   "cell_type": "code",
   "execution_count": 8,
   "metadata": {},
   "outputs": [],
   "source": [
    "drive = data[0]"
   ]
  },
  {
   "cell_type": "markdown",
   "metadata": {},
   "source": [
    "We can now plot the magnetisation at individual iterations, by indexing it again with the step number and do all usual operations allowed by `discretisedfield.Field` object."
   ]
  },
  {
   "cell_type": "code",
   "execution_count": 9,
   "metadata": {},
   "outputs": [
    {
     "data": {
      "text/html": [
       "<strong>Field</strong>\n",
       "<ul>\n",
       "  \n",
       "  <li><strong>Mesh</strong>\n",
       "<ul>\n",
       "  <li><strong>Region</strong>\n",
       "<ul>\n",
       "  <li>p1 = (-5e-08, -5e-08, 0.0)</li>\n",
       "  <li>p2 = (5e-08, 5e-08, 1e-08)</li>\n",
       "</ul></li>\n",
       "  <li>n = (20, 20, 2)</li>\n",
       "  <li>attributes:\n",
       "    <ul>\n",
       "      <li>unit: m</li>\n",
       "      <li>fourierspace: False</li>\n",
       "      <li>isplane: False</li>\n",
       "      </ul>\n",
       "  </li>\n",
       "</ul></li>\n",
       "  <li>dim = 3</li>\n",
       "  <li>components:\n",
       "      <ul><li>x</li>\n",
       "        <li>y</li>\n",
       "        <li>z</li>\n",
       "        </ul>\n",
       "    </li>\n",
       "  </ul>"
      ],
      "text/plain": [
       "Field(Mesh(Region(p1=(-5e-08, -5e-08, 0.0), p2=(5e-08, 5e-08, 1e-08)), n=(20, 20, 2), attributes: (unit: m, fourierspace: False, isplane: False)), dim=3, components: (x, y, z))"
      ]
     },
     "execution_count": 9,
     "metadata": {},
     "output_type": "execute_result"
    }
   ],
   "source": [
    "drive[0]"
   ]
  },
  {
   "cell_type": "markdown",
   "metadata": {},
   "source": [
    "The number of steps in the drive is:"
   ]
  },
  {
   "cell_type": "code",
   "execution_count": 10,
   "metadata": {},
   "outputs": [
    {
     "data": {
      "text/plain": [
       "14"
      ]
     },
     "execution_count": 10,
     "metadata": {},
     "output_type": "execute_result"
    }
   ],
   "source": [
    "drive.n"
   ]
  },
  {
   "cell_type": "markdown",
   "metadata": {},
   "source": [
    "Let us now create an interactive plot. For details on how to create custom interactive plots, please have a look at other tutorials."
   ]
  },
  {
   "cell_type": "code",
   "execution_count": 11,
   "metadata": {
    "tags": [
     "nbval-ignore-output"
    ]
   },
   "outputs": [
    {
     "data": {
      "application/vnd.jupyter.widget-view+json": {
       "model_id": "b808f9d0c464468e8cf04bcc17406799",
       "version_major": 2,
       "version_minor": 0
      },
      "text/plain": [
       "interactive(children=(IntSlider(value=0, continuous_update=False, description='step', max=13), Output()), _dom…"
      ]
     },
     "metadata": {},
     "output_type": "display_data"
    }
   ],
   "source": [
    "@df.interact(step=drive.slider(continuous_update=False))\n",
    "def my_plot(step):\n",
    "    drive[step].plane('y').mpl()"
   ]
  }
 ],
 "metadata": {
  "kernelspec": {
   "display_name": "Python 3 (ipykernel)",
   "language": "python",
   "name": "python3"
  },
  "language_info": {
   "codemirror_mode": {
    "name": "ipython",
    "version": 3
   },
   "file_extension": ".py",
   "mimetype": "text/x-python",
   "name": "python",
   "nbconvert_exporter": "python",
   "pygments_lexer": "ipython3",
   "version": "3.8.12"
  },
  "widgets": {
   "application/vnd.jupyter.widget-state+json": {
    "state": {
     "3f92185845364abe9dee4d6ded1f1014": {
      "model_module": "@jupyter-widgets/controls",
      "model_module_version": "1.5.0",
      "model_name": "IntSliderModel",
      "state": {
       "continuous_update": false,
       "description": "step",
       "layout": "IPY_MODEL_affdc24d88474003b02f5f0261db2c4a",
       "max": 13,
       "style": "IPY_MODEL_f3aa6826d6d14d649c9705466ce777cf"
      }
     },
     "635c501c459e49d683bf81d672255554": {
      "model_module": "@jupyter-widgets/base",
      "model_module_version": "1.2.0",
      "model_name": "LayoutModel",
      "state": {}
     },
     "ac969f6c79be4d589e325f2f2a8ddbe4": {
      "model_module": "@jupyter-widgets/output",
      "model_module_version": "1.0.0",
      "model_name": "OutputModel",
      "state": {
       "layout": "IPY_MODEL_f86cb858abdf47a5982287bc25b3f568",
       "outputs": [
        {
         "data": {
          "image/png": "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\n",
          "text/plain": "<Figure size 576x432 with 2 Axes>"
         },
         "metadata": {},
         "output_type": "display_data"
        }
       ]
      }
     },
     "affdc24d88474003b02f5f0261db2c4a": {
      "model_module": "@jupyter-widgets/base",
      "model_module_version": "1.2.0",
      "model_name": "LayoutModel",
      "state": {}
     },
     "b808f9d0c464468e8cf04bcc17406799": {
      "model_module": "@jupyter-widgets/controls",
      "model_module_version": "1.5.0",
      "model_name": "VBoxModel",
      "state": {
       "_dom_classes": [
        "widget-interact"
       ],
       "children": [
        "IPY_MODEL_3f92185845364abe9dee4d6ded1f1014",
        "IPY_MODEL_ac969f6c79be4d589e325f2f2a8ddbe4"
       ],
       "layout": "IPY_MODEL_635c501c459e49d683bf81d672255554"
      }
     },
     "f3aa6826d6d14d649c9705466ce777cf": {
      "model_module": "@jupyter-widgets/controls",
      "model_module_version": "1.5.0",
      "model_name": "SliderStyleModel",
      "state": {
       "description_width": ""
      }
     },
     "f86cb858abdf47a5982287bc25b3f568": {
      "model_module": "@jupyter-widgets/base",
      "model_module_version": "1.2.0",
      "model_name": "LayoutModel",
      "state": {}
     }
    },
    "version_major": 2,
    "version_minor": 0
   }
  }
 },
 "nbformat": 4,
 "nbformat_minor": 4
}
