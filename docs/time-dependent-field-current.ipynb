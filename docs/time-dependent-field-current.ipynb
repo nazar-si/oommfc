{
 "cells": [
  {
   "cell_type": "markdown",
   "id": "817d905f-3017-44d0-9eba-09abd70c5caa",
   "metadata": {},
   "source": [
    "# Time-dependent fields and currents\n",
    "\n",
    "It is possible to define an arbitrary time dependence for external Zeeman fields, Sloncewski and Zhang-Li currents. This is done via defining an additional time-dependent prefactor that is used to multiply the initial (fixed) field/current values. Two different mechanisms can be used:\n",
    "\n",
    "- defining the time dependence in a Python function\n",
    "- writing tcl to be added to the `mif` file\n",
    "\n",
    "The first option, defining a Python function is generally much simpler - but a bit more limited than the second method. Nevertheless, our recommendation is to use this option unless you need advanced features. The general concept is as follows: when defining the relevant term from `micromagnetimodel` you have to pass two additional arguments `time_dependence` and `tstep`. `time_dependence` is a callable (usually a user-defined Python function) that can be called for an arbitrary timestep and returns the value of the prefactor at that timestep. This function **has to be differentiable** with respect to time (first derivatives are numerically computed internally). The function is evaluated at all time steps between zero and the simulation time separated by `tstep`. The whole list is then passed to OOMMF. Therefore, `tstep` must be choosen properly. Too small steps result in too much data to be passed to OOMMF, to large steps can result in too large derivatives that can result in a failure of the simulation (and/or extremely large runtimes). A good initial guess is somewhere between `tstep=1e-12` and `tstep=1e-13`. It is not possible to have non-uniform timesteps.\n",
    "\n",
    "The second option, writing `tcl` that is directly passed to OOMMF allows for some advanced features. It is possible to have non-differentiable time-dependence (with some exceptions, refer to the OOMMF documentation for the details) and there is no interpolation between fixed time-steps as the `tcl` script is evaluated at exact time steps required by the simulation. To use this you have to pass a dictionary `tcl_strings` defining a fixed set of keys depending on field or current (see below).\n",
    "\n",
    "For both methods, there are some differences in the details stemming from the different dimensionality of current (scalar) and field (vector) that are explained below."
   ]
  },
  {
   "cell_type": "code",
   "execution_count": 10,
   "id": "253e89ea-aa93-471f-b7e8-2d162b4a1c46",
   "metadata": {},
   "outputs": [],
   "source": [
    "import discretisedfield as df\n",
    "import micromagneticmodel as mm\n",
    "import oommfc as mc\n",
    "import numpy as np"
   ]
  },
  {
   "cell_type": "markdown",
   "id": "a4af2825-f855-4c68-aea7-c98ec06a09bb",
   "metadata": {},
   "source": [
    "## Zeeman field\n",
    "TODO"
   ]
  },
  {
   "cell_type": "markdown",
   "id": "1a052791-530c-4706-8cdc-98a1ff96333a",
   "metadata": {},
   "source": [
    "## Slonczewski and Zhang-Li currents\n",
    "\n",
    "From the point of view of modelling time-dependent currents both Slonczewski and Zhang-Li behave the same. Examples here use `ZhangLi` but can be directly used for `Slonczewski`.\n",
    "\n",
    "### Python function\n",
    "\n",
    "The callable `time_dependence` must return a single number that is used to multiply the initial values. To demonstrate this we show an example of moving a domain wall with Zhang-Li current."
   ]
  },
  {
   "cell_type": "code",
   "execution_count": 59,
   "id": "69a647f4-5125-4153-952f-3e49eb72c47c",
   "metadata": {
    "tags": []
   },
   "outputs": [],
   "source": [
    "# Definition of parameters\n",
    "L = 500e-9  # sample length (m)\n",
    "w = 20e-9  # sample width (m)\n",
    "d = 2.5e-9  # discretisation cell size (m)\n",
    "Ms = 5.8e5  # saturation magnetisation (A/m)\n",
    "A = 15e-12  # exchange energy constant (J/)\n",
    "D = 3e-3  # Dzyaloshinkii-Moriya energy constant (J/m**2)\n",
    "K = 0.5e6  # uniaxial anisotropy constant (J/m**3)\n",
    "u = (0, 0, 1)  # easy axis\n",
    "gamma0 = 2.211e5  # gyromagnetic ratio (m/As)\n",
    "alpha = 0.3  # Gilbert damping\n",
    "\n",
    "# Mesh definition\n",
    "p1 = (0, 0, 0)\n",
    "p2 = (L, w, d)\n",
    "cell = (d, d, d)\n",
    "region = df.Region(p1=p1, p2=p2)\n",
    "mesh = df.Mesh(region=region, cell=cell)\n",
    "\n",
    "# Micromagnetic system definition\n",
    "system = mm.System(name='domain_wall_pair')\n",
    "system.energy = mm.Exchange(A=A) + \\\n",
    "                mm.DMI(D=D, crystalclass='Cnv_z') + \\\n",
    "                mm.UniaxialAnisotropy(K=K, u=u)\n",
    "system.dynamics = mm.Precession(gamma0=gamma0) + mm.Damping(alpha=alpha)"
   ]
  },
  {
   "cell_type": "markdown",
   "id": "506f41a8-8f48-4f16-a1fd-0e7360873d8d",
   "metadata": {},
   "source": [
    "Because we want to move a DW pair, we need to initialise the magnetisation in an appropriate way before we relax the system."
   ]
  },
  {
   "cell_type": "code",
   "execution_count": 60,
   "id": "c702b006-7caa-44be-8bcd-b08509d95068",
   "metadata": {
    "tags": []
   },
   "outputs": [
    {
     "data": {
      "image/png": "[encoded data removed]",
      "text/plain": [
       "<Figure size 576x432 with 2 Axes>"
      ]
     },
     "metadata": {},
     "output_type": "display_data"
    }
   ],
   "source": [
    "def m_value(pos):\n",
    "    x, y, z = pos\n",
    "    if x < 40e-9:\n",
    "        return (0, 0, -1)\n",
    "    else:\n",
    "        return (0, 0, 1)\n",
    "    \n",
    "system.m = df.Field(mesh, dim=3, value=m_value, norm=Ms)\n",
    "\n",
    "system.m.orientation.z.plane('z').mpl.scalar()"
   ]
  },
  {
   "cell_type": "markdown",
   "id": "70296e63-ea1a-4c62-a81a-644aed4c03b1",
   "metadata": {},
   "source": [
    "Now, we can relax the magnetisation."
   ]
  },
  {
   "cell_type": "code",
   "execution_count": 61,
   "id": "ca698c4f-bdba-4beb-a8aa-4267b59e7d15",
   "metadata": {},
   "outputs": [
    {
     "name": "stdout",
     "output_type": "stream",
     "text": [
      "Running OOMMF (ExeOOMMFRunner) [2021/11/12 10:05]...  <1> mmarchive killed\n",
      " <2> mmarchive killed\n",
      "(3.1 s)\n"
     ]
    },
    {
     "data": {
      "image/png": "[encoded data removed]",
      "text/plain": [
       "<Figure size 576x432 with 2 Axes>"
      ]
     },
     "metadata": {},
     "output_type": "display_data"
    }
   ],
   "source": [
    "md = mc.MinDriver()\n",
    "md.drive(system)\n",
    "\n",
    "system.m.orientation.z.plane('z').mpl.scalar()"
   ]
  },
  {
   "cell_type": "markdown",
   "id": "8079ffbe-dad8-4279-a19b-b902141bc66c",
   "metadata": {},
   "source": [
    "Now we can add the STT term to the dynamics equation. We define a sinusoidal modulation with period $T=1\\,\\mathrm{ns}$."
   ]
  },
  {
   "cell_type": "code",
   "execution_count": 62,
   "id": "53df68b5-2609-4ec3-ba84-3d862e443e46",
   "metadata": {
    "tags": []
   },
   "outputs": [],
   "source": [
    "ux = 400  # velocity in x-direction (m/s)\n",
    "beta = 0.5  # non-adiabatic STT parameter\n",
    "\n",
    "def time_func(t):\n",
    "    omega = 2 * np.pi / 1e-9\n",
    "    return np.sin(omega * t)\n",
    "\n",
    "system.dynamics += mm.ZhangLi(u=ux, beta=beta, time_dependence=time_func, tstep=1e-12)"
   ]
  },
  {
   "cell_type": "markdown",
   "id": "aa998814-302f-4636-961e-18fca0dbeea5",
   "metadata": {},
   "source": [
    "And drive the system for $1.5 \\,\\text{ns}$ ($1.5T$):"
   ]
  },
  {
   "cell_type": "code",
   "execution_count": 63,
   "id": "fe71895d-1dcc-47dd-a21a-09551dc46e53",
   "metadata": {
    "tags": []
   },
   "outputs": [
    {
     "name": "stdout",
     "output_type": "stream",
     "text": [
      "Running OOMMF (ExeOOMMFRunner) [2021/11/12 10:05]...  <1> mmarchive killed\n",
      " <2> mmarchive killed\n",
      " <3> mmarchive killed\n",
      "(10.1 s)\n"
     ]
    },
    {
     "data": {
      "image/png": "[encoded data removed]",
      "text/plain": [
       "<Figure size 576x432 with 2 Axes>"
      ]
     },
     "metadata": {},
     "output_type": "display_data"
    }
   ],
   "source": [
    "td = mc.TimeDriver()\n",
    "td.drive(system, t=1.5e-9, n=100)\n",
    "\n",
    "system.m.orientation.z.plane('z').mpl.scalar()"
   ]
  },
  {
   "cell_type": "markdown",
   "id": "4e8e3e24-94ac-4dfd-b1e5-a49e1421a124",
   "metadata": {},
   "source": [
    "We see that the DW pair has moved to the positive $x$ direction. We can get more information about the movement by plotting the average magnetisation in z-direction as a function of time:"
   ]
  },
  {
   "cell_type": "code",
   "execution_count": 64,
   "id": "af48e58a-5b2d-4154-b9a6-76d0ed4dbd65",
   "metadata": {},
   "outputs": [
    {
     "data": {
      "image/png": "[encoded data removed]",
      "text/plain": [
       "<Figure size 576x432 with 1 Axes>"
      ]
     },
     "metadata": {},
     "output_type": "display_data"
    }
   ],
   "source": [
    "system.table.mpl(x='t', y=['mz'])"
   ]
  },
  {
   "cell_type": "markdown",
   "id": "c23f3f2b-a6af-4e33-a47b-130dc107c417",
   "metadata": {},
   "source": [
    "We can see that the magnetisation follows the sinusoidal modulation of the current. Now, let us visualise the motion using an interactive plot."
   ]
  },
  {
   "cell_type": "code",
   "execution_count": 65,
   "id": "8a698196-4e79-420a-9cb2-94e9201b410a",
   "metadata": {},
   "outputs": [
    {
     "data": {
      "application/vnd.jupyter.widget-view+json": {
       "model_id": "9952407f8ef4498083649f7e1b72bf30",
       "version_major": 2,
       "version_minor": 0
      },
      "text/plain": [
       "interactive(children=(IntSlider(value=0, description='step', max=99), Output()), _dom_classes=('widget-interac…"
      ]
     },
     "metadata": {},
     "output_type": "display_data"
    }
   ],
   "source": [
    "import micromagneticdata as md\n",
    "\n",
    "data = md.Data(system.name)\n",
    "\n",
    "plot = k3d.plot()\n",
    "\n",
    "@df.interact(n=data[1].slider())\n",
    "def my_plot(n):\n",
    "    data[-1][n].orientation.z.plane('z').mpl.scalar()"
   ]
  },
  {
   "cell_type": "markdown",
   "id": "cec18872-1145-4d7e-be14-85bacfa5381a",
   "metadata": {},
   "source": [
    "### Tcl\n",
    "\n",
    "TODO"
   ]
  }
 ],
 "metadata": {
  "kernelspec": {
   "display_name": "Python 3 (ipykernel)",
   "language": "python",
   "name": "python3"
  },
  "language_info": {
   "codemirror_mode": {
    "name": "ipython",
    "version": 3
   },
   "file_extension": ".py",
   "mimetype": "text/x-python",
   "name": "python",
   "nbconvert_exporter": "python",
   "pygments_lexer": "ipython3",
   "version": "3.9.7"
  },
  "widgets": {
   "application/vnd.jupyter.widget-state+json": {
    "state": {
     "00cbc2dca1c14649a4f8a0c247fc6e1c": {
      "model_module": "@jupyter-widgets/base",
      "model_module_version": "1.2.0",
      "model_name": "LayoutModel",
      "state": {}
     },
     "05eba5ec228d45b5a72be03b10285d30": {
      "model_module": "@jupyter-widgets/base",
      "model_module_version": "1.2.0",
      "model_name": "LayoutModel",
      "state": {}
     },
     "0958cbd4785a4e05a1f94231be9d88f5": {
      "model_module": "@jupyter-widgets/output",
      "model_module_version": "1.0.0",
      "model_name": "OutputModel",
      "state": {
       "layout": "IPY_MODEL_add56020ac31412687f591c3cb4ba3f3",
       "outputs": [
        {
         "data": {
          "application/vnd.jupyter.widget-view+json": {
           "model_id": "",
           "version_major": 2,
           "version_minor": 0
          },
          "text/plain": "Plot(antialias=3, axes=['x', 'y', 'z'], axes_helper=1.0, background_color=16777215, camera_animation=[], camer…"
         },
         "metadata": {},
         "output_type": "display_data"
        }
       ]
      }
     },
     "0e56a567e0604800bae7093ce7a9e951": {
      "buffers": [
       {
        "data": "TiIAAE8jAABRJAAAUyUAAFQlAABWJgAAWCcAAFkoAABbKAAAXSkAAF8qAABhKgAAYisAAGQsAABmLAAAaC0AAGouAABsLgAAbS8AAG8wAABwMAAAcDEAAHExAABxMgEAcTMFAHAzCABwNAwAcDUPAHA1EgBwNhQAcDcWAG83GABvOBoAbzkcAG86HgBvOiAAbjshAG48IwBuPCQAbj0mAG4+JwBuPykAbT8qAG1AKwBtQS0AbUEuAG1CLwBtQzEAbUMyAG1EMwBsRTQAbEU1AGxGNgBsRzgAbEg5AGxIOgBsSTsAbEo8AGxKPQBsSz4AbEw/AGxMQABsTUEAbE5CAGxOQwBsT0QAbFBFAGxRRgBsUUcAbFJIAGxTSQBsU0oAbFRLAGxVTABsVU0AbFZOAGxXTwBsV1AAbVhRAG1ZUgBtWlMAbVpUAG1bVQBtXFUAbVxWAG1dVwBtXlgAbl5ZAG5fWgBuYFsAbmFcAG5hXQBuYl4Ab2NeAG9jXwBvZGAAb2VhAG9lYgBwZmMAcGdkAHBoZQBwaGUAcGlmAHFqZwBxamgAcWtpAHFsagBybWsAcm1sAHJubAByb20Ac29uAHNwbwBzcXAAdHJxAHRycgB0c3IAdXRzAHV0dAB1dXUAdnZ2AHZ3dwB3d3cAd3h4AHd5eQB4enoAeHp7AHh7fAB4fH0AeHx+AHh9fgB4fn8AeH+AAHh/gQB5gIIAeYGDAHmChAB5goUAeYOGAHiEhwB4hYgAeIWJAHiGigB4h4sAeIiMAHiIjQB4iY4AeIqPAHiLkAB4i5EAeIySAHiNkgB4jpMAd46UAHePlQB3kJYAd5GXAHeSmAB3kpkAdpOaAHaUmwB2lZwAdpWdAHaWngB1l58AdZigAHWZoQB1maIAdJqjAHSbpAB0nKUAdJymAHOdpwBznqgAc5+pAHOgqgByoKsAcqGsAHKirQBxo64AcaSvAHGlsABwpbEAcKazAG+ntABvqLUAb6m2AG6ptwBuqrgAbau5AG2sugBtrbsAbK68AGyuvQBrr74Aa7C/AGqxwABqssEAabPCAGmzwwBotMQAaLXFAGe2xgBnt8cAZrjIAGW5yQBlucsAZLrMAGO7zQBjvM4AYr3PAGK+0ABhv9EAYMDSAF/A0wBfwdQAXsLVAF3D1gBcxNcAXMXZAFvG2gBax9sAWcjcAFjI3QBYyd4AV8rfAFbL4ABVzOEAVM3iAFPO5ABSz+UAUdDmAFDR5wBP0ugATtPpAEzT6gBL1OsAStXtAEnW7gBI1+8ARtjwAEXZ8QBE2vIAQtvzAEHc9QA/3fYAPt73ADzf+AA64PkAOOH7ADbi/AA04/0ANOT+ADXl/gA25v4AOOj+AA==",
        "encoding": "base64",
        "path": [
         "color_map",
         "data"
        ]
       },
       {
        "data": "AAD6QwAAAAAAAAAAAAB6QwAAAAAAAKBBAAAAAAAAIEEAAAAAAAAAAAAAIEAAAKA/AAAAAAAAAAAAAAAAAACAPw==",
        "encoding": "base64",
        "path": [
         "model_matrix",
         "data"
        ]
       },
       {
        "data": "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",
        "encoding": "base64",
        "path": [
         "voxels",
         "data"
        ]
       }
      ],
      "model_module": "k3d",
      "model_module_version": "2.11.0",
      "model_name": "ObjectModel",
      "state": {
       "_view_count": null,
       "_view_module": null,
       "_view_module_version": "",
       "_view_name": null,
       "colorLegend": false,
       "color_map": {
        "dtype": "uint32",
        "shape": [
         256
        ]
       },
       "compression_level": 0,
       "id": 140018357047248,
       "model_matrix": {
        "dtype": "float32",
        "shape": [
         4,
         4
        ]
       },
       "name": "Voxels #10",
       "opacity": 1,
       "outlines": false,
       "outlines_color": 0,
       "type": "Voxels",
       "visible": true,
       "voxels": {
        "dtype": "uint8",
        "shape": [
         1,
         8,
         200
        ]
       },
       "wireframe": false
      }
     },
     "0fe8558450474bf1b2ad41e594bcf3f2": {
      "model_module": "@jupyter-widgets/controls",
      "model_module_version": "1.5.0",
      "model_name": "IntSliderModel",
      "state": {
       "description": "step",
       "layout": "IPY_MODEL_54c3cc37a6004b96b98d1167c90b459c",
       "max": 99,
       "style": "IPY_MODEL_6a393e1bf1a84fe6a1b2ac038b97a03c"
      }
     },
     "12638d22662c4808888801b0d0974576": {
      "model_module": "@jupyter-widgets/base",
      "model_module_version": "1.2.0",
      "model_name": "LayoutModel",
      "state": {}
     },
     "145d525135344149b1c97a8c36605d84": {
      "model_module": "@jupyter-widgets/controls",
      "model_module_version": "1.5.0",
      "model_name": "VBoxModel",
      "state": {
       "_dom_classes": [
        "widget-interact"
       ],
       "children": [
        "IPY_MODEL_0fe8558450474bf1b2ad41e594bcf3f2",
        "IPY_MODEL_73af99dc9af5412d9663aae65fb12db5"
       ],
       "layout": "IPY_MODEL_a7eaaad0f6604c2286e6eb83b0d21cd9"
      }
     },
     "15984a069ba845b9a1e67d2228eec3cc": {
      "buffers": [
       {
        "data": "TiIAAE8jAABRJAAAUyUAAFQlAABWJgAAWCcAAFkoAABbKAAAXSkAAF8qAABhKgAAYisAAGQsAABmLAAAaC0AAGouAABsLgAAbS8AAG8wAABwMAAAcDEAAHExAABxMgEAcTMFAHAzCABwNAwAcDUPAHA1EgBwNhQAcDcWAG83GABvOBoAbzkcAG86HgBvOiAAbjshAG48IwBuPCQAbj0mAG4+JwBuPykAbT8qAG1AKwBtQS0AbUEuAG1CLwBtQzEAbUMyAG1EMwBsRTQAbEU1AGxGNgBsRzgAbEg5AGxIOgBsSTsAbEo8AGxKPQBsSz4AbEw/AGxMQABsTUEAbE5CAGxOQwBsT0QAbFBFAGxRRgBsUUcAbFJIAGxTSQBsU0oAbFRLAGxVTABsVU0AbFZOAGxXTwBsV1AAbVhRAG1ZUgBtWlMAbVpUAG1bVQBtXFUAbVxWAG1dVwBtXlgAbl5ZAG5fWgBuYFsAbmFcAG5hXQBuYl4Ab2NeAG9jXwBvZGAAb2VhAG9lYgBwZmMAcGdkAHBoZQBwaGUAcGlmAHFqZwBxamgAcWtpAHFsagBybWsAcm1sAHJubAByb20Ac29uAHNwbwBzcXAAdHJxAHRycgB0c3IAdXRzAHV0dAB1dXUAdnZ2AHZ3dwB3d3cAd3h4AHd5eQB4enoAeHp7AHh7fAB4fH0AeHx+AHh9fgB4fn8AeH+AAHh/gQB5gIIAeYGDAHmChAB5goUAeYOGAHiEhwB4hYgAeIWJAHiGigB4h4sAeIiMAHiIjQB4iY4AeIqPAHiLkAB4i5EAeIySAHiNkgB4jpMAd46UAHePlQB3kJYAd5GXAHeSmAB3kpkAdpOaAHaUmwB2lZwAdpWdAHaWngB1l58AdZigAHWZoQB1maIAdJqjAHSbpAB0nKUAdJymAHOdpwBznqgAc5+pAHOgqgByoKsAcqGsAHKirQBxo64AcaSvAHGlsABwpbEAcKazAG+ntABvqLUAb6m2AG6ptwBuqrgAbau5AG2sugBtrbsAbK68AGyuvQBrr74Aa7C/AGqxwABqssEAabPCAGmzwwBotMQAaLXFAGe2xgBnt8cAZrjIAGW5yQBlucsAZLrMAGO7zQBjvM4AYr3PAGK+0ABhv9EAYMDSAF/A0wBfwdQAXsLVAF3D1gBcxNcAXMXZAFvG2gBax9sAWcjcAFjI3QBYyd4AV8rfAFbL4ABVzOEAVM3iAFPO5ABSz+UAUdDmAFDR5wBP0ugATtPpAEzT6gBL1OsAStXtAEnW7gBI1+8ARtjwAEXZ8QBE2vIAQtvzAEHc9QA/3fYAPt73ADzf+AA64PkAOOH7ADbi/AA04/0ANOT+ADXl/gA25v4AOOj+AA==",
        "encoding": "base64",
        "path": [
         "color_map",
         "data"
        ]
       },
       {
        "data": "AAD6QwAAAAAAAAAAAAB6QwAAAAAAAKBBAAAAAAAAIEEAAAAAAAAAAAAAIEAAAKA/AAAAAAAAAAAAAAAAAACAPw==",
        "encoding": "base64",
        "path": [
         "model_matrix",
         "data"
        ]
       },
       {
        "data": "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",
        "encoding": "base64",
        "path": [
         "voxels",
         "data"
        ]
       }
      ],
      "model_module": "k3d",
      "model_module_version": "2.11.0",
      "model_name": "ObjectModel",
      "state": {
       "_view_count": null,
       "_view_module": null,
       "_view_module_version": "",
       "_view_name": null,
       "colorLegend": false,
       "color_map": {
        "dtype": "uint32",
        "shape": [
         256
        ]
       },
       "compression_level": 0,
       "id": 140017009666656,
       "model_matrix": {
        "dtype": "float32",
        "shape": [
         4,
         4
        ]
       },
       "name": "Voxels #12",
       "opacity": 1,
       "outlines": false,
       "outlines_color": 0,
       "type": "Voxels",
       "visible": true,
       "voxels": {
        "dtype": "uint8",
        "shape": [
         1,
         8,
         200
        ]
       },
       "wireframe": false
      }
     },
     "15c4df67677f419c88255e6c41e7d852": {
      "model_module": "k3d",
      "model_module_version": "2.11.0",
      "model_name": "PlotModel",
      "state": {
       "_backend_version": "2.11.0",
       "_dom_classes": [],
       "_view_count": null,
       "antialias": 3,
       "auto_rendering": true,
       "axes": [
        "x\\,\\text{ (nm)}",
        "y\\,\\text{ (nm)}",
        "z\\,\\text{ (nm)}"
       ],
       "axes_helper": 1,
       "background_color": 16777215,
       "camera": [],
       "camera_animation": [],
       "camera_auto_fit": false,
       "camera_damping_factor": 0,
       "camera_fov": 60,
       "camera_mode": "trackball",
       "camera_no_pan": false,
       "camera_no_rotate": false,
       "camera_no_zoom": false,
       "camera_pan_speed": 0.3,
       "camera_rotate_speed": 1,
       "camera_zoom_speed": 1.2,
       "clipping_planes": [],
       "colorbar_object_id": -1,
       "colorbar_scientific": false,
       "fps": 25,
       "fps_meter": false,
       "grid": [
        -1,
        -1,
        -1,
        1,
        1,
        1
       ],
       "grid_auto_fit": true,
       "grid_color": 15132390,
       "grid_visible": true,
       "height": 512,
       "label_color": 4473924,
       "layout": "IPY_MODEL_dfc434bccba244cb9f79ae141e874d1c",
       "lighting": 1.5,
       "manipulate_mode": "translate",
       "menu_visibility": true,
       "mode": "view",
       "name": null,
       "object_ids": [
        140018354942928,
        140018355089952
       ],
       "rendering_steps": 1,
       "screenshot": "",
       "screenshot_scale": 2,
       "snapshot": "",
       "snapshot_type": "full",
       "time": 0,
       "voxel_paint_color": 0
      }
     },
     "1839580d5d3d4c1a8f146d54283b2514": {
      "model_module": "@jupyter-widgets/controls",
      "model_module_version": "1.5.0",
      "model_name": "IntSliderModel",
      "state": {
       "description": "step",
       "layout": "IPY_MODEL_22c03c2d081d403d98e9e2656ddbe605",
       "max": 99,
       "style": "IPY_MODEL_279391039221451598702970d25d46f3"
      }
     },
     "187d7ddaecfe4fdcb75845566890e4bd": {
      "model_module": "@jupyter-widgets/controls",
      "model_module_version": "1.5.0",
      "model_name": "IntSliderModel",
      "state": {
       "description": "step",
       "layout": "IPY_MODEL_92ebd40dad3543e79144c871753e8add",
       "max": 99,
       "style": "IPY_MODEL_7dae2e603a7f46418c7d3cc98b250b56",
       "value": 99
      }
     },
     "196d0b056a4d4783b10a4164aea1bb24": {
      "model_module": "@jupyter-widgets/output",
      "model_module_version": "1.0.0",
      "model_name": "OutputModel",
      "state": {
       "layout": "IPY_MODEL_8f4e378069ec4fceaa8df25e2ead1090",
       "outputs": [
        {
         "data": {
          "application/vnd.jupyter.widget-view+json": {
           "model_id": "",
           "version_major": 2,
           "version_minor": 0
          },
          "text/plain": "Plot(antialias=3, axes=['x\\\\,\\\\text{ (nm)}', 'y\\\\,\\\\text{ (nm)}', 'z\\\\,\\\\text{ (nm)}'], axes_helper=1.0, backg…"
         },
         "metadata": {},
         "output_type": "display_data"
        }
       ]
      }
     },
     "1d3cc7092f394a6bbfc79b9e2605b29c": {
      "buffers": [
       {
        "data": "TiIAAE8jAABRJAAAUyUAAFQlAABWJgAAWCcAAFkoAABbKAAAXSkAAF8qAABhKgAAYisAAGQsAABmLAAAaC0AAGouAABsLgAAbS8AAG8wAABwMAAAcDEAAHExAABxMgEAcTMFAHAzCABwNAwAcDUPAHA1EgBwNhQAcDcWAG83GABvOBoAbzkcAG86HgBvOiAAbjshAG48IwBuPCQAbj0mAG4+JwBuPykAbT8qAG1AKwBtQS0AbUEuAG1CLwBtQzEAbUMyAG1EMwBsRTQAbEU1AGxGNgBsRzgAbEg5AGxIOgBsSTsAbEo8AGxKPQBsSz4AbEw/AGxMQABsTUEAbE5CAGxOQwBsT0QAbFBFAGxRRgBsUUcAbFJIAGxTSQBsU0oAbFRLAGxVTABsVU0AbFZOAGxXTwBsV1AAbVhRAG1ZUgBtWlMAbVpUAG1bVQBtXFUAbVxWAG1dVwBtXlgAbl5ZAG5fWgBuYFsAbmFcAG5hXQBuYl4Ab2NeAG9jXwBvZGAAb2VhAG9lYgBwZmMAcGdkAHBoZQBwaGUAcGlmAHFqZwBxamgAcWtpAHFsagBybWsAcm1sAHJubAByb20Ac29uAHNwbwBzcXAAdHJxAHRycgB0c3IAdXRzAHV0dAB1dXUAdnZ2AHZ3dwB3d3cAd3h4AHd5eQB4enoAeHp7AHh7fAB4fH0AeHx+AHh9fgB4fn8AeH+AAHh/gQB5gIIAeYGDAHmChAB5goUAeYOGAHiEhwB4hYgAeIWJAHiGigB4h4sAeIiMAHiIjQB4iY4AeIqPAHiLkAB4i5EAeIySAHiNkgB4jpMAd46UAHePlQB3kJYAd5GXAHeSmAB3kpkAdpOaAHaUmwB2lZwAdpWdAHaWngB1l58AdZigAHWZoQB1maIAdJqjAHSbpAB0nKUAdJymAHOdpwBznqgAc5+pAHOgqgByoKsAcqGsAHKirQBxo64AcaSvAHGlsABwpbEAcKazAG+ntABvqLUAb6m2AG6ptwBuqrgAbau5AG2sugBtrbsAbK68AGyuvQBrr74Aa7C/AGqxwABqssEAabPCAGmzwwBotMQAaLXFAGe2xgBnt8cAZrjIAGW5yQBlucsAZLrMAGO7zQBjvM4AYr3PAGK+0ABhv9EAYMDSAF/A0wBfwdQAXsLVAF3D1gBcxNcAXMXZAFvG2gBax9sAWcjcAFjI3QBYyd4AV8rfAFbL4ABVzOEAVM3iAFPO5ABSz+UAUdDmAFDR5wBP0ugATtPpAEzT6gBL1OsAStXtAEnW7gBI1+8ARtjwAEXZ8QBE2vIAQtvzAEHc9QA/3fYAPt73ADzf+AA64PkAOOH7ADbi/AA04/0ANOT+ADXl/gA25v4AOOj+AA==",
        "encoding": "base64",
        "path": [
         "color_map",
         "data"
        ]
       },
       {
        "data": "AAD6QwAAAAAAAAAAAAB6QwAAAAAAAKBBAAAAAAAAIEEAAAAAAAAAAAAAIEAAAKA/AAAAAAAAAAAAAAAAAACAPw==",
        "encoding": "base64",
        "path": [
         "model_matrix",
         "data"
        ]
       },
       {
        "data": "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",
        "encoding": "base64",
        "path": [
         "voxels",
         "data"
        ]
       }
      ],
      "model_module": "k3d",
      "model_module_version": "2.11.0",
      "model_name": "ObjectModel",
      "state": {
       "_view_count": null,
       "_view_module": null,
       "_view_module_version": "",
       "_view_name": null,
       "colorLegend": false,
       "color_map": {
        "dtype": "uint32",
        "shape": [
         256
        ]
       },
       "compression_level": 0,
       "id": 140018357242176,
       "model_matrix": {
        "dtype": "float32",
        "shape": [
         4,
         4
        ]
       },
       "name": "Voxels #25",
       "opacity": 1,
       "outlines": false,
       "outlines_color": 0,
       "type": "Voxels",
       "visible": true,
       "voxels": {
        "dtype": "uint8",
        "shape": [
         1,
         8,
         200
        ]
       },
       "wireframe": false
      }
     },
     "1e60ad0d7f0040f5a3eb101d5bf3d138": {
      "buffers": [
       {
        "data": "TiIAAE8jAABRJAAAUyUAAFQlAABWJgAAWCcAAFkoAABbKAAAXSkAAF8qAABhKgAAYisAAGQsAABmLAAAaC0AAGouAABsLgAAbS8AAG8wAABwMAAAcDEAAHExAABxMgEAcTMFAHAzCABwNAwAcDUPAHA1EgBwNhQAcDcWAG83GABvOBoAbzkcAG86HgBvOiAAbjshAG48IwBuPCQAbj0mAG4+JwBuPykAbT8qAG1AKwBtQS0AbUEuAG1CLwBtQzEAbUMyAG1EMwBsRTQAbEU1AGxGNgBsRzgAbEg5AGxIOgBsSTsAbEo8AGxKPQBsSz4AbEw/AGxMQABsTUEAbE5CAGxOQwBsT0QAbFBFAGxRRgBsUUcAbFJIAGxTSQBsU0oAbFRLAGxVTABsVU0AbFZOAGxXTwBsV1AAbVhRAG1ZUgBtWlMAbVpUAG1bVQBtXFUAbVxWAG1dVwBtXlgAbl5ZAG5fWgBuYFsAbmFcAG5hXQBuYl4Ab2NeAG9jXwBvZGAAb2VhAG9lYgBwZmMAcGdkAHBoZQBwaGUAcGlmAHFqZwBxamgAcWtpAHFsagBybWsAcm1sAHJubAByb20Ac29uAHNwbwBzcXAAdHJxAHRycgB0c3IAdXRzAHV0dAB1dXUAdnZ2AHZ3dwB3d3cAd3h4AHd5eQB4enoAeHp7AHh7fAB4fH0AeHx+AHh9fgB4fn8AeH+AAHh/gQB5gIIAeYGDAHmChAB5goUAeYOGAHiEhwB4hYgAeIWJAHiGigB4h4sAeIiMAHiIjQB4iY4AeIqPAHiLkAB4i5EAeIySAHiNkgB4jpMAd46UAHePlQB3kJYAd5GXAHeSmAB3kpkAdpOaAHaUmwB2lZwAdpWdAHaWngB1l58AdZigAHWZoQB1maIAdJqjAHSbpAB0nKUAdJymAHOdpwBznqgAc5+pAHOgqgByoKsAcqGsAHKirQBxo64AcaSvAHGlsABwpbEAcKazAG+ntABvqLUAb6m2AG6ptwBuqrgAbau5AG2sugBtrbsAbK68AGyuvQBrr74Aa7C/AGqxwABqssEAabPCAGmzwwBotMQAaLXFAGe2xgBnt8cAZrjIAGW5yQBlucsAZLrMAGO7zQBjvM4AYr3PAGK+0ABhv9EAYMDSAF/A0wBfwdQAXsLVAF3D1gBcxNcAXMXZAFvG2gBax9sAWcjcAFjI3QBYyd4AV8rfAFbL4ABVzOEAVM3iAFPO5ABSz+UAUdDmAFDR5wBP0ugATtPpAEzT6gBL1OsAStXtAEnW7gBI1+8ARtjwAEXZ8QBE2vIAQtvzAEHc9QA/3fYAPt73ADzf+AA64PkAOOH7ADbi/AA04/0ANOT+ADXl/gA25v4AOOj+AA==",
        "encoding": "base64",
        "path": [
         "color_map",
         "data"
        ]
       },
       {
        "data": "AAD6QwAAAAAAAAAAAAB6QwAAAAAAAKBBAAAAAAAAIEEAAAAAAAAAAAAAIEAAAKA/AAAAAAAAAAAAAAAAAACAPw==",
        "encoding": "base64",
        "path": [
         "model_matrix",
         "data"
        ]
       },
       {
        "data": "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",
        "encoding": "base64",
        "path": [
         "voxels",
         "data"
        ]
       }
      ],
      "model_module": "k3d",
      "model_module_version": "2.11.0",
      "model_name": "ObjectModel",
      "state": {
       "_view_count": null,
       "_view_module": null,
       "_view_module_version": "",
       "_view_name": null,
       "colorLegend": false,
       "color_map": {
        "dtype": "uint32",
        "shape": [
         256
        ]
       },
       "compression_level": 0,
       "id": 140018357240880,
       "model_matrix": {
        "dtype": "float32",
        "shape": [
         4,
         4
        ]
       },
       "name": "Voxels #27",
       "opacity": 1,
       "outlines": false,
       "outlines_color": 0,
       "type": "Voxels",
       "visible": true,
       "voxels": {
        "dtype": "uint8",
        "shape": [
         1,
         8,
         200
        ]
       },
       "wireframe": false
      }
     },
     "22c03c2d081d403d98e9e2656ddbe605": {
      "model_module": "@jupyter-widgets/base",
      "model_module_version": "1.2.0",
      "model_name": "LayoutModel",
      "state": {}
     },
     "23469d4cec0f4958a109f47e6d050939": {
      "model_module": "@jupyter-widgets/output",
      "model_module_version": "1.0.0",
      "model_name": "OutputModel",
      "state": {
       "layout": "IPY_MODEL_99ee38f2fa9e429a9d97e936e959c032",
       "outputs": [
        {
         "data": {
          "image/png": "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\n",
          "text/plain": "<Figure size 576x432 with 2 Axes>"
         },
         "metadata": {},
         "output_type": "display_data"
        }
       ]
      }
     },
     "260a63b16d9a4e65b2786f283d3c7ee9": {
      "model_module": "@jupyter-widgets/base",
      "model_module_version": "1.2.0",
      "model_name": "LayoutModel",
      "state": {}
     },
     "279391039221451598702970d25d46f3": {
      "model_module": "@jupyter-widgets/controls",
      "model_module_version": "1.5.0",
      "model_name": "SliderStyleModel",
      "state": {
       "description_width": ""
      }
     },
     "282ae3c708904db1a90ce88b3e31ddff": {
      "model_module": "k3d",
      "model_module_version": "2.11.0",
      "model_name": "PlotModel",
      "state": {
       "_backend_version": "2.11.0",
       "_dom_classes": [],
       "_view_count": null,
       "antialias": 3,
       "auto_rendering": true,
       "axes": [
        "x\\,\\text{ (nm)}",
        "y\\,\\text{ (nm)}",
        "z\\,\\text{ (nm)}"
       ],
       "axes_helper": 1,
       "background_color": 16777215,
       "camera": [
        478.88901305688034,
        -229.557613328829,
        501.6972242026903,
        249.874999919557,
        9.874999970197678,
        1.25,
        -0.43951851847096474,
        0.6763086086223721,
        0.5911261606665383
       ],
       "camera_animation": [],
       "camera_auto_fit": true,
       "camera_damping_factor": 0,
       "camera_fov": 60,
       "camera_mode": "trackball",
       "camera_no_pan": false,
       "camera_no_rotate": false,
       "camera_no_zoom": false,
       "camera_pan_speed": 0.3,
       "camera_rotate_speed": 1,
       "camera_zoom_speed": 1.2,
       "clipping_planes": [],
       "colorbar_object_id": -1,
       "colorbar_scientific": false,
       "fps": 25,
       "fps_meter": false,
       "grid": [
        -1,
        -1,
        -1,
        1,
        1,
        1
       ],
       "grid_auto_fit": true,
       "grid_color": 15132390,
       "grid_visible": true,
       "height": 512,
       "label_color": 4473924,
       "layout": "IPY_MODEL_f6524e6bcb6a4d9aa00dc411fc2fcfd6",
       "lighting": 1.5,
       "manipulate_mode": "translate",
       "menu_visibility": true,
       "mode": "view",
       "name": null,
       "object_ids": [
        140017010750464
       ],
       "rendering_steps": 1,
       "screenshot": "",
       "screenshot_scale": 2,
       "snapshot": "",
       "snapshot_type": "full",
       "time": 0,
       "voxel_paint_color": 0
      }
     },
     "32f6317f581340c19899377145788631": {
      "buffers": [
       {
        "data": "sHJMAA==",
        "encoding": "base64",
        "path": [
         "color_map",
         "data"
        ]
       },
       {
        "data": "AAD6QwAAAAAAAAAAAAB6QwAAAAAAAKBBAAAAAAAAIEEAAAAAAAAAAAAAIEAAAKA/AAAAAAAAAAAAAAAAAACAPw==",
        "encoding": "base64",
        "path": [
         "model_matrix",
         "data"
        ]
       },
       {
        "data": "AQ==",
        "encoding": "base64",
        "path": [
         "voxels",
         "data"
        ]
       }
      ],
      "model_module": "k3d",
      "model_module_version": "2.11.0",
      "model_name": "ObjectModel",
      "state": {
       "_view_count": null,
       "_view_module": null,
       "_view_module_version": "",
       "_view_name": null,
       "colorLegend": false,
       "color_map": {
        "dtype": "uint32",
        "shape": []
       },
       "compression_level": 0,
       "id": 140017009667712,
       "model_matrix": {
        "dtype": "float32",
        "shape": [
         4,
         4
        ]
       },
       "name": "total_region",
       "opacity": 0.025,
       "outlines": false,
       "outlines_color": 0,
       "type": "Voxels",
       "visible": true,
       "voxels": {
        "dtype": "uint8",
        "shape": [
         1,
         1,
         1
        ]
       },
       "wireframe": false
      }
     },
     "36a9cf3f2f794a5fad364c66b592b5c7": {
      "buffers": [
       {
        "data": "TiIAAE8jAABRJAAAUyUAAFQlAABWJgAAWCcAAFkoAABbKAAAXSkAAF8qAABhKgAAYisAAGQsAABmLAAAaC0AAGouAABsLgAAbS8AAG8wAABwMAAAcDEAAHExAABxMgEAcTMFAHAzCABwNAwAcDUPAHA1EgBwNhQAcDcWAG83GABvOBoAbzkcAG86HgBvOiAAbjshAG48IwBuPCQAbj0mAG4+JwBuPykAbT8qAG1AKwBtQS0AbUEuAG1CLwBtQzEAbUMyAG1EMwBsRTQAbEU1AGxGNgBsRzgAbEg5AGxIOgBsSTsAbEo8AGxKPQBsSz4AbEw/AGxMQABsTUEAbE5CAGxOQwBsT0QAbFBFAGxRRgBsUUcAbFJIAGxTSQBsU0oAbFRLAGxVTABsVU0AbFZOAGxXTwBsV1AAbVhRAG1ZUgBtWlMAbVpUAG1bVQBtXFUAbVxWAG1dVwBtXlgAbl5ZAG5fWgBuYFsAbmFcAG5hXQBuYl4Ab2NeAG9jXwBvZGAAb2VhAG9lYgBwZmMAcGdkAHBoZQBwaGUAcGlmAHFqZwBxamgAcWtpAHFsagBybWsAcm1sAHJubAByb20Ac29uAHNwbwBzcXAAdHJxAHRycgB0c3IAdXRzAHV0dAB1dXUAdnZ2AHZ3dwB3d3cAd3h4AHd5eQB4enoAeHp7AHh7fAB4fH0AeHx+AHh9fgB4fn8AeH+AAHh/gQB5gIIAeYGDAHmChAB5goUAeYOGAHiEhwB4hYgAeIWJAHiGigB4h4sAeIiMAHiIjQB4iY4AeIqPAHiLkAB4i5EAeIySAHiNkgB4jpMAd46UAHePlQB3kJYAd5GXAHeSmAB3kpkAdpOaAHaUmwB2lZwAdpWdAHaWngB1l58AdZigAHWZoQB1maIAdJqjAHSbpAB0nKUAdJymAHOdpwBznqgAc5+pAHOgqgByoKsAcqGsAHKirQBxo64AcaSvAHGlsABwpbEAcKazAG+ntABvqLUAb6m2AG6ptwBuqrgAbau5AG2sugBtrbsAbK68AGyuvQBrr74Aa7C/AGqxwABqssEAabPCAGmzwwBotMQAaLXFAGe2xgBnt8cAZrjIAGW5yQBlucsAZLrMAGO7zQBjvM4AYr3PAGK+0ABhv9EAYMDSAF/A0wBfwdQAXsLVAF3D1gBcxNcAXMXZAFvG2gBax9sAWcjcAFjI3QBYyd4AV8rfAFbL4ABVzOEAVM3iAFPO5ABSz+UAUdDmAFDR5wBP0ugATtPpAEzT6gBL1OsAStXtAEnW7gBI1+8ARtjwAEXZ8QBE2vIAQtvzAEHc9QA/3fYAPt73ADzf+AA64PkAOOH7ADbi/AA04/0ANOT+ADXl/gA25v4AOOj+AA==",
        "encoding": "base64",
        "path": [
         "color_map",
         "data"
        ]
       },
       {
        "data": "AAD6QwAAAAAAAAAAAAB6QwAAAAAAAKBBAAAAAAAAIEEAAAAAAAAAAAAAIEAAAKA/AAAAAAAAAAAAAAAAAACAPw==",
        "encoding": "base64",
        "path": [
         "model_matrix",
         "data"
        ]
       },
       {
        "data": "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",
        "encoding": "base64",
        "path": [
         "voxels",
         "data"
        ]
       }
      ],
      "model_module": "k3d",
      "model_module_version": "2.11.0",
      "model_name": "ObjectModel",
      "state": {
       "_view_count": null,
       "_view_module": null,
       "_view_module_version": "",
       "_view_name": null,
       "colorLegend": false,
       "color_map": {
        "dtype": "uint32",
        "shape": [
         256
        ]
       },
       "compression_level": 0,
       "id": 140018356887360,
       "model_matrix": {
        "dtype": "float32",
        "shape": [
         4,
         4
        ]
       },
       "name": "Voxels #8",
       "opacity": 1,
       "outlines": false,
       "outlines_color": 0,
       "type": "Voxels",
       "visible": true,
       "voxels": {
        "dtype": "uint8",
        "shape": [
         1,
         8,
         200
        ]
       },
       "wireframe": false
      }
     },
     "3b2338bcaa9b4f25a0b354f2ce16ba01": {
      "model_module": "@jupyter-widgets/base",
      "model_module_version": "1.2.0",
      "model_name": "LayoutModel",
      "state": {}
     },
     "3f3d34d02b1748489a59538a490622e6": {
      "model_module": "@jupyter-widgets/output",
      "model_module_version": "1.0.0",
      "model_name": "OutputModel",
      "state": {
       "layout": "IPY_MODEL_97d4f6c8ea4c4c3698e758aaf8a39d1f",
       "outputs": [
        {
         "data": {
          "application/vnd.jupyter.widget-view+json": {
           "model_id": "",
           "version_major": 2,
           "version_minor": 0
          },
          "text/plain": "Plot(antialias=3, axes=['x\\\\,\\\\text{ (nm)}', 'y\\\\,\\\\text{ (nm)}', 'z\\\\,\\\\text{ (nm)}'], axes_helper=1.0, backg…"
         },
         "metadata": {},
         "output_type": "display_data"
        }
       ]
      }
     },
     "412b0f8d288a486ba51402ca12b5105d": {
      "model_module": "@jupyter-widgets/base",
      "model_module_version": "1.2.0",
      "model_name": "LayoutModel",
      "state": {}
     },
     "44afd34ccaaf4ad295f2b84016c407b6": {
      "model_module": "k3d",
      "model_module_version": "2.11.0",
      "model_name": "PlotModel",
      "state": {
       "_backend_version": "2.11.0",
       "_dom_classes": [],
       "_view_count": null,
       "antialias": 3,
       "auto_rendering": true,
       "axes": [
        "x",
        "y",
        "z"
       ],
       "axes_helper": 1,
       "background_color": 16777215,
       "camera": [],
       "camera_animation": [],
       "camera_auto_fit": true,
       "camera_damping_factor": 0,
       "camera_fov": 60,
       "camera_mode": "trackball",
       "camera_no_pan": false,
       "camera_no_rotate": false,
       "camera_no_zoom": false,
       "camera_pan_speed": 0.3,
       "camera_rotate_speed": 1,
       "camera_zoom_speed": 1.2,
       "clipping_planes": [],
       "colorbar_object_id": -1,
       "colorbar_scientific": false,
       "fps": 25,
       "fps_meter": false,
       "grid": [
        -1,
        -1,
        -1,
        1,
        1,
        1
       ],
       "grid_auto_fit": true,
       "grid_color": 15132390,
       "grid_visible": true,
       "height": 512,
       "label_color": 4473924,
       "layout": "IPY_MODEL_eb6dcefd791b44969e51d7db9ddc557a",
       "lighting": 1.5,
       "manipulate_mode": "translate",
       "menu_visibility": true,
       "mode": "view",
       "name": null,
       "object_ids": [],
       "rendering_steps": 1,
       "screenshot": "",
       "screenshot_scale": 2,
       "snapshot": "",
       "snapshot_type": "full",
       "time": 0,
       "voxel_paint_color": 0
      }
     },
     "456b47174bf349169a21e077a1dc202a": {
      "model_module": "@jupyter-widgets/controls",
      "model_module_version": "1.5.0",
      "model_name": "VBoxModel",
      "state": {
       "_dom_classes": [
        "widget-interact"
       ],
       "children": [
        "IPY_MODEL_8c33fd96ecec45e48d8d64a71e1a1e7d",
        "IPY_MODEL_8b1f1c9e28754befbb13c2e0fee9e322"
       ],
       "layout": "IPY_MODEL_b091c7c1f37341fcb1b484deb33dd39c"
      }
     },
     "460bf62c5d1b4a038eff13348f63f13d": {
      "buffers": [
       {
        "data": "TiIAAE8jAABRJAAAUyUAAFQlAABWJgAAWCcAAFkoAABbKAAAXSkAAF8qAABhKgAAYisAAGQsAABmLAAAaC0AAGouAABsLgAAbS8AAG8wAABwMAAAcDEAAHExAABxMgEAcTMFAHAzCABwNAwAcDUPAHA1EgBwNhQAcDcWAG83GABvOBoAbzkcAG86HgBvOiAAbjshAG48IwBuPCQAbj0mAG4+JwBuPykAbT8qAG1AKwBtQS0AbUEuAG1CLwBtQzEAbUMyAG1EMwBsRTQAbEU1AGxGNgBsRzgAbEg5AGxIOgBsSTsAbEo8AGxKPQBsSz4AbEw/AGxMQABsTUEAbE5CAGxOQwBsT0QAbFBFAGxRRgBsUUcAbFJIAGxTSQBsU0oAbFRLAGxVTABsVU0AbFZOAGxXTwBsV1AAbVhRAG1ZUgBtWlMAbVpUAG1bVQBtXFUAbVxWAG1dVwBtXlgAbl5ZAG5fWgBuYFsAbmFcAG5hXQBuYl4Ab2NeAG9jXwBvZGAAb2VhAG9lYgBwZmMAcGdkAHBoZQBwaGUAcGlmAHFqZwBxamgAcWtpAHFsagBybWsAcm1sAHJubAByb20Ac29uAHNwbwBzcXAAdHJxAHRycgB0c3IAdXRzAHV0dAB1dXUAdnZ2AHZ3dwB3d3cAd3h4AHd5eQB4enoAeHp7AHh7fAB4fH0AeHx+AHh9fgB4fn8AeH+AAHh/gQB5gIIAeYGDAHmChAB5goUAeYOGAHiEhwB4hYgAeIWJAHiGigB4h4sAeIiMAHiIjQB4iY4AeIqPAHiLkAB4i5EAeIySAHiNkgB4jpMAd46UAHePlQB3kJYAd5GXAHeSmAB3kpkAdpOaAHaUmwB2lZwAdpWdAHaWngB1l58AdZigAHWZoQB1maIAdJqjAHSbpAB0nKUAdJymAHOdpwBznqgAc5+pAHOgqgByoKsAcqGsAHKirQBxo64AcaSvAHGlsABwpbEAcKazAG+ntABvqLUAb6m2AG6ptwBuqrgAbau5AG2sugBtrbsAbK68AGyuvQBrr74Aa7C/AGqxwABqssEAabPCAGmzwwBotMQAaLXFAGe2xgBnt8cAZrjIAGW5yQBlucsAZLrMAGO7zQBjvM4AYr3PAGK+0ABhv9EAYMDSAF/A0wBfwdQAXsLVAF3D1gBcxNcAXMXZAFvG2gBax9sAWcjcAFjI3QBYyd4AV8rfAFbL4ABVzOEAVM3iAFPO5ABSz+UAUdDmAFDR5wBP0ugATtPpAEzT6gBL1OsAStXtAEnW7gBI1+8ARtjwAEXZ8QBE2vIAQtvzAEHc9QA/3fYAPt73ADzf+AA64PkAOOH7ADbi/AA04/0ANOT+ADXl/gA25v4AOOj+AA==",
        "encoding": "base64",
        "path": [
         "color_map",
         "data"
        ]
       },
       {
        "data": "AAD6QwAAAAAAAAAAAAB6QwAAAAAAAKBBAAAAAAAAIEEAAAAAAAAAAAAAIEAAAKA/AAAAAAAAAAAAAAAAAACAPw==",
        "encoding": "base64",
        "path": [
         "model_matrix",
         "data"
        ]
       },
       {
        "data": "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",
        "encoding": "base64",
        "path": [
         "voxels",
         "data"
        ]
       }
      ],
      "model_module": "k3d",
      "model_module_version": "2.11.0",
      "model_name": "ObjectModel",
      "state": {
       "_view_count": null,
       "_view_module": null,
       "_view_module_version": "",
       "_view_name": null,
       "colorLegend": false,
       "color_map": {
        "dtype": "uint32",
        "shape": [
         256
        ]
       },
       "compression_level": 0,
       "id": 140018356883904,
       "model_matrix": {
        "dtype": "float32",
        "shape": [
         4,
         4
        ]
       },
       "name": "Voxels #14",
       "opacity": 1,
       "outlines": false,
       "outlines_color": 0,
       "type": "Voxels",
       "visible": true,
       "voxels": {
        "dtype": "uint8",
        "shape": [
         1,
         8,
         200
        ]
       },
       "wireframe": false
      }
     },
     "4e1462942949451a85f63584ace4a621": {
      "model_module": "@jupyter-widgets/base",
      "model_module_version": "1.2.0",
      "model_name": "LayoutModel",
      "state": {}
     },
     "54c3cc37a6004b96b98d1167c90b459c": {
      "model_module": "@jupyter-widgets/base",
      "model_module_version": "1.2.0",
      "model_name": "LayoutModel",
      "state": {}
     },
     "579ef66f0e024e47a119572ebdea7c09": {
      "model_module": "k3d",
      "model_module_version": "2.11.0",
      "model_name": "PlotModel",
      "state": {
       "_backend_version": "2.11.0",
       "_dom_classes": [],
       "_view_count": null,
       "antialias": 3,
       "auto_rendering": true,
       "axes": [
        "x",
        "y",
        "z"
       ],
       "axes_helper": 1,
       "background_color": 16777215,
       "camera": [],
       "camera_animation": [],
       "camera_auto_fit": true,
       "camera_damping_factor": 0,
       "camera_fov": 60,
       "camera_mode": "trackball",
       "camera_no_pan": false,
       "camera_no_rotate": false,
       "camera_no_zoom": false,
       "camera_pan_speed": 0.3,
       "camera_rotate_speed": 1,
       "camera_zoom_speed": 1.2,
       "clipping_planes": [],
       "colorbar_object_id": -1,
       "colorbar_scientific": false,
       "fps": 25,
       "fps_meter": false,
       "grid": [
        -1,
        -1,
        -1,
        1,
        1,
        1
       ],
       "grid_auto_fit": true,
       "grid_color": 15132390,
       "grid_visible": true,
       "height": 512,
       "label_color": 4473924,
       "layout": "IPY_MODEL_710b1391448a4f8c88dc7efae7f233d6",
       "lighting": 1.5,
       "manipulate_mode": "translate",
       "menu_visibility": true,
       "mode": "view",
       "name": null,
       "object_ids": [],
       "rendering_steps": 1,
       "screenshot": "",
       "screenshot_scale": 2,
       "snapshot": "",
       "snapshot_type": "full",
       "time": 0,
       "voxel_paint_color": 0
      }
     },
     "5b7e1c52c6a74e22b03f1335998bcb8c": {
      "model_module": "@jupyter-widgets/controls",
      "model_module_version": "1.5.0",
      "model_name": "VBoxModel",
      "state": {
       "_dom_classes": [
        "widget-interact"
       ],
       "children": [
        "IPY_MODEL_1839580d5d3d4c1a8f146d54283b2514",
        "IPY_MODEL_c1b51e72a1364d72921e8869f60ec07f"
       ],
       "layout": "IPY_MODEL_412b0f8d288a486ba51402ca12b5105d"
      }
     },
     "5da5d0eb79c1453795de25d7e2ec5c2b": {
      "buffers": [
       {
        "data": "TiIAAE8jAABRJAAAUyUAAFQlAABWJgAAWCcAAFkoAABbKAAAXSkAAF8qAABhKgAAYisAAGQsAABmLAAAaC0AAGouAABsLgAAbS8AAG8wAABwMAAAcDEAAHExAABxMgEAcTMFAHAzCABwNAwAcDUPAHA1EgBwNhQAcDcWAG83GABvOBoAbzkcAG86HgBvOiAAbjshAG48IwBuPCQAbj0mAG4+JwBuPykAbT8qAG1AKwBtQS0AbUEuAG1CLwBtQzEAbUMyAG1EMwBsRTQAbEU1AGxGNgBsRzgAbEg5AGxIOgBsSTsAbEo8AGxKPQBsSz4AbEw/AGxMQABsTUEAbE5CAGxOQwBsT0QAbFBFAGxRRgBsUUcAbFJIAGxTSQBsU0oAbFRLAGxVTABsVU0AbFZOAGxXTwBsV1AAbVhRAG1ZUgBtWlMAbVpUAG1bVQBtXFUAbVxWAG1dVwBtXlgAbl5ZAG5fWgBuYFsAbmFcAG5hXQBuYl4Ab2NeAG9jXwBvZGAAb2VhAG9lYgBwZmMAcGdkAHBoZQBwaGUAcGlmAHFqZwBxamgAcWtpAHFsagBybWsAcm1sAHJubAByb20Ac29uAHNwbwBzcXAAdHJxAHRycgB0c3IAdXRzAHV0dAB1dXUAdnZ2AHZ3dwB3d3cAd3h4AHd5eQB4enoAeHp7AHh7fAB4fH0AeHx+AHh9fgB4fn8AeH+AAHh/gQB5gIIAeYGDAHmChAB5goUAeYOGAHiEhwB4hYgAeIWJAHiGigB4h4sAeIiMAHiIjQB4iY4AeIqPAHiLkAB4i5EAeIySAHiNkgB4jpMAd46UAHePlQB3kJYAd5GXAHeSmAB3kpkAdpOaAHaUmwB2lZwAdpWdAHaWngB1l58AdZigAHWZoQB1maIAdJqjAHSbpAB0nKUAdJymAHOdpwBznqgAc5+pAHOgqgByoKsAcqGsAHKirQBxo64AcaSvAHGlsABwpbEAcKazAG+ntABvqLUAb6m2AG6ptwBuqrgAbau5AG2sugBtrbsAbK68AGyuvQBrr74Aa7C/AGqxwABqssEAabPCAGmzwwBotMQAaLXFAGe2xgBnt8cAZrjIAGW5yQBlucsAZLrMAGO7zQBjvM4AYr3PAGK+0ABhv9EAYMDSAF/A0wBfwdQAXsLVAF3D1gBcxNcAXMXZAFvG2gBax9sAWcjcAFjI3QBYyd4AV8rfAFbL4ABVzOEAVM3iAFPO5ABSz+UAUdDmAFDR5wBP0ugATtPpAEzT6gBL1OsAStXtAEnW7gBI1+8ARtjwAEXZ8QBE2vIAQtvzAEHc9QA/3fYAPt73ADzf+AA64PkAOOH7ADbi/AA04/0ANOT+ADXl/gA25v4AOOj+AA==",
        "encoding": "base64",
        "path": [
         "color_map",
         "data"
        ]
       },
       {
        "data": "AAD6QwAAAAAAAAAAAAB6QwAAAAAAAKBBAAAAAAAAIEEAAAAAAAAAAAAAIEAAAKA/AAAAAAAAAAAAAAAAAACAPw==",
        "encoding": "base64",
        "path": [
         "model_matrix",
         "data"
        ]
       },
       {
        "data": "5Ozw8vPz8/T09PT09PT09PT09PT09PT09PT09PT09fX29vf49/Tr06duPyQXEQ4NDQwMDAwMDAwMDAwMDA0NDhEXJUJyqtXr9ff49/b29fX09PT09PT09PT09PT09PT09PT09PT09PT09PT09PT09PT09PT09PT09PT09PT09PT09PT09PT09PT09PT09PT09PT09PT09PT09PT09PT09PT09PT09PT09PT09PT09PT09PT09PT09PT09PT09PT09PTz8/Py7+jt9Pj5+vr7+/v7+/v7+/v7+/v7+/v7+/v7+/v7+/v7/Pz8/Pz79urOnWI0Gg4JBwYFBQUFBQUFBQUFBQUFBQYHCQ8bNmah0Ov3+/z8/Pz8+/v7+/v7+/v7+/v7+/v7+/v7+/v7+/v7+/v7+/v7+/v7+/v7+/v7+/v7+/v7+/v7+/v7+/v7+/v7+/v7+/v7+/v7+/v7+/v7+/v7+/v7+/v7+/v7+/v7+/v7+/v7+/v7+/v7+/v7+/v7+/v7+/v7+/v7+/v6+vn28PH4+/39/v7+/v7+/v7+/v7+/v7+/v7+/v7+/v7+/v7+/v7+/fv15cSPVSoUCgUEAwICAgICAgICAgICAgICAwQGChUtWZTI5/X7/f7+/v7+/v7+/v7+/v7+/v7+/v7+/v7+/v7+/v7+/v7+/v7+/v7+/v7+/v7+/v7+/v7+/v7+/v7+/v7+/v7+/v7+/v7+/v7+/v7+/v7+/v7+/v7+/v7+/v7+/v7+/v7+/v7+/v7+/v7+/v7+/v7+/v7+/v7+/v7+/v79/Pr08vr9/v7///////////////////////////////////////79+vLfuYFIIw8HBAICAQEBAQEBAQEBAQEBAQECAgQHECVMhr3h8vr9/v////////////////////////////////////////////////////////////////////////////////////////////////////////////////////////////////////////////////////////////////7++/Xz+v3+///////////////////////////////////////+/vz47tescTwcDAUDAgEBAQEBAQEBAQEBAQEBAQECAwUNHkB2sNnv+Pz+/v////////////////////////////////////////////////////////////////////////////////////////////////////////////////////////////////////////////////////////////////789vP6/f7+/v7+/v7+/v7+/v7+/v7+/v7+/v7+/v7+/v7+/v38+vXpzp9jMhYJBAICAgICAgICAgICAgICAgICAgICBAoYNWij0er1+vz9/v7+/v7+/v7+/v7+/v7+/v7+/v7+/v7+/v7+/v7+/v7+/v7+/v7+/v7+/v7+/v7+/v7+/v7+/v7+/v7+/v7+/v7+/v7+/v7+/v7+/v7+/v7+/v7+/v7+/v7+/v7+/v7+/v7+/v7+/v7+/v7+/v7+/v7+/v7+/v7+/fv28fj7/Pz8/Pz7+/v7+/v7+/v7+/v7+/v7+/v7+/v7+/v6+vn28OLEklcrEwgFBAQEBAQFBQUFBQUFBQUFBAQEBAQFCRQtW5bH4/H2+fr6+/v7+/v7+/v7+/v7+/v7+/v7+/v7+/v7+/v7+/v7+/v7+/v7+/v7+/v7+/v7+/v7+/v7+/v7+/v7+/v7+/v7+/v7+/v7+/v7+/v7+/v7+/v7+/v7+/v7+/v7+/v7+/v7+/v7+/v7+/v7+/v7+/v7+/v7+/v8/Pz7+fTr8/X29vb19fX09PT09PT09PT09PT09PT09PT09PT09PPz8e/o2LiGTicTCwgICQoKCwsMDAwMDAwMDAsLCgoJCAgLEylSirvZ6O/x8/P09PT09PT09PT09PT09PT09PT09PT09PT09PT09PT09PT09PT09PT09PT09PT09PT09PT09PT09PT09PT09PT09PT09PT09PT09PT09PT09PT09PT09PT09PT09PT09PT09PT09PT09PT09PT09PT09PT09fX29vb07g==",
        "encoding": "base64",
        "path": [
         "voxels",
         "data"
        ]
       }
      ],
      "model_module": "k3d",
      "model_module_version": "2.11.0",
      "model_name": "ObjectModel",
      "state": {
       "_view_count": null,
       "_view_module": null,
       "_view_module_version": "",
       "_view_name": null,
       "colorLegend": false,
       "color_map": {
        "dtype": "uint32",
        "shape": [
         256
        ]
       },
       "compression_level": 0,
       "id": 140018358131296,
       "model_matrix": {
        "dtype": "float32",
        "shape": [
         4,
         4
        ]
       },
       "name": "Voxels #5",
       "opacity": 1,
       "outlines": false,
       "outlines_color": 0,
       "type": "Voxels",
       "visible": true,
       "voxels": {
        "dtype": "uint8",
        "shape": [
         1,
         8,
         200
        ]
       },
       "wireframe": false
      }
     },
     "627a13f4d2c24add9d322b207d3bf947": {
      "buffers": [
       {
        "data": "TiIAAE8jAABRJAAAUyUAAFQlAABWJgAAWCcAAFkoAABbKAAAXSkAAF8qAABhKgAAYisAAGQsAABmLAAAaC0AAGouAABsLgAAbS8AAG8wAABwMAAAcDEAAHExAABxMgEAcTMFAHAzCABwNAwAcDUPAHA1EgBwNhQAcDcWAG83GABvOBoAbzkcAG86HgBvOiAAbjshAG48IwBuPCQAbj0mAG4+JwBuPykAbT8qAG1AKwBtQS0AbUEuAG1CLwBtQzEAbUMyAG1EMwBsRTQAbEU1AGxGNgBsRzgAbEg5AGxIOgBsSTsAbEo8AGxKPQBsSz4AbEw/AGxMQABsTUEAbE5CAGxOQwBsT0QAbFBFAGxRRgBsUUcAbFJIAGxTSQBsU0oAbFRLAGxVTABsVU0AbFZOAGxXTwBsV1AAbVhRAG1ZUgBtWlMAbVpUAG1bVQBtXFUAbVxWAG1dVwBtXlgAbl5ZAG5fWgBuYFsAbmFcAG5hXQBuYl4Ab2NeAG9jXwBvZGAAb2VhAG9lYgBwZmMAcGdkAHBoZQBwaGUAcGlmAHFqZwBxamgAcWtpAHFsagBybWsAcm1sAHJubAByb20Ac29uAHNwbwBzcXAAdHJxAHRycgB0c3IAdXRzAHV0dAB1dXUAdnZ2AHZ3dwB3d3cAd3h4AHd5eQB4enoAeHp7AHh7fAB4fH0AeHx+AHh9fgB4fn8AeH+AAHh/gQB5gIIAeYGDAHmChAB5goUAeYOGAHiEhwB4hYgAeIWJAHiGigB4h4sAeIiMAHiIjQB4iY4AeIqPAHiLkAB4i5EAeIySAHiNkgB4jpMAd46UAHePlQB3kJYAd5GXAHeSmAB3kpkAdpOaAHaUmwB2lZwAdpWdAHaWngB1l58AdZigAHWZoQB1maIAdJqjAHSbpAB0nKUAdJymAHOdpwBznqgAc5+pAHOgqgByoKsAcqGsAHKirQBxo64AcaSvAHGlsABwpbEAcKazAG+ntABvqLUAb6m2AG6ptwBuqrgAbau5AG2sugBtrbsAbK68AGyuvQBrr74Aa7C/AGqxwABqssEAabPCAGmzwwBotMQAaLXFAGe2xgBnt8cAZrjIAGW5yQBlucsAZLrMAGO7zQBjvM4AYr3PAGK+0ABhv9EAYMDSAF/A0wBfwdQAXsLVAF3D1gBcxNcAXMXZAFvG2gBax9sAWcjcAFjI3QBYyd4AV8rfAFbL4ABVzOEAVM3iAFPO5ABSz+UAUdDmAFDR5wBP0ugATtPpAEzT6gBL1OsAStXtAEnW7gBI1+8ARtjwAEXZ8QBE2vIAQtvzAEHc9QA/3fYAPt73ADzf+AA64PkAOOH7ADbi/AA04/0ANOT+ADXl/gA25v4AOOj+AA==",
        "encoding": "base64",
        "path": [
         "color_map",
         "data"
        ]
       },
       {
        "data": "AAD6QwAAAAAAAAAAAAB6QwAAAAAAAKBBAAAAAAAAIEEAAAAAAAAAAAAAIEAAAKA/AAAAAAAAAAAAAAAAAACAPw==",
        "encoding": "base64",
        "path": [
         "model_matrix",
         "data"
        ]
       },
       {
        "data": "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",
        "encoding": "base64",
        "path": [
         "voxels",
         "data"
        ]
       }
      ],
      "model_module": "k3d",
      "model_module_version": "2.11.0",
      "model_name": "ObjectModel",
      "state": {
       "_view_count": null,
       "_view_module": null,
       "_view_module_version": "",
       "_view_name": null,
       "colorLegend": false,
       "color_map": {
        "dtype": "uint32",
        "shape": [
         256
        ]
       },
       "compression_level": 0,
       "id": 140018357046144,
       "model_matrix": {
        "dtype": "float32",
        "shape": [
         4,
         4
        ]
       },
       "name": "Voxels #4",
       "opacity": 1,
       "outlines": false,
       "outlines_color": 0,
       "type": "Voxels",
       "visible": true,
       "voxels": {
        "dtype": "uint8",
        "shape": [
         1,
         8,
         200
        ]
       },
       "wireframe": false
      }
     },
     "63a9047ecb614ffc99de6278147f653d": {
      "model_module": "@jupyter-widgets/base",
      "model_module_version": "1.2.0",
      "model_name": "LayoutModel",
      "state": {}
     },
     "6441051aae7d46ebbc6f153a87b1f0f0": {
      "model_module": "@jupyter-widgets/output",
      "model_module_version": "1.0.0",
      "model_name": "OutputModel",
      "state": {
       "layout": "IPY_MODEL_69abfb9c814c425fab224a9fec18dcd8",
       "outputs": [
        {
         "data": {
          "application/vnd.jupyter.widget-view+json": {
           "model_id": "",
           "version_major": 2,
           "version_minor": 0
          },
          "text/plain": "Plot(antialias=3, axes=['x', 'y', 'z'], axes_helper=1.0, background_color=16777215, camera_animation=[], camer…"
         },
         "metadata": {},
         "output_type": "display_data"
        }
       ]
      }
     },
     "64440393340142da8d88938b33707e97": {
      "model_module": "@jupyter-widgets/base",
      "model_module_version": "1.2.0",
      "model_name": "LayoutModel",
      "state": {}
     },
     "69abfb9c814c425fab224a9fec18dcd8": {
      "model_module": "@jupyter-widgets/base",
      "model_module_version": "1.2.0",
      "model_name": "LayoutModel",
      "state": {}
     },
     "69ad134ee937401ab2f398939a3d6297": {
      "model_module": "@jupyter-widgets/controls",
      "model_module_version": "1.5.0",
      "model_name": "VBoxModel",
      "state": {
       "_dom_classes": [
        "widget-interact"
       ],
       "children": [
        "IPY_MODEL_b2ca78773da14611865989635fe4013c",
        "IPY_MODEL_23469d4cec0f4958a109f47e6d050939"
       ],
       "layout": "IPY_MODEL_63a9047ecb614ffc99de6278147f653d"
      }
     },
     "6a393e1bf1a84fe6a1b2ac038b97a03c": {
      "model_module": "@jupyter-widgets/controls",
      "model_module_version": "1.5.0",
      "model_name": "SliderStyleModel",
      "state": {
       "description_width": ""
      }
     },
     "710b1391448a4f8c88dc7efae7f233d6": {
      "model_module": "@jupyter-widgets/base",
      "model_module_version": "1.2.0",
      "model_name": "LayoutModel",
      "state": {}
     },
     "73af99dc9af5412d9663aae65fb12db5": {
      "model_module": "@jupyter-widgets/output",
      "model_module_version": "1.0.0",
      "model_name": "OutputModel",
      "state": {
       "layout": "IPY_MODEL_4e1462942949451a85f63584ace4a621",
       "outputs": [
        {
         "data": {
          "image/png": "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\n",
          "text/plain": "<Figure size 576x432 with 2 Axes>"
         },
         "metadata": {},
         "output_type": "display_data"
        }
       ]
      }
     },
     "7a1feb7b51f143cfa201dfbfb3ca7e90": {
      "model_module": "@jupyter-widgets/base",
      "model_module_version": "1.2.0",
      "model_name": "LayoutModel",
      "state": {}
     },
     "7a55e15a690c4c018541ac8ca2613fcb": {
      "model_module": "@jupyter-widgets/controls",
      "model_module_version": "1.5.0",
      "model_name": "SliderStyleModel",
      "state": {
       "description_width": ""
      }
     },
     "7a8fbc0e33f741a89e74599d1d26253c": {
      "model_module": "@jupyter-widgets/base",
      "model_module_version": "1.2.0",
      "model_name": "LayoutModel",
      "state": {}
     },
     "7bd3fec3cba54ec0a451604a78552fbb": {
      "model_module": "@jupyter-widgets/base",
      "model_module_version": "1.2.0",
      "model_name": "LayoutModel",
      "state": {}
     },
     "7dae2e603a7f46418c7d3cc98b250b56": {
      "model_module": "@jupyter-widgets/controls",
      "model_module_version": "1.5.0",
      "model_name": "SliderStyleModel",
      "state": {
       "description_width": ""
      }
     },
     "81d048a3a4c5484a8ee8af7bb3868c18": {
      "buffers": [
       {
        "data": "TiIAAE8jAABRJAAAUyUAAFQlAABWJgAAWCcAAFkoAABbKAAAXSkAAF8qAABhKgAAYisAAGQsAABmLAAAaC0AAGouAABsLgAAbS8AAG8wAABwMAAAcDEAAHExAABxMgEAcTMFAHAzCABwNAwAcDUPAHA1EgBwNhQAcDcWAG83GABvOBoAbzkcAG86HgBvOiAAbjshAG48IwBuPCQAbj0mAG4+JwBuPykAbT8qAG1AKwBtQS0AbUEuAG1CLwBtQzEAbUMyAG1EMwBsRTQAbEU1AGxGNgBsRzgAbEg5AGxIOgBsSTsAbEo8AGxKPQBsSz4AbEw/AGxMQABsTUEAbE5CAGxOQwBsT0QAbFBFAGxRRgBsUUcAbFJIAGxTSQBsU0oAbFRLAGxVTABsVU0AbFZOAGxXTwBsV1AAbVhRAG1ZUgBtWlMAbVpUAG1bVQBtXFUAbVxWAG1dVwBtXlgAbl5ZAG5fWgBuYFsAbmFcAG5hXQBuYl4Ab2NeAG9jXwBvZGAAb2VhAG9lYgBwZmMAcGdkAHBoZQBwaGUAcGlmAHFqZwBxamgAcWtpAHFsagBybWsAcm1sAHJubAByb20Ac29uAHNwbwBzcXAAdHJxAHRycgB0c3IAdXRzAHV0dAB1dXUAdnZ2AHZ3dwB3d3cAd3h4AHd5eQB4enoAeHp7AHh7fAB4fH0AeHx+AHh9fgB4fn8AeH+AAHh/gQB5gIIAeYGDAHmChAB5goUAeYOGAHiEhwB4hYgAeIWJAHiGigB4h4sAeIiMAHiIjQB4iY4AeIqPAHiLkAB4i5EAeIySAHiNkgB4jpMAd46UAHePlQB3kJYAd5GXAHeSmAB3kpkAdpOaAHaUmwB2lZwAdpWdAHaWngB1l58AdZigAHWZoQB1maIAdJqjAHSbpAB0nKUAdJymAHOdpwBznqgAc5+pAHOgqgByoKsAcqGsAHKirQBxo64AcaSvAHGlsABwpbEAcKazAG+ntABvqLUAb6m2AG6ptwBuqrgAbau5AG2sugBtrbsAbK68AGyuvQBrr74Aa7C/AGqxwABqssEAabPCAGmzwwBotMQAaLXFAGe2xgBnt8cAZrjIAGW5yQBlucsAZLrMAGO7zQBjvM4AYr3PAGK+0ABhv9EAYMDSAF/A0wBfwdQAXsLVAF3D1gBcxNcAXMXZAFvG2gBax9sAWcjcAFjI3QBYyd4AV8rfAFbL4ABVzOEAVM3iAFPO5ABSz+UAUdDmAFDR5wBP0ugATtPpAEzT6gBL1OsAStXtAEnW7gBI1+8ARtjwAEXZ8QBE2vIAQtvzAEHc9QA/3fYAPt73ADzf+AA64PkAOOH7ADbi/AA04/0ANOT+ADXl/gA25v4AOOj+AA==",
        "encoding": "base64",
        "path": [
         "color_map",
         "data"
        ]
       },
       {
        "data": "AAD6QwAAAAAAAAAAAAB6QwAAAAAAAKBBAAAAAAAAIEEAAAAAAAAAAAAAIEAAAKA/AAAAAAAAAAAAAAAAAACAPw==",
        "encoding": "base64",
        "path": [
         "model_matrix",
         "data"
        ]
       },
       {
        "data": "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",
        "encoding": "base64",
        "path": [
         "voxels",
         "data"
        ]
       }
      ],
      "model_module": "k3d",
      "model_module_version": "2.11.0",
      "model_name": "ObjectModel",
      "state": {
       "_view_count": null,
       "_view_module": null,
       "_view_module_version": "",
       "_view_name": null,
       "colorLegend": false,
       "color_map": {
        "dtype": "uint32",
        "shape": [
         256
        ]
       },
       "compression_level": 0,
       "id": 140018356785408,
       "model_matrix": {
        "dtype": "float32",
        "shape": [
         4,
         4
        ]
       },
       "name": "Voxels #2",
       "opacity": 1,
       "outlines": false,
       "outlines_color": 0,
       "type": "Voxels",
       "visible": true,
       "voxels": {
        "dtype": "uint8",
        "shape": [
         1,
         8,
         200
        ]
       },
       "wireframe": false
      }
     },
     "83ca9275a5444909902efda03b03dca4": {
      "buffers": [
       {
        "data": "TiIAAE8jAABRJAAAUyUAAFQlAABWJgAAWCcAAFkoAABbKAAAXSkAAF8qAABhKgAAYisAAGQsAABmLAAAaC0AAGouAABsLgAAbS8AAG8wAABwMAAAcDEAAHExAABxMgEAcTMFAHAzCABwNAwAcDUPAHA1EgBwNhQAcDcWAG83GABvOBoAbzkcAG86HgBvOiAAbjshAG48IwBuPCQAbj0mAG4+JwBuPykAbT8qAG1AKwBtQS0AbUEuAG1CLwBtQzEAbUMyAG1EMwBsRTQAbEU1AGxGNgBsRzgAbEg5AGxIOgBsSTsAbEo8AGxKPQBsSz4AbEw/AGxMQABsTUEAbE5CAGxOQwBsT0QAbFBFAGxRRgBsUUcAbFJIAGxTSQBsU0oAbFRLAGxVTABsVU0AbFZOAGxXTwBsV1AAbVhRAG1ZUgBtWlMAbVpUAG1bVQBtXFUAbVxWAG1dVwBtXlgAbl5ZAG5fWgBuYFsAbmFcAG5hXQBuYl4Ab2NeAG9jXwBvZGAAb2VhAG9lYgBwZmMAcGdkAHBoZQBwaGUAcGlmAHFqZwBxamgAcWtpAHFsagBybWsAcm1sAHJubAByb20Ac29uAHNwbwBzcXAAdHJxAHRycgB0c3IAdXRzAHV0dAB1dXUAdnZ2AHZ3dwB3d3cAd3h4AHd5eQB4enoAeHp7AHh7fAB4fH0AeHx+AHh9fgB4fn8AeH+AAHh/gQB5gIIAeYGDAHmChAB5goUAeYOGAHiEhwB4hYgAeIWJAHiGigB4h4sAeIiMAHiIjQB4iY4AeIqPAHiLkAB4i5EAeIySAHiNkgB4jpMAd46UAHePlQB3kJYAd5GXAHeSmAB3kpkAdpOaAHaUmwB2lZwAdpWdAHaWngB1l58AdZigAHWZoQB1maIAdJqjAHSbpAB0nKUAdJymAHOdpwBznqgAc5+pAHOgqgByoKsAcqGsAHKirQBxo64AcaSvAHGlsABwpbEAcKazAG+ntABvqLUAb6m2AG6ptwBuqrgAbau5AG2sugBtrbsAbK68AGyuvQBrr74Aa7C/AGqxwABqssEAabPCAGmzwwBotMQAaLXFAGe2xgBnt8cAZrjIAGW5yQBlucsAZLrMAGO7zQBjvM4AYr3PAGK+0ABhv9EAYMDSAF/A0wBfwdQAXsLVAF3D1gBcxNcAXMXZAFvG2gBax9sAWcjcAFjI3QBYyd4AV8rfAFbL4ABVzOEAVM3iAFPO5ABSz+UAUdDmAFDR5wBP0ugATtPpAEzT6gBL1OsAStXtAEnW7gBI1+8ARtjwAEXZ8QBE2vIAQtvzAEHc9QA/3fYAPt73ADzf+AA64PkAOOH7ADbi/AA04/0ANOT+ADXl/gA25v4AOOj+AA==",
        "encoding": "base64",
        "path": [
         "color_map",
         "data"
        ]
       },
       {
        "data": "AAD6QwAAAAAAAAAAAAB6QwAAAAAAAKBBAAAAAAAAIEEAAAAAAAAAAAAAIEAAAKA/AAAAAAAAAAAAAAAAAACAPw==",
        "encoding": "base64",
        "path": [
         "model_matrix",
         "data"
        ]
       },
       {
        "data": "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",
        "encoding": "base64",
        "path": [
         "voxels",
         "data"
        ]
       }
      ],
      "model_module": "k3d",
      "model_module_version": "2.11.0",
      "model_name": "ObjectModel",
      "state": {
       "_view_count": null,
       "_view_module": null,
       "_view_module_version": "",
       "_view_name": null,
       "colorLegend": false,
       "color_map": {
        "dtype": "uint32",
        "shape": [
         256
        ]
       },
       "compression_level": 0,
       "id": 140016875005216,
       "model_matrix": {
        "dtype": "float32",
        "shape": [
         4,
         4
        ]
       },
       "name": "Voxels #7",
       "opacity": 1,
       "outlines": false,
       "outlines_color": 0,
       "type": "Voxels",
       "visible": true,
       "voxels": {
        "dtype": "uint8",
        "shape": [
         1,
         8,
         200
        ]
       },
       "wireframe": false
      }
     },
     "85b2270e4b9c46b0a53a2dfde52b22d0": {
      "buffers": [
       {
        "data": "sHJMAA==",
        "encoding": "base64",
        "path": [
         "color_map",
         "data"
        ]
       },
       {
        "data": "AAD6QwAAAAAAAAAAAAB6QwAAAAAAAKBBAAAAAAAAIEEAAAAAAAAAAAAAIEAAAKA/AAAAAAAAAAAAAAAAAACAPw==",
        "encoding": "base64",
        "path": [
         "model_matrix",
         "data"
        ]
       },
       {
        "data": "AQ==",
        "encoding": "base64",
        "path": [
         "voxels",
         "data"
        ]
       }
      ],
      "model_module": "k3d",
      "model_module_version": "2.11.0",
      "model_name": "ObjectModel",
      "state": {
       "_view_count": null,
       "_view_module": null,
       "_view_module_version": "",
       "_view_name": null,
       "colorLegend": false,
       "color_map": {
        "dtype": "uint32",
        "shape": []
       },
       "compression_level": 0,
       "id": 140018354942928,
       "model_matrix": {
        "dtype": "float32",
        "shape": [
         4,
         4
        ]
       },
       "name": "total_region",
       "opacity": 0.025,
       "outlines": false,
       "outlines_color": 0,
       "type": "Voxels",
       "visible": true,
       "voxels": {
        "dtype": "uint8",
        "shape": [
         1,
         1,
         1
        ]
       },
       "wireframe": false
      }
     },
     "8afb7b6438454becad368eb7de32f879": {
      "buffers": [
       {
        "data": "TiIAAE8jAABRJAAAUyUAAFQlAABWJgAAWCcAAFkoAABbKAAAXSkAAF8qAABhKgAAYisAAGQsAABmLAAAaC0AAGouAABsLgAAbS8AAG8wAABwMAAAcDEAAHExAABxMgEAcTMFAHAzCABwNAwAcDUPAHA1EgBwNhQAcDcWAG83GABvOBoAbzkcAG86HgBvOiAAbjshAG48IwBuPCQAbj0mAG4+JwBuPykAbT8qAG1AKwBtQS0AbUEuAG1CLwBtQzEAbUMyAG1EMwBsRTQAbEU1AGxGNgBsRzgAbEg5AGxIOgBsSTsAbEo8AGxKPQBsSz4AbEw/AGxMQABsTUEAbE5CAGxOQwBsT0QAbFBFAGxRRgBsUUcAbFJIAGxTSQBsU0oAbFRLAGxVTABsVU0AbFZOAGxXTwBsV1AAbVhRAG1ZUgBtWlMAbVpUAG1bVQBtXFUAbVxWAG1dVwBtXlgAbl5ZAG5fWgBuYFsAbmFcAG5hXQBuYl4Ab2NeAG9jXwBvZGAAb2VhAG9lYgBwZmMAcGdkAHBoZQBwaGUAcGlmAHFqZwBxamgAcWtpAHFsagBybWsAcm1sAHJubAByb20Ac29uAHNwbwBzcXAAdHJxAHRycgB0c3IAdXRzAHV0dAB1dXUAdnZ2AHZ3dwB3d3cAd3h4AHd5eQB4enoAeHp7AHh7fAB4fH0AeHx+AHh9fgB4fn8AeH+AAHh/gQB5gIIAeYGDAHmChAB5goUAeYOGAHiEhwB4hYgAeIWJAHiGigB4h4sAeIiMAHiIjQB4iY4AeIqPAHiLkAB4i5EAeIySAHiNkgB4jpMAd46UAHePlQB3kJYAd5GXAHeSmAB3kpkAdpOaAHaUmwB2lZwAdpWdAHaWngB1l58AdZigAHWZoQB1maIAdJqjAHSbpAB0nKUAdJymAHOdpwBznqgAc5+pAHOgqgByoKsAcqGsAHKirQBxo64AcaSvAHGlsABwpbEAcKazAG+ntABvqLUAb6m2AG6ptwBuqrgAbau5AG2sugBtrbsAbK68AGyuvQBrr74Aa7C/AGqxwABqssEAabPCAGmzwwBotMQAaLXFAGe2xgBnt8cAZrjIAGW5yQBlucsAZLrMAGO7zQBjvM4AYr3PAGK+0ABhv9EAYMDSAF/A0wBfwdQAXsLVAF3D1gBcxNcAXMXZAFvG2gBax9sAWcjcAFjI3QBYyd4AV8rfAFbL4ABVzOEAVM3iAFPO5ABSz+UAUdDmAFDR5wBP0ugATtPpAEzT6gBL1OsAStXtAEnW7gBI1+8ARtjwAEXZ8QBE2vIAQtvzAEHc9QA/3fYAPt73ADzf+AA64PkAOOH7ADbi/AA04/0ANOT+ADXl/gA25v4AOOj+AA==",
        "encoding": "base64",
        "path": [
         "color_map",
         "data"
        ]
       },
       {
        "data": "AAD6QwAAAAAAAAAAAAB6QwAAAAAAAKBBAAAAAAAAIEEAAAAAAAAAAAAAIEAAAKA/AAAAAAAAAAAAAAAAAACAPw==",
        "encoding": "base64",
        "path": [
         "model_matrix",
         "data"
        ]
       },
       {
        "data": "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",
        "encoding": "base64",
        "path": [
         "voxels",
         "data"
        ]
       }
      ],
      "model_module": "k3d",
      "model_module_version": "2.11.0",
      "model_name": "ObjectModel",
      "state": {
       "_view_count": null,
       "_view_module": null,
       "_view_module_version": "",
       "_view_name": null,
       "colorLegend": false,
       "color_map": {
        "dtype": "uint32",
        "shape": [
         256
        ]
       },
       "compression_level": 0,
       "id": 140018357241936,
       "model_matrix": {
        "dtype": "float32",
        "shape": [
         4,
         4
        ]
       },
       "name": "Voxels #21",
       "opacity": 1,
       "outlines": false,
       "outlines_color": 0,
       "type": "Voxels",
       "visible": true,
       "voxels": {
        "dtype": "uint8",
        "shape": [
         1,
         8,
         200
        ]
       },
       "wireframe": false
      }
     },
     "8b1f1c9e28754befbb13c2e0fee9e322": {
      "model_module": "@jupyter-widgets/output",
      "model_module_version": "1.0.0",
      "model_name": "OutputModel",
      "state": {
       "layout": "IPY_MODEL_7a1feb7b51f143cfa201dfbfb3ca7e90",
       "outputs": [
        {
         "ename": "AttributeError",
         "evalue": "Object has no attribute m.",
         "output_type": "error",
         "traceback": [
          "\u001b[0;31m---------------------------------------------------------------------------\u001b[0m",
          "\u001b[0;31mAttributeError\u001b[0m                            Traceback (most recent call last)",
          "\u001b[0;32m/opt/miniconda3/envs/ubermagdev/lib/python3.9/site-packages/ipywidgets/widgets/interaction.py\u001b[0m in \u001b[0;36mupdate\u001b[0;34m(self, *args)\u001b[0m\n\u001b[1;32m    255\u001b[0m                     \u001b[0mvalue\u001b[0m \u001b[0;34m=\u001b[0m \u001b[0mwidget\u001b[0m\u001b[0;34m.\u001b[0m\u001b[0mget_interact_value\u001b[0m\u001b[0;34m(\u001b[0m\u001b[0;34m)\u001b[0m\u001b[0;34m\u001b[0m\u001b[0;34m\u001b[0m\u001b[0m\n\u001b[1;32m    256\u001b[0m                     \u001b[0mself\u001b[0m\u001b[0;34m.\u001b[0m\u001b[0mkwargs\u001b[0m\u001b[0;34m[\u001b[0m\u001b[0mwidget\u001b[0m\u001b[0;34m.\u001b[0m\u001b[0m_kwarg\u001b[0m\u001b[0;34m]\u001b[0m \u001b[0;34m=\u001b[0m \u001b[0mvalue\u001b[0m\u001b[0;34m\u001b[0m\u001b[0;34m\u001b[0m\u001b[0m\n\u001b[0;32m--> 257\u001b[0;31m                 \u001b[0mself\u001b[0m\u001b[0;34m.\u001b[0m\u001b[0mresult\u001b[0m \u001b[0;34m=\u001b[0m \u001b[0mself\u001b[0m\u001b[0;34m.\u001b[0m\u001b[0mf\u001b[0m\u001b[0;34m(\u001b[0m\u001b[0;34m**\u001b[0m\u001b[0mself\u001b[0m\u001b[0;34m.\u001b[0m\u001b[0mkwargs\u001b[0m\u001b[0;34m)\u001b[0m\u001b[0;34m\u001b[0m\u001b[0;34m\u001b[0m\u001b[0m\n\u001b[0m\u001b[1;32m    258\u001b[0m                 \u001b[0mshow_inline_matplotlib_plots\u001b[0m\u001b[0;34m(\u001b[0m\u001b[0;34m)\u001b[0m\u001b[0;34m\u001b[0m\u001b[0;34m\u001b[0m\u001b[0m\n\u001b[1;32m    259\u001b[0m                 \u001b[0;32mif\u001b[0m \u001b[0mself\u001b[0m\u001b[0;34m.\u001b[0m\u001b[0mauto_display\u001b[0m \u001b[0;32mand\u001b[0m \u001b[0mself\u001b[0m\u001b[0;34m.\u001b[0m\u001b[0mresult\u001b[0m \u001b[0;32mis\u001b[0m \u001b[0;32mnot\u001b[0m \u001b[0;32mNone\u001b[0m\u001b[0;34m:\u001b[0m\u001b[0;34m\u001b[0m\u001b[0;34m\u001b[0m\u001b[0m\n",
          "\u001b[0;32m/tmp/ipykernel_3861/3685593875.py\u001b[0m in \u001b[0;36mmy_plot\u001b[0;34m(n)\u001b[0m\n\u001b[1;32m      8\u001b[0m \u001b[0;34m@\u001b[0m\u001b[0mdf\u001b[0m\u001b[0;34m.\u001b[0m\u001b[0minteract\u001b[0m\u001b[0;34m(\u001b[0m\u001b[0mn\u001b[0m\u001b[0;34m=\u001b[0m\u001b[0mdata\u001b[0m\u001b[0;34m[\u001b[0m\u001b[0;36m1\u001b[0m\u001b[0;34m]\u001b[0m\u001b[0;34m.\u001b[0m\u001b[0mslider\u001b[0m\u001b[0;34m(\u001b[0m\u001b[0;34m)\u001b[0m\u001b[0;34m)\u001b[0m\u001b[0;34m\u001b[0m\u001b[0;34m\u001b[0m\u001b[0m\n\u001b[1;32m      9\u001b[0m \u001b[0;32mdef\u001b[0m \u001b[0mmy_plot\u001b[0m\u001b[0;34m(\u001b[0m\u001b[0mn\u001b[0m\u001b[0;34m)\u001b[0m\u001b[0;34m:\u001b[0m\u001b[0;34m\u001b[0m\u001b[0;34m\u001b[0m\u001b[0m\n\u001b[0;32m---> 10\u001b[0;31m     \u001b[0mdata\u001b[0m\u001b[0;34m[\u001b[0m\u001b[0;34m-\u001b[0m\u001b[0;36m1\u001b[0m\u001b[0;34m]\u001b[0m\u001b[0;34m[\u001b[0m\u001b[0mn\u001b[0m\u001b[0;34m]\u001b[0m\u001b[0;34m.\u001b[0m\u001b[0mm\u001b[0m\u001b[0;34m.\u001b[0m\u001b[0morientation\u001b[0m\u001b[0;34m.\u001b[0m\u001b[0mz\u001b[0m\u001b[0;34m.\u001b[0m\u001b[0mplane\u001b[0m\u001b[0;34m(\u001b[0m\u001b[0;34m'z'\u001b[0m\u001b[0;34m)\u001b[0m\u001b[0;34m.\u001b[0m\u001b[0mmpl\u001b[0m\u001b[0;34m.\u001b[0m\u001b[0mscalar\u001b[0m\u001b[0;34m(\u001b[0m\u001b[0;34m)\u001b[0m\u001b[0;34m\u001b[0m\u001b[0;34m\u001b[0m\u001b[0m\n\u001b[0m\u001b[1;32m     11\u001b[0m     \u001b[0;31m#data[1][n].z.k3d.scalar(plot=plot, interactive_field=system.m)\u001b[0m\u001b[0;34m\u001b[0m\u001b[0;34m\u001b[0m\u001b[0m\n\u001b[1;32m     12\u001b[0m \u001b[0;34m\u001b[0m\u001b[0m\n",
          "\u001b[0;32m~/PhD/repos/ubermag/discretisedfield/discretisedfield/field.py\u001b[0m in \u001b[0;36m__getattr__\u001b[0;34m(self, attr)\u001b[0m\n\u001b[1;32m    742\u001b[0m         \u001b[0;32melse\u001b[0m\u001b[0;34m:\u001b[0m\u001b[0;34m\u001b[0m\u001b[0;34m\u001b[0m\u001b[0m\n\u001b[1;32m    743\u001b[0m             \u001b[0mmsg\u001b[0m \u001b[0;34m=\u001b[0m \u001b[0;34mf'Object has no attribute {attr}.'\u001b[0m\u001b[0;34m\u001b[0m\u001b[0;34m\u001b[0m\u001b[0m\n\u001b[0;32m--> 744\u001b[0;31m             \u001b[0;32mraise\u001b[0m \u001b[0mAttributeError\u001b[0m\u001b[0;34m(\u001b[0m\u001b[0mmsg\u001b[0m\u001b[0;34m)\u001b[0m\u001b[0;34m\u001b[0m\u001b[0;34m\u001b[0m\u001b[0m\n\u001b[0m\u001b[1;32m    745\u001b[0m \u001b[0;34m\u001b[0m\u001b[0m\n\u001b[1;32m    746\u001b[0m     \u001b[0;32mdef\u001b[0m \u001b[0m__dir__\u001b[0m\u001b[0;34m(\u001b[0m\u001b[0mself\u001b[0m\u001b[0;34m)\u001b[0m\u001b[0;34m:\u001b[0m\u001b[0;34m\u001b[0m\u001b[0;34m\u001b[0m\u001b[0m\n",
          "\u001b[0;31mAttributeError\u001b[0m: Object has no attribute m."
         ]
        }
       ]
      }
     },
     "8c33fd96ecec45e48d8d64a71e1a1e7d": {
      "model_module": "@jupyter-widgets/controls",
      "model_module_version": "1.5.0",
      "model_name": "IntSliderModel",
      "state": {
       "description": "step",
       "layout": "IPY_MODEL_7a8fbc0e33f741a89e74599d1d26253c",
       "max": 99,
       "style": "IPY_MODEL_e5b644508ffe46fc8d7757267541e319"
      }
     },
     "8f4e378069ec4fceaa8df25e2ead1090": {
      "model_module": "@jupyter-widgets/base",
      "model_module_version": "1.2.0",
      "model_name": "LayoutModel",
      "state": {}
     },
     "9285e477541c4c44973211d378f7b757": {
      "buffers": [
       {
        "data": "TiIAAE8jAABRJAAAUyUAAFQlAABWJgAAWCcAAFkoAABbKAAAXSkAAF8qAABhKgAAYisAAGQsAABmLAAAaC0AAGouAABsLgAAbS8AAG8wAABwMAAAcDEAAHExAABxMgEAcTMFAHAzCABwNAwAcDUPAHA1EgBwNhQAcDcWAG83GABvOBoAbzkcAG86HgBvOiAAbjshAG48IwBuPCQAbj0mAG4+JwBuPykAbT8qAG1AKwBtQS0AbUEuAG1CLwBtQzEAbUMyAG1EMwBsRTQAbEU1AGxGNgBsRzgAbEg5AGxIOgBsSTsAbEo8AGxKPQBsSz4AbEw/AGxMQABsTUEAbE5CAGxOQwBsT0QAbFBFAGxRRgBsUUcAbFJIAGxTSQBsU0oAbFRLAGxVTABsVU0AbFZOAGxXTwBsV1AAbVhRAG1ZUgBtWlMAbVpUAG1bVQBtXFUAbVxWAG1dVwBtXlgAbl5ZAG5fWgBuYFsAbmFcAG5hXQBuYl4Ab2NeAG9jXwBvZGAAb2VhAG9lYgBwZmMAcGdkAHBoZQBwaGUAcGlmAHFqZwBxamgAcWtpAHFsagBybWsAcm1sAHJubAByb20Ac29uAHNwbwBzcXAAdHJxAHRycgB0c3IAdXRzAHV0dAB1dXUAdnZ2AHZ3dwB3d3cAd3h4AHd5eQB4enoAeHp7AHh7fAB4fH0AeHx+AHh9fgB4fn8AeH+AAHh/gQB5gIIAeYGDAHmChAB5goUAeYOGAHiEhwB4hYgAeIWJAHiGigB4h4sAeIiMAHiIjQB4iY4AeIqPAHiLkAB4i5EAeIySAHiNkgB4jpMAd46UAHePlQB3kJYAd5GXAHeSmAB3kpkAdpOaAHaUmwB2lZwAdpWdAHaWngB1l58AdZigAHWZoQB1maIAdJqjAHSbpAB0nKUAdJymAHOdpwBznqgAc5+pAHOgqgByoKsAcqGsAHKirQBxo64AcaSvAHGlsABwpbEAcKazAG+ntABvqLUAb6m2AG6ptwBuqrgAbau5AG2sugBtrbsAbK68AGyuvQBrr74Aa7C/AGqxwABqssEAabPCAGmzwwBotMQAaLXFAGe2xgBnt8cAZrjIAGW5yQBlucsAZLrMAGO7zQBjvM4AYr3PAGK+0ABhv9EAYMDSAF/A0wBfwdQAXsLVAF3D1gBcxNcAXMXZAFvG2gBax9sAWcjcAFjI3QBYyd4AV8rfAFbL4ABVzOEAVM3iAFPO5ABSz+UAUdDmAFDR5wBP0ugATtPpAEzT6gBL1OsAStXtAEnW7gBI1+8ARtjwAEXZ8QBE2vIAQtvzAEHc9QA/3fYAPt73ADzf+AA64PkAOOH7ADbi/AA04/0ANOT+ADXl/gA25v4AOOj+AA==",
        "encoding": "base64",
        "path": [
         "color_map",
         "data"
        ]
       },
       {
        "data": "AAD6QwAAAAAAAAAAAAB6QwAAAAAAAKBBAAAAAAAAIEEAAAAAAAAAAAAAIEAAAKA/AAAAAAAAAAAAAAAAAACAPw==",
        "encoding": "base64",
        "path": [
         "model_matrix",
         "data"
        ]
       },
       {
        "data": "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",
        "encoding": "base64",
        "path": [
         "voxels",
         "data"
        ]
       }
      ],
      "model_module": "k3d",
      "model_module_version": "2.11.0",
      "model_name": "ObjectModel",
      "state": {
       "_view_count": null,
       "_view_module": null,
       "_view_module_version": "",
       "_view_name": null,
       "colorLegend": false,
       "color_map": {
        "dtype": "uint32",
        "shape": [
         256
        ]
       },
       "compression_level": 0,
       "id": 140018355089952,
       "model_matrix": {
        "dtype": "float32",
        "shape": [
         4,
         4
        ]
       },
       "name": "Voxels #2",
       "opacity": 1,
       "outlines": false,
       "outlines_color": 0,
       "type": "Voxels",
       "visible": true,
       "voxels": {
        "dtype": "uint8",
        "shape": [
         1,
         8,
         200
        ]
       },
       "wireframe": false
      }
     },
     "92ebd40dad3543e79144c871753e8add": {
      "model_module": "@jupyter-widgets/base",
      "model_module_version": "1.2.0",
      "model_name": "LayoutModel",
      "state": {}
     },
     "940e80d848b74c418902cf70e5fc6fb1": {
      "model_module": "k3d",
      "model_module_version": "2.11.0",
      "model_name": "PlotModel",
      "state": {
       "_backend_version": "2.11.0",
       "_dom_classes": [],
       "_view_count": null,
       "antialias": 3,
       "auto_rendering": true,
       "axes": [
        "x\\,\\text{ (nm)}",
        "y\\,\\text{ (nm)}",
        "z\\,\\text{ (nm)}"
       ],
       "axes_helper": 1,
       "background_color": 16777215,
       "camera": [
        156.70979188520877,
        -256.5342576316413,
        255.70318894464864,
        168.99487487411056,
        -7.835193468098226,
        -31.241236294769486,
        -0.2736818605430776,
        0.69547339893462,
        0.6643906912231746
       ],
       "camera_animation": [],
       "camera_auto_fit": false,
       "camera_damping_factor": 0,
       "camera_fov": 60,
       "camera_mode": "trackball",
       "camera_no_pan": false,
       "camera_no_rotate": false,
       "camera_no_zoom": false,
       "camera_pan_speed": 0.3,
       "camera_rotate_speed": 1,
       "camera_zoom_speed": 1.2,
       "clipping_planes": [],
       "colorbar_object_id": -1,
       "colorbar_scientific": false,
       "fps": 25,
       "fps_meter": false,
       "grid": [
        -1,
        -1,
        -1,
        1,
        1,
        1
       ],
       "grid_auto_fit": true,
       "grid_color": 15132390,
       "grid_visible": true,
       "height": 512,
       "label_color": 4473924,
       "layout": "IPY_MODEL_d3323533ea7542cc93a590ef23aec134",
       "lighting": 1.5,
       "manipulate_mode": "translate",
       "menu_visibility": true,
       "mode": "view",
       "name": null,
       "object_ids": [
        140017009667712,
        140018357241168
       ],
       "rendering_steps": 1,
       "screenshot": "",
       "screenshot_scale": 2,
       "snapshot": "",
       "snapshot_type": "full",
       "time": 0,
       "voxel_paint_color": 0
      }
     },
     "964d1da09e884d849ca2b7df75803ea4": {
      "model_module": "@jupyter-widgets/controls",
      "model_module_version": "1.5.0",
      "model_name": "SliderStyleModel",
      "state": {
       "description_width": ""
      }
     },
     "97d4f6c8ea4c4c3698e758aaf8a39d1f": {
      "model_module": "@jupyter-widgets/base",
      "model_module_version": "1.2.0",
      "model_name": "LayoutModel",
      "state": {}
     },
     "9952407f8ef4498083649f7e1b72bf30": {
      "model_module": "@jupyter-widgets/controls",
      "model_module_version": "1.5.0",
      "model_name": "VBoxModel",
      "state": {
       "_dom_classes": [
        "widget-interact"
       ],
       "children": [
        "IPY_MODEL_fa9fbe03410a46d7bcb02fe774649878",
        "IPY_MODEL_d9a042b0f74340f9b324e15ac622af18"
       ],
       "layout": "IPY_MODEL_7bd3fec3cba54ec0a451604a78552fbb"
      }
     },
     "99ee38f2fa9e429a9d97e936e959c032": {
      "model_module": "@jupyter-widgets/base",
      "model_module_version": "1.2.0",
      "model_name": "LayoutModel",
      "state": {}
     },
     "9b87e21d70d34b8688edfa4039be4f19": {
      "model_module": "@jupyter-widgets/output",
      "model_module_version": "1.0.0",
      "model_name": "OutputModel",
      "state": {
       "layout": "IPY_MODEL_b10edee870204259a3521b4050edcdd2",
       "outputs": [
        {
         "data": {
          "image/png": "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\n",
          "text/plain": "<Figure size 576x432 with 2 Axes>"
         },
         "metadata": {},
         "output_type": "display_data"
        }
       ]
      }
     },
     "a45ae2678d754f08ba1daa91e03f5fd5": {
      "buffers": [
       {
        "data": "TiIAAE8jAABRJAAAUyUAAFQlAABWJgAAWCcAAFkoAABbKAAAXSkAAF8qAABhKgAAYisAAGQsAABmLAAAaC0AAGouAABsLgAAbS8AAG8wAABwMAAAcDEAAHExAABxMgEAcTMFAHAzCABwNAwAcDUPAHA1EgBwNhQAcDcWAG83GABvOBoAbzkcAG86HgBvOiAAbjshAG48IwBuPCQAbj0mAG4+JwBuPykAbT8qAG1AKwBtQS0AbUEuAG1CLwBtQzEAbUMyAG1EMwBsRTQAbEU1AGxGNgBsRzgAbEg5AGxIOgBsSTsAbEo8AGxKPQBsSz4AbEw/AGxMQABsTUEAbE5CAGxOQwBsT0QAbFBFAGxRRgBsUUcAbFJIAGxTSQBsU0oAbFRLAGxVTABsVU0AbFZOAGxXTwBsV1AAbVhRAG1ZUgBtWlMAbVpUAG1bVQBtXFUAbVxWAG1dVwBtXlgAbl5ZAG5fWgBuYFsAbmFcAG5hXQBuYl4Ab2NeAG9jXwBvZGAAb2VhAG9lYgBwZmMAcGdkAHBoZQBwaGUAcGlmAHFqZwBxamgAcWtpAHFsagBybWsAcm1sAHJubAByb20Ac29uAHNwbwBzcXAAdHJxAHRycgB0c3IAdXRzAHV0dAB1dXUAdnZ2AHZ3dwB3d3cAd3h4AHd5eQB4enoAeHp7AHh7fAB4fH0AeHx+AHh9fgB4fn8AeH+AAHh/gQB5gIIAeYGDAHmChAB5goUAeYOGAHiEhwB4hYgAeIWJAHiGigB4h4sAeIiMAHiIjQB4iY4AeIqPAHiLkAB4i5EAeIySAHiNkgB4jpMAd46UAHePlQB3kJYAd5GXAHeSmAB3kpkAdpOaAHaUmwB2lZwAdpWdAHaWngB1l58AdZigAHWZoQB1maIAdJqjAHSbpAB0nKUAdJymAHOdpwBznqgAc5+pAHOgqgByoKsAcqGsAHKirQBxo64AcaSvAHGlsABwpbEAcKazAG+ntABvqLUAb6m2AG6ptwBuqrgAbau5AG2sugBtrbsAbK68AGyuvQBrr74Aa7C/AGqxwABqssEAabPCAGmzwwBotMQAaLXFAGe2xgBnt8cAZrjIAGW5yQBlucsAZLrMAGO7zQBjvM4AYr3PAGK+0ABhv9EAYMDSAF/A0wBfwdQAXsLVAF3D1gBcxNcAXMXZAFvG2gBax9sAWcjcAFjI3QBYyd4AV8rfAFbL4ABVzOEAVM3iAFPO5ABSz+UAUdDmAFDR5wBP0ugATtPpAEzT6gBL1OsAStXtAEnW7gBI1+8ARtjwAEXZ8QBE2vIAQtvzAEHc9QA/3fYAPt73ADzf+AA64PkAOOH7ADbi/AA04/0ANOT+ADXl/gA25v4AOOj+AA==",
        "encoding": "base64",
        "path": [
         "color_map",
         "data"
        ]
       },
       {
        "data": "AAD6QwAAAAAAAAAAAAB6QwAAAAAAAKBBAAAAAAAAIEEAAAAAAAAAAAAAIEAAAKA/AAAAAAAAAAAAAAAAAACAPw==",
        "encoding": "base64",
        "path": [
         "model_matrix",
         "data"
        ]
       },
       {
        "data": "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",
        "encoding": "base64",
        "path": [
         "voxels",
         "data"
        ]
       }
      ],
      "model_module": "k3d",
      "model_module_version": "2.11.0",
      "model_name": "ObjectModel",
      "state": {
       "_view_count": null,
       "_view_module": null,
       "_view_module_version": "",
       "_view_name": null,
       "colorLegend": false,
       "color_map": {
        "dtype": "uint32",
        "shape": [
         256
        ]
       },
       "compression_level": 0,
       "id": 140018357241072,
       "model_matrix": {
        "dtype": "float32",
        "shape": [
         4,
         4
        ]
       },
       "name": "Voxels #24",
       "opacity": 1,
       "outlines": false,
       "outlines_color": 0,
       "type": "Voxels",
       "visible": true,
       "voxels": {
        "dtype": "uint8",
        "shape": [
         1,
         8,
         200
        ]
       },
       "wireframe": false
      }
     },
     "a7eaaad0f6604c2286e6eb83b0d21cd9": {
      "model_module": "@jupyter-widgets/base",
      "model_module_version": "1.2.0",
      "model_name": "LayoutModel",
      "state": {}
     },
     "aaf9e5144d01460e80de9335ddad2dc8": {
      "buffers": [
       {
        "data": "TiIAAE8jAABRJAAAUyUAAFQlAABWJgAAWCcAAFkoAABbKAAAXSkAAF8qAABhKgAAYisAAGQsAABmLAAAaC0AAGouAABsLgAAbS8AAG8wAABwMAAAcDEAAHExAABxMgEAcTMFAHAzCABwNAwAcDUPAHA1EgBwNhQAcDcWAG83GABvOBoAbzkcAG86HgBvOiAAbjshAG48IwBuPCQAbj0mAG4+JwBuPykAbT8qAG1AKwBtQS0AbUEuAG1CLwBtQzEAbUMyAG1EMwBsRTQAbEU1AGxGNgBsRzgAbEg5AGxIOgBsSTsAbEo8AGxKPQBsSz4AbEw/AGxMQABsTUEAbE5CAGxOQwBsT0QAbFBFAGxRRgBsUUcAbFJIAGxTSQBsU0oAbFRLAGxVTABsVU0AbFZOAGxXTwBsV1AAbVhRAG1ZUgBtWlMAbVpUAG1bVQBtXFUAbVxWAG1dVwBtXlgAbl5ZAG5fWgBuYFsAbmFcAG5hXQBuYl4Ab2NeAG9jXwBvZGAAb2VhAG9lYgBwZmMAcGdkAHBoZQBwaGUAcGlmAHFqZwBxamgAcWtpAHFsagBybWsAcm1sAHJubAByb20Ac29uAHNwbwBzcXAAdHJxAHRycgB0c3IAdXRzAHV0dAB1dXUAdnZ2AHZ3dwB3d3cAd3h4AHd5eQB4enoAeHp7AHh7fAB4fH0AeHx+AHh9fgB4fn8AeH+AAHh/gQB5gIIAeYGDAHmChAB5goUAeYOGAHiEhwB4hYgAeIWJAHiGigB4h4sAeIiMAHiIjQB4iY4AeIqPAHiLkAB4i5EAeIySAHiNkgB4jpMAd46UAHePlQB3kJYAd5GXAHeSmAB3kpkAdpOaAHaUmwB2lZwAdpWdAHaWngB1l58AdZigAHWZoQB1maIAdJqjAHSbpAB0nKUAdJymAHOdpwBznqgAc5+pAHOgqgByoKsAcqGsAHKirQBxo64AcaSvAHGlsABwpbEAcKazAG+ntABvqLUAb6m2AG6ptwBuqrgAbau5AG2sugBtrbsAbK68AGyuvQBrr74Aa7C/AGqxwABqssEAabPCAGmzwwBotMQAaLXFAGe2xgBnt8cAZrjIAGW5yQBlucsAZLrMAGO7zQBjvM4AYr3PAGK+0ABhv9EAYMDSAF/A0wBfwdQAXsLVAF3D1gBcxNcAXMXZAFvG2gBax9sAWcjcAFjI3QBYyd4AV8rfAFbL4ABVzOEAVM3iAFPO5ABSz+UAUdDmAFDR5wBP0ugATtPpAEzT6gBL1OsAStXtAEnW7gBI1+8ARtjwAEXZ8QBE2vIAQtvzAEHc9QA/3fYAPt73ADzf+AA64PkAOOH7ADbi/AA04/0ANOT+ADXl/gA25v4AOOj+AA==",
        "encoding": "base64",
        "path": [
         "color_map",
         "data"
        ]
       },
       {
        "data": "AAD6QwAAAAAAAAAAAAB6QwAAAAAAAKBBAAAAAAAAIEEAAAAAAAAAAAAAIEAAAKA/AAAAAAAAAAAAAAAAAACAPw==",
        "encoding": "base64",
        "path": [
         "model_matrix",
         "data"
        ]
       },
       {
        "data": "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",
        "encoding": "base64",
        "path": [
         "voxels",
         "data"
        ]
       }
      ],
      "model_module": "k3d",
      "model_module_version": "2.11.0",
      "model_name": "ObjectModel",
      "state": {
       "_view_count": null,
       "_view_module": null,
       "_view_module_version": "",
       "_view_name": null,
       "colorLegend": false,
       "color_map": {
        "dtype": "uint32",
        "shape": [
         256
        ]
       },
       "compression_level": 0,
       "id": 140018356886400,
       "model_matrix": {
        "dtype": "float32",
        "shape": [
         4,
         4
        ]
       },
       "name": "Voxels #20",
       "opacity": 1,
       "outlines": false,
       "outlines_color": 0,
       "type": "Voxels",
       "visible": true,
       "voxels": {
        "dtype": "uint8",
        "shape": [
         1,
         8,
         200
        ]
       },
       "wireframe": false
      }
     },
     "aca63de584054773bfb6768074311d8a": {
      "model_module": "@jupyter-widgets/base",
      "model_module_version": "1.2.0",
      "model_name": "LayoutModel",
      "state": {}
     },
     "ad4d8d026e6f4ae3abc1dc43cca044e5": {
      "model_module": "@jupyter-widgets/base",
      "model_module_version": "1.2.0",
      "model_name": "LayoutModel",
      "state": {}
     },
     "add56020ac31412687f591c3cb4ba3f3": {
      "model_module": "@jupyter-widgets/base",
      "model_module_version": "1.2.0",
      "model_name": "LayoutModel",
      "state": {}
     },
     "ae0f6902a3984dba9d1ac103dac96422": {
      "buffers": [
       {
        "data": "TiIAAE8jAABRJAAAUyUAAFQlAABWJgAAWCcAAFkoAABbKAAAXSkAAF8qAABhKgAAYisAAGQsAABmLAAAaC0AAGouAABsLgAAbS8AAG8wAABwMAAAcDEAAHExAABxMgEAcTMFAHAzCABwNAwAcDUPAHA1EgBwNhQAcDcWAG83GABvOBoAbzkcAG86HgBvOiAAbjshAG48IwBuPCQAbj0mAG4+JwBuPykAbT8qAG1AKwBtQS0AbUEuAG1CLwBtQzEAbUMyAG1EMwBsRTQAbEU1AGxGNgBsRzgAbEg5AGxIOgBsSTsAbEo8AGxKPQBsSz4AbEw/AGxMQABsTUEAbE5CAGxOQwBsT0QAbFBFAGxRRgBsUUcAbFJIAGxTSQBsU0oAbFRLAGxVTABsVU0AbFZOAGxXTwBsV1AAbVhRAG1ZUgBtWlMAbVpUAG1bVQBtXFUAbVxWAG1dVwBtXlgAbl5ZAG5fWgBuYFsAbmFcAG5hXQBuYl4Ab2NeAG9jXwBvZGAAb2VhAG9lYgBwZmMAcGdkAHBoZQBwaGUAcGlmAHFqZwBxamgAcWtpAHFsagBybWsAcm1sAHJubAByb20Ac29uAHNwbwBzcXAAdHJxAHRycgB0c3IAdXRzAHV0dAB1dXUAdnZ2AHZ3dwB3d3cAd3h4AHd5eQB4enoAeHp7AHh7fAB4fH0AeHx+AHh9fgB4fn8AeH+AAHh/gQB5gIIAeYGDAHmChAB5goUAeYOGAHiEhwB4hYgAeIWJAHiGigB4h4sAeIiMAHiIjQB4iY4AeIqPAHiLkAB4i5EAeIySAHiNkgB4jpMAd46UAHePlQB3kJYAd5GXAHeSmAB3kpkAdpOaAHaUmwB2lZwAdpWdAHaWngB1l58AdZigAHWZoQB1maIAdJqjAHSbpAB0nKUAdJymAHOdpwBznqgAc5+pAHOgqgByoKsAcqGsAHKirQBxo64AcaSvAHGlsABwpbEAcKazAG+ntABvqLUAb6m2AG6ptwBuqrgAbau5AG2sugBtrbsAbK68AGyuvQBrr74Aa7C/AGqxwABqssEAabPCAGmzwwBotMQAaLXFAGe2xgBnt8cAZrjIAGW5yQBlucsAZLrMAGO7zQBjvM4AYr3PAGK+0ABhv9EAYMDSAF/A0wBfwdQAXsLVAF3D1gBcxNcAXMXZAFvG2gBax9sAWcjcAFjI3QBYyd4AV8rfAFbL4ABVzOEAVM3iAFPO5ABSz+UAUdDmAFDR5wBP0ugATtPpAEzT6gBL1OsAStXtAEnW7gBI1+8ARtjwAEXZ8QBE2vIAQtvzAEHc9QA/3fYAPt73ADzf+AA64PkAOOH7ADbi/AA04/0ANOT+ADXl/gA25v4AOOj+AA==",
        "encoding": "base64",
        "path": [
         "color_map",
         "data"
        ]
       },
       {
        "data": "AAD6QwAAAAAAAAAAAAB6QwAAAAAAAKBBAAAAAAAAIEEAAAAAAAAAAAAAIEAAAKA/AAAAAAAAAAAAAAAAAACAPw==",
        "encoding": "base64",
        "path": [
         "model_matrix",
         "data"
        ]
       },
       {
        "data": "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",
        "encoding": "base64",
        "path": [
         "voxels",
         "data"
        ]
       }
      ],
      "model_module": "k3d",
      "model_module_version": "2.11.0",
      "model_name": "ObjectModel",
      "state": {
       "_view_count": null,
       "_view_module": null,
       "_view_module_version": "",
       "_view_name": null,
       "colorLegend": false,
       "color_map": {
        "dtype": "uint32",
        "shape": [
         256
        ]
       },
       "compression_level": 0,
       "id": 140018356886256,
       "model_matrix": {
        "dtype": "float32",
        "shape": [
         4,
         4
        ]
       },
       "name": "Voxels #19",
       "opacity": 1,
       "outlines": false,
       "outlines_color": 0,
       "type": "Voxels",
       "visible": true,
       "voxels": {
        "dtype": "uint8",
        "shape": [
         1,
         8,
         200
        ]
       },
       "wireframe": false
      }
     },
     "ae201ea0a9404544ad73c486286a3f8d": {
      "model_module": "@jupyter-widgets/controls",
      "model_module_version": "1.5.0",
      "model_name": "SliderStyleModel",
      "state": {
       "description_width": ""
      }
     },
     "b016320c71d84a99afb242e1b7d9891f": {
      "model_module": "@jupyter-widgets/controls",
      "model_module_version": "1.5.0",
      "model_name": "VBoxModel",
      "state": {
       "_dom_classes": [
        "widget-interact"
       ],
       "children": [
        "IPY_MODEL_187d7ddaecfe4fdcb75845566890e4bd",
        "IPY_MODEL_9b87e21d70d34b8688edfa4039be4f19"
       ],
       "layout": "IPY_MODEL_3b2338bcaa9b4f25a0b354f2ce16ba01"
      }
     },
     "b0695bb72d414b1da43412bb98e81754": {
      "buffers": [
       {
        "data": "TiIAAE8jAABRJAAAUyUAAFQlAABWJgAAWCcAAFkoAABbKAAAXSkAAF8qAABhKgAAYisAAGQsAABmLAAAaC0AAGouAABsLgAAbS8AAG8wAABwMAAAcDEAAHExAABxMgEAcTMFAHAzCABwNAwAcDUPAHA1EgBwNhQAcDcWAG83GABvOBoAbzkcAG86HgBvOiAAbjshAG48IwBuPCQAbj0mAG4+JwBuPykAbT8qAG1AKwBtQS0AbUEuAG1CLwBtQzEAbUMyAG1EMwBsRTQAbEU1AGxGNgBsRzgAbEg5AGxIOgBsSTsAbEo8AGxKPQBsSz4AbEw/AGxMQABsTUEAbE5CAGxOQwBsT0QAbFBFAGxRRgBsUUcAbFJIAGxTSQBsU0oAbFRLAGxVTABsVU0AbFZOAGxXTwBsV1AAbVhRAG1ZUgBtWlMAbVpUAG1bVQBtXFUAbVxWAG1dVwBtXlgAbl5ZAG5fWgBuYFsAbmFcAG5hXQBuYl4Ab2NeAG9jXwBvZGAAb2VhAG9lYgBwZmMAcGdkAHBoZQBwaGUAcGlmAHFqZwBxamgAcWtpAHFsagBybWsAcm1sAHJubAByb20Ac29uAHNwbwBzcXAAdHJxAHRycgB0c3IAdXRzAHV0dAB1dXUAdnZ2AHZ3dwB3d3cAd3h4AHd5eQB4enoAeHp7AHh7fAB4fH0AeHx+AHh9fgB4fn8AeH+AAHh/gQB5gIIAeYGDAHmChAB5goUAeYOGAHiEhwB4hYgAeIWJAHiGigB4h4sAeIiMAHiIjQB4iY4AeIqPAHiLkAB4i5EAeIySAHiNkgB4jpMAd46UAHePlQB3kJYAd5GXAHeSmAB3kpkAdpOaAHaUmwB2lZwAdpWdAHaWngB1l58AdZigAHWZoQB1maIAdJqjAHSbpAB0nKUAdJymAHOdpwBznqgAc5+pAHOgqgByoKsAcqGsAHKirQBxo64AcaSvAHGlsABwpbEAcKazAG+ntABvqLUAb6m2AG6ptwBuqrgAbau5AG2sugBtrbsAbK68AGyuvQBrr74Aa7C/AGqxwABqssEAabPCAGmzwwBotMQAaLXFAGe2xgBnt8cAZrjIAGW5yQBlucsAZLrMAGO7zQBjvM4AYr3PAGK+0ABhv9EAYMDSAF/A0wBfwdQAXsLVAF3D1gBcxNcAXMXZAFvG2gBax9sAWcjcAFjI3QBYyd4AV8rfAFbL4ABVzOEAVM3iAFPO5ABSz+UAUdDmAFDR5wBP0ugATtPpAEzT6gBL1OsAStXtAEnW7gBI1+8ARtjwAEXZ8QBE2vIAQtvzAEHc9QA/3fYAPt73ADzf+AA64PkAOOH7ADbi/AA04/0ANOT+ADXl/gA25v4AOOj+AA==",
        "encoding": "base64",
        "path": [
         "color_map",
         "data"
        ]
       },
       {
        "data": "AAD6QwAAAAAAAAAAAAB6QwAAAAAAAKBBAAAAAAAAIEEAAAAAAAAAAAAAIEAAAKA/AAAAAAAAAAAAAAAAAACAPw==",
        "encoding": "base64",
        "path": [
         "model_matrix",
         "data"
        ]
       },
       {
        "data": "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",
        "encoding": "base64",
        "path": [
         "voxels",
         "data"
        ]
       }
      ],
      "model_module": "k3d",
      "model_module_version": "2.11.0",
      "model_name": "ObjectModel",
      "state": {
       "_view_count": null,
       "_view_module": null,
       "_view_module_version": "",
       "_view_name": null,
       "colorLegend": false,
       "color_map": {
        "dtype": "uint32",
        "shape": [
         256
        ]
       },
       "compression_level": 0,
       "id": 140018356746848,
       "model_matrix": {
        "dtype": "float32",
        "shape": [
         4,
         4
        ]
       },
       "name": "Voxels #13",
       "opacity": 1,
       "outlines": false,
       "outlines_color": 0,
       "type": "Voxels",
       "visible": true,
       "voxels": {
        "dtype": "uint8",
        "shape": [
         1,
         8,
         200
        ]
       },
       "wireframe": false
      }
     },
     "b091c7c1f37341fcb1b484deb33dd39c": {
      "model_module": "@jupyter-widgets/base",
      "model_module_version": "1.2.0",
      "model_name": "LayoutModel",
      "state": {}
     },
     "b10edee870204259a3521b4050edcdd2": {
      "model_module": "@jupyter-widgets/base",
      "model_module_version": "1.2.0",
      "model_name": "LayoutModel",
      "state": {}
     },
     "b2260cf4b3d544b5826b83d8449e55ac": {
      "model_module": "k3d",
      "model_module_version": "2.11.0",
      "model_name": "PlotModel",
      "state": {
       "_backend_version": "2.11.0",
       "_dom_classes": [],
       "_view_count": null,
       "antialias": 3,
       "auto_rendering": true,
       "axes": [
        "x",
        "y",
        "z"
       ],
       "axes_helper": 1,
       "background_color": 16777215,
       "camera": [],
       "camera_animation": [],
       "camera_auto_fit": true,
       "camera_damping_factor": 0,
       "camera_fov": 60,
       "camera_mode": "trackball",
       "camera_no_pan": false,
       "camera_no_rotate": false,
       "camera_no_zoom": false,
       "camera_pan_speed": 0.3,
       "camera_rotate_speed": 1,
       "camera_zoom_speed": 1.2,
       "clipping_planes": [],
       "colorbar_object_id": -1,
       "colorbar_scientific": false,
       "fps": 25,
       "fps_meter": false,
       "grid": [
        -1,
        -1,
        -1,
        1,
        1,
        1
       ],
       "grid_auto_fit": true,
       "grid_color": 15132390,
       "grid_visible": true,
       "height": 512,
       "label_color": 4473924,
       "layout": "IPY_MODEL_f7efcdc754c14221a810ed3d60fad255",
       "lighting": 1.5,
       "manipulate_mode": "translate",
       "menu_visibility": true,
       "mode": "view",
       "name": null,
       "object_ids": [],
       "rendering_steps": 1,
       "screenshot": "",
       "screenshot_scale": 2,
       "snapshot": "",
       "snapshot_type": "full",
       "time": 0,
       "voxel_paint_color": 0
      }
     },
     "b2ca78773da14611865989635fe4013c": {
      "model_module": "@jupyter-widgets/controls",
      "model_module_version": "1.5.0",
      "model_name": "IntSliderModel",
      "state": {
       "description": "step",
       "layout": "IPY_MODEL_260a63b16d9a4e65b2786f283d3c7ee9",
       "max": 99,
       "style": "IPY_MODEL_7a55e15a690c4c018541ac8ca2613fcb",
       "value": 99
      }
     },
     "b934e1e05d4e41bbbb25e352487a83e6": {
      "buffers": [
       {
        "data": "TiIAAE8jAABRJAAAUyUAAFQlAABWJgAAWCcAAFkoAABbKAAAXSkAAF8qAABhKgAAYisAAGQsAABmLAAAaC0AAGouAABsLgAAbS8AAG8wAABwMAAAcDEAAHExAABxMgEAcTMFAHAzCABwNAwAcDUPAHA1EgBwNhQAcDcWAG83GABvOBoAbzkcAG86HgBvOiAAbjshAG48IwBuPCQAbj0mAG4+JwBuPykAbT8qAG1AKwBtQS0AbUEuAG1CLwBtQzEAbUMyAG1EMwBsRTQAbEU1AGxGNgBsRzgAbEg5AGxIOgBsSTsAbEo8AGxKPQBsSz4AbEw/AGxMQABsTUEAbE5CAGxOQwBsT0QAbFBFAGxRRgBsUUcAbFJIAGxTSQBsU0oAbFRLAGxVTABsVU0AbFZOAGxXTwBsV1AAbVhRAG1ZUgBtWlMAbVpUAG1bVQBtXFUAbVxWAG1dVwBtXlgAbl5ZAG5fWgBuYFsAbmFcAG5hXQBuYl4Ab2NeAG9jXwBvZGAAb2VhAG9lYgBwZmMAcGdkAHBoZQBwaGUAcGlmAHFqZwBxamgAcWtpAHFsagBybWsAcm1sAHJubAByb20Ac29uAHNwbwBzcXAAdHJxAHRycgB0c3IAdXRzAHV0dAB1dXUAdnZ2AHZ3dwB3d3cAd3h4AHd5eQB4enoAeHp7AHh7fAB4fH0AeHx+AHh9fgB4fn8AeH+AAHh/gQB5gIIAeYGDAHmChAB5goUAeYOGAHiEhwB4hYgAeIWJAHiGigB4h4sAeIiMAHiIjQB4iY4AeIqPAHiLkAB4i5EAeIySAHiNkgB4jpMAd46UAHePlQB3kJYAd5GXAHeSmAB3kpkAdpOaAHaUmwB2lZwAdpWdAHaWngB1l58AdZigAHWZoQB1maIAdJqjAHSbpAB0nKUAdJymAHOdpwBznqgAc5+pAHOgqgByoKsAcqGsAHKirQBxo64AcaSvAHGlsABwpbEAcKazAG+ntABvqLUAb6m2AG6ptwBuqrgAbau5AG2sugBtrbsAbK68AGyuvQBrr74Aa7C/AGqxwABqssEAabPCAGmzwwBotMQAaLXFAGe2xgBnt8cAZrjIAGW5yQBlucsAZLrMAGO7zQBjvM4AYr3PAGK+0ABhv9EAYMDSAF/A0wBfwdQAXsLVAF3D1gBcxNcAXMXZAFvG2gBax9sAWcjcAFjI3QBYyd4AV8rfAFbL4ABVzOEAVM3iAFPO5ABSz+UAUdDmAFDR5wBP0ugATtPpAEzT6gBL1OsAStXtAEnW7gBI1+8ARtjwAEXZ8QBE2vIAQtvzAEHc9QA/3fYAPt73ADzf+AA64PkAOOH7ADbi/AA04/0ANOT+ADXl/gA25v4AOOj+AA==",
        "encoding": "base64",
        "path": [
         "color_map",
         "data"
        ]
       },
       {
        "data": "AAD6QwAAAAAAAAAAAAB6QwAAAAAAAKBBAAAAAAAAIEEAAAAAAAAAAAAAIEAAAKA/AAAAAAAAAAAAAAAAAACAPw==",
        "encoding": "base64",
        "path": [
         "model_matrix",
         "data"
        ]
       },
       {
        "data": "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",
        "encoding": "base64",
        "path": [
         "voxels",
         "data"
        ]
       }
      ],
      "model_module": "k3d",
      "model_module_version": "2.11.0",
      "model_name": "ObjectModel",
      "state": {
       "_view_count": null,
       "_view_module": null,
       "_view_module_version": "",
       "_view_name": null,
       "colorLegend": false,
       "color_map": {
        "dtype": "uint32",
        "shape": [
         256
        ]
       },
       "compression_level": 0,
       "id": 140017009667040,
       "model_matrix": {
        "dtype": "float32",
        "shape": [
         4,
         4
        ]
       },
       "name": "Voxels #18",
       "opacity": 1,
       "outlines": false,
       "outlines_color": 0,
       "type": "Voxels",
       "visible": true,
       "voxels": {
        "dtype": "uint8",
        "shape": [
         1,
         8,
         200
        ]
       },
       "wireframe": false
      }
     },
     "bb7051dcf9df4bb1a60238de9b3aace8": {
      "buffers": [
       {
        "data": "TiIAAE8jAABRJAAAUyUAAFQlAABWJgAAWCcAAFkoAABbKAAAXSkAAF8qAABhKgAAYisAAGQsAABmLAAAaC0AAGouAABsLgAAbS8AAG8wAABwMAAAcDEAAHExAABxMgEAcTMFAHAzCABwNAwAcDUPAHA1EgBwNhQAcDcWAG83GABvOBoAbzkcAG86HgBvOiAAbjshAG48IwBuPCQAbj0mAG4+JwBuPykAbT8qAG1AKwBtQS0AbUEuAG1CLwBtQzEAbUMyAG1EMwBsRTQAbEU1AGxGNgBsRzgAbEg5AGxIOgBsSTsAbEo8AGxKPQBsSz4AbEw/AGxMQABsTUEAbE5CAGxOQwBsT0QAbFBFAGxRRgBsUUcAbFJIAGxTSQBsU0oAbFRLAGxVTABsVU0AbFZOAGxXTwBsV1AAbVhRAG1ZUgBtWlMAbVpUAG1bVQBtXFUAbVxWAG1dVwBtXlgAbl5ZAG5fWgBuYFsAbmFcAG5hXQBuYl4Ab2NeAG9jXwBvZGAAb2VhAG9lYgBwZmMAcGdkAHBoZQBwaGUAcGlmAHFqZwBxamgAcWtpAHFsagBybWsAcm1sAHJubAByb20Ac29uAHNwbwBzcXAAdHJxAHRycgB0c3IAdXRzAHV0dAB1dXUAdnZ2AHZ3dwB3d3cAd3h4AHd5eQB4enoAeHp7AHh7fAB4fH0AeHx+AHh9fgB4fn8AeH+AAHh/gQB5gIIAeYGDAHmChAB5goUAeYOGAHiEhwB4hYgAeIWJAHiGigB4h4sAeIiMAHiIjQB4iY4AeIqPAHiLkAB4i5EAeIySAHiNkgB4jpMAd46UAHePlQB3kJYAd5GXAHeSmAB3kpkAdpOaAHaUmwB2lZwAdpWdAHaWngB1l58AdZigAHWZoQB1maIAdJqjAHSbpAB0nKUAdJymAHOdpwBznqgAc5+pAHOgqgByoKsAcqGsAHKirQBxo64AcaSvAHGlsABwpbEAcKazAG+ntABvqLUAb6m2AG6ptwBuqrgAbau5AG2sugBtrbsAbK68AGyuvQBrr74Aa7C/AGqxwABqssEAabPCAGmzwwBotMQAaLXFAGe2xgBnt8cAZrjIAGW5yQBlucsAZLrMAGO7zQBjvM4AYr3PAGK+0ABhv9EAYMDSAF/A0wBfwdQAXsLVAF3D1gBcxNcAXMXZAFvG2gBax9sAWcjcAFjI3QBYyd4AV8rfAFbL4ABVzOEAVM3iAFPO5ABSz+UAUdDmAFDR5wBP0ugATtPpAEzT6gBL1OsAStXtAEnW7gBI1+8ARtjwAEXZ8QBE2vIAQtvzAEHc9QA/3fYAPt73ADzf+AA64PkAOOH7ADbi/AA04/0ANOT+ADXl/gA25v4AOOj+AA==",
        "encoding": "base64",
        "path": [
         "color_map",
         "data"
        ]
       },
       {
        "data": "AAD6QwAAAAAAAAAAAAB6QwAAAAAAAKBBAAAAAAAAIEEAAAAAAAAAAAAAIEAAAKA/AAAAAAAAAAAAAAAAAACAPw==",
        "encoding": "base64",
        "path": [
         "model_matrix",
         "data"
        ]
       },
       {
        "data": "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",
        "encoding": "base64",
        "path": [
         "voxels",
         "data"
        ]
       }
      ],
      "model_module": "k3d",
      "model_module_version": "2.11.0",
      "model_name": "ObjectModel",
      "state": {
       "_view_count": null,
       "_view_module": null,
       "_view_module_version": "",
       "_view_name": null,
       "colorLegend": false,
       "color_map": {
        "dtype": "uint32",
        "shape": [
         256
        ]
       },
       "compression_level": 0,
       "id": 140018356747040,
       "model_matrix": {
        "dtype": "float32",
        "shape": [
         4,
         4
        ]
       },
       "name": "Voxels #9",
       "opacity": 1,
       "outlines": false,
       "outlines_color": 0,
       "type": "Voxels",
       "visible": true,
       "voxels": {
        "dtype": "uint8",
        "shape": [
         1,
         8,
         200
        ]
       },
       "wireframe": false
      }
     },
     "bcec3cfe916b44be9ed01a346b78a56d": {
      "buffers": [
       {
        "data": "TiIAAE8jAABRJAAAUyUAAFQlAABWJgAAWCcAAFkoAABbKAAAXSkAAF8qAABhKgAAYisAAGQsAABmLAAAaC0AAGouAABsLgAAbS8AAG8wAABwMAAAcDEAAHExAABxMgEAcTMFAHAzCABwNAwAcDUPAHA1EgBwNhQAcDcWAG83GABvOBoAbzkcAG86HgBvOiAAbjshAG48IwBuPCQAbj0mAG4+JwBuPykAbT8qAG1AKwBtQS0AbUEuAG1CLwBtQzEAbUMyAG1EMwBsRTQAbEU1AGxGNgBsRzgAbEg5AGxIOgBsSTsAbEo8AGxKPQBsSz4AbEw/AGxMQABsTUEAbE5CAGxOQwBsT0QAbFBFAGxRRgBsUUcAbFJIAGxTSQBsU0oAbFRLAGxVTABsVU0AbFZOAGxXTwBsV1AAbVhRAG1ZUgBtWlMAbVpUAG1bVQBtXFUAbVxWAG1dVwBtXlgAbl5ZAG5fWgBuYFsAbmFcAG5hXQBuYl4Ab2NeAG9jXwBvZGAAb2VhAG9lYgBwZmMAcGdkAHBoZQBwaGUAcGlmAHFqZwBxamgAcWtpAHFsagBybWsAcm1sAHJubAByb20Ac29uAHNwbwBzcXAAdHJxAHRycgB0c3IAdXRzAHV0dAB1dXUAdnZ2AHZ3dwB3d3cAd3h4AHd5eQB4enoAeHp7AHh7fAB4fH0AeHx+AHh9fgB4fn8AeH+AAHh/gQB5gIIAeYGDAHmChAB5goUAeYOGAHiEhwB4hYgAeIWJAHiGigB4h4sAeIiMAHiIjQB4iY4AeIqPAHiLkAB4i5EAeIySAHiNkgB4jpMAd46UAHePlQB3kJYAd5GXAHeSmAB3kpkAdpOaAHaUmwB2lZwAdpWdAHaWngB1l58AdZigAHWZoQB1maIAdJqjAHSbpAB0nKUAdJymAHOdpwBznqgAc5+pAHOgqgByoKsAcqGsAHKirQBxo64AcaSvAHGlsABwpbEAcKazAG+ntABvqLUAb6m2AG6ptwBuqrgAbau5AG2sugBtrbsAbK68AGyuvQBrr74Aa7C/AGqxwABqssEAabPCAGmzwwBotMQAaLXFAGe2xgBnt8cAZrjIAGW5yQBlucsAZLrMAGO7zQBjvM4AYr3PAGK+0ABhv9EAYMDSAF/A0wBfwdQAXsLVAF3D1gBcxNcAXMXZAFvG2gBax9sAWcjcAFjI3QBYyd4AV8rfAFbL4ABVzOEAVM3iAFPO5ABSz+UAUdDmAFDR5wBP0ugATtPpAEzT6gBL1OsAStXtAEnW7gBI1+8ARtjwAEXZ8QBE2vIAQtvzAEHc9QA/3fYAPt73ADzf+AA64PkAOOH7ADbi/AA04/0ANOT+ADXl/gA25v4AOOj+AA==",
        "encoding": "base64",
        "path": [
         "color_map",
         "data"
        ]
       },
       {
        "data": "AAD6QwAAAAAAAAAAAAB6QwAAAAAAAKBBAAAAAAAAIEEAAAAAAAAAAAAAIEAAAKA/AAAAAAAAAAAAAAAAAACAPw==",
        "encoding": "base64",
        "path": [
         "model_matrix",
         "data"
        ]
       },
       {
        "data": "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",
        "encoding": "base64",
        "path": [
         "voxels",
         "data"
        ]
       }
      ],
      "model_module": "k3d",
      "model_module_version": "2.11.0",
      "model_name": "ObjectModel",
      "state": {
       "_view_count": null,
       "_view_module": null,
       "_view_module_version": "",
       "_view_name": null,
       "colorLegend": false,
       "color_map": {
        "dtype": "uint32",
        "shape": [
         256
        ]
       },
       "compression_level": 0,
       "id": 140017010857392,
       "model_matrix": {
        "dtype": "float32",
        "shape": [
         4,
         4
        ]
       },
       "name": "Voxels #11",
       "opacity": 1,
       "outlines": false,
       "outlines_color": 0,
       "type": "Voxels",
       "visible": true,
       "voxels": {
        "dtype": "uint8",
        "shape": [
         1,
         8,
         200
        ]
       },
       "wireframe": false
      }
     },
     "bdf08107412d430696a32e232362f0f6": {
      "buffers": [
       {
        "data": "TiIAAE8jAABRJAAAUyUAAFQlAABWJgAAWCcAAFkoAABbKAAAXSkAAF8qAABhKgAAYisAAGQsAABmLAAAaC0AAGouAABsLgAAbS8AAG8wAABwMAAAcDEAAHExAABxMgEAcTMFAHAzCABwNAwAcDUPAHA1EgBwNhQAcDcWAG83GABvOBoAbzkcAG86HgBvOiAAbjshAG48IwBuPCQAbj0mAG4+JwBuPykAbT8qAG1AKwBtQS0AbUEuAG1CLwBtQzEAbUMyAG1EMwBsRTQAbEU1AGxGNgBsRzgAbEg5AGxIOgBsSTsAbEo8AGxKPQBsSz4AbEw/AGxMQABsTUEAbE5CAGxOQwBsT0QAbFBFAGxRRgBsUUcAbFJIAGxTSQBsU0oAbFRLAGxVTABsVU0AbFZOAGxXTwBsV1AAbVhRAG1ZUgBtWlMAbVpUAG1bVQBtXFUAbVxWAG1dVwBtXlgAbl5ZAG5fWgBuYFsAbmFcAG5hXQBuYl4Ab2NeAG9jXwBvZGAAb2VhAG9lYgBwZmMAcGdkAHBoZQBwaGUAcGlmAHFqZwBxamgAcWtpAHFsagBybWsAcm1sAHJubAByb20Ac29uAHNwbwBzcXAAdHJxAHRycgB0c3IAdXRzAHV0dAB1dXUAdnZ2AHZ3dwB3d3cAd3h4AHd5eQB4enoAeHp7AHh7fAB4fH0AeHx+AHh9fgB4fn8AeH+AAHh/gQB5gIIAeYGDAHmChAB5goUAeYOGAHiEhwB4hYgAeIWJAHiGigB4h4sAeIiMAHiIjQB4iY4AeIqPAHiLkAB4i5EAeIySAHiNkgB4jpMAd46UAHePlQB3kJYAd5GXAHeSmAB3kpkAdpOaAHaUmwB2lZwAdpWdAHaWngB1l58AdZigAHWZoQB1maIAdJqjAHSbpAB0nKUAdJymAHOdpwBznqgAc5+pAHOgqgByoKsAcqGsAHKirQBxo64AcaSvAHGlsABwpbEAcKazAG+ntABvqLUAb6m2AG6ptwBuqrgAbau5AG2sugBtrbsAbK68AGyuvQBrr74Aa7C/AGqxwABqssEAabPCAGmzwwBotMQAaLXFAGe2xgBnt8cAZrjIAGW5yQBlucsAZLrMAGO7zQBjvM4AYr3PAGK+0ABhv9EAYMDSAF/A0wBfwdQAXsLVAF3D1gBcxNcAXMXZAFvG2gBax9sAWcjcAFjI3QBYyd4AV8rfAFbL4ABVzOEAVM3iAFPO5ABSz+UAUdDmAFDR5wBP0ugATtPpAEzT6gBL1OsAStXtAEnW7gBI1+8ARtjwAEXZ8QBE2vIAQtvzAEHc9QA/3fYAPt73ADzf+AA64PkAOOH7ADbi/AA04/0ANOT+ADXl/gA25v4AOOj+AA==",
        "encoding": "base64",
        "path": [
         "color_map",
         "data"
        ]
       },
       {
        "data": "AAD6QwAAAAAAAAAAAAB6QwAAAAAAAKBBAAAAAAAAIEEAAAAAAAAAAAAAIEAAAKA/AAAAAAAAAAAAAAAAAACAPw==",
        "encoding": "base64",
        "path": [
         "model_matrix",
         "data"
        ]
       },
       {
        "data": "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",
        "encoding": "base64",
        "path": [
         "voxels",
         "data"
        ]
       }
      ],
      "model_module": "k3d",
      "model_module_version": "2.11.0",
      "model_name": "ObjectModel",
      "state": {
       "_view_count": null,
       "_view_module": null,
       "_view_module_version": "",
       "_view_name": null,
       "colorLegend": false,
       "color_map": {
        "dtype": "uint32",
        "shape": [
         256
        ]
       },
       "compression_level": 0,
       "id": 140018357243856,
       "model_matrix": {
        "dtype": "float32",
        "shape": [
         4,
         4
        ]
       },
       "name": "Voxels #26",
       "opacity": 1,
       "outlines": false,
       "outlines_color": 0,
       "type": "Voxels",
       "visible": true,
       "voxels": {
        "dtype": "uint8",
        "shape": [
         1,
         8,
         200
        ]
       },
       "wireframe": false
      }
     },
     "beb4df25afed4e8f816ff274087c17ca": {
      "buffers": [
       {
        "data": "TiIAAE8jAABRJAAAUyUAAFQlAABWJgAAWCcAAFkoAABbKAAAXSkAAF8qAABhKgAAYisAAGQsAABmLAAAaC0AAGouAABsLgAAbS8AAG8wAABwMAAAcDEAAHExAABxMgEAcTMFAHAzCABwNAwAcDUPAHA1EgBwNhQAcDcWAG83GABvOBoAbzkcAG86HgBvOiAAbjshAG48IwBuPCQAbj0mAG4+JwBuPykAbT8qAG1AKwBtQS0AbUEuAG1CLwBtQzEAbUMyAG1EMwBsRTQAbEU1AGxGNgBsRzgAbEg5AGxIOgBsSTsAbEo8AGxKPQBsSz4AbEw/AGxMQABsTUEAbE5CAGxOQwBsT0QAbFBFAGxRRgBsUUcAbFJIAGxTSQBsU0oAbFRLAGxVTABsVU0AbFZOAGxXTwBsV1AAbVhRAG1ZUgBtWlMAbVpUAG1bVQBtXFUAbVxWAG1dVwBtXlgAbl5ZAG5fWgBuYFsAbmFcAG5hXQBuYl4Ab2NeAG9jXwBvZGAAb2VhAG9lYgBwZmMAcGdkAHBoZQBwaGUAcGlmAHFqZwBxamgAcWtpAHFsagBybWsAcm1sAHJubAByb20Ac29uAHNwbwBzcXAAdHJxAHRycgB0c3IAdXRzAHV0dAB1dXUAdnZ2AHZ3dwB3d3cAd3h4AHd5eQB4enoAeHp7AHh7fAB4fH0AeHx+AHh9fgB4fn8AeH+AAHh/gQB5gIIAeYGDAHmChAB5goUAeYOGAHiEhwB4hYgAeIWJAHiGigB4h4sAeIiMAHiIjQB4iY4AeIqPAHiLkAB4i5EAeIySAHiNkgB4jpMAd46UAHePlQB3kJYAd5GXAHeSmAB3kpkAdpOaAHaUmwB2lZwAdpWdAHaWngB1l58AdZigAHWZoQB1maIAdJqjAHSbpAB0nKUAdJymAHOdpwBznqgAc5+pAHOgqgByoKsAcqGsAHKirQBxo64AcaSvAHGlsABwpbEAcKazAG+ntABvqLUAb6m2AG6ptwBuqrgAbau5AG2sugBtrbsAbK68AGyuvQBrr74Aa7C/AGqxwABqssEAabPCAGmzwwBotMQAaLXFAGe2xgBnt8cAZrjIAGW5yQBlucsAZLrMAGO7zQBjvM4AYr3PAGK+0ABhv9EAYMDSAF/A0wBfwdQAXsLVAF3D1gBcxNcAXMXZAFvG2gBax9sAWcjcAFjI3QBYyd4AV8rfAFbL4ABVzOEAVM3iAFPO5ABSz+UAUdDmAFDR5wBP0ugATtPpAEzT6gBL1OsAStXtAEnW7gBI1+8ARtjwAEXZ8QBE2vIAQtvzAEHc9QA/3fYAPt73ADzf+AA64PkAOOH7ADbi/AA04/0ANOT+ADXl/gA25v4AOOj+AA==",
        "encoding": "base64",
        "path": [
         "color_map",
         "data"
        ]
       },
       {
        "data": "AAD6QwAAAAAAAAAAAAB6QwAAAAAAAKBBAAAAAAAAIEEAAAAAAAAAAAAAIEAAAKA/AAAAAAAAAAAAAAAAAACAPw==",
        "encoding": "base64",
        "path": [
         "model_matrix",
         "data"
        ]
       },
       {
        "data": "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",
        "encoding": "base64",
        "path": [
         "voxels",
         "data"
        ]
       }
      ],
      "model_module": "k3d",
      "model_module_version": "2.11.0",
      "model_name": "ObjectModel",
      "state": {
       "_view_count": null,
       "_view_module": null,
       "_view_module_version": "",
       "_view_name": null,
       "colorLegend": false,
       "color_map": {
        "dtype": "uint32",
        "shape": [
         256
        ]
       },
       "compression_level": 0,
       "id": 140018356885872,
       "model_matrix": {
        "dtype": "float32",
        "shape": [
         4,
         4
        ]
       },
       "name": "Voxels #6",
       "opacity": 1,
       "outlines": false,
       "outlines_color": 0,
       "type": "Voxels",
       "visible": true,
       "voxels": {
        "dtype": "uint8",
        "shape": [
         1,
         8,
         200
        ]
       },
       "wireframe": false
      }
     },
     "c0f86422eb404a4dbaf8e505f263eb0c": {
      "buffers": [
       {
        "data": "TiIAAE8jAABRJAAAUyUAAFQlAABWJgAAWCcAAFkoAABbKAAAXSkAAF8qAABhKgAAYisAAGQsAABmLAAAaC0AAGouAABsLgAAbS8AAG8wAABwMAAAcDEAAHExAABxMgEAcTMFAHAzCABwNAwAcDUPAHA1EgBwNhQAcDcWAG83GABvOBoAbzkcAG86HgBvOiAAbjshAG48IwBuPCQAbj0mAG4+JwBuPykAbT8qAG1AKwBtQS0AbUEuAG1CLwBtQzEAbUMyAG1EMwBsRTQAbEU1AGxGNgBsRzgAbEg5AGxIOgBsSTsAbEo8AGxKPQBsSz4AbEw/AGxMQABsTUEAbE5CAGxOQwBsT0QAbFBFAGxRRgBsUUcAbFJIAGxTSQBsU0oAbFRLAGxVTABsVU0AbFZOAGxXTwBsV1AAbVhRAG1ZUgBtWlMAbVpUAG1bVQBtXFUAbVxWAG1dVwBtXlgAbl5ZAG5fWgBuYFsAbmFcAG5hXQBuYl4Ab2NeAG9jXwBvZGAAb2VhAG9lYgBwZmMAcGdkAHBoZQBwaGUAcGlmAHFqZwBxamgAcWtpAHFsagBybWsAcm1sAHJubAByb20Ac29uAHNwbwBzcXAAdHJxAHRycgB0c3IAdXRzAHV0dAB1dXUAdnZ2AHZ3dwB3d3cAd3h4AHd5eQB4enoAeHp7AHh7fAB4fH0AeHx+AHh9fgB4fn8AeH+AAHh/gQB5gIIAeYGDAHmChAB5goUAeYOGAHiEhwB4hYgAeIWJAHiGigB4h4sAeIiMAHiIjQB4iY4AeIqPAHiLkAB4i5EAeIySAHiNkgB4jpMAd46UAHePlQB3kJYAd5GXAHeSmAB3kpkAdpOaAHaUmwB2lZwAdpWdAHaWngB1l58AdZigAHWZoQB1maIAdJqjAHSbpAB0nKUAdJymAHOdpwBznqgAc5+pAHOgqgByoKsAcqGsAHKirQBxo64AcaSvAHGlsABwpbEAcKazAG+ntABvqLUAb6m2AG6ptwBuqrgAbau5AG2sugBtrbsAbK68AGyuvQBrr74Aa7C/AGqxwABqssEAabPCAGmzwwBotMQAaLXFAGe2xgBnt8cAZrjIAGW5yQBlucsAZLrMAGO7zQBjvM4AYr3PAGK+0ABhv9EAYMDSAF/A0wBfwdQAXsLVAF3D1gBcxNcAXMXZAFvG2gBax9sAWcjcAFjI3QBYyd4AV8rfAFbL4ABVzOEAVM3iAFPO5ABSz+UAUdDmAFDR5wBP0ugATtPpAEzT6gBL1OsAStXtAEnW7gBI1+8ARtjwAEXZ8QBE2vIAQtvzAEHc9QA/3fYAPt73ADzf+AA64PkAOOH7ADbi/AA04/0ANOT+ADXl/gA25v4AOOj+AA==",
        "encoding": "base64",
        "path": [
         "color_map",
         "data"
        ]
       },
       {
        "data": "AAD6QwAAAAAAAAAAAAB6QwAAAAAAAKBBAAAAAAAAIEEAAAAAAAAAAAAAIEAAAKA/AAAAAAAAAAAAAAAAAACAPw==",
        "encoding": "base64",
        "path": [
         "model_matrix",
         "data"
        ]
       },
       {
        "data": "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",
        "encoding": "base64",
        "path": [
         "voxels",
         "data"
        ]
       }
      ],
      "model_module": "k3d",
      "model_module_version": "2.11.0",
      "model_name": "ObjectModel",
      "state": {
       "_view_count": null,
       "_view_module": null,
       "_view_module_version": "",
       "_view_name": null,
       "colorLegend": false,
       "color_map": {
        "dtype": "uint32",
        "shape": [
         256
        ]
       },
       "compression_level": 0,
       "id": 140018357240112,
       "model_matrix": {
        "dtype": "float32",
        "shape": [
         4,
         4
        ]
       },
       "name": "Voxels #23",
       "opacity": 1,
       "outlines": false,
       "outlines_color": 0,
       "type": "Voxels",
       "visible": true,
       "voxels": {
        "dtype": "uint8",
        "shape": [
         1,
         8,
         200
        ]
       },
       "wireframe": false
      }
     },
     "c1b51e72a1364d72921e8869f60ec07f": {
      "model_module": "@jupyter-widgets/output",
      "model_module_version": "1.0.0",
      "model_name": "OutputModel",
      "state": {
       "layout": "IPY_MODEL_12638d22662c4808888801b0d0974576"
      }
     },
     "c668c51f13a44d488525b1b37611a64c": {
      "buffers": [
       {
        "data": "TiIAAE8jAABRJAAAUyUAAFQlAABWJgAAWCcAAFkoAABbKAAAXSkAAF8qAABhKgAAYisAAGQsAABmLAAAaC0AAGouAABsLgAAbS8AAG8wAABwMAAAcDEAAHExAABxMgEAcTMFAHAzCABwNAwAcDUPAHA1EgBwNhQAcDcWAG83GABvOBoAbzkcAG86HgBvOiAAbjshAG48IwBuPCQAbj0mAG4+JwBuPykAbT8qAG1AKwBtQS0AbUEuAG1CLwBtQzEAbUMyAG1EMwBsRTQAbEU1AGxGNgBsRzgAbEg5AGxIOgBsSTsAbEo8AGxKPQBsSz4AbEw/AGxMQABsTUEAbE5CAGxOQwBsT0QAbFBFAGxRRgBsUUcAbFJIAGxTSQBsU0oAbFRLAGxVTABsVU0AbFZOAGxXTwBsV1AAbVhRAG1ZUgBtWlMAbVpUAG1bVQBtXFUAbVxWAG1dVwBtXlgAbl5ZAG5fWgBuYFsAbmFcAG5hXQBuYl4Ab2NeAG9jXwBvZGAAb2VhAG9lYgBwZmMAcGdkAHBoZQBwaGUAcGlmAHFqZwBxamgAcWtpAHFsagBybWsAcm1sAHJubAByb20Ac29uAHNwbwBzcXAAdHJxAHRycgB0c3IAdXRzAHV0dAB1dXUAdnZ2AHZ3dwB3d3cAd3h4AHd5eQB4enoAeHp7AHh7fAB4fH0AeHx+AHh9fgB4fn8AeH+AAHh/gQB5gIIAeYGDAHmChAB5goUAeYOGAHiEhwB4hYgAeIWJAHiGigB4h4sAeIiMAHiIjQB4iY4AeIqPAHiLkAB4i5EAeIySAHiNkgB4jpMAd46UAHePlQB3kJYAd5GXAHeSmAB3kpkAdpOaAHaUmwB2lZwAdpWdAHaWngB1l58AdZigAHWZoQB1maIAdJqjAHSbpAB0nKUAdJymAHOdpwBznqgAc5+pAHOgqgByoKsAcqGsAHKirQBxo64AcaSvAHGlsABwpbEAcKazAG+ntABvqLUAb6m2AG6ptwBuqrgAbau5AG2sugBtrbsAbK68AGyuvQBrr74Aa7C/AGqxwABqssEAabPCAGmzwwBotMQAaLXFAGe2xgBnt8cAZrjIAGW5yQBlucsAZLrMAGO7zQBjvM4AYr3PAGK+0ABhv9EAYMDSAF/A0wBfwdQAXsLVAF3D1gBcxNcAXMXZAFvG2gBax9sAWcjcAFjI3QBYyd4AV8rfAFbL4ABVzOEAVM3iAFPO5ABSz+UAUdDmAFDR5wBP0ugATtPpAEzT6gBL1OsAStXtAEnW7gBI1+8ARtjwAEXZ8QBE2vIAQtvzAEHc9QA/3fYAPt73ADzf+AA64PkAOOH7ADbi/AA04/0ANOT+ADXl/gA25v4AOOj+AA==",
        "encoding": "base64",
        "path": [
         "color_map",
         "data"
        ]
       },
       {
        "data": "AAD6QwAAAAAAAAAAAAB6QwAAAAAAAKBBAAAAAAAAIEEAAAAAAAAAAAAAIEAAAKA/AAAAAAAAAAAAAAAAAACAPw==",
        "encoding": "base64",
        "path": [
         "model_matrix",
         "data"
        ]
       },
       {
        "data": "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",
        "encoding": "base64",
        "path": [
         "voxels",
         "data"
        ]
       }
      ],
      "model_module": "k3d",
      "model_module_version": "2.11.0",
      "model_name": "ObjectModel",
      "state": {
       "_view_count": null,
       "_view_module": null,
       "_view_module_version": "",
       "_view_name": null,
       "colorLegend": false,
       "color_map": {
        "dtype": "uint32",
        "shape": [
         256
        ]
       },
       "compression_level": 0,
       "id": 140018356886544,
       "model_matrix": {
        "dtype": "float32",
        "shape": [
         4,
         4
        ]
       },
       "name": "Voxels #17",
       "opacity": 1,
       "outlines": false,
       "outlines_color": 0,
       "type": "Voxels",
       "visible": true,
       "voxels": {
        "dtype": "uint8",
        "shape": [
         1,
         8,
         200
        ]
       },
       "wireframe": false
      }
     },
     "c8305ecffc0d4aa5b4b6b4d878d0ee07": {
      "buffers": [
       {
        "data": "TiIAAE8jAABRJAAAUyUAAFQlAABWJgAAWCcAAFkoAABbKAAAXSkAAF8qAABhKgAAYisAAGQsAABmLAAAaC0AAGouAABsLgAAbS8AAG8wAABwMAAAcDEAAHExAABxMgEAcTMFAHAzCABwNAwAcDUPAHA1EgBwNhQAcDcWAG83GABvOBoAbzkcAG86HgBvOiAAbjshAG48IwBuPCQAbj0mAG4+JwBuPykAbT8qAG1AKwBtQS0AbUEuAG1CLwBtQzEAbUMyAG1EMwBsRTQAbEU1AGxGNgBsRzgAbEg5AGxIOgBsSTsAbEo8AGxKPQBsSz4AbEw/AGxMQABsTUEAbE5CAGxOQwBsT0QAbFBFAGxRRgBsUUcAbFJIAGxTSQBsU0oAbFRLAGxVTABsVU0AbFZOAGxXTwBsV1AAbVhRAG1ZUgBtWlMAbVpUAG1bVQBtXFUAbVxWAG1dVwBtXlgAbl5ZAG5fWgBuYFsAbmFcAG5hXQBuYl4Ab2NeAG9jXwBvZGAAb2VhAG9lYgBwZmMAcGdkAHBoZQBwaGUAcGlmAHFqZwBxamgAcWtpAHFsagBybWsAcm1sAHJubAByb20Ac29uAHNwbwBzcXAAdHJxAHRycgB0c3IAdXRzAHV0dAB1dXUAdnZ2AHZ3dwB3d3cAd3h4AHd5eQB4enoAeHp7AHh7fAB4fH0AeHx+AHh9fgB4fn8AeH+AAHh/gQB5gIIAeYGDAHmChAB5goUAeYOGAHiEhwB4hYgAeIWJAHiGigB4h4sAeIiMAHiIjQB4iY4AeIqPAHiLkAB4i5EAeIySAHiNkgB4jpMAd46UAHePlQB3kJYAd5GXAHeSmAB3kpkAdpOaAHaUmwB2lZwAdpWdAHaWngB1l58AdZigAHWZoQB1maIAdJqjAHSbpAB0nKUAdJymAHOdpwBznqgAc5+pAHOgqgByoKsAcqGsAHKirQBxo64AcaSvAHGlsABwpbEAcKazAG+ntABvqLUAb6m2AG6ptwBuqrgAbau5AG2sugBtrbsAbK68AGyuvQBrr74Aa7C/AGqxwABqssEAabPCAGmzwwBotMQAaLXFAGe2xgBnt8cAZrjIAGW5yQBlucsAZLrMAGO7zQBjvM4AYr3PAGK+0ABhv9EAYMDSAF/A0wBfwdQAXsLVAF3D1gBcxNcAXMXZAFvG2gBax9sAWcjcAFjI3QBYyd4AV8rfAFbL4ABVzOEAVM3iAFPO5ABSz+UAUdDmAFDR5wBP0ugATtPpAEzT6gBL1OsAStXtAEnW7gBI1+8ARtjwAEXZ8QBE2vIAQtvzAEHc9QA/3fYAPt73ADzf+AA64PkAOOH7ADbi/AA04/0ANOT+ADXl/gA25v4AOOj+AA==",
        "encoding": "base64",
        "path": [
         "color_map",
         "data"
        ]
       },
       {
        "data": "AAD6QwAAAAAAAAAAAAB6QwAAAAAAAKBBAAAAAAAAIEEAAAAAAAAAAAAAIEAAAKA/AAAAAAAAAAAAAAAAAACAPw==",
        "encoding": "base64",
        "path": [
         "model_matrix",
         "data"
        ]
       },
       {
        "data": "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",
        "encoding": "base64",
        "path": [
         "voxels",
         "data"
        ]
       }
      ],
      "model_module": "k3d",
      "model_module_version": "2.11.0",
      "model_name": "ObjectModel",
      "state": {
       "_view_count": null,
       "_view_module": null,
       "_view_module_version": "",
       "_view_name": null,
       "colorLegend": false,
       "color_map": {
        "dtype": "uint32",
        "shape": [
         256
        ]
       },
       "compression_level": 0,
       "id": 140017009666176,
       "model_matrix": {
        "dtype": "float32",
        "shape": [
         4,
         4
        ]
       },
       "name": "Voxels #22",
       "opacity": 1,
       "outlines": false,
       "outlines_color": 0,
       "type": "Voxels",
       "visible": true,
       "voxels": {
        "dtype": "uint8",
        "shape": [
         1,
         8,
         200
        ]
       },
       "wireframe": false
      }
     },
     "ca4f0f24597641c3b049c15a6ef2c85b": {
      "model_module": "@jupyter-widgets/base",
      "model_module_version": "1.2.0",
      "model_name": "LayoutModel",
      "state": {}
     },
     "cce9884e45434e74810f108d6875d057": {
      "buffers": [
       {
        "data": "TiIAAE8jAABRJAAAUyUAAFQlAABWJgAAWCcAAFkoAABbKAAAXSkAAF8qAABhKgAAYisAAGQsAABmLAAAaC0AAGouAABsLgAAbS8AAG8wAABwMAAAcDEAAHExAABxMgEAcTMFAHAzCABwNAwAcDUPAHA1EgBwNhQAcDcWAG83GABvOBoAbzkcAG86HgBvOiAAbjshAG48IwBuPCQAbj0mAG4+JwBuPykAbT8qAG1AKwBtQS0AbUEuAG1CLwBtQzEAbUMyAG1EMwBsRTQAbEU1AGxGNgBsRzgAbEg5AGxIOgBsSTsAbEo8AGxKPQBsSz4AbEw/AGxMQABsTUEAbE5CAGxOQwBsT0QAbFBFAGxRRgBsUUcAbFJIAGxTSQBsU0oAbFRLAGxVTABsVU0AbFZOAGxXTwBsV1AAbVhRAG1ZUgBtWlMAbVpUAG1bVQBtXFUAbVxWAG1dVwBtXlgAbl5ZAG5fWgBuYFsAbmFcAG5hXQBuYl4Ab2NeAG9jXwBvZGAAb2VhAG9lYgBwZmMAcGdkAHBoZQBwaGUAcGlmAHFqZwBxamgAcWtpAHFsagBybWsAcm1sAHJubAByb20Ac29uAHNwbwBzcXAAdHJxAHRycgB0c3IAdXRzAHV0dAB1dXUAdnZ2AHZ3dwB3d3cAd3h4AHd5eQB4enoAeHp7AHh7fAB4fH0AeHx+AHh9fgB4fn8AeH+AAHh/gQB5gIIAeYGDAHmChAB5goUAeYOGAHiEhwB4hYgAeIWJAHiGigB4h4sAeIiMAHiIjQB4iY4AeIqPAHiLkAB4i5EAeIySAHiNkgB4jpMAd46UAHePlQB3kJYAd5GXAHeSmAB3kpkAdpOaAHaUmwB2lZwAdpWdAHaWngB1l58AdZigAHWZoQB1maIAdJqjAHSbpAB0nKUAdJymAHOdpwBznqgAc5+pAHOgqgByoKsAcqGsAHKirQBxo64AcaSvAHGlsABwpbEAcKazAG+ntABvqLUAb6m2AG6ptwBuqrgAbau5AG2sugBtrbsAbK68AGyuvQBrr74Aa7C/AGqxwABqssEAabPCAGmzwwBotMQAaLXFAGe2xgBnt8cAZrjIAGW5yQBlucsAZLrMAGO7zQBjvM4AYr3PAGK+0ABhv9EAYMDSAF/A0wBfwdQAXsLVAF3D1gBcxNcAXMXZAFvG2gBax9sAWcjcAFjI3QBYyd4AV8rfAFbL4ABVzOEAVM3iAFPO5ABSz+UAUdDmAFDR5wBP0ugATtPpAEzT6gBL1OsAStXtAEnW7gBI1+8ARtjwAEXZ8QBE2vIAQtvzAEHc9QA/3fYAPt73ADzf+AA64PkAOOH7ADbi/AA04/0ANOT+ADXl/gA25v4AOOj+AA==",
        "encoding": "base64",
        "path": [
         "color_map",
         "data"
        ]
       },
       {
        "data": "AAD6QwAAAAAAAAAAAAB6QwAAAAAAAKBBAAAAAAAAIEEAAAAAAAAAAAAAIEAAAKA/AAAAAAAAAAAAAAAAAACAPw==",
        "encoding": "base64",
        "path": [
         "model_matrix",
         "data"
        ]
       },
       {
        "data": "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",
        "encoding": "base64",
        "path": [
         "voxels",
         "data"
        ]
       }
      ],
      "model_module": "k3d",
      "model_module_version": "2.11.0",
      "model_name": "ObjectModel",
      "state": {
       "_view_count": null,
       "_view_module": null,
       "_view_module_version": "",
       "_view_name": null,
       "colorLegend": false,
       "color_map": {
        "dtype": "uint32",
        "shape": [
         256
        ]
       },
       "compression_level": 0,
       "id": 140018356887504,
       "model_matrix": {
        "dtype": "float32",
        "shape": [
         4,
         4
        ]
       },
       "name": "Voxels #16",
       "opacity": 1,
       "outlines": false,
       "outlines_color": 0,
       "type": "Voxels",
       "visible": true,
       "voxels": {
        "dtype": "uint8",
        "shape": [
         1,
         8,
         200
        ]
       },
       "wireframe": false
      }
     },
     "d1e12b13c6a642f9b6024efece251dfa": {
      "model_module": "@jupyter-widgets/output",
      "model_module_version": "1.0.0",
      "model_name": "OutputModel",
      "state": {
       "layout": "IPY_MODEL_aca63de584054773bfb6768074311d8a",
       "outputs": [
        {
         "data": {
          "application/vnd.jupyter.widget-view+json": {
           "model_id": "",
           "version_major": 2,
           "version_minor": 0
          },
          "text/plain": "Plot(antialias=3, axes=['x', 'y', 'z'], axes_helper=1.0, background_color=16777215, camera_animation=[], camer…"
         },
         "metadata": {},
         "output_type": "display_data"
        }
       ]
      }
     },
     "d2223db3359c4383ab0267313857fb84": {
      "buffers": [
       {
        "data": "TiIAAE8jAABRJAAAUyUAAFQlAABWJgAAWCcAAFkoAABbKAAAXSkAAF8qAABhKgAAYisAAGQsAABmLAAAaC0AAGouAABsLgAAbS8AAG8wAABwMAAAcDEAAHExAABxMgEAcTMFAHAzCABwNAwAcDUPAHA1EgBwNhQAcDcWAG83GABvOBoAbzkcAG86HgBvOiAAbjshAG48IwBuPCQAbj0mAG4+JwBuPykAbT8qAG1AKwBtQS0AbUEuAG1CLwBtQzEAbUMyAG1EMwBsRTQAbEU1AGxGNgBsRzgAbEg5AGxIOgBsSTsAbEo8AGxKPQBsSz4AbEw/AGxMQABsTUEAbE5CAGxOQwBsT0QAbFBFAGxRRgBsUUcAbFJIAGxTSQBsU0oAbFRLAGxVTABsVU0AbFZOAGxXTwBsV1AAbVhRAG1ZUgBtWlMAbVpUAG1bVQBtXFUAbVxWAG1dVwBtXlgAbl5ZAG5fWgBuYFsAbmFcAG5hXQBuYl4Ab2NeAG9jXwBvZGAAb2VhAG9lYgBwZmMAcGdkAHBoZQBwaGUAcGlmAHFqZwBxamgAcWtpAHFsagBybWsAcm1sAHJubAByb20Ac29uAHNwbwBzcXAAdHJxAHRycgB0c3IAdXRzAHV0dAB1dXUAdnZ2AHZ3dwB3d3cAd3h4AHd5eQB4enoAeHp7AHh7fAB4fH0AeHx+AHh9fgB4fn8AeH+AAHh/gQB5gIIAeYGDAHmChAB5goUAeYOGAHiEhwB4hYgAeIWJAHiGigB4h4sAeIiMAHiIjQB4iY4AeIqPAHiLkAB4i5EAeIySAHiNkgB4jpMAd46UAHePlQB3kJYAd5GXAHeSmAB3kpkAdpOaAHaUmwB2lZwAdpWdAHaWngB1l58AdZigAHWZoQB1maIAdJqjAHSbpAB0nKUAdJymAHOdpwBznqgAc5+pAHOgqgByoKsAcqGsAHKirQBxo64AcaSvAHGlsABwpbEAcKazAG+ntABvqLUAb6m2AG6ptwBuqrgAbau5AG2sugBtrbsAbK68AGyuvQBrr74Aa7C/AGqxwABqssEAabPCAGmzwwBotMQAaLXFAGe2xgBnt8cAZrjIAGW5yQBlucsAZLrMAGO7zQBjvM4AYr3PAGK+0ABhv9EAYMDSAF/A0wBfwdQAXsLVAF3D1gBcxNcAXMXZAFvG2gBax9sAWcjcAFjI3QBYyd4AV8rfAFbL4ABVzOEAVM3iAFPO5ABSz+UAUdDmAFDR5wBP0ugATtPpAEzT6gBL1OsAStXtAEnW7gBI1+8ARtjwAEXZ8QBE2vIAQtvzAEHc9QA/3fYAPt73ADzf+AA64PkAOOH7ADbi/AA04/0ANOT+ADXl/gA25v4AOOj+AA==",
        "encoding": "base64",
        "path": [
         "color_map",
         "data"
        ]
       },
       {
        "data": "AAD6QwAAAAAAAAAAAAB6QwAAAAAAAKBBAAAAAAAAIEEAAAAAAAAAAAAAIEAAAKA/AAAAAAAAAAAAAAAAAACAPw==",
        "encoding": "base64",
        "path": [
         "model_matrix",
         "data"
        ]
       },
       {
        "data": "//////////8BAQEBAQEBAf///////////////////////////////////////////////////////////////////////////////////////////////////////////////////////////////////////////////////////////////////////////////////////////////////////////////////////////////////////////////////////////////wEBAQEBAQEB////////////////////////////////////////////////////////////////////////////////////////////////////////////////////////////////////////////////////////////////////////////////////////////////////////////////////////////////////////////////////////////////AQEBAQEBAQH///////////////////////////////////////////////////////////////////////////////////////////////////////////////////////////////////////////////////////////////////////////////////////////////////////////////////////////////////////////////////////////////8BAQEBAQEBAf///////////////////////////////////////////////////////////////////////////////////////////////////////////////////////////////////////////////////////////////////////////////////////////////////////////////////////////////////////////////////////////////wEBAQEBAQEB////////////////////////////////////////////////////////////////////////////////////////////////////////////////////////////////////////////////////////////////////////////////////////////////////////////////////////////////////////////////////////////////AQEBAQEBAQH///////////////////////////////////////////////////////////////////////////////////////////////////////////////////////////////////////////////////////////////////////////////////////////////////////////////////////////////////////////////////////////////8BAQEBAQEBAf///////////////////////////////////////////////////////////////////////////////////////////////////////////////////////////////////////////////////////////////////////////////////////////////////////////////////////////////////////////////////////////////wEBAQEBAQEB/////////////////////////////////////////////////////////////////////////////////////////////////////////////////////////////////////////////////////////////////////////////////////////////////////////////////////////////////////////////////////w==",
        "encoding": "base64",
        "path": [
         "voxels",
         "data"
        ]
       }
      ],
      "model_module": "k3d",
      "model_module_version": "2.11.0",
      "model_name": "ObjectModel",
      "state": {
       "_view_count": null,
       "_view_module": null,
       "_view_module_version": "",
       "_view_name": null,
       "colorLegend": false,
       "color_map": {
        "dtype": "uint32",
        "shape": [
         256
        ]
       },
       "compression_level": 0,
       "id": 140017010750464,
       "model_matrix": {
        "dtype": "float32",
        "shape": [
         4,
         4
        ]
       },
       "name": "Voxels #1",
       "opacity": 1,
       "outlines": false,
       "outlines_color": 0,
       "type": "Voxels",
       "visible": true,
       "voxels": {
        "dtype": "uint8",
        "shape": [
         1,
         8,
         200
        ]
       },
       "wireframe": false
      }
     },
     "d3323533ea7542cc93a590ef23aec134": {
      "model_module": "@jupyter-widgets/base",
      "model_module_version": "1.2.0",
      "model_name": "LayoutModel",
      "state": {}
     },
     "d6411f7423854ec5a0dc348c15b0132a": {
      "buffers": [
       {
        "data": "TiIAAE8jAABRJAAAUyUAAFQlAABWJgAAWCcAAFkoAABbKAAAXSkAAF8qAABhKgAAYisAAGQsAABmLAAAaC0AAGouAABsLgAAbS8AAG8wAABwMAAAcDEAAHExAABxMgEAcTMFAHAzCABwNAwAcDUPAHA1EgBwNhQAcDcWAG83GABvOBoAbzkcAG86HgBvOiAAbjshAG48IwBuPCQAbj0mAG4+JwBuPykAbT8qAG1AKwBtQS0AbUEuAG1CLwBtQzEAbUMyAG1EMwBsRTQAbEU1AGxGNgBsRzgAbEg5AGxIOgBsSTsAbEo8AGxKPQBsSz4AbEw/AGxMQABsTUEAbE5CAGxOQwBsT0QAbFBFAGxRRgBsUUcAbFJIAGxTSQBsU0oAbFRLAGxVTABsVU0AbFZOAGxXTwBsV1AAbVhRAG1ZUgBtWlMAbVpUAG1bVQBtXFUAbVxWAG1dVwBtXlgAbl5ZAG5fWgBuYFsAbmFcAG5hXQBuYl4Ab2NeAG9jXwBvZGAAb2VhAG9lYgBwZmMAcGdkAHBoZQBwaGUAcGlmAHFqZwBxamgAcWtpAHFsagBybWsAcm1sAHJubAByb20Ac29uAHNwbwBzcXAAdHJxAHRycgB0c3IAdXRzAHV0dAB1dXUAdnZ2AHZ3dwB3d3cAd3h4AHd5eQB4enoAeHp7AHh7fAB4fH0AeHx+AHh9fgB4fn8AeH+AAHh/gQB5gIIAeYGDAHmChAB5goUAeYOGAHiEhwB4hYgAeIWJAHiGigB4h4sAeIiMAHiIjQB4iY4AeIqPAHiLkAB4i5EAeIySAHiNkgB4jpMAd46UAHePlQB3kJYAd5GXAHeSmAB3kpkAdpOaAHaUmwB2lZwAdpWdAHaWngB1l58AdZigAHWZoQB1maIAdJqjAHSbpAB0nKUAdJymAHOdpwBznqgAc5+pAHOgqgByoKsAcqGsAHKirQBxo64AcaSvAHGlsABwpbEAcKazAG+ntABvqLUAb6m2AG6ptwBuqrgAbau5AG2sugBtrbsAbK68AGyuvQBrr74Aa7C/AGqxwABqssEAabPCAGmzwwBotMQAaLXFAGe2xgBnt8cAZrjIAGW5yQBlucsAZLrMAGO7zQBjvM4AYr3PAGK+0ABhv9EAYMDSAF/A0wBfwdQAXsLVAF3D1gBcxNcAXMXZAFvG2gBax9sAWcjcAFjI3QBYyd4AV8rfAFbL4ABVzOEAVM3iAFPO5ABSz+UAUdDmAFDR5wBP0ugATtPpAEzT6gBL1OsAStXtAEnW7gBI1+8ARtjwAEXZ8QBE2vIAQtvzAEHc9QA/3fYAPt73ADzf+AA64PkAOOH7ADbi/AA04/0ANOT+ADXl/gA25v4AOOj+AA==",
        "encoding": "base64",
        "path": [
         "color_map",
         "data"
        ]
       },
       {
        "data": "AAD6QwAAAAAAAAAAAAB6QwAAAAAAAKBBAAAAAAAAIEEAAAAAAAAAAAAAIEAAAKA/AAAAAAAAAAAAAAAAAACAPw==",
        "encoding": "base64",
        "path": [
         "model_matrix",
         "data"
        ]
       },
       {
        "data": "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",
        "encoding": "base64",
        "path": [
         "voxels",
         "data"
        ]
       }
      ],
      "model_module": "k3d",
      "model_module_version": "2.11.0",
      "model_name": "ObjectModel",
      "state": {
       "_view_count": null,
       "_view_module": null,
       "_view_module_version": "",
       "_view_name": null,
       "colorLegend": false,
       "color_map": {
        "dtype": "uint32",
        "shape": [
         256
        ]
       },
       "compression_level": 0,
       "id": 140018357241168,
       "model_matrix": {
        "dtype": "float32",
        "shape": [
         4,
         4
        ]
       },
       "name": "Voxels #28",
       "opacity": 1,
       "outlines": false,
       "outlines_color": 0,
       "type": "Voxels",
       "visible": true,
       "voxels": {
        "dtype": "uint8",
        "shape": [
         1,
         8,
         200
        ]
       },
       "wireframe": false
      }
     },
     "d9a042b0f74340f9b324e15ac622af18": {
      "model_module": "@jupyter-widgets/output",
      "model_module_version": "1.0.0",
      "model_name": "OutputModel",
      "state": {
       "layout": "IPY_MODEL_e2035e654105448a9a1f0d90ae042e8c",
       "outputs": [
        {
         "data": {
          "image/png": "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\n",
          "text/plain": "<Figure size 576x432 with 2 Axes>"
         },
         "metadata": {},
         "output_type": "display_data"
        }
       ]
      }
     },
     "dfc434bccba244cb9f79ae141e874d1c": {
      "model_module": "@jupyter-widgets/base",
      "model_module_version": "1.2.0",
      "model_name": "LayoutModel",
      "state": {}
     },
     "e2035e654105448a9a1f0d90ae042e8c": {
      "model_module": "@jupyter-widgets/base",
      "model_module_version": "1.2.0",
      "model_name": "LayoutModel",
      "state": {}
     },
     "e5b644508ffe46fc8d7757267541e319": {
      "model_module": "@jupyter-widgets/controls",
      "model_module_version": "1.5.0",
      "model_name": "SliderStyleModel",
      "state": {
       "description_width": ""
      }
     },
     "eb1f7e20bba7414f84d40d65e90732e9": {
      "model_module": "@jupyter-widgets/output",
      "model_module_version": "1.0.0",
      "model_name": "OutputModel",
      "state": {
       "layout": "IPY_MODEL_ad4d8d026e6f4ae3abc1dc43cca044e5"
      }
     },
     "eb6dcefd791b44969e51d7db9ddc557a": {
      "model_module": "@jupyter-widgets/base",
      "model_module_version": "1.2.0",
      "model_name": "LayoutModel",
      "state": {}
     },
     "edf85d55202747618cc9b0bdea52db6b": {
      "model_module": "k3d",
      "model_module_version": "2.11.0",
      "model_name": "PlotModel",
      "state": {
       "_backend_version": "2.11.0",
       "_dom_classes": [],
       "_view_count": null,
       "antialias": 3,
       "auto_rendering": true,
       "axes": [
        "x",
        "y",
        "z"
       ],
       "axes_helper": 1,
       "background_color": 16777215,
       "camera": [],
       "camera_animation": [],
       "camera_auto_fit": true,
       "camera_damping_factor": 0,
       "camera_fov": 60,
       "camera_mode": "trackball",
       "camera_no_pan": false,
       "camera_no_rotate": false,
       "camera_no_zoom": false,
       "camera_pan_speed": 0.3,
       "camera_rotate_speed": 1,
       "camera_zoom_speed": 1.2,
       "clipping_planes": [],
       "colorbar_object_id": -1,
       "colorbar_scientific": false,
       "fps": 25,
       "fps_meter": false,
       "grid": [
        -1,
        -1,
        -1,
        1,
        1,
        1
       ],
       "grid_auto_fit": true,
       "grid_color": 15132390,
       "grid_visible": true,
       "height": 512,
       "label_color": 4473924,
       "layout": "IPY_MODEL_05eba5ec228d45b5a72be03b10285d30",
       "lighting": 1.5,
       "manipulate_mode": "translate",
       "menu_visibility": true,
       "mode": "view",
       "name": null,
       "object_ids": [],
       "rendering_steps": 1,
       "screenshot": "",
       "screenshot_scale": 2,
       "snapshot": "",
       "snapshot_type": "full",
       "time": 0,
       "voxel_paint_color": 0
      }
     },
     "ee83481d798042bfb26d37aa1a451683": {
      "buffers": [
       {
        "data": "TiIAAE8jAABRJAAAUyUAAFQlAABWJgAAWCcAAFkoAABbKAAAXSkAAF8qAABhKgAAYisAAGQsAABmLAAAaC0AAGouAABsLgAAbS8AAG8wAABwMAAAcDEAAHExAABxMgEAcTMFAHAzCABwNAwAcDUPAHA1EgBwNhQAcDcWAG83GABvOBoAbzkcAG86HgBvOiAAbjshAG48IwBuPCQAbj0mAG4+JwBuPykAbT8qAG1AKwBtQS0AbUEuAG1CLwBtQzEAbUMyAG1EMwBsRTQAbEU1AGxGNgBsRzgAbEg5AGxIOgBsSTsAbEo8AGxKPQBsSz4AbEw/AGxMQABsTUEAbE5CAGxOQwBsT0QAbFBFAGxRRgBsUUcAbFJIAGxTSQBsU0oAbFRLAGxVTABsVU0AbFZOAGxXTwBsV1AAbVhRAG1ZUgBtWlMAbVpUAG1bVQBtXFUAbVxWAG1dVwBtXlgAbl5ZAG5fWgBuYFsAbmFcAG5hXQBuYl4Ab2NeAG9jXwBvZGAAb2VhAG9lYgBwZmMAcGdkAHBoZQBwaGUAcGlmAHFqZwBxamgAcWtpAHFsagBybWsAcm1sAHJubAByb20Ac29uAHNwbwBzcXAAdHJxAHRycgB0c3IAdXRzAHV0dAB1dXUAdnZ2AHZ3dwB3d3cAd3h4AHd5eQB4enoAeHp7AHh7fAB4fH0AeHx+AHh9fgB4fn8AeH+AAHh/gQB5gIIAeYGDAHmChAB5goUAeYOGAHiEhwB4hYgAeIWJAHiGigB4h4sAeIiMAHiIjQB4iY4AeIqPAHiLkAB4i5EAeIySAHiNkgB4jpMAd46UAHePlQB3kJYAd5GXAHeSmAB3kpkAdpOaAHaUmwB2lZwAdpWdAHaWngB1l58AdZigAHWZoQB1maIAdJqjAHSbpAB0nKUAdJymAHOdpwBznqgAc5+pAHOgqgByoKsAcqGsAHKirQBxo64AcaSvAHGlsABwpbEAcKazAG+ntABvqLUAb6m2AG6ptwBuqrgAbau5AG2sugBtrbsAbK68AGyuvQBrr74Aa7C/AGqxwABqssEAabPCAGmzwwBotMQAaLXFAGe2xgBnt8cAZrjIAGW5yQBlucsAZLrMAGO7zQBjvM4AYr3PAGK+0ABhv9EAYMDSAF/A0wBfwdQAXsLVAF3D1gBcxNcAXMXZAFvG2gBax9sAWcjcAFjI3QBYyd4AV8rfAFbL4ABVzOEAVM3iAFPO5ABSz+UAUdDmAFDR5wBP0ugATtPpAEzT6gBL1OsAStXtAEnW7gBI1+8ARtjwAEXZ8QBE2vIAQtvzAEHc9QA/3fYAPt73ADzf+AA64PkAOOH7ADbi/AA04/0ANOT+ADXl/gA25v4AOOj+AA==",
        "encoding": "base64",
        "path": [
         "color_map",
         "data"
        ]
       },
       {
        "data": "AAD6QwAAAAAAAAAAAAB6QwAAAAAAAKBBAAAAAAAAIEEAAAAAAAAAAAAAIEAAAKA/AAAAAAAAAAAAAAAAAACAPw==",
        "encoding": "base64",
        "path": [
         "model_matrix",
         "data"
        ]
       },
       {
        "data": "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",
        "encoding": "base64",
        "path": [
         "voxels",
         "data"
        ]
       }
      ],
      "model_module": "k3d",
      "model_module_version": "2.11.0",
      "model_name": "ObjectModel",
      "state": {
       "_view_count": null,
       "_view_module": null,
       "_view_module_version": "",
       "_view_name": null,
       "colorLegend": false,
       "color_map": {
        "dtype": "uint32",
        "shape": [
         256
        ]
       },
       "compression_level": 0,
       "id": 140018356746896,
       "model_matrix": {
        "dtype": "float32",
        "shape": [
         4,
         4
        ]
       },
       "name": "Voxels #3",
       "opacity": 1,
       "outlines": false,
       "outlines_color": 0,
       "type": "Voxels",
       "visible": true,
       "voxels": {
        "dtype": "uint8",
        "shape": [
         1,
         8,
         200
        ]
       },
       "wireframe": false
      }
     },
     "ef17f7dff3c54a6d805fedf0afffbe83": {
      "model_module": "@jupyter-widgets/base",
      "model_module_version": "1.2.0",
      "model_name": "LayoutModel",
      "state": {}
     },
     "ef1a97838da84e1a9d3ffc151a4d8a88": {
      "buffers": [
       {
        "data": "TiIAAE8jAABRJAAAUyUAAFQlAABWJgAAWCcAAFkoAABbKAAAXSkAAF8qAABhKgAAYisAAGQsAABmLAAAaC0AAGouAABsLgAAbS8AAG8wAABwMAAAcDEAAHExAABxMgEAcTMFAHAzCABwNAwAcDUPAHA1EgBwNhQAcDcWAG83GABvOBoAbzkcAG86HgBvOiAAbjshAG48IwBuPCQAbj0mAG4+JwBuPykAbT8qAG1AKwBtQS0AbUEuAG1CLwBtQzEAbUMyAG1EMwBsRTQAbEU1AGxGNgBsRzgAbEg5AGxIOgBsSTsAbEo8AGxKPQBsSz4AbEw/AGxMQABsTUEAbE5CAGxOQwBsT0QAbFBFAGxRRgBsUUcAbFJIAGxTSQBsU0oAbFRLAGxVTABsVU0AbFZOAGxXTwBsV1AAbVhRAG1ZUgBtWlMAbVpUAG1bVQBtXFUAbVxWAG1dVwBtXlgAbl5ZAG5fWgBuYFsAbmFcAG5hXQBuYl4Ab2NeAG9jXwBvZGAAb2VhAG9lYgBwZmMAcGdkAHBoZQBwaGUAcGlmAHFqZwBxamgAcWtpAHFsagBybWsAcm1sAHJubAByb20Ac29uAHNwbwBzcXAAdHJxAHRycgB0c3IAdXRzAHV0dAB1dXUAdnZ2AHZ3dwB3d3cAd3h4AHd5eQB4enoAeHp7AHh7fAB4fH0AeHx+AHh9fgB4fn8AeH+AAHh/gQB5gIIAeYGDAHmChAB5goUAeYOGAHiEhwB4hYgAeIWJAHiGigB4h4sAeIiMAHiIjQB4iY4AeIqPAHiLkAB4i5EAeIySAHiNkgB4jpMAd46UAHePlQB3kJYAd5GXAHeSmAB3kpkAdpOaAHaUmwB2lZwAdpWdAHaWngB1l58AdZigAHWZoQB1maIAdJqjAHSbpAB0nKUAdJymAHOdpwBznqgAc5+pAHOgqgByoKsAcqGsAHKirQBxo64AcaSvAHGlsABwpbEAcKazAG+ntABvqLUAb6m2AG6ptwBuqrgAbau5AG2sugBtrbsAbK68AGyuvQBrr74Aa7C/AGqxwABqssEAabPCAGmzwwBotMQAaLXFAGe2xgBnt8cAZrjIAGW5yQBlucsAZLrMAGO7zQBjvM4AYr3PAGK+0ABhv9EAYMDSAF/A0wBfwdQAXsLVAF3D1gBcxNcAXMXZAFvG2gBax9sAWcjcAFjI3QBYyd4AV8rfAFbL4ABVzOEAVM3iAFPO5ABSz+UAUdDmAFDR5wBP0ugATtPpAEzT6gBL1OsAStXtAEnW7gBI1+8ARtjwAEXZ8QBE2vIAQtvzAEHc9QA/3fYAPt73ADzf+AA64PkAOOH7ADbi/AA04/0ANOT+ADXl/gA25v4AOOj+AA==",
        "encoding": "base64",
        "path": [
         "color_map",
         "data"
        ]
       },
       {
        "data": "AAD6QwAAAAAAAAAAAAB6QwAAAAAAAKBBAAAAAAAAIEEAAAAAAAAAAAAAIEAAAKA/AAAAAAAAAAAAAAAAAACAPw==",
        "encoding": "base64",
        "path": [
         "model_matrix",
         "data"
        ]
       },
       {
        "data": "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",
        "encoding": "base64",
        "path": [
         "voxels",
         "data"
        ]
       }
      ],
      "model_module": "k3d",
      "model_module_version": "2.11.0",
      "model_name": "ObjectModel",
      "state": {
       "_view_count": null,
       "_view_module": null,
       "_view_module_version": "",
       "_view_name": null,
       "colorLegend": false,
       "color_map": {
        "dtype": "uint32",
        "shape": [
         256
        ]
       },
       "compression_level": 0,
       "id": 140018358131104,
       "model_matrix": {
        "dtype": "float32",
        "shape": [
         4,
         4
        ]
       },
       "name": "Voxels #15",
       "opacity": 1,
       "outlines": false,
       "outlines_color": 0,
       "type": "Voxels",
       "visible": true,
       "voxels": {
        "dtype": "uint8",
        "shape": [
         1,
         8,
         200
        ]
       },
       "wireframe": false
      }
     },
     "f3ae7b38bd3144b1b2c2d66cd4a7f97b": {
      "model_module": "@jupyter-widgets/controls",
      "model_module_version": "1.5.0",
      "model_name": "VBoxModel",
      "state": {
       "_dom_classes": [
        "widget-interact"
       ],
       "children": [
        "IPY_MODEL_f6569f149ba6448b962c3b8538b87912",
        "IPY_MODEL_eb1f7e20bba7414f84d40d65e90732e9"
       ],
       "layout": "IPY_MODEL_ef17f7dff3c54a6d805fedf0afffbe83"
      }
     },
     "f6524e6bcb6a4d9aa00dc411fc2fcfd6": {
      "model_module": "@jupyter-widgets/base",
      "model_module_version": "1.2.0",
      "model_name": "LayoutModel",
      "state": {}
     },
     "f6569f149ba6448b962c3b8538b87912": {
      "model_module": "@jupyter-widgets/controls",
      "model_module_version": "1.5.0",
      "model_name": "IntSliderModel",
      "state": {
       "description": "step",
       "layout": "IPY_MODEL_00cbc2dca1c14649a4f8a0c247fc6e1c",
       "max": 99,
       "style": "IPY_MODEL_964d1da09e884d849ca2b7df75803ea4"
      }
     },
     "f7efcdc754c14221a810ed3d60fad255": {
      "model_module": "@jupyter-widgets/base",
      "model_module_version": "1.2.0",
      "model_name": "LayoutModel",
      "state": {}
     },
     "f8c3eac268ae45e282f59e83324358c8": {
      "model_module": "k3d",
      "model_module_version": "2.11.0",
      "model_name": "PlotModel",
      "state": {
       "_backend_version": "2.11.0",
       "_dom_classes": [],
       "_view_count": null,
       "antialias": 3,
       "auto_rendering": true,
       "axes": [
        "x",
        "y",
        "z"
       ],
       "axes_helper": 1,
       "background_color": 16777215,
       "camera": [],
       "camera_animation": [],
       "camera_auto_fit": true,
       "camera_damping_factor": 0,
       "camera_fov": 60,
       "camera_mode": "trackball",
       "camera_no_pan": false,
       "camera_no_rotate": false,
       "camera_no_zoom": false,
       "camera_pan_speed": 0.3,
       "camera_rotate_speed": 1,
       "camera_zoom_speed": 1.2,
       "clipping_planes": [],
       "colorbar_object_id": -1,
       "colorbar_scientific": false,
       "fps": 25,
       "fps_meter": false,
       "grid": [
        -1,
        -1,
        -1,
        1,
        1,
        1
       ],
       "grid_auto_fit": true,
       "grid_color": 15132390,
       "grid_visible": true,
       "height": 512,
       "label_color": 4473924,
       "layout": "IPY_MODEL_64440393340142da8d88938b33707e97",
       "lighting": 1.5,
       "manipulate_mode": "translate",
       "menu_visibility": true,
       "mode": "view",
       "name": null,
       "object_ids": [],
       "rendering_steps": 1,
       "screenshot": "",
       "screenshot_scale": 2,
       "snapshot": "",
       "snapshot_type": "full",
       "time": 0,
       "voxel_paint_color": 0
      }
     },
     "fa9fbe03410a46d7bcb02fe774649878": {
      "model_module": "@jupyter-widgets/controls",
      "model_module_version": "1.5.0",
      "model_name": "IntSliderModel",
      "state": {
       "description": "step",
       "layout": "IPY_MODEL_ca4f0f24597641c3b049c15a6ef2c85b",
       "max": 99,
       "style": "IPY_MODEL_ae201ea0a9404544ad73c486286a3f8d"
      }
     }
    },
    "version_major": 2,
    "version_minor": 0
   }
  }
 },
 "nbformat": 4,
 "nbformat_minor": 5
}
